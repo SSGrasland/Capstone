{
 "cells": [
  {
   "cell_type": "markdown",
   "id": "0ac395be",
   "metadata": {},
   "source": [
    "# NOAA Weather Data"
   ]
  },
  {
   "cell_type": "markdown",
   "id": "72bce082",
   "metadata": {},
   "source": [
    "## Obtaining the Data"
   ]
  },
  {
   "cell_type": "code",
   "execution_count": 1,
   "id": "05bf6f7a",
   "metadata": {},
   "outputs": [],
   "source": [
    "#Importing libraries needed\n",
    "import pandas as pd\n",
    "import matplotlib.pyplot as plt\n",
    "from matplotlib import pyplot\n",
    "%matplotlib inline\n",
    "import numpy as np\n",
    "import seaborn as sns\n",
    "\n",
    "import warnings\n",
    "warnings.filterwarnings('ignore')"
   ]
  },
  {
   "cell_type": "markdown",
   "id": "a1bdb6e7",
   "metadata": {},
   "source": [
    "## Data Understanding \n",
    "\n",
    "Data was obtained from the National Oceanic and Atmospheric Administration (NOAA) National Climatic Data Center (NCDC) using the Climate Data Online (CDO) database. The CDO provides free access to NCDC's archive of global historical weather and climate data in addition to station history information. These data include quality controlled daily, monthly, seasonal, and yearly measurements of temperature, precipitation, wind, and degree days as well as radar data and 30-year Climate Normals. \n",
    "\n",
    "Data from NOAA was selected because it provides daily summaries for average wind speed and fastest 2 minute wind gust for the five hurricanes we wanted to examine. \n",
    "\n",
    "For the purpose of this project we will be looking at six hurricanes: \n",
    "- Charley \n",
    "- Dennis \n",
    "- Matthew \n",
    "- Irma \n",
    "- Michael \n",
    "- Ian \n",
    "\n",
    "We will be using information from hurricane Charley, Dennis, Matthew, Irma, Michael to create our models and validating our model with recent data from Hurricane Ian. \n",
    "\n",
    "### NOAA Data Column Descriptions   \n",
    "|Column Name | Description | \n",
    "|---|---|\n",
    "| **NAME**| is the name of the station (usually city/airport name). \n",
    "|**LATITUDE** | latitude (decimated degrees w/northern hemisphere values > 0, southern hemisphere values < 0)\n",
    "| **LONGITUDE** |  longitude (decimated degrees w/western hemisphere values < 0, eastern hemisphere values > 0) \n",
    "| **DATE** |is the year of the record (4 digits) followed by month (2 digits) and day (2 digits).\n",
    "|**AWND** |Average daily wind speed (meters per second) |    \n",
    "|**WSF2** |  Fastest 2-minute wind speed (in meters per second) |  \n",
    "|**HurricaneName**| Numerical label given to each hurricane. 1 = Charley, 2 = Dennis, 3 = Matthew, 4 = Irma, 5= Michael | \n",
    "|**COORD**| Engineered column representing coordinates created by combining LATITUDE and LONGITDE |\n",
    "|**City** | Engineered column representing cities created by running coordinates through geopy reverse geolocater. |\n",
    "\n",
    "### Citations:   \n",
    "Centers N. Select a Location | Data Tools | Climate Data Online (CDO) | National Climatic Data Center (NCDC). Noaa.gov. Published 2019. https://www.ncdc.noaa.gov/cdo-web/datatools/selectlocation   \n",
    "\n",
    "Hurricanes. coast.noaa.gov. https://coast.noaa.gov/hurricanes/\n",
    "\n",
    "National Centers for Environmental Information (NCEI. Climate Data Online (CDO) - The National Climatic Data Center’s (NCDC) Climate Data Online (CDO) provides free access to NCDC’s archive of historical weather and climate data in addition to station history information. | National Climatic Data Center (NCDC). Noaa.gov. Published 2019. https://www.ncdc.noaa.gov/cdo-web/   \n",
    "\n"
   ]
  },
  {
   "cell_type": "code",
   "execution_count": 2,
   "id": "fee8e47a",
   "metadata": {},
   "outputs": [],
   "source": [
    "#opening the datasets\n",
    "ian = pd.read_csv(r'data\\ian.csv')\n",
    "matthew = pd.read_csv(r'data\\matthew.csv')\n",
    "irma =  pd.read_csv(r'data\\irma.csv')\n",
    "michael =  pd.read_csv(r'data\\michael.csv')\n",
    "charley = pd.read_csv(r'data\\charley.csv')\n",
    "dennis = pd.read_csv(r'data\\dennis.csv')"
   ]
  },
  {
   "cell_type": "markdown",
   "id": "f68bd085",
   "metadata": {},
   "source": [
    "### Data Cleaning \n",
    "Let's remove duplicate values and keep only the value with the highest wind speed. "
   ]
  },
  {
   "cell_type": "code",
   "execution_count": 3,
   "id": "1d3ea107",
   "metadata": {},
   "outputs": [],
   "source": [
    "#removing duplicates \n",
    "charley = charley.sort_values('AWND', ascending=False).drop_duplicates('NAME').sort_index()\n",
    "dennis = dennis.sort_values('AWND', ascending=False).drop_duplicates('NAME').sort_index()\n",
    "matthew = matthew.sort_values('AWND', ascending=False).drop_duplicates('NAME').sort_index()\n",
    "irma = irma.sort_values('AWND', ascending=False).drop_duplicates('NAME').sort_index()\n",
    "michael = michael.sort_values('AWND', ascending=False).drop_duplicates('NAME').sort_index()\n",
    "ian = ian.sort_values('AWND', ascending=False).drop_duplicates('NAME').sort_index()"
   ]
  },
  {
   "cell_type": "markdown",
   "id": "bae820cd",
   "metadata": {},
   "source": [
    "## Data Engineering \n",
    "We want to be able to compare data from all five hurricanes against home value. So we are going to concat them all into one data frame. "
   ]
  },
  {
   "cell_type": "markdown",
   "id": "43cab2c5",
   "metadata": {},
   "source": [
    "### Concating the Hurricane Dataframes"
   ]
  },
  {
   "cell_type": "code",
   "execution_count": 4,
   "id": "47aab39a",
   "metadata": {},
   "outputs": [],
   "source": [
    "#creating a column with a label for each hurricane \n",
    "#this way we can still know which hurricane we are referencing\n",
    "\n",
    "#charley\n",
    "charley['HurricaneName'] = 'charley'\n",
    "\n",
    "#dennis \n",
    "dennis['HurricaneName'] = 'dennis'\n",
    "\n",
    "#matthew \n",
    "matthew['HurricaneName'] = 'matthew'\n",
    "\n",
    "#irma \n",
    "irma['HurricaneName'] = 'irma'\n",
    "\n",
    "#michael \n",
    "michael['HurricaneName'] = 'michael'\n",
    "\n",
    "#ian \n",
    "ian['HurricaneName'] = 'ian'\n"
   ]
  },
  {
   "cell_type": "code",
   "execution_count": 5,
   "id": "9b1cad43",
   "metadata": {},
   "outputs": [
    {
     "data": {
      "text/html": [
       "<div>\n",
       "<style scoped>\n",
       "    .dataframe tbody tr th:only-of-type {\n",
       "        vertical-align: middle;\n",
       "    }\n",
       "\n",
       "    .dataframe tbody tr th {\n",
       "        vertical-align: top;\n",
       "    }\n",
       "\n",
       "    .dataframe thead th {\n",
       "        text-align: right;\n",
       "    }\n",
       "</style>\n",
       "<table border=\"1\" class=\"dataframe\">\n",
       "  <thead>\n",
       "    <tr style=\"text-align: right;\">\n",
       "      <th></th>\n",
       "      <th>NAME</th>\n",
       "      <th>LATITUDE</th>\n",
       "      <th>LONGITUDE</th>\n",
       "      <th>DATE</th>\n",
       "      <th>AWND</th>\n",
       "      <th>WSF2</th>\n",
       "      <th>HurricaneName</th>\n",
       "    </tr>\n",
       "  </thead>\n",
       "  <tbody>\n",
       "    <tr>\n",
       "      <th>0</th>\n",
       "      <td>FORT PIERCE, FL US</td>\n",
       "      <td>27.4419</td>\n",
       "      <td>-80.3508</td>\n",
       "      <td>8/13/2004</td>\n",
       "      <td>NaN</td>\n",
       "      <td>NaN</td>\n",
       "      <td>charley</td>\n",
       "    </tr>\n",
       "    <tr>\n",
       "      <th>2</th>\n",
       "      <td>FORT PIERCE ARC, FL US</td>\n",
       "      <td>27.4272</td>\n",
       "      <td>-80.4053</td>\n",
       "      <td>8/13/2004</td>\n",
       "      <td>NaN</td>\n",
       "      <td>NaN</td>\n",
       "      <td>charley</td>\n",
       "    </tr>\n",
       "    <tr>\n",
       "      <th>4</th>\n",
       "      <td>BIG CYPRESS, FL US</td>\n",
       "      <td>26.3283</td>\n",
       "      <td>-80.9958</td>\n",
       "      <td>8/13/2004</td>\n",
       "      <td>NaN</td>\n",
       "      <td>NaN</td>\n",
       "      <td>charley</td>\n",
       "    </tr>\n",
       "    <tr>\n",
       "      <th>6</th>\n",
       "      <td>HOMESTEAD GEN AVIATION AIRPORT, FL US</td>\n",
       "      <td>25.5011</td>\n",
       "      <td>-80.5500</td>\n",
       "      <td>8/13/2004</td>\n",
       "      <td>NaN</td>\n",
       "      <td>NaN</td>\n",
       "      <td>charley</td>\n",
       "    </tr>\n",
       "    <tr>\n",
       "      <th>8</th>\n",
       "      <td>LOXAHATCHEE NWR, FL US</td>\n",
       "      <td>26.4985</td>\n",
       "      <td>-80.2160</td>\n",
       "      <td>8/13/2004</td>\n",
       "      <td>NaN</td>\n",
       "      <td>NaN</td>\n",
       "      <td>charley</td>\n",
       "    </tr>\n",
       "  </tbody>\n",
       "</table>\n",
       "</div>"
      ],
      "text/plain": [
       "                                    NAME  LATITUDE  LONGITUDE       DATE  \\\n",
       "0                     FORT PIERCE, FL US   27.4419   -80.3508  8/13/2004   \n",
       "2                 FORT PIERCE ARC, FL US   27.4272   -80.4053  8/13/2004   \n",
       "4                     BIG CYPRESS, FL US   26.3283   -80.9958  8/13/2004   \n",
       "6  HOMESTEAD GEN AVIATION AIRPORT, FL US   25.5011   -80.5500  8/13/2004   \n",
       "8                 LOXAHATCHEE NWR, FL US   26.4985   -80.2160  8/13/2004   \n",
       "\n",
       "   AWND  WSF2 HurricaneName  \n",
       "0   NaN   NaN       charley  \n",
       "2   NaN   NaN       charley  \n",
       "4   NaN   NaN       charley  \n",
       "6   NaN   NaN       charley  \n",
       "8   NaN   NaN       charley  "
      ]
     },
     "execution_count": 5,
     "metadata": {},
     "output_type": "execute_result"
    }
   ],
   "source": [
    "#making sure it looks good \n",
    "charley.head()"
   ]
  },
  {
   "cell_type": "code",
   "execution_count": 6,
   "id": "6efca293",
   "metadata": {
    "scrolled": true
   },
   "outputs": [
    {
     "data": {
      "text/html": [
       "<div>\n",
       "<style scoped>\n",
       "    .dataframe tbody tr th:only-of-type {\n",
       "        vertical-align: middle;\n",
       "    }\n",
       "\n",
       "    .dataframe tbody tr th {\n",
       "        vertical-align: top;\n",
       "    }\n",
       "\n",
       "    .dataframe thead th {\n",
       "        text-align: right;\n",
       "    }\n",
       "</style>\n",
       "<table border=\"1\" class=\"dataframe\">\n",
       "  <thead>\n",
       "    <tr style=\"text-align: right;\">\n",
       "      <th></th>\n",
       "      <th>NAME</th>\n",
       "      <th>LATITUDE</th>\n",
       "      <th>LONGITUDE</th>\n",
       "      <th>DATE</th>\n",
       "      <th>AWND</th>\n",
       "      <th>WSF2</th>\n",
       "      <th>HurricaneName</th>\n",
       "    </tr>\n",
       "  </thead>\n",
       "  <tbody>\n",
       "    <tr>\n",
       "      <th>0</th>\n",
       "      <td>FORT PIERCE, FL US</td>\n",
       "      <td>27.4419</td>\n",
       "      <td>-80.3508</td>\n",
       "      <td>8/13/2004</td>\n",
       "      <td>NaN</td>\n",
       "      <td>NaN</td>\n",
       "      <td>charley</td>\n",
       "    </tr>\n",
       "    <tr>\n",
       "      <th>1</th>\n",
       "      <td>FORT PIERCE ARC, FL US</td>\n",
       "      <td>27.4272</td>\n",
       "      <td>-80.4053</td>\n",
       "      <td>8/13/2004</td>\n",
       "      <td>NaN</td>\n",
       "      <td>NaN</td>\n",
       "      <td>charley</td>\n",
       "    </tr>\n",
       "    <tr>\n",
       "      <th>2</th>\n",
       "      <td>BIG CYPRESS, FL US</td>\n",
       "      <td>26.3283</td>\n",
       "      <td>-80.9958</td>\n",
       "      <td>8/13/2004</td>\n",
       "      <td>NaN</td>\n",
       "      <td>NaN</td>\n",
       "      <td>charley</td>\n",
       "    </tr>\n",
       "    <tr>\n",
       "      <th>3</th>\n",
       "      <td>HOMESTEAD GEN AVIATION AIRPORT, FL US</td>\n",
       "      <td>25.5011</td>\n",
       "      <td>-80.5500</td>\n",
       "      <td>8/13/2004</td>\n",
       "      <td>NaN</td>\n",
       "      <td>NaN</td>\n",
       "      <td>charley</td>\n",
       "    </tr>\n",
       "    <tr>\n",
       "      <th>4</th>\n",
       "      <td>LOXAHATCHEE NWR, FL US</td>\n",
       "      <td>26.4985</td>\n",
       "      <td>-80.2160</td>\n",
       "      <td>8/13/2004</td>\n",
       "      <td>NaN</td>\n",
       "      <td>NaN</td>\n",
       "      <td>charley</td>\n",
       "    </tr>\n",
       "  </tbody>\n",
       "</table>\n",
       "</div>"
      ],
      "text/plain": [
       "                                    NAME  LATITUDE  LONGITUDE       DATE  \\\n",
       "0                     FORT PIERCE, FL US   27.4419   -80.3508  8/13/2004   \n",
       "1                 FORT PIERCE ARC, FL US   27.4272   -80.4053  8/13/2004   \n",
       "2                     BIG CYPRESS, FL US   26.3283   -80.9958  8/13/2004   \n",
       "3  HOMESTEAD GEN AVIATION AIRPORT, FL US   25.5011   -80.5500  8/13/2004   \n",
       "4                 LOXAHATCHEE NWR, FL US   26.4985   -80.2160  8/13/2004   \n",
       "\n",
       "   AWND  WSF2 HurricaneName  \n",
       "0   NaN   NaN       charley  \n",
       "1   NaN   NaN       charley  \n",
       "2   NaN   NaN       charley  \n",
       "3   NaN   NaN       charley  \n",
       "4   NaN   NaN       charley  "
      ]
     },
     "execution_count": 6,
     "metadata": {},
     "output_type": "execute_result"
    }
   ],
   "source": [
    "#concating the six dataframes into one \n",
    "hurricane = pd.concat([charley, dennis, matthew, irma, michael, ian], ignore_index=True)\n",
    "hurricane.head()"
   ]
  },
  {
   "cell_type": "code",
   "execution_count": 7,
   "id": "597078b9",
   "metadata": {},
   "outputs": [
    {
     "data": {
      "text/html": [
       "<div>\n",
       "<style scoped>\n",
       "    .dataframe tbody tr th:only-of-type {\n",
       "        vertical-align: middle;\n",
       "    }\n",
       "\n",
       "    .dataframe tbody tr th {\n",
       "        vertical-align: top;\n",
       "    }\n",
       "\n",
       "    .dataframe thead th {\n",
       "        text-align: right;\n",
       "    }\n",
       "</style>\n",
       "<table border=\"1\" class=\"dataframe\">\n",
       "  <thead>\n",
       "    <tr style=\"text-align: right;\">\n",
       "      <th></th>\n",
       "      <th>LATITUDE</th>\n",
       "      <th>LONGITUDE</th>\n",
       "      <th>AWND</th>\n",
       "      <th>WSF2</th>\n",
       "    </tr>\n",
       "  </thead>\n",
       "  <tbody>\n",
       "    <tr>\n",
       "      <th>count</th>\n",
       "      <td>2494.000000</td>\n",
       "      <td>2494.000000</td>\n",
       "      <td>266.000000</td>\n",
       "      <td>264.000000</td>\n",
       "    </tr>\n",
       "    <tr>\n",
       "      <th>mean</th>\n",
       "      <td>28.311389</td>\n",
       "      <td>-82.073998</td>\n",
       "      <td>17.902218</td>\n",
       "      <td>33.542045</td>\n",
       "    </tr>\n",
       "    <tr>\n",
       "      <th>std</th>\n",
       "      <td>1.600142</td>\n",
       "      <td>1.672985</td>\n",
       "      <td>7.781214</td>\n",
       "      <td>13.890268</td>\n",
       "    </tr>\n",
       "    <tr>\n",
       "      <th>min</th>\n",
       "      <td>24.550659</td>\n",
       "      <td>-87.467244</td>\n",
       "      <td>2.910000</td>\n",
       "      <td>0.000000</td>\n",
       "    </tr>\n",
       "    <tr>\n",
       "      <th>25%</th>\n",
       "      <td>27.150977</td>\n",
       "      <td>-82.514912</td>\n",
       "      <td>12.805000</td>\n",
       "      <td>23.900000</td>\n",
       "    </tr>\n",
       "    <tr>\n",
       "      <th>50%</th>\n",
       "      <td>28.298745</td>\n",
       "      <td>-81.757617</td>\n",
       "      <td>15.660000</td>\n",
       "      <td>30.000000</td>\n",
       "    </tr>\n",
       "    <tr>\n",
       "      <th>75%</th>\n",
       "      <td>29.729953</td>\n",
       "      <td>-80.906335</td>\n",
       "      <td>21.920000</td>\n",
       "      <td>42.900000</td>\n",
       "    </tr>\n",
       "    <tr>\n",
       "      <th>max</th>\n",
       "      <td>30.964030</td>\n",
       "      <td>-80.034979</td>\n",
       "      <td>40.710000</td>\n",
       "      <td>87.000000</td>\n",
       "    </tr>\n",
       "  </tbody>\n",
       "</table>\n",
       "</div>"
      ],
      "text/plain": [
       "          LATITUDE    LONGITUDE        AWND        WSF2\n",
       "count  2494.000000  2494.000000  266.000000  264.000000\n",
       "mean     28.311389   -82.073998   17.902218   33.542045\n",
       "std       1.600142     1.672985    7.781214   13.890268\n",
       "min      24.550659   -87.467244    2.910000    0.000000\n",
       "25%      27.150977   -82.514912   12.805000   23.900000\n",
       "50%      28.298745   -81.757617   15.660000   30.000000\n",
       "75%      29.729953   -80.906335   21.920000   42.900000\n",
       "max      30.964030   -80.034979   40.710000   87.000000"
      ]
     },
     "execution_count": 7,
     "metadata": {},
     "output_type": "execute_result"
    }
   ],
   "source": [
    "hurricane.describe()"
   ]
  },
  {
   "cell_type": "code",
   "execution_count": 8,
   "id": "0f2d7106",
   "metadata": {},
   "outputs": [
    {
     "name": "stdout",
     "output_type": "stream",
     "text": [
      "<class 'pandas.core.frame.DataFrame'>\n",
      "RangeIndex: 2494 entries, 0 to 2493\n",
      "Data columns (total 7 columns):\n",
      " #   Column         Non-Null Count  Dtype  \n",
      "---  ------         --------------  -----  \n",
      " 0   NAME           2494 non-null   object \n",
      " 1   LATITUDE       2494 non-null   float64\n",
      " 2   LONGITUDE      2494 non-null   float64\n",
      " 3   DATE           2494 non-null   object \n",
      " 4   AWND           266 non-null    float64\n",
      " 5   WSF2           264 non-null    float64\n",
      " 6   HurricaneName  2494 non-null   object \n",
      "dtypes: float64(4), object(3)\n",
      "memory usage: 136.5+ KB\n"
     ]
    }
   ],
   "source": [
    "#data types are object and float \n",
    "#currently have 5571 entries \n",
    "#AWND is missing a lot of values \n",
    "hurricane.info()"
   ]
  },
  {
   "cell_type": "markdown",
   "id": "643c5858",
   "metadata": {},
   "source": [
    "### Scrubbing the Data"
   ]
  },
  {
   "cell_type": "code",
   "execution_count": 9,
   "id": "2f437691",
   "metadata": {},
   "outputs": [
    {
     "data": {
      "text/plain": [
       "NAME                0\n",
       "LATITUDE            0\n",
       "LONGITUDE           0\n",
       "DATE                0\n",
       "AWND             2228\n",
       "WSF2             2230\n",
       "HurricaneName       0\n",
       "dtype: int64"
      ]
     },
     "execution_count": 9,
     "metadata": {},
     "output_type": "execute_result"
    }
   ],
   "source": [
    "#AWND is missing 5070 \n",
    "#We are going to drop any rows where wind speed is missing\n",
    "#Dropping is the best solution here because wind speed \n",
    "#Will not be accurately reflected by the mean in cities hit by the hurricane \n",
    "hurricane.isnull().sum()"
   ]
  },
  {
   "cell_type": "code",
   "execution_count": 10,
   "id": "5a50806f",
   "metadata": {},
   "outputs": [],
   "source": [
    "#dropping all rows with missing values \n",
    "hurricane.dropna(inplace= True)"
   ]
  },
  {
   "cell_type": "code",
   "execution_count": 11,
   "id": "4b95f4e4",
   "metadata": {},
   "outputs": [
    {
     "data": {
      "text/plain": [
       "NAME             0\n",
       "LATITUDE         0\n",
       "LONGITUDE        0\n",
       "DATE             0\n",
       "AWND             0\n",
       "WSF2             0\n",
       "HurricaneName    0\n",
       "dtype: int64"
      ]
     },
     "execution_count": 11,
     "metadata": {},
     "output_type": "execute_result"
    }
   ],
   "source": [
    "#checking that dataframe is clean \n",
    "hurricane.isnull().sum()"
   ]
  },
  {
   "cell_type": "code",
   "execution_count": 12,
   "id": "64b202b9",
   "metadata": {},
   "outputs": [],
   "source": [
    "#currently AWND and WSF2 are in meter per second\n",
    "#let's change that to miles per hour for user understanding\n",
    "#meter per second * 2.2369 = miles per hour\n",
    "hurricane['AWND'] = (hurricane['AWND']*2.2369)\n",
    "hurricane['WSF2'] = (hurricane['WSF2']*2.2369)"
   ]
  },
  {
   "cell_type": "markdown",
   "id": "411b4ec5",
   "metadata": {},
   "source": [
    "### Data Exploration\n",
    "\n",
    "#### Exploring all hurricanes\n",
    "The fastest average wind speed accross all hurricanes was 91 mph and fastest two minute wind gust was 194 mph. "
   ]
  },
  {
   "cell_type": "code",
   "execution_count": 13,
   "id": "ea964c96",
   "metadata": {},
   "outputs": [
    {
     "data": {
      "text/html": [
       "<div>\n",
       "<style scoped>\n",
       "    .dataframe tbody tr th:only-of-type {\n",
       "        vertical-align: middle;\n",
       "    }\n",
       "\n",
       "    .dataframe tbody tr th {\n",
       "        vertical-align: top;\n",
       "    }\n",
       "\n",
       "    .dataframe thead th {\n",
       "        text-align: right;\n",
       "    }\n",
       "</style>\n",
       "<table border=\"1\" class=\"dataframe\">\n",
       "  <thead>\n",
       "    <tr style=\"text-align: right;\">\n",
       "      <th></th>\n",
       "      <th>LATITUDE</th>\n",
       "      <th>LONGITUDE</th>\n",
       "      <th>AWND</th>\n",
       "      <th>WSF2</th>\n",
       "    </tr>\n",
       "  </thead>\n",
       "  <tbody>\n",
       "    <tr>\n",
       "      <th>count</th>\n",
       "      <td>260.000000</td>\n",
       "      <td>260.00000</td>\n",
       "      <td>260.000000</td>\n",
       "      <td>260.000000</td>\n",
       "    </tr>\n",
       "    <tr>\n",
       "      <th>mean</th>\n",
       "      <td>28.178982</td>\n",
       "      <td>-82.31930</td>\n",
       "      <td>40.430763</td>\n",
       "      <td>74.971424</td>\n",
       "    </tr>\n",
       "    <tr>\n",
       "      <th>std</th>\n",
       "      <td>1.886234</td>\n",
       "      <td>2.03567</td>\n",
       "      <td>17.180567</td>\n",
       "      <td>31.242263</td>\n",
       "    </tr>\n",
       "    <tr>\n",
       "      <th>min</th>\n",
       "      <td>24.557060</td>\n",
       "      <td>-87.31667</td>\n",
       "      <td>9.998943</td>\n",
       "      <td>0.000000</td>\n",
       "    </tr>\n",
       "    <tr>\n",
       "      <th>25%</th>\n",
       "      <td>26.538050</td>\n",
       "      <td>-82.68555</td>\n",
       "      <td>29.012593</td>\n",
       "      <td>53.461910</td>\n",
       "    </tr>\n",
       "    <tr>\n",
       "      <th>50%</th>\n",
       "      <td>28.061370</td>\n",
       "      <td>-81.75684</td>\n",
       "      <td>35.029854</td>\n",
       "      <td>66.100395</td>\n",
       "    </tr>\n",
       "    <tr>\n",
       "      <th>75%</th>\n",
       "      <td>30.233330</td>\n",
       "      <td>-80.63560</td>\n",
       "      <td>49.161470</td>\n",
       "      <td>95.963010</td>\n",
       "    </tr>\n",
       "    <tr>\n",
       "      <th>max</th>\n",
       "      <td>30.843150</td>\n",
       "      <td>-80.09918</td>\n",
       "      <td>91.064199</td>\n",
       "      <td>194.610300</td>\n",
       "    </tr>\n",
       "  </tbody>\n",
       "</table>\n",
       "</div>"
      ],
      "text/plain": [
       "         LATITUDE  LONGITUDE        AWND        WSF2\n",
       "count  260.000000  260.00000  260.000000  260.000000\n",
       "mean    28.178982  -82.31930   40.430763   74.971424\n",
       "std      1.886234    2.03567   17.180567   31.242263\n",
       "min     24.557060  -87.31667    9.998943    0.000000\n",
       "25%     26.538050  -82.68555   29.012593   53.461910\n",
       "50%     28.061370  -81.75684   35.029854   66.100395\n",
       "75%     30.233330  -80.63560   49.161470   95.963010\n",
       "max     30.843150  -80.09918   91.064199  194.610300"
      ]
     },
     "execution_count": 13,
     "metadata": {},
     "output_type": "execute_result"
    }
   ],
   "source": [
    "#Looking at stats for all hurricanes \n",
    "hurricane.describe()"
   ]
  },
  {
   "cell_type": "markdown",
   "id": "1536bef5",
   "metadata": {},
   "source": [
    "#### Visualizing Wind Speed "
   ]
  },
  {
   "cell_type": "code",
   "execution_count": 14,
   "id": "87c85253",
   "metadata": {},
   "outputs": [
    {
     "data": {
      "image/png": "[encoded data removed]",
      "text/plain": [
       "<Figure size 1200x700 with 1 Axes>"
      ]
     },
     "metadata": {},
     "output_type": "display_data"
    }
   ],
   "source": [
    "#Generate a box and whiskers plot for all six hurricanes\n",
    "#creating a dataframe that has just HurricaneName and AWND\n",
    "hurricane_bw = hurricane[['HurricaneName', 'AWND']]\n",
    "#pivoting the values \n",
    "hurricane_bw = hurricane_bw.pivot(columns='HurricaneName', values='AWND')\n",
    "#plotting\n",
    "box = hurricane_bw.boxplot(figsize = (12,7,));\n",
    "box.plot()\n",
    "#adding title\n",
    "plt.title('Average Wind Speed for Duration of Hurricane in Florida')\n",
    "#adding xlabel \n",
    "plt.xlabel('Hurricane')\n",
    "#adding ylabel\n",
    "plt.ylabel('Average Daily Wind Speed (Miles Per Hour)');"
   ]
  },
  {
   "cell_type": "code",
   "execution_count": 15,
   "id": "1fbd02ea",
   "metadata": {},
   "outputs": [],
   "source": [
    "#creating a scatterplot function \n",
    "def scatterplot(df):\n",
    "    #importing image for background \n",
    "    img = plt.imread(r\"data\\images\\floridamap.jpg\")\n",
    "    fig, ax = plt.subplots()\n",
    "    ax.imshow(img, extent=[-87, -80, 25, 31])\n",
    "    #plotting scatter plot \n",
    "    plt.scatter(x=df['LONGITUDE'], y=df['LATITUDE'], s=50, c=df['WSF2'], cmap='plasma')\n",
    "    #title\n",
    "    plt.title('Fastest 2 Minute Wind Gust')\n",
    "    #xlabel\n",
    "    plt.xlabel('Longitude')\n",
    "    #y label\n",
    "    plt.ylabel('Latitude')\n",
    "    #legend\n",
    "    ax.legend(df['HurricaneName'])\n",
    "    return plt.show()"
   ]
  },
  {
   "cell_type": "code",
   "execution_count": 16,
   "id": "6b27c24e",
   "metadata": {},
   "outputs": [
    {
     "ename": "FileNotFoundError",
     "evalue": "[Errno 2] No such file or directory: 'data\\\\images\\\\floridamap.jpg'",
     "output_type": "error",
     "traceback": [
      "\u001b[1;31m---------------------------------------------------------------------------\u001b[0m",
      "\u001b[1;31mFileNotFoundError\u001b[0m                         Traceback (most recent call last)",
      "Cell \u001b[1;32mIn[16], line 2\u001b[0m\n\u001b[0;32m      1\u001b[0m \u001b[38;5;66;03m#applying scatterplot function to our hurricanes\u001b[39;00m\n\u001b[1;32m----> 2\u001b[0m \u001b[43mscatterplot\u001b[49m\u001b[43m(\u001b[49m\u001b[43mcharley\u001b[49m\u001b[43m)\u001b[49m\n\u001b[0;32m      3\u001b[0m scatterplot(dennis)\n\u001b[0;32m      4\u001b[0m scatterplot(matthew)\n",
      "Cell \u001b[1;32mIn[15], line 4\u001b[0m, in \u001b[0;36mscatterplot\u001b[1;34m(df)\u001b[0m\n\u001b[0;32m      2\u001b[0m \u001b[38;5;28;01mdef\u001b[39;00m \u001b[38;5;21mscatterplot\u001b[39m(df):\n\u001b[0;32m      3\u001b[0m     \u001b[38;5;66;03m#importing image for background \u001b[39;00m\n\u001b[1;32m----> 4\u001b[0m     img \u001b[38;5;241m=\u001b[39m \u001b[43mplt\u001b[49m\u001b[38;5;241;43m.\u001b[39;49m\u001b[43mimread\u001b[49m\u001b[43m(\u001b[49m\u001b[38;5;124;43mr\u001b[39;49m\u001b[38;5;124;43m\"\u001b[39;49m\u001b[38;5;124;43mdata\u001b[39;49m\u001b[38;5;124;43m\\\u001b[39;49m\u001b[38;5;124;43mimages\u001b[39;49m\u001b[38;5;124;43m\\\u001b[39;49m\u001b[38;5;124;43mfloridamap.jpg\u001b[39;49m\u001b[38;5;124;43m\"\u001b[39;49m\u001b[43m)\u001b[49m\n\u001b[0;32m      5\u001b[0m     fig, ax \u001b[38;5;241m=\u001b[39m plt\u001b[38;5;241m.\u001b[39msubplots()\n\u001b[0;32m      6\u001b[0m     ax\u001b[38;5;241m.\u001b[39mimshow(img, extent\u001b[38;5;241m=\u001b[39m[\u001b[38;5;241m-\u001b[39m\u001b[38;5;241m87\u001b[39m, \u001b[38;5;241m-\u001b[39m\u001b[38;5;241m80\u001b[39m, \u001b[38;5;241m25\u001b[39m, \u001b[38;5;241m31\u001b[39m])\n",
      "File \u001b[1;32m~\\anaconda3\\envs\\Hurricane\\lib\\site-packages\\matplotlib\\pyplot.py:2168\u001b[0m, in \u001b[0;36mimread\u001b[1;34m(fname, format)\u001b[0m\n\u001b[0;32m   2166\u001b[0m \u001b[38;5;129m@_copy_docstring_and_deprecators\u001b[39m(matplotlib\u001b[38;5;241m.\u001b[39mimage\u001b[38;5;241m.\u001b[39mimread)\n\u001b[0;32m   2167\u001b[0m \u001b[38;5;28;01mdef\u001b[39;00m \u001b[38;5;21mimread\u001b[39m(fname, \u001b[38;5;28mformat\u001b[39m\u001b[38;5;241m=\u001b[39m\u001b[38;5;28;01mNone\u001b[39;00m):\n\u001b[1;32m-> 2168\u001b[0m     \u001b[38;5;28;01mreturn\u001b[39;00m \u001b[43mmatplotlib\u001b[49m\u001b[38;5;241;43m.\u001b[39;49m\u001b[43mimage\u001b[49m\u001b[38;5;241;43m.\u001b[39;49m\u001b[43mimread\u001b[49m\u001b[43m(\u001b[49m\u001b[43mfname\u001b[49m\u001b[43m,\u001b[49m\u001b[43m \u001b[49m\u001b[38;5;28;43mformat\u001b[39;49m\u001b[43m)\u001b[49m\n",
      "File \u001b[1;32m~\\anaconda3\\envs\\Hurricane\\lib\\site-packages\\matplotlib\\image.py:1561\u001b[0m, in \u001b[0;36mimread\u001b[1;34m(fname, format)\u001b[0m\n\u001b[0;32m   1554\u001b[0m \u001b[38;5;28;01mif\u001b[39;00m \u001b[38;5;28misinstance\u001b[39m(fname, \u001b[38;5;28mstr\u001b[39m) \u001b[38;5;129;01mand\u001b[39;00m \u001b[38;5;28mlen\u001b[39m(parse\u001b[38;5;241m.\u001b[39murlparse(fname)\u001b[38;5;241m.\u001b[39mscheme) \u001b[38;5;241m>\u001b[39m \u001b[38;5;241m1\u001b[39m:\n\u001b[0;32m   1555\u001b[0m     \u001b[38;5;66;03m# Pillow doesn't handle URLs directly.\u001b[39;00m\n\u001b[0;32m   1556\u001b[0m     \u001b[38;5;28;01mraise\u001b[39;00m \u001b[38;5;167;01mValueError\u001b[39;00m(\n\u001b[0;32m   1557\u001b[0m         \u001b[38;5;124m\"\u001b[39m\u001b[38;5;124mPlease open the URL for reading and pass the \u001b[39m\u001b[38;5;124m\"\u001b[39m\n\u001b[0;32m   1558\u001b[0m         \u001b[38;5;124m\"\u001b[39m\u001b[38;5;124mresult to Pillow, e.g. with \u001b[39m\u001b[38;5;124m\"\u001b[39m\n\u001b[0;32m   1559\u001b[0m         \u001b[38;5;124m\"\u001b[39m\u001b[38;5;124m``np.array(PIL.Image.open(urllib.request.urlopen(url)))``.\u001b[39m\u001b[38;5;124m\"\u001b[39m\n\u001b[0;32m   1560\u001b[0m         )\n\u001b[1;32m-> 1561\u001b[0m \u001b[38;5;28;01mwith\u001b[39;00m \u001b[43mimg_open\u001b[49m\u001b[43m(\u001b[49m\u001b[43mfname\u001b[49m\u001b[43m)\u001b[49m \u001b[38;5;28;01mas\u001b[39;00m image:\n\u001b[0;32m   1562\u001b[0m     \u001b[38;5;28;01mreturn\u001b[39;00m (_pil_png_to_float_array(image)\n\u001b[0;32m   1563\u001b[0m             \u001b[38;5;28;01mif\u001b[39;00m \u001b[38;5;28misinstance\u001b[39m(image, PIL\u001b[38;5;241m.\u001b[39mPngImagePlugin\u001b[38;5;241m.\u001b[39mPngImageFile) \u001b[38;5;28;01melse\u001b[39;00m\n\u001b[0;32m   1564\u001b[0m             pil_to_array(image))\n",
      "File \u001b[1;32m~\\anaconda3\\envs\\Hurricane\\lib\\site-packages\\PIL\\Image.py:3227\u001b[0m, in \u001b[0;36mopen\u001b[1;34m(fp, mode, formats)\u001b[0m\n\u001b[0;32m   3224\u001b[0m     filename \u001b[38;5;241m=\u001b[39m fp\n\u001b[0;32m   3226\u001b[0m \u001b[38;5;28;01mif\u001b[39;00m filename:\n\u001b[1;32m-> 3227\u001b[0m     fp \u001b[38;5;241m=\u001b[39m \u001b[43mbuiltins\u001b[49m\u001b[38;5;241;43m.\u001b[39;49m\u001b[43mopen\u001b[49m\u001b[43m(\u001b[49m\u001b[43mfilename\u001b[49m\u001b[43m,\u001b[49m\u001b[43m \u001b[49m\u001b[38;5;124;43m\"\u001b[39;49m\u001b[38;5;124;43mrb\u001b[39;49m\u001b[38;5;124;43m\"\u001b[39;49m\u001b[43m)\u001b[49m\n\u001b[0;32m   3228\u001b[0m     exclusive_fp \u001b[38;5;241m=\u001b[39m \u001b[38;5;28;01mTrue\u001b[39;00m\n\u001b[0;32m   3230\u001b[0m \u001b[38;5;28;01mtry\u001b[39;00m:\n",
      "\u001b[1;31mFileNotFoundError\u001b[0m: [Errno 2] No such file or directory: 'data\\\\images\\\\floridamap.jpg'"
     ]
    }
   ],
   "source": [
    "#applying scatterplot function to our hurricanes\n",
    "scatterplot(charley)\n",
    "scatterplot(dennis)\n",
    "scatterplot(matthew)\n",
    "scatterplot(irma)\n",
    "scatterplot(michael)\n",
    "scatterplot(ian)"
   ]
  },
  {
   "cell_type": "markdown",
   "id": "097a6dc9",
   "metadata": {},
   "source": [
    "### Data Engingeering "
   ]
  },
  {
   "cell_type": "markdown",
   "id": "0ade5825",
   "metadata": {},
   "source": [
    "#### Using Geopy to Get Cities\n",
    "\n",
    "In order to join the hurricane dataframe to the housing dataframe we will need to know the city names. Using the coordinates provided by the NOAA dataset we can use geopy to reverse geolocate the city names. \n",
    "\n",
    "Due to this being an API not all request could be completed and some city names had to be annoitated in excel. \n",
    "\n",
    "Citation:  \n",
    "kumar_satyam. Get the city, state, and country names from latitude and longitude using Python. GeeksforGeeks. Published October 15, 2020. https://www.geeksforgeeks.org/get-the-city-state-and-country-names-from-latitude-and-longitude-using-python/"
   ]
  },
  {
   "cell_type": "code",
   "execution_count": null,
   "id": "9375a519",
   "metadata": {},
   "outputs": [],
   "source": [
    "#importing libraries \n",
    "from tkinter import *\n",
    "from geopy.geocoders import Nominatim\n",
    "from geopy.geocoders import Photon\n",
    "\n",
    "# Create an instance of tkinter frame\n",
    "win = Tk()\n",
    "\n",
    "# Define geometry of the window\n",
    "win.geometry(\"700x350\")"
   ]
  },
  {
   "cell_type": "markdown",
   "id": "9c54c19f",
   "metadata": {},
   "source": [
    "#### Getting Coordinates"
   ]
  },
  {
   "cell_type": "code",
   "execution_count": null,
   "id": "d22eff79",
   "metadata": {
    "scrolled": true
   },
   "outputs": [],
   "source": [
    "#Engingeering a coordinates column out of latitude and longitude \n",
    "#We need coordinates to use geopy \n",
    "\n",
    "hurricane['COORD'] = list(zip(hurricane.LATITUDE, hurricane.LONGITUDE))\n",
    "\n",
    "hurricane.head()"
   ]
  },
  {
   "cell_type": "code",
   "execution_count": null,
   "id": "49fd9aa8",
   "metadata": {},
   "outputs": [],
   "source": [
    "#creating a function \n",
    "def get_city(coords):\n",
    "    #instantiate the Nominatim API \n",
    "    geolocator = Nominatim(user_agent=\"MyApp\")\n",
    "    #get the city from the coordinates \n",
    "    location = geolocator.reverse(coords)\n",
    "    address = location.raw['address']\n",
    "    city = address.get('city', '')\n",
    "    #return the city \n",
    "    return city"
   ]
  },
  {
   "cell_type": "code",
   "execution_count": null,
   "id": "dad69472",
   "metadata": {},
   "outputs": [],
   "source": [
    "#applying function to dataframe\n",
    "hurricane['City'] = hurricane['COORD'].apply(get_city)"
   ]
  },
  {
   "cell_type": "code",
   "execution_count": null,
   "id": "1656b2e7",
   "metadata": {},
   "outputs": [],
   "source": [
    "#looks good \n",
    "hurricane.isnull().sum()"
   ]
  },
  {
   "cell_type": "code",
   "execution_count": null,
   "id": "2f7ab5b1",
   "metadata": {},
   "outputs": [],
   "source": [
    "hurricane.describe()"
   ]
  },
  {
   "cell_type": "markdown",
   "id": "ba1f81e4",
   "metadata": {},
   "source": [
    "#### Saving the Dataframe "
   ]
  },
  {
   "cell_type": "code",
   "execution_count": null,
   "id": "c2309e05",
   "metadata": {},
   "outputs": [],
   "source": [
    "#saving the dataframe\n",
    "hurricane.to_csv(r'data\\hurricane.csv', index=False)"
   ]
  }
 ],
 "metadata": {
  "kernelspec": {
   "display_name": "Python 3 (ipykernel)",
   "language": "python",
   "name": "python3"
  },
  "language_info": {
   "codemirror_mode": {
    "name": "ipython",
    "version": 3
   },
   "file_extension": ".py",
   "mimetype": "text/x-python",
   "name": "python",
   "nbconvert_exporter": "python",
   "pygments_lexer": "ipython3",
   "version": "3.10.9"
  }
 },
 "nbformat": 4,
 "nbformat_minor": 5
}
