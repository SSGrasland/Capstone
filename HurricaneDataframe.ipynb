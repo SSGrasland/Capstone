{
 "cells": [
  {
   "cell_type": "code",
   "execution_count": 1,
   "id": "05bf6f7a",
   "metadata": {},
   "outputs": [],
   "source": [
    "#Importing libraries needed\n",
    "import pandas as pd\n",
    "import matplotlib.pyplot as plt\n",
    "from matplotlib import pyplot\n",
    "%matplotlib inline\n",
    "import numpy as np\n",
    "import seaborn as sns\n",
    "\n",
    "import warnings\n",
    "warnings.filterwarnings('ignore')"
   ]
  },
  {
   "cell_type": "code",
   "execution_count": 2,
   "id": "fee8e47a",
   "metadata": {},
   "outputs": [],
   "source": [
    "#opening the dataset to create a dataframe for logistic regression \n",
    "matthew = pd.read_csv(r'data\\Matthew.csv')\n",
    "irma =  pd.read_csv(r'data\\Irma.csv')\n",
    "michael =  pd.read_csv(r'data\\Michael.csv')\n",
    "location = pd.read_csv(r'data\\stationlocation.csv')"
   ]
  },
  {
   "cell_type": "markdown",
   "id": "a1bdb6e7",
   "metadata": {},
   "source": [
    "NOAA Data   \n",
    "Average wind speed (AWND)   \n",
    "Peak gust time (PGTM)     \n",
    "Direction of fastest 2-minute wind (WDF2) (in degrees)   \n",
    "Direction of fastest 5-second wind (WDF5) (in degrees)   \n",
    "Fastest 2-minute wind speed (WSF2) (in meters per second)    \n",
    "Fastest 5-second wind speed (WSF5) (in meter per second)      \n",
    "24-hour wind movement (km or miles as per user preference, miles on Daily Form pdf file) (WDMV)    \n",
    "Weather types (WT**)    "
   ]
  },
  {
   "cell_type": "code",
   "execution_count": 3,
   "id": "8e381c0a",
   "metadata": {},
   "outputs": [],
   "source": [
    "#dropping rows that have missing value for average wind speed \n",
    "matthew = matthew.dropna(subset=['AWND'])\n",
    "irma = irma.dropna(subset=['AWND'])\n",
    "michael = michael.dropna(subset=['AWND'])"
   ]
  },
  {
   "cell_type": "code",
   "execution_count": 4,
   "id": "c99ccbeb",
   "metadata": {},
   "outputs": [
    {
     "data": {
      "text/html": [
       "<div>\n",
       "<style scoped>\n",
       "    .dataframe tbody tr th:only-of-type {\n",
       "        vertical-align: middle;\n",
       "    }\n",
       "\n",
       "    .dataframe tbody tr th {\n",
       "        vertical-align: top;\n",
       "    }\n",
       "\n",
       "    .dataframe thead th {\n",
       "        text-align: right;\n",
       "    }\n",
       "</style>\n",
       "<table border=\"1\" class=\"dataframe\">\n",
       "  <thead>\n",
       "    <tr style=\"text-align: right;\">\n",
       "      <th></th>\n",
       "      <th>STATION</th>\n",
       "      <th>NAME</th>\n",
       "      <th>LATITUDE</th>\n",
       "      <th>LONGITUDE</th>\n",
       "      <th>ELEVATION</th>\n",
       "      <th>DATE</th>\n",
       "      <th>AWND</th>\n",
       "      <th>AWND_ATTRIBUTES</th>\n",
       "      <th>PGTM</th>\n",
       "      <th>PGTM_ATTRIBUTES</th>\n",
       "      <th>...</th>\n",
       "      <th>WT07</th>\n",
       "      <th>WT07_ATTRIBUTES</th>\n",
       "      <th>WT08</th>\n",
       "      <th>WT08_ATTRIBUTES</th>\n",
       "      <th>WT09</th>\n",
       "      <th>WT09_ATTRIBUTES</th>\n",
       "      <th>WT10</th>\n",
       "      <th>WT10_ATTRIBUTES</th>\n",
       "      <th>WT11</th>\n",
       "      <th>WT11_ATTRIBUTES</th>\n",
       "    </tr>\n",
       "  </thead>\n",
       "  <tbody>\n",
       "    <tr>\n",
       "      <th>46</th>\n",
       "      <td>USW00012897</td>\n",
       "      <td>NAPLES MUNICIPAL AIRPORT, FL US</td>\n",
       "      <td>26.15498</td>\n",
       "      <td>-81.77514</td>\n",
       "      <td>2.0</td>\n",
       "      <td>10/8/2016</td>\n",
       "      <td>8.05</td>\n",
       "      <td>,,W</td>\n",
       "      <td>NaN</td>\n",
       "      <td>NaN</td>\n",
       "      <td>...</td>\n",
       "      <td>NaN</td>\n",
       "      <td>NaN</td>\n",
       "      <td>NaN</td>\n",
       "      <td>NaN</td>\n",
       "      <td>NaN</td>\n",
       "      <td>NaN</td>\n",
       "      <td>NaN</td>\n",
       "      <td>NaN</td>\n",
       "      <td>NaN</td>\n",
       "      <td>NaN</td>\n",
       "    </tr>\n",
       "    <tr>\n",
       "      <th>49</th>\n",
       "      <td>USW00012896</td>\n",
       "      <td>MARATHON AIRPORT, FL US</td>\n",
       "      <td>24.72624</td>\n",
       "      <td>-81.04770</td>\n",
       "      <td>0.9</td>\n",
       "      <td>10/8/2016</td>\n",
       "      <td>4.92</td>\n",
       "      <td>,,W</td>\n",
       "      <td>NaN</td>\n",
       "      <td>NaN</td>\n",
       "      <td>...</td>\n",
       "      <td>NaN</td>\n",
       "      <td>NaN</td>\n",
       "      <td>NaN</td>\n",
       "      <td>NaN</td>\n",
       "      <td>NaN</td>\n",
       "      <td>NaN</td>\n",
       "      <td>NaN</td>\n",
       "      <td>NaN</td>\n",
       "      <td>NaN</td>\n",
       "      <td>NaN</td>\n",
       "    </tr>\n",
       "    <tr>\n",
       "      <th>50</th>\n",
       "      <td>USW00012895</td>\n",
       "      <td>FORT PIERCE ST LUCIE CO INTERNATIONAL AIRPORT,...</td>\n",
       "      <td>27.49816</td>\n",
       "      <td>-80.37626</td>\n",
       "      <td>5.7</td>\n",
       "      <td>10/8/2016</td>\n",
       "      <td>9.62</td>\n",
       "      <td>,,W</td>\n",
       "      <td>NaN</td>\n",
       "      <td>NaN</td>\n",
       "      <td>...</td>\n",
       "      <td>NaN</td>\n",
       "      <td>NaN</td>\n",
       "      <td>NaN</td>\n",
       "      <td>NaN</td>\n",
       "      <td>NaN</td>\n",
       "      <td>NaN</td>\n",
       "      <td>NaN</td>\n",
       "      <td>NaN</td>\n",
       "      <td>NaN</td>\n",
       "      <td>NaN</td>\n",
       "    </tr>\n",
       "    <tr>\n",
       "      <th>51</th>\n",
       "      <td>USW00012894</td>\n",
       "      <td>FORT MYERS SW FLORIDA REGIONAL AIRPORT, FL US</td>\n",
       "      <td>26.53805</td>\n",
       "      <td>-81.75674</td>\n",
       "      <td>8.2</td>\n",
       "      <td>10/8/2016</td>\n",
       "      <td>6.26</td>\n",
       "      <td>,,W</td>\n",
       "      <td>NaN</td>\n",
       "      <td>NaN</td>\n",
       "      <td>...</td>\n",
       "      <td>NaN</td>\n",
       "      <td>NaN</td>\n",
       "      <td>NaN</td>\n",
       "      <td>NaN</td>\n",
       "      <td>NaN</td>\n",
       "      <td>NaN</td>\n",
       "      <td>NaN</td>\n",
       "      <td>NaN</td>\n",
       "      <td>NaN</td>\n",
       "      <td>NaN</td>\n",
       "    </tr>\n",
       "    <tr>\n",
       "      <th>71</th>\n",
       "      <td>USW00073805</td>\n",
       "      <td>NORTHWEST FLORIDA BEACHES INTERNATIONAL AIRPOR...</td>\n",
       "      <td>30.34869</td>\n",
       "      <td>-85.78835</td>\n",
       "      <td>17.1</td>\n",
       "      <td>10/8/2016</td>\n",
       "      <td>10.51</td>\n",
       "      <td>,,W</td>\n",
       "      <td>NaN</td>\n",
       "      <td>NaN</td>\n",
       "      <td>...</td>\n",
       "      <td>NaN</td>\n",
       "      <td>NaN</td>\n",
       "      <td>NaN</td>\n",
       "      <td>NaN</td>\n",
       "      <td>NaN</td>\n",
       "      <td>NaN</td>\n",
       "      <td>NaN</td>\n",
       "      <td>NaN</td>\n",
       "      <td>NaN</td>\n",
       "      <td>NaN</td>\n",
       "    </tr>\n",
       "  </tbody>\n",
       "</table>\n",
       "<p>5 rows × 42 columns</p>\n",
       "</div>"
      ],
      "text/plain": [
       "        STATION                                               NAME  LATITUDE  \\\n",
       "46  USW00012897                    NAPLES MUNICIPAL AIRPORT, FL US  26.15498   \n",
       "49  USW00012896                            MARATHON AIRPORT, FL US  24.72624   \n",
       "50  USW00012895  FORT PIERCE ST LUCIE CO INTERNATIONAL AIRPORT,...  27.49816   \n",
       "51  USW00012894      FORT MYERS SW FLORIDA REGIONAL AIRPORT, FL US  26.53805   \n",
       "71  USW00073805  NORTHWEST FLORIDA BEACHES INTERNATIONAL AIRPOR...  30.34869   \n",
       "\n",
       "    LONGITUDE  ELEVATION       DATE   AWND AWND_ATTRIBUTES  PGTM  \\\n",
       "46  -81.77514        2.0  10/8/2016   8.05             ,,W   NaN   \n",
       "49  -81.04770        0.9  10/8/2016   4.92             ,,W   NaN   \n",
       "50  -80.37626        5.7  10/8/2016   9.62             ,,W   NaN   \n",
       "51  -81.75674        8.2  10/8/2016   6.26             ,,W   NaN   \n",
       "71  -85.78835       17.1  10/8/2016  10.51             ,,W   NaN   \n",
       "\n",
       "   PGTM_ATTRIBUTES  ...  WT07 WT07_ATTRIBUTES  WT08 WT08_ATTRIBUTES  WT09  \\\n",
       "46             NaN  ...   NaN             NaN   NaN             NaN   NaN   \n",
       "49             NaN  ...   NaN             NaN   NaN             NaN   NaN   \n",
       "50             NaN  ...   NaN             NaN   NaN             NaN   NaN   \n",
       "51             NaN  ...   NaN             NaN   NaN             NaN   NaN   \n",
       "71             NaN  ...   NaN             NaN   NaN             NaN   NaN   \n",
       "\n",
       "   WT09_ATTRIBUTES  WT10 WT10_ATTRIBUTES  WT11 WT11_ATTRIBUTES  \n",
       "46             NaN   NaN             NaN   NaN             NaN  \n",
       "49             NaN   NaN             NaN   NaN             NaN  \n",
       "50             NaN   NaN             NaN   NaN             NaN  \n",
       "51             NaN   NaN             NaN   NaN             NaN  \n",
       "71             NaN   NaN             NaN   NaN             NaN  \n",
       "\n",
       "[5 rows x 42 columns]"
      ]
     },
     "execution_count": 4,
     "metadata": {},
     "output_type": "execute_result"
    }
   ],
   "source": [
    "matthew.head()"
   ]
  },
  {
   "cell_type": "code",
   "execution_count": 6,
   "id": "184d1ab1",
   "metadata": {},
   "outputs": [],
   "source": [
    "#dropping attributes \n",
    "matthew = matthew.loc[:, ~matthew.columns.str.contains('ATTRIBUTES', 'WT')]\n",
    "irma = irma.loc[:, ~irma.columns.str.contains('ATTRIBUTES')]\n",
    "michael = michael.loc[:, ~michael.columns.str.contains('ATTRIBUTES')]"
   ]
  },
  {
   "cell_type": "code",
   "execution_count": 7,
   "id": "6673938e",
   "metadata": {},
   "outputs": [],
   "source": [
    "#dropping attributes, weather types\n",
    "matthew = matthew.loc[:, ~matthew.columns.str.contains('ATTRIBUTES|WT')]\n",
    "irma = irma.loc[:, ~irma.columns.str.contains('ATTRIBUTES|WT')]\n",
    "michael = michael.loc[:, ~michael.columns.str.contains('ATTRIBUTES|WT')]"
   ]
  },
  {
   "cell_type": "code",
   "execution_count": 8,
   "id": "4bbae36d",
   "metadata": {},
   "outputs": [],
   "source": [
    "matthew = matthew.rename(columns={\"WT10\": \"Tornado\", \"WT11\": \"DamagingWinds\"})\n",
    "irma = irma.rename(columns={\"WT10\": \"Tornado\", \"WT11\": \"DamagingWinds\"})\n",
    "michael = michael.rename(columns={\"WT10\": \"Tornado\", \"WT11\": \"DamagingWinds\"})"
   ]
  },
  {
   "cell_type": "code",
   "execution_count": 9,
   "id": "de6c7fc8",
   "metadata": {},
   "outputs": [],
   "source": [
    "#station, elevation, latitude, and longitude \n",
    "matthew.drop(['STATION', 'ELEVATION', 'WDF2', 'WDF5', 'PGTM', 'WDMV'], axis=1, inplace=True)\n",
    "irma.drop(['STATION', 'ELEVATION', 'WDF2', 'WDF5', 'PGTM', 'WDMV'], axis=1, inplace=True)\n",
    "michael.drop(['STATION', 'ELEVATION', 'WDF2', 'WDF5', 'PGTM', 'WDMV'], axis=1, inplace=True)"
   ]
  },
  {
   "cell_type": "code",
   "execution_count": 11,
   "id": "ff0fb112",
   "metadata": {},
   "outputs": [
    {
     "data": {
      "text/html": [
       "<div>\n",
       "<style scoped>\n",
       "    .dataframe tbody tr th:only-of-type {\n",
       "        vertical-align: middle;\n",
       "    }\n",
       "\n",
       "    .dataframe tbody tr th {\n",
       "        vertical-align: top;\n",
       "    }\n",
       "\n",
       "    .dataframe thead th {\n",
       "        text-align: right;\n",
       "    }\n",
       "</style>\n",
       "<table border=\"1\" class=\"dataframe\">\n",
       "  <thead>\n",
       "    <tr style=\"text-align: right;\">\n",
       "      <th></th>\n",
       "      <th>NAME</th>\n",
       "      <th>LATITUDE</th>\n",
       "      <th>LONGITUDE</th>\n",
       "      <th>DATE</th>\n",
       "      <th>AWND</th>\n",
       "      <th>WSF2</th>\n",
       "      <th>WSF5</th>\n",
       "    </tr>\n",
       "  </thead>\n",
       "  <tbody>\n",
       "    <tr>\n",
       "      <th>46</th>\n",
       "      <td>NAPLES MUNICIPAL AIRPORT, FL US</td>\n",
       "      <td>26.15498</td>\n",
       "      <td>-81.77514</td>\n",
       "      <td>10/8/2016</td>\n",
       "      <td>8.05</td>\n",
       "      <td>15.0</td>\n",
       "      <td>19.0</td>\n",
       "    </tr>\n",
       "    <tr>\n",
       "      <th>49</th>\n",
       "      <td>MARATHON AIRPORT, FL US</td>\n",
       "      <td>24.72624</td>\n",
       "      <td>-81.04770</td>\n",
       "      <td>10/8/2016</td>\n",
       "      <td>4.92</td>\n",
       "      <td>10.1</td>\n",
       "      <td>13.0</td>\n",
       "    </tr>\n",
       "    <tr>\n",
       "      <th>50</th>\n",
       "      <td>FORT PIERCE ST LUCIE CO INTERNATIONAL AIRPORT,...</td>\n",
       "      <td>27.49816</td>\n",
       "      <td>-80.37626</td>\n",
       "      <td>10/8/2016</td>\n",
       "      <td>9.62</td>\n",
       "      <td>19.9</td>\n",
       "      <td>25.9</td>\n",
       "    </tr>\n",
       "    <tr>\n",
       "      <th>51</th>\n",
       "      <td>FORT MYERS SW FLORIDA REGIONAL AIRPORT, FL US</td>\n",
       "      <td>26.53805</td>\n",
       "      <td>-81.75674</td>\n",
       "      <td>10/8/2016</td>\n",
       "      <td>6.26</td>\n",
       "      <td>13.0</td>\n",
       "      <td>19.0</td>\n",
       "    </tr>\n",
       "    <tr>\n",
       "      <th>71</th>\n",
       "      <td>NORTHWEST FLORIDA BEACHES INTERNATIONAL AIRPOR...</td>\n",
       "      <td>30.34869</td>\n",
       "      <td>-85.78835</td>\n",
       "      <td>10/8/2016</td>\n",
       "      <td>10.51</td>\n",
       "      <td>21.0</td>\n",
       "      <td>25.9</td>\n",
       "    </tr>\n",
       "  </tbody>\n",
       "</table>\n",
       "</div>"
      ],
      "text/plain": [
       "                                                 NAME  LATITUDE  LONGITUDE  \\\n",
       "46                    NAPLES MUNICIPAL AIRPORT, FL US  26.15498  -81.77514   \n",
       "49                            MARATHON AIRPORT, FL US  24.72624  -81.04770   \n",
       "50  FORT PIERCE ST LUCIE CO INTERNATIONAL AIRPORT,...  27.49816  -80.37626   \n",
       "51      FORT MYERS SW FLORIDA REGIONAL AIRPORT, FL US  26.53805  -81.75674   \n",
       "71  NORTHWEST FLORIDA BEACHES INTERNATIONAL AIRPOR...  30.34869  -85.78835   \n",
       "\n",
       "         DATE   AWND  WSF2  WSF5  \n",
       "46  10/8/2016   8.05  15.0  19.0  \n",
       "49  10/8/2016   4.92  10.1  13.0  \n",
       "50  10/8/2016   9.62  19.9  25.9  \n",
       "51  10/8/2016   6.26  13.0  19.0  \n",
       "71  10/8/2016  10.51  21.0  25.9  "
      ]
     },
     "execution_count": 11,
     "metadata": {},
     "output_type": "execute_result"
    }
   ],
   "source": [
    "matthew.head()"
   ]
  },
  {
   "cell_type": "code",
   "execution_count": 12,
   "id": "d22eff79",
   "metadata": {},
   "outputs": [],
   "source": [
    "matthew['COORD'] = list(zip(matthew.LATITUDE, matthew.LONGITUDE))\n",
    "irma['COORD'] = list(zip(irma.LATITUDE, irma.LONGITUDE))\n",
    "michael['COORD'] = list(zip(michael.LATITUDE, michael.LONGITUDE))"
   ]
  },
  {
   "cell_type": "code",
   "execution_count": 13,
   "id": "9375a519",
   "metadata": {},
   "outputs": [
    {
     "data": {
      "text/plain": [
       "''"
      ]
     },
     "execution_count": 13,
     "metadata": {},
     "output_type": "execute_result"
    }
   ],
   "source": [
    "#importing libraries \n",
    "from tkinter import *\n",
    "from geopy.geocoders import Nominatim\n",
    "from geopy.geocoders import Photon\n",
    "\n",
    "# Create an instance of tkinter frame\n",
    "win = Tk()\n",
    "\n",
    "# Define geometry of the window\n",
    "win.geometry(\"700x350\")"
   ]
  },
  {
   "cell_type": "code",
   "execution_count": 14,
   "id": "49fd9aa8",
   "metadata": {},
   "outputs": [],
   "source": [
    "#creating a function \n",
    "def get_city(coords):\n",
    "    #instantiate the Nominatim API \n",
    "    geolocator = Nominatim(user_agent=\"MyApp\")\n",
    "    #get the city from the coordinates \n",
    "    location = geolocator.reverse(coords)\n",
    "    address = location.raw['address']\n",
    "    city = address.get('city', '')\n",
    "    #return the city \n",
    "    return city"
   ]
  },
  {
   "cell_type": "code",
   "execution_count": 15,
   "id": "dad69472",
   "metadata": {},
   "outputs": [],
   "source": [
    "#applying function to dataframe\n",
    "irma['CITY'] = irma['COORD'].apply(get_city)\n",
    "#applying function to dataframe\n",
    "matthew['CITY'] = matthew['COORD'].apply(get_city)\n",
    "#applying function to dataframe\n",
    "michael['CITY'] = michael['COORD'].apply(get_city)"
   ]
  },
  {
   "cell_type": "code",
   "execution_count": 23,
   "id": "c086a5b4",
   "metadata": {},
   "outputs": [],
   "source": [
    "#dropping rows that have missing value for average wind speed \n",
    "matthew = matthew.dropna(subset=['AWND'])\n",
    "irma = irma.dropna(subset=['AWND'])\n",
    "michael = michael.dropna(subset=['AWND'])"
   ]
  },
  {
   "cell_type": "code",
   "execution_count": 28,
   "id": "a831d81a",
   "metadata": {},
   "outputs": [],
   "source": [
    "matthew.to_csv(r'data\\matthew_clean.csv', index=False)\n",
    "irma.to_csv(r'data\\irma_clean.csv', index=False)\n",
    "michael.to_csv(r'data\\michael_clean.csv', index=False)"
   ]
  },
  {
   "cell_type": "code",
   "execution_count": 37,
   "id": "3196105c",
   "metadata": {},
   "outputs": [],
   "source": [
    "matthew = pd.read_csv(r'data\\matthew_clean.csv')\n",
    "irma =  pd.read_csv(r'data\\irma_clean.csv')\n",
    "michael =  pd.read_csv(r'data\\michael_clean.csv')"
   ]
  },
  {
   "cell_type": "code",
   "execution_count": 38,
   "id": "3cd6e98a",
   "metadata": {},
   "outputs": [],
   "source": [
    "matthew['HurricaneName'] = '1'\n",
    "irma['HurricaneName'] = '2'\n",
    "michael['HurricaneName'] = '3'"
   ]
  },
  {
   "cell_type": "code",
   "execution_count": 39,
   "id": "b8b0a16e",
   "metadata": {},
   "outputs": [],
   "source": [
    "matthew['City'] = matthew['CITY']\n",
    "irma['City'] = irma['CITY']\n",
    "michael['City'] = michael['CITY']"
   ]
  },
  {
   "cell_type": "code",
   "execution_count": 40,
   "id": "49803815",
   "metadata": {},
   "outputs": [],
   "source": [
    "#station, elevation, latitude, and longitude \n",
    "matthew.drop(['NAME', 'COORD', 'CITY'], axis=1, inplace=True)\n",
    "irma.drop(['NAME', 'COORD', 'CITY'], axis=1, inplace=True)\n",
    "michael.drop(['NAME', 'COORD', 'CITY'], axis=1, inplace=True)"
   ]
  },
  {
   "cell_type": "code",
   "execution_count": 55,
   "id": "736d82d8",
   "metadata": {},
   "outputs": [
    {
     "data": {
      "text/html": [
       "<div>\n",
       "<style scoped>\n",
       "    .dataframe tbody tr th:only-of-type {\n",
       "        vertical-align: middle;\n",
       "    }\n",
       "\n",
       "    .dataframe tbody tr th {\n",
       "        vertical-align: top;\n",
       "    }\n",
       "\n",
       "    .dataframe thead th {\n",
       "        text-align: right;\n",
       "    }\n",
       "</style>\n",
       "<table border=\"1\" class=\"dataframe\">\n",
       "  <thead>\n",
       "    <tr style=\"text-align: right;\">\n",
       "      <th></th>\n",
       "      <th>DATE</th>\n",
       "      <th>AWND</th>\n",
       "      <th>WSF2</th>\n",
       "      <th>WSF5</th>\n",
       "      <th>HurricaneName</th>\n",
       "      <th>City</th>\n",
       "    </tr>\n",
       "  </thead>\n",
       "  <tbody>\n",
       "    <tr>\n",
       "      <th>0</th>\n",
       "      <td>10/8/2016</td>\n",
       "      <td>8.05</td>\n",
       "      <td>15.0</td>\n",
       "      <td>21.9</td>\n",
       "      <td>1</td>\n",
       "      <td>Apalachicola</td>\n",
       "    </tr>\n",
       "    <tr>\n",
       "      <th>1</th>\n",
       "      <td>10/7/2016</td>\n",
       "      <td>10.74</td>\n",
       "      <td>21.9</td>\n",
       "      <td>27.1</td>\n",
       "      <td>1</td>\n",
       "      <td>Apalachicola</td>\n",
       "    </tr>\n",
       "    <tr>\n",
       "      <th>2</th>\n",
       "      <td>10/6/2016</td>\n",
       "      <td>11.63</td>\n",
       "      <td>19.9</td>\n",
       "      <td>25.1</td>\n",
       "      <td>1</td>\n",
       "      <td>Apalachicola</td>\n",
       "    </tr>\n",
       "    <tr>\n",
       "      <th>3</th>\n",
       "      <td>10/8/2016</td>\n",
       "      <td>6.04</td>\n",
       "      <td>15.0</td>\n",
       "      <td>21.0</td>\n",
       "      <td>1</td>\n",
       "      <td>Bonifay</td>\n",
       "    </tr>\n",
       "    <tr>\n",
       "      <th>4</th>\n",
       "      <td>10/7/2016</td>\n",
       "      <td>8.28</td>\n",
       "      <td>18.1</td>\n",
       "      <td>25.1</td>\n",
       "      <td>1</td>\n",
       "      <td>Bonifay</td>\n",
       "    </tr>\n",
       "    <tr>\n",
       "      <th>...</th>\n",
       "      <td>...</td>\n",
       "      <td>...</td>\n",
       "      <td>...</td>\n",
       "      <td>...</td>\n",
       "      <td>...</td>\n",
       "      <td>...</td>\n",
       "    </tr>\n",
       "    <tr>\n",
       "      <th>132</th>\n",
       "      <td>10/7/2016</td>\n",
       "      <td>8.50</td>\n",
       "      <td>19.9</td>\n",
       "      <td>28.0</td>\n",
       "      <td>1</td>\n",
       "      <td>Milton</td>\n",
       "    </tr>\n",
       "    <tr>\n",
       "      <th>133</th>\n",
       "      <td>10/6/2016</td>\n",
       "      <td>6.49</td>\n",
       "      <td>16.1</td>\n",
       "      <td>21.9</td>\n",
       "      <td>1</td>\n",
       "      <td>Milton</td>\n",
       "    </tr>\n",
       "    <tr>\n",
       "      <th>134</th>\n",
       "      <td>10/8/2016</td>\n",
       "      <td>8.72</td>\n",
       "      <td>18.1</td>\n",
       "      <td>23.9</td>\n",
       "      <td>1</td>\n",
       "      <td>Winter Haven</td>\n",
       "    </tr>\n",
       "    <tr>\n",
       "      <th>135</th>\n",
       "      <td>10/7/2016</td>\n",
       "      <td>13.42</td>\n",
       "      <td>25.9</td>\n",
       "      <td>38.0</td>\n",
       "      <td>1</td>\n",
       "      <td>Winter Haven</td>\n",
       "    </tr>\n",
       "    <tr>\n",
       "      <th>136</th>\n",
       "      <td>10/6/2016</td>\n",
       "      <td>9.40</td>\n",
       "      <td>25.1</td>\n",
       "      <td>34.0</td>\n",
       "      <td>1</td>\n",
       "      <td>Winter Haven</td>\n",
       "    </tr>\n",
       "  </tbody>\n",
       "</table>\n",
       "<p>137 rows × 6 columns</p>\n",
       "</div>"
      ],
      "text/plain": [
       "          DATE   AWND  WSF2  WSF5 HurricaneName          City\n",
       "0    10/8/2016   8.05  15.0  21.9             1  Apalachicola\n",
       "1    10/7/2016  10.74  21.9  27.1             1  Apalachicola\n",
       "2    10/6/2016  11.63  19.9  25.1             1  Apalachicola\n",
       "3    10/8/2016   6.04  15.0  21.0             1       Bonifay\n",
       "4    10/7/2016   8.28  18.1  25.1             1       Bonifay\n",
       "..         ...    ...   ...   ...           ...           ...\n",
       "132  10/7/2016   8.50  19.9  28.0             1        Milton\n",
       "133  10/6/2016   6.49  16.1  21.9             1        Milton\n",
       "134  10/8/2016   8.72  18.1  23.9             1  Winter Haven\n",
       "135  10/7/2016  13.42  25.9  38.0             1  Winter Haven\n",
       "136  10/6/2016   9.40  25.1  34.0             1  Winter Haven\n",
       "\n",
       "[137 rows x 6 columns]"
      ]
     },
     "execution_count": 55,
     "metadata": {},
     "output_type": "execute_result"
    }
   ],
   "source": [
    "matthew"
   ]
  },
  {
   "cell_type": "code",
   "execution_count": 54,
   "id": "bff7ec33",
   "metadata": {},
   "outputs": [],
   "source": [
    "#concating the three dataframes into one \n",
    "hurricane = pd.concat([matthew, irma, michael], ignore_index=True)"
   ]
  },
  {
   "cell_type": "code",
   "execution_count": 46,
   "id": "6f808e63",
   "metadata": {},
   "outputs": [
    {
     "name": "stdout",
     "output_type": "stream",
     "text": [
      "<class 'pandas.core.frame.DataFrame'>\n",
      "RangeIndex: 354 entries, 0 to 353\n",
      "Data columns (total 6 columns):\n",
      " #   Column         Non-Null Count  Dtype  \n",
      "---  ------         --------------  -----  \n",
      " 0   DATE           354 non-null    object \n",
      " 1   AWND           354 non-null    float64\n",
      " 2   WSF2           350 non-null    float64\n",
      " 3   WSF5           349 non-null    float64\n",
      " 4   HurricaneName  354 non-null    object \n",
      " 5   City           354 non-null    object \n",
      "dtypes: float64(3), object(3)\n",
      "memory usage: 16.7+ KB\n"
     ]
    }
   ],
   "source": [
    "hurricane.info()"
   ]
  },
  {
   "cell_type": "code",
   "execution_count": 56,
   "id": "779cc150",
   "metadata": {},
   "outputs": [
    {
     "data": {
      "text/plain": [
       "DATE             0\n",
       "AWND             0\n",
       "WSF2             4\n",
       "WSF5             5\n",
       "HurricaneName    0\n",
       "City             0\n",
       "dtype: int64"
      ]
     },
     "execution_count": 56,
     "metadata": {},
     "output_type": "execute_result"
    }
   ],
   "source": [
    "hurricane.isnull().sum()"
   ]
  },
  {
   "cell_type": "code",
   "execution_count": 58,
   "id": "68153e00",
   "metadata": {},
   "outputs": [],
   "source": [
    "hurricane.dropna(inplace= True)"
   ]
  },
  {
   "cell_type": "code",
   "execution_count": 60,
   "id": "3e874315",
   "metadata": {},
   "outputs": [
    {
     "data": {
      "text/plain": [
       "DATE             0\n",
       "AWND             0\n",
       "WSF2             0\n",
       "WSF5             0\n",
       "HurricaneName    0\n",
       "City             0\n",
       "dtype: int64"
      ]
     },
     "execution_count": 60,
     "metadata": {},
     "output_type": "execute_result"
    }
   ],
   "source": [
    "hurricane.isnull().sum()"
   ]
  },
  {
   "cell_type": "code",
   "execution_count": 61,
   "id": "ee7cda0b",
   "metadata": {},
   "outputs": [],
   "source": [
    "hurricane.to_csv(r'data\\hurricane.csv', index=False)"
   ]
  },
  {
   "cell_type": "code",
   "execution_count": 47,
   "id": "a63127f7",
   "metadata": {},
   "outputs": [
    {
     "name": "stdout",
     "output_type": "stream",
     "text": [
      "<class 'pandas.core.frame.DataFrame'>\n",
      "RangeIndex: 140 entries, 0 to 139\n",
      "Data columns (total 6 columns):\n",
      " #   Column         Non-Null Count  Dtype  \n",
      "---  ------         --------------  -----  \n",
      " 0   DATE           140 non-null    object \n",
      " 1   AWND           140 non-null    float64\n",
      " 2   WSF2           137 non-null    float64\n",
      " 3   WSF5           136 non-null    float64\n",
      " 4   HurricaneName  140 non-null    object \n",
      " 5   City           140 non-null    object \n",
      "dtypes: float64(3), object(3)\n",
      "memory usage: 6.7+ KB\n"
     ]
    }
   ],
   "source": [
    "michael.info()"
   ]
  },
  {
   "cell_type": "code",
   "execution_count": 48,
   "id": "5ee4475d",
   "metadata": {},
   "outputs": [
    {
     "name": "stdout",
     "output_type": "stream",
     "text": [
      "<class 'pandas.core.frame.DataFrame'>\n",
      "RangeIndex: 77 entries, 0 to 76\n",
      "Data columns (total 6 columns):\n",
      " #   Column         Non-Null Count  Dtype  \n",
      "---  ------         --------------  -----  \n",
      " 0   DATE           77 non-null     object \n",
      " 1   AWND           77 non-null     float64\n",
      " 2   WSF2           76 non-null     float64\n",
      " 3   WSF5           76 non-null     float64\n",
      " 4   HurricaneName  77 non-null     object \n",
      " 5   City           77 non-null     object \n",
      "dtypes: float64(3), object(3)\n",
      "memory usage: 3.7+ KB\n"
     ]
    }
   ],
   "source": [
    "irma.info()"
   ]
  },
  {
   "cell_type": "code",
   "execution_count": 49,
   "id": "3ccda628",
   "metadata": {},
   "outputs": [
    {
     "name": "stdout",
     "output_type": "stream",
     "text": [
      "<class 'pandas.core.frame.DataFrame'>\n",
      "RangeIndex: 137 entries, 0 to 136\n",
      "Data columns (total 6 columns):\n",
      " #   Column         Non-Null Count  Dtype  \n",
      "---  ------         --------------  -----  \n",
      " 0   DATE           137 non-null    object \n",
      " 1   AWND           137 non-null    float64\n",
      " 2   WSF2           137 non-null    float64\n",
      " 3   WSF5           137 non-null    float64\n",
      " 4   HurricaneName  137 non-null    object \n",
      " 5   City           137 non-null    object \n",
      "dtypes: float64(3), object(3)\n",
      "memory usage: 6.5+ KB\n"
     ]
    }
   ],
   "source": [
    "matthew.info()"
   ]
  },
  {
   "cell_type": "markdown",
   "id": "b82508fe",
   "metadata": {},
   "source": [
    "https://www.geeksforgeeks.org/get-the-city-state-and-country-names-from-latitude-and-longitude-using-python/"
   ]
  },
  {
   "cell_type": "markdown",
   "id": "1a4b3c99",
   "metadata": {},
   "source": [
    "Use geopy to convert lat and long to cities\n",
    "Use that and join the datasets \n",
    "Run a logistical regression using the combined dataset \n",
    "Plot the output of the predict_probability (predict_proba(X)) method (the probablity estimates to see if it's lining us with the S curve)\n",
    "One interpretation of the coefficient of that model "
   ]
  }
 ],
 "metadata": {
  "kernelspec": {
   "display_name": "Python 3 (ipykernel)",
   "language": "python",
   "name": "python3"
  },
  "language_info": {
   "codemirror_mode": {
    "name": "ipython",
    "version": 3
   },
   "file_extension": ".py",
   "mimetype": "text/x-python",
   "name": "python",
   "nbconvert_exporter": "python",
   "pygments_lexer": "ipython3",
   "version": "3.10.9"
  }
 },
 "nbformat": 4,
 "nbformat_minor": 5
}
