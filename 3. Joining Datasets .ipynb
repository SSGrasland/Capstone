{
 "cells": [
  {
   "cell_type": "markdown",
   "id": "11153161",
   "metadata": {},
   "source": [
    "## Data Preparation: Notebook shows how you prepare your data and explains why by including…  \n",
    "- Instructions or code needed to get and prepare the raw data for analysis  \n",
    "- Code comments and text to explain what your data preparation code does  \n",
    "- Valid justifications for why the steps you took are appropriate for the problem you are solving  "
   ]
  },
  {
   "cell_type": "markdown",
   "id": "07269c34",
   "metadata": {},
   "source": [
    "# Joining Hurricane and Housing Dataframes "
   ]
  },
  {
   "cell_type": "code",
   "execution_count": 1,
   "id": "4d25c92e",
   "metadata": {},
   "outputs": [],
   "source": [
    "#Importing libraries needed\n",
    "import pandas as pd\n",
    "import matplotlib.pyplot as plt\n",
    "from matplotlib import pyplot\n",
    "%matplotlib inline\n",
    "import numpy as np\n",
    "import seaborn as sns\n",
    "\n",
    "import warnings\n",
    "warnings.filterwarnings('ignore')\n",
    "pd.set_option('display.max_columns', None)"
   ]
  },
  {
   "cell_type": "markdown",
   "id": "526bf0a5",
   "metadata": {},
   "source": [
    "# Joining Housing Values with Hurricanes \n",
    "In order to do logistic regression on our data we need to join the datasets. We will use the join method joining the hurricane dataset into the housing dataset. \n",
    "\n",
    "Documentation can be found here: https://pandas.pydata.org/docs/reference/api/pandas.DataFrame.join.html"
   ]
  },
  {
   "cell_type": "code",
   "execution_count": 2,
   "id": "74689f3d",
   "metadata": {},
   "outputs": [
    {
     "data": {
      "text/html": [
       "<div>\n",
       "<style scoped>\n",
       "    .dataframe tbody tr th:only-of-type {\n",
       "        vertical-align: middle;\n",
       "    }\n",
       "\n",
       "    .dataframe tbody tr th {\n",
       "        vertical-align: top;\n",
       "    }\n",
       "\n",
       "    .dataframe thead th {\n",
       "        text-align: right;\n",
       "    }\n",
       "</style>\n",
       "<table border=\"1\" class=\"dataframe\">\n",
       "  <thead>\n",
       "    <tr style=\"text-align: right;\">\n",
       "      <th></th>\n",
       "      <th>DATE</th>\n",
       "      <th>AWND</th>\n",
       "      <th>WSF2</th>\n",
       "      <th>WSF5</th>\n",
       "      <th>HurricaneName</th>\n",
       "      <th>City</th>\n",
       "    </tr>\n",
       "  </thead>\n",
       "  <tbody>\n",
       "    <tr>\n",
       "      <th>0</th>\n",
       "      <td>8/14/2004</td>\n",
       "      <td>5.82</td>\n",
       "      <td>13.0</td>\n",
       "      <td>15.0</td>\n",
       "      <td>1</td>\n",
       "      <td>Apalachicola</td>\n",
       "    </tr>\n",
       "    <tr>\n",
       "      <th>1</th>\n",
       "      <td>7/10/2005</td>\n",
       "      <td>19.46</td>\n",
       "      <td>30.0</td>\n",
       "      <td>34.9</td>\n",
       "      <td>2</td>\n",
       "      <td>Apalachicola</td>\n",
       "    </tr>\n",
       "    <tr>\n",
       "      <th>2</th>\n",
       "      <td>7/11/2005</td>\n",
       "      <td>17.00</td>\n",
       "      <td>32.0</td>\n",
       "      <td>38.0</td>\n",
       "      <td>2</td>\n",
       "      <td>Apalachicola</td>\n",
       "    </tr>\n",
       "    <tr>\n",
       "      <th>3</th>\n",
       "      <td>10/7/2016</td>\n",
       "      <td>10.74</td>\n",
       "      <td>21.9</td>\n",
       "      <td>27.1</td>\n",
       "      <td>3</td>\n",
       "      <td>Apalachicola</td>\n",
       "    </tr>\n",
       "    <tr>\n",
       "      <th>4</th>\n",
       "      <td>10/8/2016</td>\n",
       "      <td>8.05</td>\n",
       "      <td>15.0</td>\n",
       "      <td>21.9</td>\n",
       "      <td>3</td>\n",
       "      <td>Apalachicola</td>\n",
       "    </tr>\n",
       "  </tbody>\n",
       "</table>\n",
       "</div>"
      ],
      "text/plain": [
       "        DATE   AWND  WSF2  WSF5  HurricaneName          City\n",
       "0  8/14/2004   5.82  13.0  15.0              1  Apalachicola\n",
       "1  7/10/2005  19.46  30.0  34.9              2  Apalachicola\n",
       "2  7/11/2005  17.00  32.0  38.0              2  Apalachicola\n",
       "3  10/7/2016  10.74  21.9  27.1              3  Apalachicola\n",
       "4  10/8/2016   8.05  15.0  21.9              3  Apalachicola"
      ]
     },
     "execution_count": 2,
     "metadata": {},
     "output_type": "execute_result"
    }
   ],
   "source": [
    "hurricane = pd.read_csv(r'data\\hurricane_clean.csv')\n",
    "hurricane.head()"
   ]
  },
  {
   "cell_type": "code",
   "execution_count": 3,
   "id": "31cd63dd",
   "metadata": {},
   "outputs": [],
   "source": [
    "hurricane['HurricaneName'] = hurricane['HurricaneName'].astype(str).map({'1': 'c', '2': 'd', '3': 'ma', '4':'ir', '5':'mi'})"
   ]
  },
  {
   "cell_type": "code",
   "execution_count": 4,
   "id": "b4007740",
   "metadata": {},
   "outputs": [
    {
     "data": {
      "text/html": [
       "<div>\n",
       "<style scoped>\n",
       "    .dataframe tbody tr th:only-of-type {\n",
       "        vertical-align: middle;\n",
       "    }\n",
       "\n",
       "    .dataframe tbody tr th {\n",
       "        vertical-align: top;\n",
       "    }\n",
       "\n",
       "    .dataframe thead th {\n",
       "        text-align: right;\n",
       "    }\n",
       "</style>\n",
       "<table border=\"1\" class=\"dataframe\">\n",
       "  <thead>\n",
       "    <tr style=\"text-align: right;\">\n",
       "      <th></th>\n",
       "      <th>DATE</th>\n",
       "      <th>AWND</th>\n",
       "      <th>WSF2</th>\n",
       "      <th>WSF5</th>\n",
       "      <th>HurricaneName</th>\n",
       "      <th>City</th>\n",
       "    </tr>\n",
       "  </thead>\n",
       "  <tbody>\n",
       "    <tr>\n",
       "      <th>0</th>\n",
       "      <td>8/14/2004</td>\n",
       "      <td>5.82</td>\n",
       "      <td>13.0</td>\n",
       "      <td>15.0</td>\n",
       "      <td>c</td>\n",
       "      <td>Apalachicola</td>\n",
       "    </tr>\n",
       "    <tr>\n",
       "      <th>1</th>\n",
       "      <td>7/10/2005</td>\n",
       "      <td>19.46</td>\n",
       "      <td>30.0</td>\n",
       "      <td>34.9</td>\n",
       "      <td>d</td>\n",
       "      <td>Apalachicola</td>\n",
       "    </tr>\n",
       "    <tr>\n",
       "      <th>2</th>\n",
       "      <td>7/11/2005</td>\n",
       "      <td>17.00</td>\n",
       "      <td>32.0</td>\n",
       "      <td>38.0</td>\n",
       "      <td>d</td>\n",
       "      <td>Apalachicola</td>\n",
       "    </tr>\n",
       "    <tr>\n",
       "      <th>3</th>\n",
       "      <td>10/7/2016</td>\n",
       "      <td>10.74</td>\n",
       "      <td>21.9</td>\n",
       "      <td>27.1</td>\n",
       "      <td>ma</td>\n",
       "      <td>Apalachicola</td>\n",
       "    </tr>\n",
       "    <tr>\n",
       "      <th>4</th>\n",
       "      <td>10/8/2016</td>\n",
       "      <td>8.05</td>\n",
       "      <td>15.0</td>\n",
       "      <td>21.9</td>\n",
       "      <td>ma</td>\n",
       "      <td>Apalachicola</td>\n",
       "    </tr>\n",
       "  </tbody>\n",
       "</table>\n",
       "</div>"
      ],
      "text/plain": [
       "        DATE   AWND  WSF2  WSF5 HurricaneName          City\n",
       "0  8/14/2004   5.82  13.0  15.0             c  Apalachicola\n",
       "1  7/10/2005  19.46  30.0  34.9             d  Apalachicola\n",
       "2  7/11/2005  17.00  32.0  38.0             d  Apalachicola\n",
       "3  10/7/2016  10.74  21.9  27.1            ma  Apalachicola\n",
       "4  10/8/2016   8.05  15.0  21.9            ma  Apalachicola"
      ]
     },
     "execution_count": 4,
     "metadata": {},
     "output_type": "execute_result"
    }
   ],
   "source": [
    "hurricane.head()"
   ]
  },
  {
   "cell_type": "code",
   "execution_count": 5,
   "id": "4ae8f022",
   "metadata": {},
   "outputs": [],
   "source": [
    "#saving the data\n",
    "hurricane.to_csv(r'data\\hurricane_name.csv', index=False)"
   ]
  },
  {
   "cell_type": "code",
   "execution_count": 6,
   "id": "f7f0bf8f",
   "metadata": {},
   "outputs": [],
   "source": [
    "#opening dataframes \n",
    "hurricane = pd.read_csv(r'data\\hurricane_name.csv')\n",
    "#setting the index to city and HurricaneName so that we use .join()\n",
    "hurricane.set_index(['City', 'HurricaneName'], inplace = True)"
   ]
  },
  {
   "cell_type": "markdown",
   "id": "aefff2f6",
   "metadata": {},
   "source": [
    "### Writing a Function\n",
    "This function will be used to join our housing data with our hurricane data"
   ]
  },
  {
   "cell_type": "code",
   "execution_count": 7,
   "id": "b283d547",
   "metadata": {},
   "outputs": [],
   "source": [
    "def join():\n",
    "    #setting the index\n",
    "    df.set_index(['City', 'HurricaneName'], inplace = True)\n",
    "    #joining the dataframe\n",
    "    df = hurricane.join(df, how='inner')\n",
    "    #reseting the index\n",
    "    df.reset_index(inplace = True)\n",
    "    return df.head()"
   ]
  },
  {
   "cell_type": "markdown",
   "id": "5ff47b0e",
   "metadata": {},
   "source": [
    "## Joining Bottom Tier Home Values with Hurricane Data"
   ]
  },
  {
   "cell_type": "code",
   "execution_count": 10,
   "id": "f4de666f",
   "metadata": {},
   "outputs": [
    {
     "ename": "FileNotFoundError",
     "evalue": "[Errno 2] No such file or directory: 'data\\\\middle.csv'",
     "output_type": "error",
     "traceback": [
      "\u001b[1;31m---------------------------------------------------------------------------\u001b[0m",
      "\u001b[1;31mFileNotFoundError\u001b[0m                         Traceback (most recent call last)",
      "Cell \u001b[1;32mIn[10], line 3\u001b[0m\n\u001b[0;32m      1\u001b[0m \u001b[38;5;66;03m#opening dataframes \u001b[39;00m\n\u001b[0;32m      2\u001b[0m bottom \u001b[38;5;241m=\u001b[39m  pd\u001b[38;5;241m.\u001b[39mread_csv(\u001b[38;5;124mr\u001b[39m\u001b[38;5;124m'\u001b[39m\u001b[38;5;124mdata\u001b[39m\u001b[38;5;124m\\\u001b[39m\u001b[38;5;124mbottom.csv\u001b[39m\u001b[38;5;124m'\u001b[39m)\n\u001b[1;32m----> 3\u001b[0m middle \u001b[38;5;241m=\u001b[39m \u001b[43mpd\u001b[49m\u001b[38;5;241;43m.\u001b[39;49m\u001b[43mread_csv\u001b[49m\u001b[43m(\u001b[49m\u001b[38;5;124;43mr\u001b[39;49m\u001b[38;5;124;43m'\u001b[39;49m\u001b[38;5;124;43mdata\u001b[39;49m\u001b[38;5;124;43m\\\u001b[39;49m\u001b[38;5;124;43mmiddle.csv\u001b[39;49m\u001b[38;5;124;43m'\u001b[39;49m\u001b[43m)\u001b[49m\n\u001b[0;32m      4\u001b[0m top \u001b[38;5;241m=\u001b[39m pd\u001b[38;5;241m.\u001b[39mread_csv(\u001b[38;5;124mr\u001b[39m\u001b[38;5;124m'\u001b[39m\u001b[38;5;124mdata\u001b[39m\u001b[38;5;124m\\\u001b[39m\u001b[38;5;124mtop.csv\u001b[39m\u001b[38;5;124m'\u001b[39m)\n",
      "File \u001b[1;32m~\\anaconda3\\lib\\site-packages\\pandas\\util\\_decorators.py:211\u001b[0m, in \u001b[0;36mdeprecate_kwarg.<locals>._deprecate_kwarg.<locals>.wrapper\u001b[1;34m(*args, **kwargs)\u001b[0m\n\u001b[0;32m    209\u001b[0m     \u001b[38;5;28;01melse\u001b[39;00m:\n\u001b[0;32m    210\u001b[0m         kwargs[new_arg_name] \u001b[38;5;241m=\u001b[39m new_arg_value\n\u001b[1;32m--> 211\u001b[0m \u001b[38;5;28;01mreturn\u001b[39;00m func(\u001b[38;5;241m*\u001b[39margs, \u001b[38;5;241m*\u001b[39m\u001b[38;5;241m*\u001b[39mkwargs)\n",
      "File \u001b[1;32m~\\anaconda3\\lib\\site-packages\\pandas\\util\\_decorators.py:331\u001b[0m, in \u001b[0;36mdeprecate_nonkeyword_arguments.<locals>.decorate.<locals>.wrapper\u001b[1;34m(*args, **kwargs)\u001b[0m\n\u001b[0;32m    325\u001b[0m \u001b[38;5;28;01mif\u001b[39;00m \u001b[38;5;28mlen\u001b[39m(args) \u001b[38;5;241m>\u001b[39m num_allow_args:\n\u001b[0;32m    326\u001b[0m     warnings\u001b[38;5;241m.\u001b[39mwarn(\n\u001b[0;32m    327\u001b[0m         msg\u001b[38;5;241m.\u001b[39mformat(arguments\u001b[38;5;241m=\u001b[39m_format_argument_list(allow_args)),\n\u001b[0;32m    328\u001b[0m         \u001b[38;5;167;01mFutureWarning\u001b[39;00m,\n\u001b[0;32m    329\u001b[0m         stacklevel\u001b[38;5;241m=\u001b[39mfind_stack_level(),\n\u001b[0;32m    330\u001b[0m     )\n\u001b[1;32m--> 331\u001b[0m \u001b[38;5;28;01mreturn\u001b[39;00m func(\u001b[38;5;241m*\u001b[39margs, \u001b[38;5;241m*\u001b[39m\u001b[38;5;241m*\u001b[39mkwargs)\n",
      "File \u001b[1;32m~\\anaconda3\\lib\\site-packages\\pandas\\io\\parsers\\readers.py:950\u001b[0m, in \u001b[0;36mread_csv\u001b[1;34m(filepath_or_buffer, sep, delimiter, header, names, index_col, usecols, squeeze, prefix, mangle_dupe_cols, dtype, engine, converters, true_values, false_values, skipinitialspace, skiprows, skipfooter, nrows, na_values, keep_default_na, na_filter, verbose, skip_blank_lines, parse_dates, infer_datetime_format, keep_date_col, date_parser, dayfirst, cache_dates, iterator, chunksize, compression, thousands, decimal, lineterminator, quotechar, quoting, doublequote, escapechar, comment, encoding, encoding_errors, dialect, error_bad_lines, warn_bad_lines, on_bad_lines, delim_whitespace, low_memory, memory_map, float_precision, storage_options)\u001b[0m\n\u001b[0;32m    935\u001b[0m kwds_defaults \u001b[38;5;241m=\u001b[39m _refine_defaults_read(\n\u001b[0;32m    936\u001b[0m     dialect,\n\u001b[0;32m    937\u001b[0m     delimiter,\n\u001b[1;32m   (...)\u001b[0m\n\u001b[0;32m    946\u001b[0m     defaults\u001b[38;5;241m=\u001b[39m{\u001b[38;5;124m\"\u001b[39m\u001b[38;5;124mdelimiter\u001b[39m\u001b[38;5;124m\"\u001b[39m: \u001b[38;5;124m\"\u001b[39m\u001b[38;5;124m,\u001b[39m\u001b[38;5;124m\"\u001b[39m},\n\u001b[0;32m    947\u001b[0m )\n\u001b[0;32m    948\u001b[0m kwds\u001b[38;5;241m.\u001b[39mupdate(kwds_defaults)\n\u001b[1;32m--> 950\u001b[0m \u001b[38;5;28;01mreturn\u001b[39;00m \u001b[43m_read\u001b[49m\u001b[43m(\u001b[49m\u001b[43mfilepath_or_buffer\u001b[49m\u001b[43m,\u001b[49m\u001b[43m \u001b[49m\u001b[43mkwds\u001b[49m\u001b[43m)\u001b[49m\n",
      "File \u001b[1;32m~\\anaconda3\\lib\\site-packages\\pandas\\io\\parsers\\readers.py:605\u001b[0m, in \u001b[0;36m_read\u001b[1;34m(filepath_or_buffer, kwds)\u001b[0m\n\u001b[0;32m    602\u001b[0m _validate_names(kwds\u001b[38;5;241m.\u001b[39mget(\u001b[38;5;124m\"\u001b[39m\u001b[38;5;124mnames\u001b[39m\u001b[38;5;124m\"\u001b[39m, \u001b[38;5;28;01mNone\u001b[39;00m))\n\u001b[0;32m    604\u001b[0m \u001b[38;5;66;03m# Create the parser.\u001b[39;00m\n\u001b[1;32m--> 605\u001b[0m parser \u001b[38;5;241m=\u001b[39m TextFileReader(filepath_or_buffer, \u001b[38;5;241m*\u001b[39m\u001b[38;5;241m*\u001b[39mkwds)\n\u001b[0;32m    607\u001b[0m \u001b[38;5;28;01mif\u001b[39;00m chunksize \u001b[38;5;129;01mor\u001b[39;00m iterator:\n\u001b[0;32m    608\u001b[0m     \u001b[38;5;28;01mreturn\u001b[39;00m parser\n",
      "File \u001b[1;32m~\\anaconda3\\lib\\site-packages\\pandas\\io\\parsers\\readers.py:1442\u001b[0m, in \u001b[0;36mTextFileReader.__init__\u001b[1;34m(self, f, engine, **kwds)\u001b[0m\n\u001b[0;32m   1439\u001b[0m     \u001b[38;5;28mself\u001b[39m\u001b[38;5;241m.\u001b[39moptions[\u001b[38;5;124m\"\u001b[39m\u001b[38;5;124mhas_index_names\u001b[39m\u001b[38;5;124m\"\u001b[39m] \u001b[38;5;241m=\u001b[39m kwds[\u001b[38;5;124m\"\u001b[39m\u001b[38;5;124mhas_index_names\u001b[39m\u001b[38;5;124m\"\u001b[39m]\n\u001b[0;32m   1441\u001b[0m \u001b[38;5;28mself\u001b[39m\u001b[38;5;241m.\u001b[39mhandles: IOHandles \u001b[38;5;241m|\u001b[39m \u001b[38;5;28;01mNone\u001b[39;00m \u001b[38;5;241m=\u001b[39m \u001b[38;5;28;01mNone\u001b[39;00m\n\u001b[1;32m-> 1442\u001b[0m \u001b[38;5;28mself\u001b[39m\u001b[38;5;241m.\u001b[39m_engine \u001b[38;5;241m=\u001b[39m \u001b[38;5;28;43mself\u001b[39;49m\u001b[38;5;241;43m.\u001b[39;49m\u001b[43m_make_engine\u001b[49m\u001b[43m(\u001b[49m\u001b[43mf\u001b[49m\u001b[43m,\u001b[49m\u001b[43m \u001b[49m\u001b[38;5;28;43mself\u001b[39;49m\u001b[38;5;241;43m.\u001b[39;49m\u001b[43mengine\u001b[49m\u001b[43m)\u001b[49m\n",
      "File \u001b[1;32m~\\anaconda3\\lib\\site-packages\\pandas\\io\\parsers\\readers.py:1735\u001b[0m, in \u001b[0;36mTextFileReader._make_engine\u001b[1;34m(self, f, engine)\u001b[0m\n\u001b[0;32m   1733\u001b[0m     \u001b[38;5;28;01mif\u001b[39;00m \u001b[38;5;124m\"\u001b[39m\u001b[38;5;124mb\u001b[39m\u001b[38;5;124m\"\u001b[39m \u001b[38;5;129;01mnot\u001b[39;00m \u001b[38;5;129;01min\u001b[39;00m mode:\n\u001b[0;32m   1734\u001b[0m         mode \u001b[38;5;241m+\u001b[39m\u001b[38;5;241m=\u001b[39m \u001b[38;5;124m\"\u001b[39m\u001b[38;5;124mb\u001b[39m\u001b[38;5;124m\"\u001b[39m\n\u001b[1;32m-> 1735\u001b[0m \u001b[38;5;28mself\u001b[39m\u001b[38;5;241m.\u001b[39mhandles \u001b[38;5;241m=\u001b[39m \u001b[43mget_handle\u001b[49m\u001b[43m(\u001b[49m\n\u001b[0;32m   1736\u001b[0m \u001b[43m    \u001b[49m\u001b[43mf\u001b[49m\u001b[43m,\u001b[49m\n\u001b[0;32m   1737\u001b[0m \u001b[43m    \u001b[49m\u001b[43mmode\u001b[49m\u001b[43m,\u001b[49m\n\u001b[0;32m   1738\u001b[0m \u001b[43m    \u001b[49m\u001b[43mencoding\u001b[49m\u001b[38;5;241;43m=\u001b[39;49m\u001b[38;5;28;43mself\u001b[39;49m\u001b[38;5;241;43m.\u001b[39;49m\u001b[43moptions\u001b[49m\u001b[38;5;241;43m.\u001b[39;49m\u001b[43mget\u001b[49m\u001b[43m(\u001b[49m\u001b[38;5;124;43m\"\u001b[39;49m\u001b[38;5;124;43mencoding\u001b[39;49m\u001b[38;5;124;43m\"\u001b[39;49m\u001b[43m,\u001b[49m\u001b[43m \u001b[49m\u001b[38;5;28;43;01mNone\u001b[39;49;00m\u001b[43m)\u001b[49m\u001b[43m,\u001b[49m\n\u001b[0;32m   1739\u001b[0m \u001b[43m    \u001b[49m\u001b[43mcompression\u001b[49m\u001b[38;5;241;43m=\u001b[39;49m\u001b[38;5;28;43mself\u001b[39;49m\u001b[38;5;241;43m.\u001b[39;49m\u001b[43moptions\u001b[49m\u001b[38;5;241;43m.\u001b[39;49m\u001b[43mget\u001b[49m\u001b[43m(\u001b[49m\u001b[38;5;124;43m\"\u001b[39;49m\u001b[38;5;124;43mcompression\u001b[39;49m\u001b[38;5;124;43m\"\u001b[39;49m\u001b[43m,\u001b[49m\u001b[43m \u001b[49m\u001b[38;5;28;43;01mNone\u001b[39;49;00m\u001b[43m)\u001b[49m\u001b[43m,\u001b[49m\n\u001b[0;32m   1740\u001b[0m \u001b[43m    \u001b[49m\u001b[43mmemory_map\u001b[49m\u001b[38;5;241;43m=\u001b[39;49m\u001b[38;5;28;43mself\u001b[39;49m\u001b[38;5;241;43m.\u001b[39;49m\u001b[43moptions\u001b[49m\u001b[38;5;241;43m.\u001b[39;49m\u001b[43mget\u001b[49m\u001b[43m(\u001b[49m\u001b[38;5;124;43m\"\u001b[39;49m\u001b[38;5;124;43mmemory_map\u001b[39;49m\u001b[38;5;124;43m\"\u001b[39;49m\u001b[43m,\u001b[49m\u001b[43m \u001b[49m\u001b[38;5;28;43;01mFalse\u001b[39;49;00m\u001b[43m)\u001b[49m\u001b[43m,\u001b[49m\n\u001b[0;32m   1741\u001b[0m \u001b[43m    \u001b[49m\u001b[43mis_text\u001b[49m\u001b[38;5;241;43m=\u001b[39;49m\u001b[43mis_text\u001b[49m\u001b[43m,\u001b[49m\n\u001b[0;32m   1742\u001b[0m \u001b[43m    \u001b[49m\u001b[43merrors\u001b[49m\u001b[38;5;241;43m=\u001b[39;49m\u001b[38;5;28;43mself\u001b[39;49m\u001b[38;5;241;43m.\u001b[39;49m\u001b[43moptions\u001b[49m\u001b[38;5;241;43m.\u001b[39;49m\u001b[43mget\u001b[49m\u001b[43m(\u001b[49m\u001b[38;5;124;43m\"\u001b[39;49m\u001b[38;5;124;43mencoding_errors\u001b[39;49m\u001b[38;5;124;43m\"\u001b[39;49m\u001b[43m,\u001b[49m\u001b[43m \u001b[49m\u001b[38;5;124;43m\"\u001b[39;49m\u001b[38;5;124;43mstrict\u001b[39;49m\u001b[38;5;124;43m\"\u001b[39;49m\u001b[43m)\u001b[49m\u001b[43m,\u001b[49m\n\u001b[0;32m   1743\u001b[0m \u001b[43m    \u001b[49m\u001b[43mstorage_options\u001b[49m\u001b[38;5;241;43m=\u001b[39;49m\u001b[38;5;28;43mself\u001b[39;49m\u001b[38;5;241;43m.\u001b[39;49m\u001b[43moptions\u001b[49m\u001b[38;5;241;43m.\u001b[39;49m\u001b[43mget\u001b[49m\u001b[43m(\u001b[49m\u001b[38;5;124;43m\"\u001b[39;49m\u001b[38;5;124;43mstorage_options\u001b[39;49m\u001b[38;5;124;43m\"\u001b[39;49m\u001b[43m,\u001b[49m\u001b[43m \u001b[49m\u001b[38;5;28;43;01mNone\u001b[39;49;00m\u001b[43m)\u001b[49m\u001b[43m,\u001b[49m\n\u001b[0;32m   1744\u001b[0m \u001b[43m\u001b[49m\u001b[43m)\u001b[49m\n\u001b[0;32m   1745\u001b[0m \u001b[38;5;28;01massert\u001b[39;00m \u001b[38;5;28mself\u001b[39m\u001b[38;5;241m.\u001b[39mhandles \u001b[38;5;129;01mis\u001b[39;00m \u001b[38;5;129;01mnot\u001b[39;00m \u001b[38;5;28;01mNone\u001b[39;00m\n\u001b[0;32m   1746\u001b[0m f \u001b[38;5;241m=\u001b[39m \u001b[38;5;28mself\u001b[39m\u001b[38;5;241m.\u001b[39mhandles\u001b[38;5;241m.\u001b[39mhandle\n",
      "File \u001b[1;32m~\\anaconda3\\lib\\site-packages\\pandas\\io\\common.py:856\u001b[0m, in \u001b[0;36mget_handle\u001b[1;34m(path_or_buf, mode, encoding, compression, memory_map, is_text, errors, storage_options)\u001b[0m\n\u001b[0;32m    851\u001b[0m \u001b[38;5;28;01melif\u001b[39;00m \u001b[38;5;28misinstance\u001b[39m(handle, \u001b[38;5;28mstr\u001b[39m):\n\u001b[0;32m    852\u001b[0m     \u001b[38;5;66;03m# Check whether the filename is to be opened in binary mode.\u001b[39;00m\n\u001b[0;32m    853\u001b[0m     \u001b[38;5;66;03m# Binary mode does not support 'encoding' and 'newline'.\u001b[39;00m\n\u001b[0;32m    854\u001b[0m     \u001b[38;5;28;01mif\u001b[39;00m ioargs\u001b[38;5;241m.\u001b[39mencoding \u001b[38;5;129;01mand\u001b[39;00m \u001b[38;5;124m\"\u001b[39m\u001b[38;5;124mb\u001b[39m\u001b[38;5;124m\"\u001b[39m \u001b[38;5;129;01mnot\u001b[39;00m \u001b[38;5;129;01min\u001b[39;00m ioargs\u001b[38;5;241m.\u001b[39mmode:\n\u001b[0;32m    855\u001b[0m         \u001b[38;5;66;03m# Encoding\u001b[39;00m\n\u001b[1;32m--> 856\u001b[0m         handle \u001b[38;5;241m=\u001b[39m \u001b[38;5;28;43mopen\u001b[39;49m\u001b[43m(\u001b[49m\n\u001b[0;32m    857\u001b[0m \u001b[43m            \u001b[49m\u001b[43mhandle\u001b[49m\u001b[43m,\u001b[49m\n\u001b[0;32m    858\u001b[0m \u001b[43m            \u001b[49m\u001b[43mioargs\u001b[49m\u001b[38;5;241;43m.\u001b[39;49m\u001b[43mmode\u001b[49m\u001b[43m,\u001b[49m\n\u001b[0;32m    859\u001b[0m \u001b[43m            \u001b[49m\u001b[43mencoding\u001b[49m\u001b[38;5;241;43m=\u001b[39;49m\u001b[43mioargs\u001b[49m\u001b[38;5;241;43m.\u001b[39;49m\u001b[43mencoding\u001b[49m\u001b[43m,\u001b[49m\n\u001b[0;32m    860\u001b[0m \u001b[43m            \u001b[49m\u001b[43merrors\u001b[49m\u001b[38;5;241;43m=\u001b[39;49m\u001b[43merrors\u001b[49m\u001b[43m,\u001b[49m\n\u001b[0;32m    861\u001b[0m \u001b[43m            \u001b[49m\u001b[43mnewline\u001b[49m\u001b[38;5;241;43m=\u001b[39;49m\u001b[38;5;124;43m\"\u001b[39;49m\u001b[38;5;124;43m\"\u001b[39;49m\u001b[43m,\u001b[49m\n\u001b[0;32m    862\u001b[0m \u001b[43m        \u001b[49m\u001b[43m)\u001b[49m\n\u001b[0;32m    863\u001b[0m     \u001b[38;5;28;01melse\u001b[39;00m:\n\u001b[0;32m    864\u001b[0m         \u001b[38;5;66;03m# Binary mode\u001b[39;00m\n\u001b[0;32m    865\u001b[0m         handle \u001b[38;5;241m=\u001b[39m \u001b[38;5;28mopen\u001b[39m(handle, ioargs\u001b[38;5;241m.\u001b[39mmode)\n",
      "\u001b[1;31mFileNotFoundError\u001b[0m: [Errno 2] No such file or directory: 'data\\\\middle.csv'"
     ]
    }
   ],
   "source": [
    "#opening dataframes \n",
    "bottom =  pd.read_csv(r'data\\bottom.csv')\n",
    "middle = pd.read_csv(r'data\\middle.csv')\n",
    "top = pd.read_csv(r'data\\top.csv')"
   ]
  },
  {
   "cell_type": "code",
   "execution_count": null,
   "id": "10ffb6cf",
   "metadata": {},
   "outputs": [],
   "source": [
    "bottom.head()"
   ]
  },
  {
   "cell_type": "code",
   "execution_count": null,
   "id": "4d6b17ff",
   "metadata": {},
   "outputs": [],
   "source": [
    "#setting the index to city and HurricaneName so that we use .join()\n",
    "hurricane.set_index(['City', 'HurricaneName'], inplace = True)\n",
    "bottom.set_index(['City', 'HurricaneName'], inplace = True)"
   ]
  },
  {
   "cell_type": "code",
   "execution_count": null,
   "id": "24b39c97",
   "metadata": {
    "scrolled": true
   },
   "outputs": [],
   "source": [
    "#joining the housing dataframe into the hurricane dataframe \n",
    "bottom = hurricane.join(bottom, how='inner')"
   ]
  },
  {
   "cell_type": "code",
   "execution_count": null,
   "id": "17dea384",
   "metadata": {
    "scrolled": true
   },
   "outputs": [],
   "source": [
    "#reseting the index\n",
    "bottom.reset_index(inplace = True)\n",
    "bottom.head()"
   ]
  },
  {
   "cell_type": "code",
   "execution_count": null,
   "id": "e88f6904",
   "metadata": {},
   "outputs": [],
   "source": [
    "#saving the h1 dataframe\n",
    "bottom.to_csv(r'data\\bottom_hurricane', index=False)"
   ]
  },
  {
   "cell_type": "markdown",
   "id": "60385579",
   "metadata": {},
   "source": [
    "## Joining Middle Tier Home Values with Hurricane Data "
   ]
  },
  {
   "cell_type": "code",
   "execution_count": null,
   "id": "b7ce6e71",
   "metadata": {},
   "outputs": [],
   "source": [
    "#opening dataframes \n",
    "hurricane6 = pd.read_csv(r'data\\hurricane_name.csv')\n",
    "housing6 =  pd.read_csv(r'data\\housing_6months.csv')"
   ]
  },
  {
   "cell_type": "code",
   "execution_count": null,
   "id": "056bab71",
   "metadata": {},
   "outputs": [],
   "source": [
    "hurricane6.head()"
   ]
  },
  {
   "cell_type": "code",
   "execution_count": null,
   "id": "f51528b1",
   "metadata": {},
   "outputs": [],
   "source": [
    "housing6.head()"
   ]
  },
  {
   "cell_type": "code",
   "execution_count": null,
   "id": "82a5bd5e",
   "metadata": {},
   "outputs": [],
   "source": [
    "#setting the index to city so that we use .join()\n",
    "hurricane6.set_index(['City', 'HurricaneName'], inplace = True)\n",
    "housing6.set_index(['City', 'HurricaneName'], inplace = True)"
   ]
  },
  {
   "cell_type": "code",
   "execution_count": null,
   "id": "70d7c6e8",
   "metadata": {
    "scrolled": true
   },
   "outputs": [],
   "source": [
    "#joining the housing dataframe into the hurricane dataframe \n",
    "df6 = hurricane1.join(housing6, how='inner')"
   ]
  },
  {
   "cell_type": "code",
   "execution_count": null,
   "id": "d8bb2ea8",
   "metadata": {
    "scrolled": true
   },
   "outputs": [],
   "source": [
    "#reseting the index\n",
    "df6.reset_index(inplace = True)\n",
    "df6.head()"
   ]
  },
  {
   "cell_type": "code",
   "execution_count": null,
   "id": "7bed861a",
   "metadata": {},
   "outputs": [],
   "source": [
    "#saving the h1 dataframe\n",
    "df6.to_csv(r'data\\sixmonths.csv', index=False)"
   ]
  },
  {
   "cell_type": "markdown",
   "id": "4df1f34c",
   "metadata": {},
   "source": [
    "## Joining 3 months before and after hurricane "
   ]
  },
  {
   "cell_type": "code",
   "execution_count": null,
   "id": "553b7cb6",
   "metadata": {},
   "outputs": [],
   "source": [
    "#opening dataframes \n",
    "hurricane3 = pd.read_csv(r'data\\hurricane_name.csv')\n",
    "housing3 =  pd.read_csv(r'data\\housing_3months.csv')"
   ]
  },
  {
   "cell_type": "code",
   "execution_count": null,
   "id": "7fb7df2f",
   "metadata": {},
   "outputs": [],
   "source": [
    "hurricane3.head()"
   ]
  },
  {
   "cell_type": "code",
   "execution_count": null,
   "id": "219856a0",
   "metadata": {},
   "outputs": [],
   "source": [
    "housing3.head()"
   ]
  },
  {
   "cell_type": "code",
   "execution_count": null,
   "id": "4b9e4087",
   "metadata": {},
   "outputs": [],
   "source": [
    "#setting the index to city so that we use .join()\n",
    "hurricane3.set_index(['City', 'HurricaneName'], inplace = True)\n",
    "housing3.set_index(['City', 'HurricaneName'], inplace = True)"
   ]
  },
  {
   "cell_type": "code",
   "execution_count": null,
   "id": "bc8c358c",
   "metadata": {
    "scrolled": true
   },
   "outputs": [],
   "source": [
    "#joining the housing dataframe into the hurricane dataframe \n",
    "df3 = hurricane1.join(housing3, how='inner')"
   ]
  },
  {
   "cell_type": "code",
   "execution_count": null,
   "id": "68c0d649",
   "metadata": {
    "scrolled": true
   },
   "outputs": [],
   "source": [
    "#reseting the index\n",
    "df3.reset_index(inplace = True)\n",
    "df3.head()"
   ]
  },
  {
   "cell_type": "code",
   "execution_count": null,
   "id": "2c83baea",
   "metadata": {},
   "outputs": [],
   "source": [
    "#saving the h1 dataframe\n",
    "df3.to_csv(r'data\\threemonths.csv', index=False)"
   ]
  },
  {
   "cell_type": "markdown",
   "id": "aeb96bb9",
   "metadata": {},
   "source": [
    "## Joining 1 year before and after hurricane (top tier)"
   ]
  },
  {
   "cell_type": "code",
   "execution_count": null,
   "id": "0996fe40",
   "metadata": {},
   "outputs": [],
   "source": [
    "#opening dataframes \n",
    "hurricanet = pd.read_csv(r'data\\hurricane_name.csv')\n",
    "housingt =  pd.read_csv(r'data\\toptier1year.csv')"
   ]
  },
  {
   "cell_type": "code",
   "execution_count": null,
   "id": "2550cb48",
   "metadata": {},
   "outputs": [],
   "source": [
    "hurricanet.head()"
   ]
  },
  {
   "cell_type": "code",
   "execution_count": null,
   "id": "294a91fc",
   "metadata": {},
   "outputs": [],
   "source": [
    "housingt.head()"
   ]
  },
  {
   "cell_type": "code",
   "execution_count": null,
   "id": "2dd69ae0",
   "metadata": {},
   "outputs": [],
   "source": [
    "#setting the index to city so that we use .join()\n",
    "hurricanet.set_index(['City', 'HurricaneName'], inplace = True)\n",
    "housingt.set_index(['City', 'HurricaneName'], inplace = True)"
   ]
  },
  {
   "cell_type": "code",
   "execution_count": null,
   "id": "6f35c902",
   "metadata": {
    "scrolled": true
   },
   "outputs": [],
   "source": [
    "#joining the housing dataframe into the hurricane dataframe \n",
    "dft = hurricane1.join(housingt, how='inner')"
   ]
  },
  {
   "cell_type": "code",
   "execution_count": null,
   "id": "4659caf6",
   "metadata": {
    "scrolled": true
   },
   "outputs": [],
   "source": [
    "#reseting the index\n",
    "dft.reset_index(inplace = True)\n",
    "dft.head()"
   ]
  },
  {
   "cell_type": "code",
   "execution_count": null,
   "id": "85faf1b4",
   "metadata": {},
   "outputs": [],
   "source": [
    "#saving the h1 dataframe\n",
    "dft.to_csv(r'data\\top.csv', index=False)"
   ]
  },
  {
   "cell_type": "markdown",
   "id": "3c0726b1",
   "metadata": {},
   "source": [
    "## Joining 1 year before and after hurricane (bottom tier)"
   ]
  },
  {
   "cell_type": "code",
   "execution_count": null,
   "id": "2b87129f",
   "metadata": {},
   "outputs": [],
   "source": [
    "#opening dataframes \n",
    "hurricaneb = pd.read_csv(r'data\\hurricane_name.csv')\n",
    "housingb =  pd.read_csv(r'data\\bottomtier1year.csv')"
   ]
  },
  {
   "cell_type": "code",
   "execution_count": null,
   "id": "ece9a6cc",
   "metadata": {},
   "outputs": [],
   "source": [
    "hurricaneb.head()"
   ]
  },
  {
   "cell_type": "code",
   "execution_count": null,
   "id": "902dc86a",
   "metadata": {},
   "outputs": [],
   "source": [
    "housingb.head()"
   ]
  },
  {
   "cell_type": "code",
   "execution_count": null,
   "id": "61c76d77",
   "metadata": {},
   "outputs": [],
   "source": [
    "#setting the index to city so that we use .join()\n",
    "hurricaneb.set_index(['City', 'HurricaneName'], inplace = True)\n",
    "housingb.set_index(['City', 'HurricaneName'], inplace = True)"
   ]
  },
  {
   "cell_type": "code",
   "execution_count": null,
   "id": "c2307e3a",
   "metadata": {
    "scrolled": true
   },
   "outputs": [],
   "source": [
    "#joining the housing dataframe into the hurricane dataframe \n",
    "dfb = hurricane1.join(housingb, how='inner')"
   ]
  },
  {
   "cell_type": "code",
   "execution_count": null,
   "id": "3a167f57",
   "metadata": {
    "scrolled": true
   },
   "outputs": [],
   "source": [
    "#reseting the index\n",
    "dfb.reset_index(inplace = True)\n",
    "dfb.head()"
   ]
  },
  {
   "cell_type": "code",
   "execution_count": null,
   "id": "3abd9782",
   "metadata": {},
   "outputs": [],
   "source": [
    "#saving the h1 dataframe\n",
    "dfb.to_csv(r'data\\bottom.csv', index=False)"
   ]
  },
  {
   "cell_type": "markdown",
   "id": "32fa52cf",
   "metadata": {},
   "source": [
    "## Checking Crosstabs"
   ]
  },
  {
   "cell_type": "markdown",
   "id": "24617cfc",
   "metadata": {},
   "source": [
    "### 1 year before and after"
   ]
  },
  {
   "cell_type": "code",
   "execution_count": null,
   "id": "eabe7306",
   "metadata": {},
   "outputs": [],
   "source": [
    "#check crosstabs \n",
    "df1[df1['bool'] == 0].describe()"
   ]
  },
  {
   "cell_type": "code",
   "execution_count": null,
   "id": "6bbf2551",
   "metadata": {},
   "outputs": [],
   "source": [
    "#check crosstabs \n",
    "df1[df1['bool'] == 1].describe()"
   ]
  },
  {
   "cell_type": "markdown",
   "id": "4453ad41",
   "metadata": {},
   "source": [
    "### 6 months before and after"
   ]
  },
  {
   "cell_type": "code",
   "execution_count": null,
   "id": "188f91d9",
   "metadata": {},
   "outputs": [],
   "source": [
    "#check crosstabs \n",
    "df6[df6['bool'] == 0].describe()"
   ]
  },
  {
   "cell_type": "code",
   "execution_count": null,
   "id": "e09d1870",
   "metadata": {},
   "outputs": [],
   "source": [
    "#check crosstabs \n",
    "df6[df6['bool'] == 1].describe()"
   ]
  },
  {
   "cell_type": "markdown",
   "id": "5b0c765b",
   "metadata": {},
   "source": [
    "### 3 months before and after"
   ]
  },
  {
   "cell_type": "code",
   "execution_count": null,
   "id": "ddcff20a",
   "metadata": {},
   "outputs": [],
   "source": [
    "#check crosstabs \n",
    "df3[df3['bool'] == 0].describe()"
   ]
  },
  {
   "cell_type": "code",
   "execution_count": null,
   "id": "d6842f4a",
   "metadata": {},
   "outputs": [],
   "source": [
    "#check crosstabs \n",
    "df3[df3['bool'] == 1].describe()"
   ]
  },
  {
   "cell_type": "markdown",
   "id": "11d8fb73",
   "metadata": {},
   "source": [
    "### 1 year before and after (top)"
   ]
  },
  {
   "cell_type": "code",
   "execution_count": null,
   "id": "2229145d",
   "metadata": {},
   "outputs": [],
   "source": [
    "#check crosstabs \n",
    "dft[dft['bool'] == 0].describe()"
   ]
  },
  {
   "cell_type": "code",
   "execution_count": null,
   "id": "5d4e3546",
   "metadata": {},
   "outputs": [],
   "source": [
    "#check crosstabs \n",
    "dft[dft['bool'] == 1].describe()"
   ]
  },
  {
   "cell_type": "markdown",
   "id": "d46bc892",
   "metadata": {},
   "source": [
    "### 1 year before and after (bottom)"
   ]
  },
  {
   "cell_type": "code",
   "execution_count": null,
   "id": "4bd1b0d7",
   "metadata": {},
   "outputs": [],
   "source": [
    "#check crosstabs \n",
    "dfb[dfb['bool'] == 0].describe()"
   ]
  },
  {
   "cell_type": "code",
   "execution_count": null,
   "id": "3e8af6aa",
   "metadata": {},
   "outputs": [],
   "source": [
    "#check crosstabs \n",
    "dfb[dfb['bool'] == 1].describe()"
   ]
  }
 ],
 "metadata": {
  "kernelspec": {
   "display_name": "Python 3 (ipykernel)",
   "language": "python",
   "name": "python3"
  },
  "language_info": {
   "codemirror_mode": {
    "name": "ipython",
    "version": 3
   },
   "file_extension": ".py",
   "mimetype": "text/x-python",
   "name": "python",
   "nbconvert_exporter": "python",
   "pygments_lexer": "ipython3",
   "version": "3.10.9"
  }
 },
 "nbformat": 4,
 "nbformat_minor": 5
}
