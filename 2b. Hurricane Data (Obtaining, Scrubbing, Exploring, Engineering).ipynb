{
 "cells": [
  {
   "cell_type": "markdown",
   "id": "0ac395be",
   "metadata": {},
   "source": [
    "# NOAA Weather Data (Obtaining, Scrubbing, and Exploring)"
   ]
  },
  {
   "cell_type": "markdown",
   "id": "72bce082",
   "metadata": {},
   "source": [
    "## Obtaining the Data"
   ]
  },
  {
   "cell_type": "code",
   "execution_count": 1,
   "id": "05bf6f7a",
   "metadata": {},
   "outputs": [],
   "source": [
    "#Importing libraries needed\n",
    "import pandas as pd\n",
    "import matplotlib.pyplot as plt\n",
    "from matplotlib import pyplot\n",
    "%matplotlib inline\n",
    "import numpy as np\n",
    "import seaborn as sns\n",
    "\n",
    "import warnings\n",
    "warnings.filterwarnings('ignore')"
   ]
  },
  {
   "cell_type": "markdown",
   "id": "a1bdb6e7",
   "metadata": {},
   "source": [
    "## Data Understanding \n",
    "\n",
    "NOAA Data Column Descriptions   \n",
    "|Column Name | Description | \n",
    "|---|---|\n",
    "| NAME| is the name of the station (usually city/airport name). \n",
    "|LATITUDE | latitude (decimated degrees w/northern hemisphere values > 0, southern hemisphere values < 0)\n",
    "| LONGITUDE |  longitude (decimated degrees w/western hemisphere values < 0, eastern hemisphere values > 0) \n",
    "| DATE |is the year of the record (4 digits) followed by month (2 digits) and day (2 digits).\n",
    "|AWND |Average daily wind speed (meters per second) |    \n",
    "|WSF2 |  Fastest 2-minute wind speed (in meters per second) |  \n",
    "|WSF5 |  Fastest 5-second wind speed (in meter per second)  |       "
   ]
  },
  {
   "cell_type": "code",
   "execution_count": 2,
   "id": "fee8e47a",
   "metadata": {},
   "outputs": [],
   "source": [
    "#opening the datasets\n",
    "matthew = pd.read_csv(r'data\\matthew.csv')\n",
    "irma =  pd.read_csv(r'data\\irma.csv')\n",
    "michael =  pd.read_csv(r'data\\michael.csv')\n",
    "charley = pd.read_csv(r'data\\charley.csv')\n",
    "dennis = pd.read_csv(r'data\\dennis.csv')"
   ]
  },
  {
   "cell_type": "code",
   "execution_count": 3,
   "id": "0166a823",
   "metadata": {},
   "outputs": [
    {
     "data": {
      "text/html": [
       "<div>\n",
       "<style scoped>\n",
       "    .dataframe tbody tr th:only-of-type {\n",
       "        vertical-align: middle;\n",
       "    }\n",
       "\n",
       "    .dataframe tbody tr th {\n",
       "        vertical-align: top;\n",
       "    }\n",
       "\n",
       "    .dataframe thead th {\n",
       "        text-align: right;\n",
       "    }\n",
       "</style>\n",
       "<table border=\"1\" class=\"dataframe\">\n",
       "  <thead>\n",
       "    <tr style=\"text-align: right;\">\n",
       "      <th></th>\n",
       "      <th>NAME</th>\n",
       "      <th>LATITUDE</th>\n",
       "      <th>LONGITUDE</th>\n",
       "      <th>DATE</th>\n",
       "      <th>AWND</th>\n",
       "      <th>WSF2</th>\n",
       "      <th>WSF5</th>\n",
       "    </tr>\n",
       "  </thead>\n",
       "  <tbody>\n",
       "    <tr>\n",
       "      <th>0</th>\n",
       "      <td>FORT PIERCE, FL US</td>\n",
       "      <td>27.4419</td>\n",
       "      <td>-80.3508</td>\n",
       "      <td>7/10/2005</td>\n",
       "      <td>NaN</td>\n",
       "      <td>NaN</td>\n",
       "      <td>NaN</td>\n",
       "    </tr>\n",
       "    <tr>\n",
       "      <th>1</th>\n",
       "      <td>FORT PIERCE, FL US</td>\n",
       "      <td>27.4419</td>\n",
       "      <td>-80.3508</td>\n",
       "      <td>7/11/2005</td>\n",
       "      <td>NaN</td>\n",
       "      <td>NaN</td>\n",
       "      <td>NaN</td>\n",
       "    </tr>\n",
       "    <tr>\n",
       "      <th>2</th>\n",
       "      <td>FORT PIERCE ARC, FL US</td>\n",
       "      <td>27.4272</td>\n",
       "      <td>-80.4053</td>\n",
       "      <td>7/10/2005</td>\n",
       "      <td>NaN</td>\n",
       "      <td>NaN</td>\n",
       "      <td>NaN</td>\n",
       "    </tr>\n",
       "    <tr>\n",
       "      <th>3</th>\n",
       "      <td>FORT PIERCE ARC, FL US</td>\n",
       "      <td>27.4272</td>\n",
       "      <td>-80.4053</td>\n",
       "      <td>7/11/2005</td>\n",
       "      <td>NaN</td>\n",
       "      <td>NaN</td>\n",
       "      <td>NaN</td>\n",
       "    </tr>\n",
       "    <tr>\n",
       "      <th>4</th>\n",
       "      <td>BIG CYPRESS, FL US</td>\n",
       "      <td>26.3283</td>\n",
       "      <td>-80.9958</td>\n",
       "      <td>7/10/2005</td>\n",
       "      <td>NaN</td>\n",
       "      <td>NaN</td>\n",
       "      <td>NaN</td>\n",
       "    </tr>\n",
       "  </tbody>\n",
       "</table>\n",
       "</div>"
      ],
      "text/plain": [
       "                     NAME  LATITUDE  LONGITUDE       DATE  AWND  WSF2  WSF5\n",
       "0      FORT PIERCE, FL US   27.4419   -80.3508  7/10/2005   NaN   NaN   NaN\n",
       "1      FORT PIERCE, FL US   27.4419   -80.3508  7/11/2005   NaN   NaN   NaN\n",
       "2  FORT PIERCE ARC, FL US   27.4272   -80.4053  7/10/2005   NaN   NaN   NaN\n",
       "3  FORT PIERCE ARC, FL US   27.4272   -80.4053  7/11/2005   NaN   NaN   NaN\n",
       "4      BIG CYPRESS, FL US   26.3283   -80.9958  7/10/2005   NaN   NaN   NaN"
      ]
     },
     "execution_count": 3,
     "metadata": {},
     "output_type": "execute_result"
    }
   ],
   "source": [
    "dennis.head()"
   ]
  },
  {
   "cell_type": "markdown",
   "id": "bae820cd",
   "metadata": {},
   "source": [
    "## Data Engineering \n",
    "We want to be able to compare data from all 5 hurricanes against home value. So we are going to concat them all into one data frame. "
   ]
  },
  {
   "cell_type": "markdown",
   "id": "43cab2c5",
   "metadata": {},
   "source": [
    "### Concating the Hurricane Dataframes"
   ]
  },
  {
   "cell_type": "code",
   "execution_count": 4,
   "id": "47aab39a",
   "metadata": {},
   "outputs": [],
   "source": [
    "#creating a column with a label for each hurricane \n",
    "#this way we can still know which hurricane we are referencing\n",
    "\n",
    "#1 = charley\n",
    "charley['HurricaneName'] = '1'\n",
    "\n",
    "#2 = dennis \n",
    "dennis['HurricaneName'] = '2'\n",
    "\n",
    "#3 = matthew \n",
    "matthew['HurricaneName'] = '3'\n",
    "\n",
    "#4 = irma \n",
    "irma['HurricaneName'] = '4'\n",
    "\n",
    "#5 michael \n",
    "michael['HurricaneName'] = '5'"
   ]
  },
  {
   "cell_type": "code",
   "execution_count": 5,
   "id": "9b1cad43",
   "metadata": {},
   "outputs": [
    {
     "data": {
      "text/html": [
       "<div>\n",
       "<style scoped>\n",
       "    .dataframe tbody tr th:only-of-type {\n",
       "        vertical-align: middle;\n",
       "    }\n",
       "\n",
       "    .dataframe tbody tr th {\n",
       "        vertical-align: top;\n",
       "    }\n",
       "\n",
       "    .dataframe thead th {\n",
       "        text-align: right;\n",
       "    }\n",
       "</style>\n",
       "<table border=\"1\" class=\"dataframe\">\n",
       "  <thead>\n",
       "    <tr style=\"text-align: right;\">\n",
       "      <th></th>\n",
       "      <th>NAME</th>\n",
       "      <th>LATITUDE</th>\n",
       "      <th>LONGITUDE</th>\n",
       "      <th>DATE</th>\n",
       "      <th>AWND</th>\n",
       "      <th>WSF2</th>\n",
       "      <th>WSF5</th>\n",
       "      <th>HurricaneName</th>\n",
       "    </tr>\n",
       "  </thead>\n",
       "  <tbody>\n",
       "    <tr>\n",
       "      <th>0</th>\n",
       "      <td>FORT PIERCE, FL US</td>\n",
       "      <td>27.4419</td>\n",
       "      <td>-80.3508</td>\n",
       "      <td>8/13/2004</td>\n",
       "      <td>NaN</td>\n",
       "      <td>NaN</td>\n",
       "      <td>NaN</td>\n",
       "      <td>1</td>\n",
       "    </tr>\n",
       "    <tr>\n",
       "      <th>1</th>\n",
       "      <td>FORT PIERCE, FL US</td>\n",
       "      <td>27.4419</td>\n",
       "      <td>-80.3508</td>\n",
       "      <td>8/14/2004</td>\n",
       "      <td>NaN</td>\n",
       "      <td>NaN</td>\n",
       "      <td>NaN</td>\n",
       "      <td>1</td>\n",
       "    </tr>\n",
       "    <tr>\n",
       "      <th>2</th>\n",
       "      <td>FORT PIERCE ARC, FL US</td>\n",
       "      <td>27.4272</td>\n",
       "      <td>-80.4053</td>\n",
       "      <td>8/13/2004</td>\n",
       "      <td>NaN</td>\n",
       "      <td>NaN</td>\n",
       "      <td>NaN</td>\n",
       "      <td>1</td>\n",
       "    </tr>\n",
       "    <tr>\n",
       "      <th>3</th>\n",
       "      <td>FORT PIERCE ARC, FL US</td>\n",
       "      <td>27.4272</td>\n",
       "      <td>-80.4053</td>\n",
       "      <td>8/14/2004</td>\n",
       "      <td>NaN</td>\n",
       "      <td>NaN</td>\n",
       "      <td>NaN</td>\n",
       "      <td>1</td>\n",
       "    </tr>\n",
       "    <tr>\n",
       "      <th>4</th>\n",
       "      <td>BIG CYPRESS, FL US</td>\n",
       "      <td>26.3283</td>\n",
       "      <td>-80.9958</td>\n",
       "      <td>8/13/2004</td>\n",
       "      <td>NaN</td>\n",
       "      <td>NaN</td>\n",
       "      <td>NaN</td>\n",
       "      <td>1</td>\n",
       "    </tr>\n",
       "  </tbody>\n",
       "</table>\n",
       "</div>"
      ],
      "text/plain": [
       "                     NAME  LATITUDE  LONGITUDE       DATE  AWND  WSF2  WSF5  \\\n",
       "0      FORT PIERCE, FL US   27.4419   -80.3508  8/13/2004   NaN   NaN   NaN   \n",
       "1      FORT PIERCE, FL US   27.4419   -80.3508  8/14/2004   NaN   NaN   NaN   \n",
       "2  FORT PIERCE ARC, FL US   27.4272   -80.4053  8/13/2004   NaN   NaN   NaN   \n",
       "3  FORT PIERCE ARC, FL US   27.4272   -80.4053  8/14/2004   NaN   NaN   NaN   \n",
       "4      BIG CYPRESS, FL US   26.3283   -80.9958  8/13/2004   NaN   NaN   NaN   \n",
       "\n",
       "  HurricaneName  \n",
       "0             1  \n",
       "1             1  \n",
       "2             1  \n",
       "3             1  \n",
       "4             1  "
      ]
     },
     "execution_count": 5,
     "metadata": {},
     "output_type": "execute_result"
    }
   ],
   "source": [
    "charley.head()"
   ]
  },
  {
   "cell_type": "code",
   "execution_count": 6,
   "id": "6efca293",
   "metadata": {},
   "outputs": [
    {
     "data": {
      "text/html": [
       "<div>\n",
       "<style scoped>\n",
       "    .dataframe tbody tr th:only-of-type {\n",
       "        vertical-align: middle;\n",
       "    }\n",
       "\n",
       "    .dataframe tbody tr th {\n",
       "        vertical-align: top;\n",
       "    }\n",
       "\n",
       "    .dataframe thead th {\n",
       "        text-align: right;\n",
       "    }\n",
       "</style>\n",
       "<table border=\"1\" class=\"dataframe\">\n",
       "  <thead>\n",
       "    <tr style=\"text-align: right;\">\n",
       "      <th></th>\n",
       "      <th>NAME</th>\n",
       "      <th>LATITUDE</th>\n",
       "      <th>LONGITUDE</th>\n",
       "      <th>DATE</th>\n",
       "      <th>AWND</th>\n",
       "      <th>WSF2</th>\n",
       "      <th>WSF5</th>\n",
       "      <th>HurricaneName</th>\n",
       "    </tr>\n",
       "  </thead>\n",
       "  <tbody>\n",
       "    <tr>\n",
       "      <th>0</th>\n",
       "      <td>FORT PIERCE, FL US</td>\n",
       "      <td>27.4419</td>\n",
       "      <td>-80.3508</td>\n",
       "      <td>8/13/2004</td>\n",
       "      <td>NaN</td>\n",
       "      <td>NaN</td>\n",
       "      <td>NaN</td>\n",
       "      <td>1</td>\n",
       "    </tr>\n",
       "    <tr>\n",
       "      <th>1</th>\n",
       "      <td>FORT PIERCE, FL US</td>\n",
       "      <td>27.4419</td>\n",
       "      <td>-80.3508</td>\n",
       "      <td>8/14/2004</td>\n",
       "      <td>NaN</td>\n",
       "      <td>NaN</td>\n",
       "      <td>NaN</td>\n",
       "      <td>1</td>\n",
       "    </tr>\n",
       "    <tr>\n",
       "      <th>2</th>\n",
       "      <td>FORT PIERCE ARC, FL US</td>\n",
       "      <td>27.4272</td>\n",
       "      <td>-80.4053</td>\n",
       "      <td>8/13/2004</td>\n",
       "      <td>NaN</td>\n",
       "      <td>NaN</td>\n",
       "      <td>NaN</td>\n",
       "      <td>1</td>\n",
       "    </tr>\n",
       "    <tr>\n",
       "      <th>3</th>\n",
       "      <td>FORT PIERCE ARC, FL US</td>\n",
       "      <td>27.4272</td>\n",
       "      <td>-80.4053</td>\n",
       "      <td>8/14/2004</td>\n",
       "      <td>NaN</td>\n",
       "      <td>NaN</td>\n",
       "      <td>NaN</td>\n",
       "      <td>1</td>\n",
       "    </tr>\n",
       "    <tr>\n",
       "      <th>4</th>\n",
       "      <td>BIG CYPRESS, FL US</td>\n",
       "      <td>26.3283</td>\n",
       "      <td>-80.9958</td>\n",
       "      <td>8/13/2004</td>\n",
       "      <td>NaN</td>\n",
       "      <td>NaN</td>\n",
       "      <td>NaN</td>\n",
       "      <td>1</td>\n",
       "    </tr>\n",
       "  </tbody>\n",
       "</table>\n",
       "</div>"
      ],
      "text/plain": [
       "                     NAME  LATITUDE  LONGITUDE       DATE  AWND  WSF2  WSF5  \\\n",
       "0      FORT PIERCE, FL US   27.4419   -80.3508  8/13/2004   NaN   NaN   NaN   \n",
       "1      FORT PIERCE, FL US   27.4419   -80.3508  8/14/2004   NaN   NaN   NaN   \n",
       "2  FORT PIERCE ARC, FL US   27.4272   -80.4053  8/13/2004   NaN   NaN   NaN   \n",
       "3  FORT PIERCE ARC, FL US   27.4272   -80.4053  8/14/2004   NaN   NaN   NaN   \n",
       "4      BIG CYPRESS, FL US   26.3283   -80.9958  8/13/2004   NaN   NaN   NaN   \n",
       "\n",
       "  HurricaneName  \n",
       "0             1  \n",
       "1             1  \n",
       "2             1  \n",
       "3             1  \n",
       "4             1  "
      ]
     },
     "execution_count": 6,
     "metadata": {},
     "output_type": "execute_result"
    }
   ],
   "source": [
    "#concating the three dataframes into one \n",
    "hurricane = pd.concat([charley, dennis, matthew, irma, michael], ignore_index=True)\n",
    "hurricane.head()"
   ]
  },
  {
   "cell_type": "code",
   "execution_count": 7,
   "id": "0f2d7106",
   "metadata": {},
   "outputs": [
    {
     "name": "stdout",
     "output_type": "stream",
     "text": [
      "<class 'pandas.core.frame.DataFrame'>\n",
      "RangeIndex: 5571 entries, 0 to 5570\n",
      "Data columns (total 8 columns):\n",
      " #   Column         Non-Null Count  Dtype  \n",
      "---  ------         --------------  -----  \n",
      " 0   NAME           5571 non-null   object \n",
      " 1   LATITUDE       5571 non-null   float64\n",
      " 2   LONGITUDE      5571 non-null   float64\n",
      " 3   DATE           5571 non-null   object \n",
      " 4   AWND           501 non-null    float64\n",
      " 5   WSF2           508 non-null    float64\n",
      " 6   WSF5           500 non-null    float64\n",
      " 7   HurricaneName  5571 non-null   object \n",
      "dtypes: float64(5), object(3)\n",
      "memory usage: 348.3+ KB\n"
     ]
    }
   ],
   "source": [
    "#data types are object and float \n",
    "#currently have 5571 entries \n",
    "#AWND is missing a lot of values \n",
    "hurricane.info()"
   ]
  },
  {
   "cell_type": "markdown",
   "id": "643c5858",
   "metadata": {},
   "source": [
    "### Scrubbing the Data"
   ]
  },
  {
   "cell_type": "code",
   "execution_count": 8,
   "id": "2f437691",
   "metadata": {},
   "outputs": [
    {
     "data": {
      "text/plain": [
       "NAME                0\n",
       "LATITUDE            0\n",
       "LONGITUDE           0\n",
       "DATE                0\n",
       "AWND             5070\n",
       "WSF2             5063\n",
       "WSF5             5071\n",
       "HurricaneName       0\n",
       "dtype: int64"
      ]
     },
     "execution_count": 8,
     "metadata": {},
     "output_type": "execute_result"
    }
   ],
   "source": [
    "#AWND is missing 5070 \n",
    "#We are going to drop any rows where wind speed is missing\n",
    "#Dropping is the best solution here because wind speed \n",
    "#Will not be accurately reflected by the mean in cities hit by the hurricane \n",
    "hurricane.isnull().sum()"
   ]
  },
  {
   "cell_type": "code",
   "execution_count": 9,
   "id": "5a50806f",
   "metadata": {},
   "outputs": [],
   "source": [
    "#dropping all rows with missing values \n",
    "hurricane.dropna(inplace= True)"
   ]
  },
  {
   "cell_type": "code",
   "execution_count": 10,
   "id": "4b95f4e4",
   "metadata": {},
   "outputs": [
    {
     "data": {
      "text/plain": [
       "NAME             0\n",
       "LATITUDE         0\n",
       "LONGITUDE        0\n",
       "DATE             0\n",
       "AWND             0\n",
       "WSF2             0\n",
       "WSF5             0\n",
       "HurricaneName    0\n",
       "dtype: int64"
      ]
     },
     "execution_count": 10,
     "metadata": {},
     "output_type": "execute_result"
    }
   ],
   "source": [
    "#checking that dataframe is clean \n",
    "hurricane.isnull().sum()"
   ]
  },
  {
   "cell_type": "markdown",
   "id": "097a6dc9",
   "metadata": {},
   "source": [
    "### Data Engingeering "
   ]
  },
  {
   "cell_type": "markdown",
   "id": "9c54c19f",
   "metadata": {},
   "source": [
    "#### Getting Coordinates"
   ]
  },
  {
   "cell_type": "code",
   "execution_count": 11,
   "id": "d22eff79",
   "metadata": {
    "scrolled": true
   },
   "outputs": [
    {
     "data": {
      "text/html": [
       "<div>\n",
       "<style scoped>\n",
       "    .dataframe tbody tr th:only-of-type {\n",
       "        vertical-align: middle;\n",
       "    }\n",
       "\n",
       "    .dataframe tbody tr th {\n",
       "        vertical-align: top;\n",
       "    }\n",
       "\n",
       "    .dataframe thead th {\n",
       "        text-align: right;\n",
       "    }\n",
       "</style>\n",
       "<table border=\"1\" class=\"dataframe\">\n",
       "  <thead>\n",
       "    <tr style=\"text-align: right;\">\n",
       "      <th></th>\n",
       "      <th>NAME</th>\n",
       "      <th>DATE</th>\n",
       "      <th>AWND</th>\n",
       "      <th>WSF2</th>\n",
       "      <th>WSF5</th>\n",
       "      <th>HurricaneName</th>\n",
       "      <th>COORD</th>\n",
       "    </tr>\n",
       "  </thead>\n",
       "  <tbody>\n",
       "    <tr>\n",
       "      <th>10</th>\n",
       "      <td>JACKSONVILLE INTERNATIONAL AIRPORT, FL US</td>\n",
       "      <td>8/13/2004</td>\n",
       "      <td>5.59</td>\n",
       "      <td>21.0</td>\n",
       "      <td>28.0</td>\n",
       "      <td>1</td>\n",
       "      <td>(30.49529, -81.69374)</td>\n",
       "    </tr>\n",
       "    <tr>\n",
       "      <th>11</th>\n",
       "      <td>JACKSONVILLE INTERNATIONAL AIRPORT, FL US</td>\n",
       "      <td>8/14/2004</td>\n",
       "      <td>6.49</td>\n",
       "      <td>19.9</td>\n",
       "      <td>23.0</td>\n",
       "      <td>1</td>\n",
       "      <td>(30.49529, -81.69374)</td>\n",
       "    </tr>\n",
       "    <tr>\n",
       "      <th>18</th>\n",
       "      <td>CRESTVIEW FAA AP, FL US</td>\n",
       "      <td>8/13/2004</td>\n",
       "      <td>7.16</td>\n",
       "      <td>13.0</td>\n",
       "      <td>17.0</td>\n",
       "      <td>1</td>\n",
       "      <td>(30.77715, -86.51938)</td>\n",
       "    </tr>\n",
       "    <tr>\n",
       "      <th>19</th>\n",
       "      <td>CRESTVIEW FAA AP, FL US</td>\n",
       "      <td>8/14/2004</td>\n",
       "      <td>5.59</td>\n",
       "      <td>13.0</td>\n",
       "      <td>16.1</td>\n",
       "      <td>1</td>\n",
       "      <td>(30.77715, -86.51938)</td>\n",
       "    </tr>\n",
       "    <tr>\n",
       "      <th>30</th>\n",
       "      <td>MARIANNA MUNICIPAL AIRPORT, FL US</td>\n",
       "      <td>8/13/2004</td>\n",
       "      <td>6.93</td>\n",
       "      <td>13.0</td>\n",
       "      <td>16.1</td>\n",
       "      <td>1</td>\n",
       "      <td>(30.83696, -85.18352)</td>\n",
       "    </tr>\n",
       "  </tbody>\n",
       "</table>\n",
       "</div>"
      ],
      "text/plain": [
       "                                         NAME       DATE  AWND  WSF2  WSF5  \\\n",
       "10  JACKSONVILLE INTERNATIONAL AIRPORT, FL US  8/13/2004  5.59  21.0  28.0   \n",
       "11  JACKSONVILLE INTERNATIONAL AIRPORT, FL US  8/14/2004  6.49  19.9  23.0   \n",
       "18                    CRESTVIEW FAA AP, FL US  8/13/2004  7.16  13.0  17.0   \n",
       "19                    CRESTVIEW FAA AP, FL US  8/14/2004  5.59  13.0  16.1   \n",
       "30          MARIANNA MUNICIPAL AIRPORT, FL US  8/13/2004  6.93  13.0  16.1   \n",
       "\n",
       "   HurricaneName                  COORD  \n",
       "10             1  (30.49529, -81.69374)  \n",
       "11             1  (30.49529, -81.69374)  \n",
       "18             1  (30.77715, -86.51938)  \n",
       "19             1  (30.77715, -86.51938)  \n",
       "30             1  (30.83696, -85.18352)  "
      ]
     },
     "execution_count": 11,
     "metadata": {},
     "output_type": "execute_result"
    }
   ],
   "source": [
    "#Engingeering a coordinates column out of latitude and longitude \n",
    "#We need coordinates to use geopy \n",
    "\n",
    "hurricane['COORD'] = list(zip(hurricane.LATITUDE, hurricane.LONGITUDE))\n",
    "\n",
    "#Dropping the Latitude and Longitude column \n",
    "hurricane.drop(['LATITUDE', 'LONGITUDE'], axis =1, inplace = True)\n",
    "\n",
    "hurricane.head()"
   ]
  },
  {
   "cell_type": "markdown",
   "id": "0ade5825",
   "metadata": {},
   "source": [
    "#### Using Geopy to Get Cities\n",
    "Credit to: https://www.geeksforgeeks.org/get-the-city-state-and-country-names-from-latitude-and-longitude-using-python/\n",
    "\n",
    "In order to join the hurricane dataframe to the housing dataframe we will need to know the city names. Using the coordinates provided by the NOAA dataset we can use geopy to reverse geolocate the city names. \n",
    "\n",
    "Due to this being an API not all request could be completed and some city names had to be annoitated in excel. "
   ]
  },
  {
   "cell_type": "code",
   "execution_count": 12,
   "id": "9375a519",
   "metadata": {},
   "outputs": [
    {
     "data": {
      "text/plain": [
       "''"
      ]
     },
     "execution_count": 12,
     "metadata": {},
     "output_type": "execute_result"
    }
   ],
   "source": [
    "#importing libraries \n",
    "from tkinter import *\n",
    "from geopy.geocoders import Nominatim\n",
    "from geopy.geocoders import Photon\n",
    "\n",
    "# Create an instance of tkinter frame\n",
    "win = Tk()\n",
    "\n",
    "# Define geometry of the window\n",
    "win.geometry(\"700x350\")"
   ]
  },
  {
   "cell_type": "code",
   "execution_count": 13,
   "id": "49fd9aa8",
   "metadata": {},
   "outputs": [],
   "source": [
    "#creating a function \n",
    "def get_city(coords):\n",
    "    #instantiate the Nominatim API \n",
    "    geolocator = Nominatim(user_agent=\"MyApp\")\n",
    "    #get the city from the coordinates \n",
    "    location = geolocator.reverse(coords)\n",
    "    address = location.raw['address']\n",
    "    city = address.get('city', '')\n",
    "    #return the city \n",
    "    return city"
   ]
  },
  {
   "cell_type": "code",
   "execution_count": 14,
   "id": "dad69472",
   "metadata": {},
   "outputs": [],
   "source": [
    "#applying function to dataframe\n",
    "hurricane['City'] = hurricane['COORD'].apply(get_city)"
   ]
  },
  {
   "cell_type": "code",
   "execution_count": 15,
   "id": "1656b2e7",
   "metadata": {},
   "outputs": [
    {
     "data": {
      "text/plain": [
       "NAME             0\n",
       "DATE             0\n",
       "AWND             0\n",
       "WSF2             0\n",
       "WSF5             0\n",
       "HurricaneName    0\n",
       "COORD            0\n",
       "City             0\n",
       "dtype: int64"
      ]
     },
     "execution_count": 15,
     "metadata": {},
     "output_type": "execute_result"
    }
   ],
   "source": [
    "#looks good \n",
    "hurricane.isnull().sum()"
   ]
  },
  {
   "cell_type": "markdown",
   "id": "ba1f81e4",
   "metadata": {},
   "source": [
    "#### Saving the Dataframe "
   ]
  },
  {
   "cell_type": "code",
   "execution_count": 17,
   "id": "c2309e05",
   "metadata": {},
   "outputs": [],
   "source": [
    "hurricane.to_csv(r'data\\hurricane.csv', index=False)"
   ]
  },
  {
   "cell_type": "markdown",
   "id": "10f70732",
   "metadata": {},
   "source": [
    "# Zillow top-tier and bottom-tier ZHVI \n",
    "\n",
    "Zillow publishes top-tier ZHVI ($, typical value for homes within the 65th to 95th percentile range for a given region) and bottom-tier ZHVI ($, typical value for homes within the 5th to 35th percentile range for a given region).\n",
    "\n",
    "I am interested in looking at this data as well because often during a hurricane insurance companies force homes to upgrade there existing features. I would like to see how this impacts home value. "
   ]
  },
  {
   "cell_type": "code",
   "execution_count": null,
   "id": "63343fcd",
   "metadata": {},
   "outputs": [],
   "source": [
    "Zillow Bottom Tier"
   ]
  }
 ],
 "metadata": {
  "kernelspec": {
   "display_name": "Python 3 (ipykernel)",
   "language": "python",
   "name": "python3"
  },
  "language_info": {
   "codemirror_mode": {
    "name": "ipython",
    "version": 3
   },
   "file_extension": ".py",
   "mimetype": "text/x-python",
   "name": "python",
   "nbconvert_exporter": "python",
   "pygments_lexer": "ipython3",
   "version": "3.10.9"
  }
 },
 "nbformat": 4,
 "nbformat_minor": 5
}
