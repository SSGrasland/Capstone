{
 "cells": [
  {
   "cell_type": "markdown",
   "id": "e76839f3",
   "metadata": {},
   "source": [
    "## Business Understanding: Notebook clearly explains the project’s value for helping a specific stakeholder solve a real-world problem.  \n",
    "- Introduction explains the real-world problem the project aims to solve  \n",
    "- Introduction identifies stakeholders who could use the project and how they would use it  \n",
    "- Conclusion summarizes implications of the project for the real-world problem and stakeholders   \n"
   ]
  },
  {
   "cell_type": "markdown",
   "id": "cec2c25c",
   "metadata": {},
   "source": [
    "## Code Quality: Code in notebook and related files meets professional standards (e.g. PEP 8)\n",
    "- Code is easy to read, using comments, spacing, variable names, and function docstrings\n",
    "- All code runs and no code or comments are included that are not needed for the project \n",
    "- Code minimizes repetition, using loops, functions, and classes\n",
    "- Code adapted from others is properly cited with author names and location of the cited material\n"
   ]
  },
  {
   "cell_type": "markdown",
   "id": "3fc471f7",
   "metadata": {},
   "source": [
    "# Business Understanding "
   ]
  },
  {
   "cell_type": "markdown",
   "id": "ff1c2f54",
   "metadata": {},
   "source": [
    "# Data Understanding "
   ]
  },
  {
   "cell_type": "code",
   "execution_count": null,
   "id": "25e4f99b",
   "metadata": {},
   "outputs": [],
   "source": []
  }
 ],
 "metadata": {
  "kernelspec": {
   "display_name": "Python 3 (ipykernel)",
   "language": "python",
   "name": "python3"
  },
  "language_info": {
   "codemirror_mode": {
    "name": "ipython",
    "version": 3
   },
   "file_extension": ".py",
   "mimetype": "text/x-python",
   "name": "python",
   "nbconvert_exporter": "python",
   "pygments_lexer": "ipython3",
   "version": "3.10.9"
  }
 },
 "nbformat": 4,
 "nbformat_minor": 5
}
