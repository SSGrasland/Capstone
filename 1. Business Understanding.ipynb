{
 "cells": [
  {
   "cell_type": "markdown",
   "id": "3fc471f7",
   "metadata": {},
   "source": [
    "# Business Understanding "
   ]
  },
  {
   "cell_type": "markdown",
   "id": "ff1c2f54",
   "metadata": {},
   "source": [
    "# Data Understanding "
   ]
  },
  {
   "cell_type": "code",
   "execution_count": null,
   "id": "25e4f99b",
   "metadata": {},
   "outputs": [],
   "source": [
    "#plotting longitude and latitude and using Fastest 5-second wind speed (WSF5) as dot value \n",
    "#yellow values represent higher wind speeds \n",
    "plt.scatter(x=irma['LONGITUDE'], y=irma['LATITUDE'], s=50, c=irma['WSF5'], cmap='plasma')\n",
    "plt.show()"
   ]
  }
 ],
 "metadata": {
  "kernelspec": {
   "display_name": "Python 3 (ipykernel)",
   "language": "python",
   "name": "python3"
  },
  "language_info": {
   "codemirror_mode": {
    "name": "ipython",
    "version": 3
   },
   "file_extension": ".py",
   "mimetype": "text/x-python",
   "name": "python",
   "nbconvert_exporter": "python",
   "pygments_lexer": "ipython3",
   "version": "3.10.9"
  }
 },
 "nbformat": 4,
 "nbformat_minor": 5
}
