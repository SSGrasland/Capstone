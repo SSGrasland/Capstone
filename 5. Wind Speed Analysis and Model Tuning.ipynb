{
 "cells": [
  {
   "cell_type": "code",
   "execution_count": 1,
   "id": "335ebf9d",
   "metadata": {},
   "outputs": [
    {
     "name": "stderr",
     "output_type": "stream",
     "text": [
      "C:\\Users\\salom\\anaconda3\\lib\\site-packages\\xgboost\\compat.py:93: FutureWarning: pandas.Int64Index is deprecated and will be removed from pandas in a future version. Use pandas.Index with the appropriate dtype instead.\n",
      "  from pandas import MultiIndex, Int64Index\n"
     ]
    }
   ],
   "source": [
    "#Importing libraries needed\n",
    "import pandas as pd\n",
    "import numpy as np\n",
    "\n",
    "\n",
    "#For graphing \n",
    "import matplotlib.pyplot as plt\n",
    "from matplotlib import pyplot\n",
    "%matplotlib inline\n",
    "import seaborn as sns\n",
    "\n",
    "# For our modeling steps\n",
    "from sklearn.model_selection import train_test_split\n",
    "from sklearn.preprocessing import normalize\n",
    "from sklearn.linear_model import LinearRegression, LogisticRegression\n",
    "from sklearn.metrics import log_loss\n",
    "from sklearn.metrics import precision_recall_fscore_support\n",
    "from sklearn.preprocessing import StandardScaler\n",
    "from sklearn.svm import SVC\n",
    "from sklearn.metrics import confusion_matrix\n",
    "from sklearn.metrics import precision_score, recall_score, f1_score, accuracy_score\n",
    "from sklearn.model_selection import GridSearchCV, cross_val_score\n",
    "import xgboost as xgb \n",
    "from xgboost import XGBClassifier, plot_importance\n",
    "from sklearn.metrics import accuracy_score, confusion_matrix, roc_auc_score, roc_curve\n",
    "from sklearn import svm, datasets\n",
    "from sklearn import metrics\n",
    "\n",
    "\n",
    "# For demonstrative pruposes\n",
    "from scipy.special import logit, expit\n",
    "\n",
    "import warnings\n",
    "warnings.filterwarnings('ignore')"
   ]
  },
  {
   "cell_type": "code",
   "execution_count": 2,
   "id": "7c28f54d",
   "metadata": {},
   "outputs": [],
   "source": [
    "all_df = pd.read_csv(r'data\\wind_modeling.csv')"
   ]
  },
  {
   "cell_type": "markdown",
   "id": "e1a5532c",
   "metadata": {},
   "source": [
    "# How Do Wind Speed Features Impact Model Performance\n",
    "For the scope of this project we are particularily interested in how hurricane's impact real estate value. Using wind speed we were able to gauge how much damage a hurricane had on a certain area. The most important feature for our best model was fastest 2 minute wind gust and SizeRank. Our correlation heatmap also showed that the two features that were most correlated to increase were average wind speed (AWND) and home value before the hurricane (before). When we drop the wind features from the model the accuracy drops to 0.98 and the F1 score drops to 0.96. \n",
    "\n",
    "| Variable | Correlation to Increase |\n",
    "| -- | -- |\n",
    "| AWND | 0.19 |\n",
    "| WSF2 | 0.14 |\n",
    "| Before | 0.2 |\n",
    "| SizeRank | 0.11 |"
   ]
  },
  {
   "cell_type": "code",
   "execution_count": 3,
   "id": "ac7436bd",
   "metadata": {},
   "outputs": [],
   "source": [
    "#initiating model\n",
    "xgb = XGBClassifier(random_state=56)"
   ]
  },
  {
   "cell_type": "markdown",
   "id": "9273d4af",
   "metadata": {},
   "source": [
    "# Running the Model Without Wind Features"
   ]
  },
  {
   "cell_type": "markdown",
   "id": "67409c07",
   "metadata": {},
   "source": [
    "### Selecting Our Target Variable and Features"
   ]
  },
  {
   "cell_type": "code",
   "execution_count": 4,
   "id": "0d0b4224",
   "metadata": {},
   "outputs": [],
   "source": [
    "#y is prediction variable \n",
    "#X is features \n",
    "y_boost = all_df['increase']\n",
    "X_boost = all_df.drop(['City', 'HurricaneName', 'DATE', 'after', 'percent', 'increase', 'WSF2', 'AWND'], axis=1)\n"
   ]
  },
  {
   "cell_type": "markdown",
   "id": "c73814ae",
   "metadata": {},
   "source": [
    "### Train/Test Split"
   ]
  },
  {
   "cell_type": "code",
   "execution_count": 5,
   "id": "1dd8d46b",
   "metadata": {},
   "outputs": [],
   "source": [
    "#train/test splits with 30% test size\n",
    "XG_X_train, XG_X_test, XG_y_train, XG_y_test = train_test_split(X_boost, y_boost, test_size=0.30, random_state=56)"
   ]
  },
  {
   "cell_type": "markdown",
   "id": "36cf9296",
   "metadata": {},
   "source": [
    "### Training Data"
   ]
  },
  {
   "cell_type": "code",
   "execution_count": 6,
   "id": "6c6e4ec3",
   "metadata": {},
   "outputs": [],
   "source": [
    "xgb.fit(XG_X_train, XG_y_train);"
   ]
  },
  {
   "cell_type": "code",
   "execution_count": 7,
   "id": "c48d3207",
   "metadata": {},
   "outputs": [],
   "source": [
    "y_pred_train = xgb.predict(XG_X_train)"
   ]
  },
  {
   "cell_type": "code",
   "execution_count": 8,
   "id": "2f6ce16e",
   "metadata": {},
   "outputs": [
    {
     "name": "stdout",
     "output_type": "stream",
     "text": [
      "Accuracy: 0.996\n"
     ]
    }
   ],
   "source": [
    "#Printing Accuracy\n",
    "print('Accuracy: %.3f' % accuracy_score(XG_y_train, y_pred_train))"
   ]
  },
  {
   "cell_type": "code",
   "execution_count": 9,
   "id": "e9bf14b3",
   "metadata": {},
   "outputs": [
    {
     "name": "stdout",
     "output_type": "stream",
     "text": [
      "F1 Score: 0.992\n"
     ]
    }
   ],
   "source": [
    "#using F-1 score to see how it performs\n",
    "#F1 Score = 2* Precision Score * Recall Score/ (Precision Score + Recall Score/)\n",
    "print('F1 Score: %.3f' % f1_score(XG_y_train, y_pred_train))"
   ]
  },
  {
   "cell_type": "markdown",
   "id": "3915da06",
   "metadata": {},
   "source": [
    "### Testing Data"
   ]
  },
  {
   "cell_type": "code",
   "execution_count": 10,
   "id": "25a1ed96",
   "metadata": {},
   "outputs": [],
   "source": [
    "#fitting the model \n",
    "xgb.fit(XG_X_test, XG_y_test);"
   ]
  },
  {
   "cell_type": "code",
   "execution_count": 11,
   "id": "602e9069",
   "metadata": {},
   "outputs": [],
   "source": [
    "#getting predictions \n",
    "y_pred_test = xgb.predict(XG_X_test)"
   ]
  },
  {
   "cell_type": "code",
   "execution_count": 12,
   "id": "deafecec",
   "metadata": {},
   "outputs": [
    {
     "name": "stdout",
     "output_type": "stream",
     "text": [
      "0.9807692307692307\n"
     ]
    }
   ],
   "source": [
    "#Printing Accuracy\n",
    "accuracy_XG_nowind = accuracy_score(XG_y_test, y_pred_test)\n",
    "print(accuracy_XG_nowind)"
   ]
  },
  {
   "cell_type": "code",
   "execution_count": 13,
   "id": "56f46615",
   "metadata": {},
   "outputs": [
    {
     "name": "stdout",
     "output_type": "stream",
     "text": [
      "0.96\n"
     ]
    }
   ],
   "source": [
    "#using F-1 score to see how it performs\n",
    "#F1 Score = 2* Precision Score * Recall Score/ (Precision Score + Recall Score/)\n",
    "F1_XG_nowind = f1_score(XG_y_test, y_pred_test)\n",
    "print(F1_XG_nowind)"
   ]
  },
  {
   "cell_type": "code",
   "execution_count": 14,
   "id": "5ed81ab0",
   "metadata": {},
   "outputs": [
    {
     "data": {
      "text/plain": [
       "{'XGBoost Accuracy No Wind': 0.9807692307692307, 'XGBoost F1 No Wind': 0.96}"
      ]
     },
     "execution_count": 14,
     "metadata": {},
     "output_type": "execute_result"
    }
   ],
   "source": [
    "model_dict = {}\n",
    "model_dict['XGBoost Accuracy No Wind'] = accuracy_XG_nowind\n",
    "model_dict['XGBoost F1 No Wind'] = F1_XG_nowind\n",
    "model_dict"
   ]
  },
  {
   "cell_type": "code",
   "execution_count": 15,
   "id": "fdcb364d",
   "metadata": {},
   "outputs": [
    {
     "data": {
      "image/png": "[encoded data removed]",
      "text/plain": [
       "<Figure size 640x480 with 1 Axes>"
      ]
     },
     "metadata": {},
     "output_type": "display_data"
    }
   ],
   "source": [
    "#let's check out the AUC curve\n",
    "#getting probability\n",
    "y_pred_prob = xgb.predict_proba(XG_X_test)[::,1]\n",
    "fpr, tpr, _ = metrics.roc_curve(XG_y_test,  y_pred_prob)\n",
    "auc = metrics.roc_auc_score(XG_y_test, y_pred_prob)\n",
    "\n",
    "#plotting\n",
    "plt.plot(fpr,tpr,label=\"No Wind Features, auc=\"+str(auc))\n",
    "plt.legend(loc=4)\n",
    "plt.show()"
   ]
  },
  {
   "cell_type": "code",
   "execution_count": 16,
   "id": "927224e1",
   "metadata": {
    "scrolled": true
   },
   "outputs": [
    {
     "data": {
      "image/png": "[encoded data removed]",
      "text/plain": [
       "<Figure size 500x500 with 1 Axes>"
      ]
     },
     "metadata": {},
     "output_type": "display_data"
    }
   ],
   "source": [
    "conf_matrix = confusion_matrix(y_true=XG_y_test, y_pred=y_pred_test)\n",
    "\n",
    "fig, ax = plt.subplots(figsize=(5, 5))\n",
    "ax.matshow(conf_matrix, cmap=plt.cm.Blues, alpha=0.3)\n",
    "for i in range(conf_matrix.shape[0]):\n",
    "    for j in range(conf_matrix.shape[1]):\n",
    "        ax.text(x=j, y=i,s=conf_matrix[i, j], va='center', ha='center', size='xx-large')\n",
    " \n",
    "plt.xlabel('Predictions', fontsize=18)\n",
    "plt.ylabel('Actuals', fontsize=18)\n",
    "plt.title('Confusion Matrix', fontsize=18)\n",
    "plt.show()"
   ]
  },
  {
   "cell_type": "code",
   "execution_count": 17,
   "id": "58744c62",
   "metadata": {},
   "outputs": [
    {
     "data": {
      "image/png": "[encoded data removed]",
      "text/plain": [
       "<Figure size 640x480 with 1 Axes>"
      ]
     },
     "metadata": {},
     "output_type": "display_data"
    }
   ],
   "source": [
    "#seeing what features are most important to housing value\n",
    "#Using feature importance \n",
    "feature_importances = xgb.feature_importances_\n",
    "\n",
    "# Create a list of features\n",
    "feature_list = list(X_boost.columns)\n",
    "\n",
    "# Save the results inside a DataFrame using feature_list as an index\n",
    "relative_importances = pd.DataFrame(index=feature_list, data=feature_importances, columns=[\"importance\"])\n",
    "\n",
    "# Sort values to learn most important features\n",
    "relative_importances.sort_values(by=\"importance\", ascending=False)\n",
    "\n",
    "\n",
    "result = relative_importances.reset_index().sort_values('importance',ascending=False)\n",
    "\n",
    "#plot feature importances with sorted values\n",
    "sns.barplot(x='importance', y=\"index\", data=result, color='blue');"
   ]
  },
  {
   "cell_type": "markdown",
   "id": "84ad636c",
   "metadata": {},
   "source": [
    "## XGBoost on Just Wind Features\n",
    "\n",
    "Let's see our results using just wind as a feature.  "
   ]
  },
  {
   "cell_type": "markdown",
   "id": "b57a877b",
   "metadata": {},
   "source": [
    "### Selecting Our Target Variable and Features"
   ]
  },
  {
   "cell_type": "code",
   "execution_count": 18,
   "id": "56032f1b",
   "metadata": {},
   "outputs": [],
   "source": [
    "#y is prediction variable \n",
    "#X is features \n",
    "y_boost = all_df['increase']\n",
    "X_boost = all_df.drop(['City', 'HurricaneName', 'DATE', 'after', 'percent', 'increase', 'SizeRank', 'before'], axis=1)\n"
   ]
  },
  {
   "cell_type": "markdown",
   "id": "bfba11f4",
   "metadata": {},
   "source": [
    "### Train/Test Split"
   ]
  },
  {
   "cell_type": "code",
   "execution_count": 19,
   "id": "6ceb528d",
   "metadata": {},
   "outputs": [],
   "source": [
    "#train/test splits with 30% test size\n",
    "XG_X_train, XG_X_test, XG_y_train, XG_y_test = train_test_split(X_boost, y_boost, test_size=0.30, random_state=56)"
   ]
  },
  {
   "cell_type": "markdown",
   "id": "e25029fa",
   "metadata": {},
   "source": [
    "### Training Data"
   ]
  },
  {
   "cell_type": "code",
   "execution_count": 20,
   "id": "017d79fa",
   "metadata": {},
   "outputs": [],
   "source": [
    "xgb.fit(XG_X_train, XG_y_train);"
   ]
  },
  {
   "cell_type": "code",
   "execution_count": 21,
   "id": "21c1e2a4",
   "metadata": {},
   "outputs": [],
   "source": [
    "y_pred_train = xgb.predict(XG_X_train)"
   ]
  },
  {
   "cell_type": "code",
   "execution_count": 22,
   "id": "bbaec9db",
   "metadata": {},
   "outputs": [
    {
     "name": "stdout",
     "output_type": "stream",
     "text": [
      "Accuracy: 0.933\n"
     ]
    }
   ],
   "source": [
    "#Printing Accuracy\n",
    "print('Accuracy: %.3f' % accuracy_score(XG_y_train, y_pred_train))"
   ]
  },
  {
   "cell_type": "code",
   "execution_count": 23,
   "id": "f7d9dbe1",
   "metadata": {},
   "outputs": [
    {
     "name": "stdout",
     "output_type": "stream",
     "text": [
      "F1 Score: 0.857\n"
     ]
    }
   ],
   "source": [
    "#using F-1 score to see how it performs\n",
    "#F1 Score = 2* Precision Score * Recall Score/ (Precision Score + Recall Score/)\n",
    "print('F1 Score: %.3f' % f1_score(XG_y_train, y_pred_train))"
   ]
  },
  {
   "cell_type": "markdown",
   "id": "84f0da10",
   "metadata": {},
   "source": [
    "### Testing Data"
   ]
  },
  {
   "cell_type": "code",
   "execution_count": 24,
   "id": "d27e52f1",
   "metadata": {},
   "outputs": [],
   "source": [
    "#fitting the model \n",
    "xgb.fit(XG_X_test, XG_y_test);"
   ]
  },
  {
   "cell_type": "code",
   "execution_count": 25,
   "id": "8a20294a",
   "metadata": {},
   "outputs": [],
   "source": [
    "#getting predictions \n",
    "y_pred_test = xgb.predict(XG_X_test)"
   ]
  },
  {
   "cell_type": "code",
   "execution_count": 26,
   "id": "7012c1c5",
   "metadata": {},
   "outputs": [
    {
     "name": "stdout",
     "output_type": "stream",
     "text": [
      "0.9615384615384616\n"
     ]
    }
   ],
   "source": [
    "#Printing Accuracy\n",
    "accuracy_XG_justwind = accuracy_score(XG_y_test, y_pred_test)\n",
    "print(accuracy_XG_justwind)"
   ]
  },
  {
   "cell_type": "code",
   "execution_count": 27,
   "id": "b88291f1",
   "metadata": {},
   "outputs": [
    {
     "name": "stdout",
     "output_type": "stream",
     "text": [
      "0.9166666666666666\n"
     ]
    }
   ],
   "source": [
    "#using F-1 score to see how it performs\n",
    "#F1 Score = 2* Precision Score * Recall Score/ (Precision Score + Recall Score/)\n",
    "F1_XG_justwind = f1_score(XG_y_test, y_pred_test)\n",
    "print(F1_XG_justwind)"
   ]
  },
  {
   "cell_type": "code",
   "execution_count": 28,
   "id": "9c076505",
   "metadata": {},
   "outputs": [
    {
     "data": {
      "text/plain": [
       "{'XGBoost Accuracy No Wind': 0.9807692307692307,\n",
       " 'XGBoost F1 No Wind': 0.96,\n",
       " 'XGBoost Accuracy Just Wind': 0.9615384615384616,\n",
       " 'XGBoost F1 Just Wind': 0.9166666666666666}"
      ]
     },
     "execution_count": 28,
     "metadata": {},
     "output_type": "execute_result"
    }
   ],
   "source": [
    "model_dict['XGBoost Accuracy Just Wind'] = accuracy_XG_justwind\n",
    "model_dict['XGBoost F1 Just Wind'] = F1_XG_justwind\n",
    "model_dict"
   ]
  },
  {
   "cell_type": "code",
   "execution_count": 29,
   "id": "6e2eefaa",
   "metadata": {},
   "outputs": [
    {
     "data": {
      "image/png": "[encoded data removed]",
      "text/plain": [
       "<Figure size 640x480 with 1 Axes>"
      ]
     },
     "metadata": {},
     "output_type": "display_data"
    }
   ],
   "source": [
    "#let's check out the AUC curve\n",
    "#getting probability\n",
    "y_pred_prob = xgb.predict_proba(XG_X_test)[::,1]\n",
    "fpr, tpr, _ = metrics.roc_curve(XG_y_test,  y_pred_prob)\n",
    "auc = metrics.roc_auc_score(XG_y_test, y_pred_prob)\n",
    "\n",
    "#plotting\n",
    "plt.plot(fpr,tpr,label=\"Just Wind Features, auc=\"+str(auc))\n",
    "plt.legend(loc=4)\n",
    "plt.show()"
   ]
  },
  {
   "cell_type": "code",
   "execution_count": 30,
   "id": "065f5175",
   "metadata": {
    "scrolled": true
   },
   "outputs": [
    {
     "data": {
      "image/png": "[encoded data removed]",
      "text/plain": [
       "<Figure size 500x500 with 1 Axes>"
      ]
     },
     "metadata": {},
     "output_type": "display_data"
    }
   ],
   "source": [
    "conf_matrix = confusion_matrix(y_true=XG_y_test, y_pred=y_pred_test)\n",
    "\n",
    "fig, ax = plt.subplots(figsize=(5, 5))\n",
    "ax.matshow(conf_matrix, cmap=plt.cm.Blues, alpha=0.3)\n",
    "for i in range(conf_matrix.shape[0]):\n",
    "    for j in range(conf_matrix.shape[1]):\n",
    "        ax.text(x=j, y=i,s=conf_matrix[i, j], va='center', ha='center', size='xx-large')\n",
    " \n",
    "plt.xlabel('Predictions', fontsize=18)\n",
    "plt.ylabel('Actuals', fontsize=18)\n",
    "plt.title('Confusion Matrix', fontsize=18)\n",
    "plt.show()"
   ]
  },
  {
   "cell_type": "code",
   "execution_count": 31,
   "id": "cae604b2",
   "metadata": {},
   "outputs": [
    {
     "data": {
      "image/png": "[encoded data removed]",
      "text/plain": [
       "<Figure size 640x480 with 1 Axes>"
      ]
     },
     "metadata": {},
     "output_type": "display_data"
    }
   ],
   "source": [
    "#seeing what features are most important to housing value\n",
    "#Using feature importance \n",
    "feature_importances = xgb.feature_importances_\n",
    "\n",
    "# Create a list of features\n",
    "feature_list = list(X_boost.columns)\n",
    "\n",
    "# Save the results inside a DataFrame using feature_list as an index\n",
    "relative_importances = pd.DataFrame(index=feature_list, data=feature_importances, columns=[\"importance\"])\n",
    "\n",
    "# Sort values to learn most important features\n",
    "relative_importances.sort_values(by=\"importance\", ascending=False)\n",
    "\n",
    "\n",
    "result = relative_importances.reset_index().sort_values('importance',ascending=False)\n",
    "\n",
    "#plot feature importances with sorted values\n",
    "sns.barplot(x='importance', y=\"index\", data=result, color='blue');"
   ]
  },
  {
   "cell_type": "markdown",
   "id": "18ba1370",
   "metadata": {},
   "source": [
    "## XG Boost Tuning\n",
    "\n",
    "Let's see if we can improve our results using just wind features with model tuning. "
   ]
  },
  {
   "cell_type": "markdown",
   "id": "eedff1d4",
   "metadata": {},
   "source": [
    "### Selecting Our Target Variable and Features"
   ]
  },
  {
   "cell_type": "code",
   "execution_count": 32,
   "id": "98e179ed",
   "metadata": {},
   "outputs": [],
   "source": [
    "#y is prediction variable \n",
    "#X is features \n",
    "y_boost = all_df['increase']\n",
    "X_boost = all_df.drop(['City', 'HurricaneName', 'DATE', 'after', 'percent', 'increase', 'SizeRank', 'before'], axis=1)\n"
   ]
  },
  {
   "cell_type": "markdown",
   "id": "1dc3f8fd",
   "metadata": {},
   "source": [
    "### Train/Test/Tune Split\n",
    "\n",
    "In order to properly tune our model it should be done on data that is not seen during the training or testing process. This will help assure an unbiased model. \n",
    "\n",
    "Works Cited:\n",
    "1.Training, Tuning, and Test Datasets. onepager.togaware.com. Accessed July 6, 2023. https://onepager.togaware.com/Training_Tuning_Test_Datase.html\n"
   ]
  },
  {
   "cell_type": "code",
   "execution_count": 33,
   "id": "f779b15d",
   "metadata": {},
   "outputs": [],
   "source": [
    "#train/test splits with 30% test size\n",
    "#half of the test set will be used to create the set we will be tuning on \n",
    "XG_X_train, XG_X_test_tune, XG_y_train, XG_y_test_tune = train_test_split(X_boost, y_boost, test_size=0.30, random_state=56)"
   ]
  },
  {
   "cell_type": "code",
   "execution_count": 34,
   "id": "923caa74",
   "metadata": {},
   "outputs": [],
   "source": [
    "#train/test splits with 30% test size\n",
    "XG_X_test, XG_X_tune, XG_y_test, XG_y_tune = train_test_split(XG_X_test_tune, XG_y_test_tune, test_size=0.50, random_state=56)"
   ]
  },
  {
   "cell_type": "raw",
   "id": "a478746e",
   "metadata": {},
   "source": [
    "#skipping this cell from running \n",
    "\n",
    "Best Parameters for Our XGBoost Model:\n",
    "{'gamma': 0,\n",
    " 'learning_rate': 0.01,\n",
    " 'max_depth': 2,\n",
    " 'min_child_weight': 1,\n",
    " 'n_estimators': 10,\n",
    " 'subsample': 0.5}\n",
    " \n",
    "\n",
    "\n",
    "#code used to find best parameters\n",
    "#hypertuning the model using GridSearch\n",
    "xgb_grid = {\n",
    "            'learning_rate': [0.01, 0.1, 0.5], \n",
    "            'gamma': [0, 0.01, 0.1], \n",
    "            'max_depth': [2, 5, 6, 10], \n",
    "            'min_child_weight': [0.1, 1, 10], \n",
    "            'subsample': [0.5, 0.7, 0.9], \n",
    "            'n_estimators': [5, 10, 20, 100]\n",
    "           }\n",
    "\n",
    "xgb_gridsearch = GridSearchCV(estimator=xgb, \n",
    "                              param_grid=xgb_grid, \n",
    "                              cv=5, \n",
    "                              return_train_score=True)\n",
    "\n",
    "xgb_gridsearch.fit(XG_X_tune, XG_y_tune)\n",
    "\n",
    "print('Best Parameters for Our XGBoost Model:')\n",
    "xgb_gridsearch.best_params_\n",
    "\n",
    "\n"
   ]
  },
  {
   "cell_type": "code",
   "execution_count": 35,
   "id": "a88abe0b",
   "metadata": {},
   "outputs": [],
   "source": [
    "#initiating the model\n",
    "xgb_gs = XGBClassifier(gamma= 0, learning_rate= 0.01, max_depth= 2, min_child_weight= 1, n_estimators= 10, subsample= 0.5, random_state=56)"
   ]
  },
  {
   "cell_type": "markdown",
   "id": "088c4a0b",
   "metadata": {},
   "source": [
    "### Training Data"
   ]
  },
  {
   "cell_type": "code",
   "execution_count": 36,
   "id": "c1ee20d5",
   "metadata": {},
   "outputs": [],
   "source": [
    "xgb_gs.fit(XG_X_train, XG_y_train);"
   ]
  },
  {
   "cell_type": "code",
   "execution_count": 37,
   "id": "3cea04ce",
   "metadata": {},
   "outputs": [],
   "source": [
    "y_pred_train = xgb_gs.predict(XG_X_train)"
   ]
  },
  {
   "cell_type": "code",
   "execution_count": 38,
   "id": "3f7c5655",
   "metadata": {},
   "outputs": [
    {
     "name": "stdout",
     "output_type": "stream",
     "text": [
      "Accuracy: 0.746\n"
     ]
    }
   ],
   "source": [
    "#Printing Accuracy\n",
    "print('Accuracy: %.3f' % accuracy_score(XG_y_train, y_pred_train))"
   ]
  },
  {
   "cell_type": "code",
   "execution_count": 39,
   "id": "dc74174c",
   "metadata": {},
   "outputs": [
    {
     "name": "stdout",
     "output_type": "stream",
     "text": [
      "F1 Score: 0.000\n"
     ]
    }
   ],
   "source": [
    "#using F-1 score to see how it performs\n",
    "#F1 Score = 2* Precision Score * Recall Score/ (Precision Score + Recall Score/)\n",
    "print('F1 Score: %.3f' % f1_score(XG_y_train, y_pred_train))"
   ]
  },
  {
   "cell_type": "markdown",
   "id": "5e323dee",
   "metadata": {},
   "source": [
    "### Testing Data"
   ]
  },
  {
   "cell_type": "code",
   "execution_count": 40,
   "id": "b25be911",
   "metadata": {},
   "outputs": [],
   "source": [
    "#fitting the model \n",
    "xgb_gs.fit(XG_X_test, XG_y_test);"
   ]
  },
  {
   "cell_type": "code",
   "execution_count": 41,
   "id": "af9f71b7",
   "metadata": {},
   "outputs": [],
   "source": [
    "#getting predictions \n",
    "y_pred_test = xgb_gs.predict(XG_X_test)"
   ]
  },
  {
   "cell_type": "code",
   "execution_count": 42,
   "id": "cada887e",
   "metadata": {},
   "outputs": [
    {
     "name": "stdout",
     "output_type": "stream",
     "text": [
      "0.7884615384615384\n"
     ]
    }
   ],
   "source": [
    "#Printing Accuracy\n",
    "accuracy_XG_justwind_tuned = accuracy_score(XG_y_test, y_pred_test)\n",
    "print(accuracy_XG_justwind_tuned)"
   ]
  },
  {
   "cell_type": "code",
   "execution_count": 43,
   "id": "d368bd09",
   "metadata": {},
   "outputs": [
    {
     "name": "stdout",
     "output_type": "stream",
     "text": [
      "0.56\n"
     ]
    }
   ],
   "source": [
    "#using F-1 score to see how it performs\n",
    "#F1 Score = 2* Precision Score * Recall Score/ (Precision Score + Recall Score/)\n",
    "F1_XG_justwind_tuned = f1_score(XG_y_test, y_pred_test)\n",
    "print(F1_XG_justwind_tuned)"
   ]
  },
  {
   "cell_type": "code",
   "execution_count": 44,
   "id": "4cc2f346",
   "metadata": {},
   "outputs": [
    {
     "data": {
      "text/plain": [
       "{'XGBoost Accuracy No Wind': 0.9807692307692307,\n",
       " 'XGBoost F1 No Wind': 0.96,\n",
       " 'XGBoost Accuracy Just Wind': 0.9615384615384616,\n",
       " 'XGBoost F1 Just Wind': 0.9166666666666666,\n",
       " 'XGBoost Accuracy Just Wind Tuned': 0.7884615384615384,\n",
       " 'XGBoost F1 Just Wind Tuned': 0.56}"
      ]
     },
     "execution_count": 44,
     "metadata": {},
     "output_type": "execute_result"
    }
   ],
   "source": [
    "model_dict['XGBoost Accuracy Just Wind Tuned'] = accuracy_XG_justwind_tuned\n",
    "model_dict['XGBoost F1 Just Wind Tuned'] = F1_XG_justwind_tuned\n",
    "model_dict"
   ]
  },
  {
   "cell_type": "code",
   "execution_count": 45,
   "id": "20090938",
   "metadata": {},
   "outputs": [
    {
     "data": {
      "image/png": "[encoded data removed]",
      "text/plain": [
       "<Figure size 640x480 with 1 Axes>"
      ]
     },
     "metadata": {},
     "output_type": "display_data"
    }
   ],
   "source": [
    "#let's check out the AUC curve\n",
    "#getting probability\n",
    "y_pred_prob = xgb_gs.predict_proba(XG_X_test)[::,1]\n",
    "fpr, tpr, _ = metrics.roc_curve(XG_y_test,  y_pred_prob)\n",
    "auc = metrics.roc_auc_score(XG_y_test, y_pred_prob)\n",
    "\n",
    "#plotting\n",
    "plt.plot(fpr,tpr,label=\"Tuned Model, auc=\"+str(auc))\n",
    "plt.legend(loc=4)\n",
    "plt.show()"
   ]
  },
  {
   "cell_type": "code",
   "execution_count": 46,
   "id": "c8e13935",
   "metadata": {
    "scrolled": true
   },
   "outputs": [
    {
     "data": {
      "image/png": "[encoded data removed]",
      "text/plain": [
       "<Figure size 500x500 with 1 Axes>"
      ]
     },
     "metadata": {},
     "output_type": "display_data"
    }
   ],
   "source": [
    "#plotting confusion matrix \n",
    "conf_matrix = confusion_matrix(y_true=XG_y_test, y_pred=y_pred_test)\n",
    "\n",
    "fig, ax = plt.subplots(figsize=(5, 5))\n",
    "ax.matshow(conf_matrix, cmap=plt.cm.Blues, alpha=0.3)\n",
    "for i in range(conf_matrix.shape[0]):\n",
    "    for j in range(conf_matrix.shape[1]):\n",
    "        ax.text(x=j, y=i,s=conf_matrix[i, j], va='center', ha='center', size='xx-large')\n",
    " \n",
    "plt.xlabel('Predictions', fontsize=18)\n",
    "plt.ylabel('Actuals', fontsize=18)\n",
    "plt.title('Confusion Matrix for Tuned Model', fontsize=18)\n",
    "plt.show()"
   ]
  },
  {
   "cell_type": "code",
   "execution_count": 47,
   "id": "94001d1d",
   "metadata": {},
   "outputs": [
    {
     "data": {
      "image/png": "[encoded data removed]",
      "text/plain": [
       "<Figure size 640x480 with 1 Axes>"
      ]
     },
     "metadata": {},
     "output_type": "display_data"
    }
   ],
   "source": [
    "#seeing what features are most important to housing value\n",
    "#Using feature importance \n",
    "feature_importances = xgb.feature_importances_\n",
    "\n",
    "# Create a list of features\n",
    "feature_list = list(X_boost.columns)\n",
    "\n",
    "# Save the results inside a DataFrame using feature_list as an index\n",
    "relative_importances = pd.DataFrame(index=feature_list, data=feature_importances, columns=[\"importance\"])\n",
    "\n",
    "# Sort values to learn most important features\n",
    "relative_importances.sort_values(by=\"importance\", ascending=False)\n",
    "\n",
    "\n",
    "result = relative_importances.reset_index().sort_values('importance',ascending=False)\n",
    "\n",
    "#plot feature importances with sorted values\n",
    "sns.barplot(x='importance', y=\"index\", data=result, color='blue').set(title='Feature Importance of Tuned Model', ylabel = 'feature');"
   ]
  }
 ],
 "metadata": {
  "kernelspec": {
   "display_name": "Python 3 (ipykernel)",
   "language": "python",
   "name": "python3"
  },
  "language_info": {
   "codemirror_mode": {
    "name": "ipython",
    "version": 3
   },
   "file_extension": ".py",
   "mimetype": "text/x-python",
   "name": "python",
   "nbconvert_exporter": "python",
   "pygments_lexer": "ipython3",
   "version": "3.10.9"
  }
 },
 "nbformat": 4,
 "nbformat_minor": 5
}
