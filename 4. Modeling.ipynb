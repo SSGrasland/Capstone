{
 "cells": [
  {
   "cell_type": "code",
   "execution_count": 1,
   "id": "cab1a889",
   "metadata": {},
   "outputs": [],
   "source": [
    "#wrapping things up \n",
    "#have code that shows we werent able to predict any better than just predicting the dominant class \n",
    "#iterating through models by adding and subtracting variables to show colinearity \n",
    "#to show that there is no relationship to be found \n",
    "#sum things up with little recommendations for future research \n",
    "#throw in some charts (crosstabs (box and whisker plot), bar graph (for classes))\n",
    "#model with different things (but maybe not because throwing kitchen sink is useless)\n",
    "#run model on six months before and after\n",
    "#change bottom model to six months before and after "
   ]
  },
  {
   "cell_type": "markdown",
   "id": "88c86d40",
   "metadata": {},
   "source": [
    "# Obtaining Data"
   ]
  },
  {
   "cell_type": "code",
   "execution_count": 2,
   "id": "fb41dc2c",
   "metadata": {},
   "outputs": [],
   "source": [
    "#Importing libraries needed\n",
    "import pandas as pd\n",
    "import matplotlib.pyplot as plt\n",
    "from matplotlib import pyplot\n",
    "%matplotlib inline\n",
    "import numpy as np\n",
    "import seaborn as sns\n",
    "\n",
    "# For our modeling steps\n",
    "from sklearn.model_selection import train_test_split\n",
    "from sklearn.preprocessing import normalize\n",
    "from sklearn.linear_model import LinearRegression, LogisticRegression\n",
    "from sklearn.metrics import log_loss\n",
    "from sklearn.metrics import precision_recall_fscore_support\n",
    "from sklearn.preprocessing import StandardScaler\n",
    "from sklearn.svm import SVC\n",
    "from sklearn.metrics import confusion_matrix\n",
    "from sklearn.metrics import precision_score, recall_score, f1_score, accuracy_score\n",
    "\n",
    "# For demonstrative pruposes\n",
    "from scipy.special import logit, expit\n",
    "\n",
    "import warnings\n",
    "warnings.filterwarnings('ignore')"
   ]
  },
  {
   "cell_type": "code",
   "execution_count": 3,
   "id": "f5e97317",
   "metadata": {},
   "outputs": [],
   "source": [
    "#opening the datasets \n",
    "bottom =  pd.read_csv(r'data\\bottom_hurricane.csv')\n",
    "middle =  pd.read_csv(r'data\\middle_hurricane.csv')\n",
    "top =  pd.read_csv(r'data\\top_hurricane.csv')\n",
    "all = pd.read_csv(r'data\\all_hurricane.csv')"
   ]
  },
  {
   "cell_type": "code",
   "execution_count": 4,
   "id": "9ea233e9",
   "metadata": {},
   "outputs": [
    {
     "data": {
      "text/html": [
       "<div>\n",
       "<style scoped>\n",
       "    .dataframe tbody tr th:only-of-type {\n",
       "        vertical-align: middle;\n",
       "    }\n",
       "\n",
       "    .dataframe tbody tr th {\n",
       "        vertical-align: top;\n",
       "    }\n",
       "\n",
       "    .dataframe thead th {\n",
       "        text-align: right;\n",
       "    }\n",
       "</style>\n",
       "<table border=\"1\" class=\"dataframe\">\n",
       "  <thead>\n",
       "    <tr style=\"text-align: right;\">\n",
       "      <th></th>\n",
       "      <th>City</th>\n",
       "      <th>HurricaneName</th>\n",
       "      <th>DATE</th>\n",
       "      <th>AWND</th>\n",
       "      <th>WSF2</th>\n",
       "      <th>SizeRank</th>\n",
       "      <th>before</th>\n",
       "      <th>after</th>\n",
       "      <th>percent</th>\n",
       "      <th>increase</th>\n",
       "    </tr>\n",
       "  </thead>\n",
       "  <tbody>\n",
       "    <tr>\n",
       "      <th>0</th>\n",
       "      <td>Apalachicola</td>\n",
       "      <td>charley</td>\n",
       "      <td>8/14/2004</td>\n",
       "      <td>13.018758</td>\n",
       "      <td>29.07970</td>\n",
       "      <td>12877</td>\n",
       "      <td>33025.67901</td>\n",
       "      <td>41196.08834</td>\n",
       "      <td>24.739565</td>\n",
       "      <td>1</td>\n",
       "    </tr>\n",
       "    <tr>\n",
       "      <th>1</th>\n",
       "      <td>Apalachicola</td>\n",
       "      <td>dennis</td>\n",
       "      <td>7/10/2005</td>\n",
       "      <td>43.530074</td>\n",
       "      <td>67.10700</td>\n",
       "      <td>12877</td>\n",
       "      <td>40369.46137</td>\n",
       "      <td>50891.84431</td>\n",
       "      <td>26.065205</td>\n",
       "      <td>0</td>\n",
       "    </tr>\n",
       "    <tr>\n",
       "      <th>2</th>\n",
       "      <td>Apalachicola</td>\n",
       "      <td>dennis</td>\n",
       "      <td>7/11/2005</td>\n",
       "      <td>38.027300</td>\n",
       "      <td>71.58080</td>\n",
       "      <td>12877</td>\n",
       "      <td>40369.46137</td>\n",
       "      <td>50891.84431</td>\n",
       "      <td>26.065205</td>\n",
       "      <td>0</td>\n",
       "    </tr>\n",
       "    <tr>\n",
       "      <th>3</th>\n",
       "      <td>Apalachicola</td>\n",
       "      <td>irma</td>\n",
       "      <td>9/11/2017</td>\n",
       "      <td>46.527520</td>\n",
       "      <td>82.54161</td>\n",
       "      <td>12877</td>\n",
       "      <td>52379.75722</td>\n",
       "      <td>63594.00344</td>\n",
       "      <td>21.409504</td>\n",
       "      <td>1</td>\n",
       "    </tr>\n",
       "    <tr>\n",
       "      <th>4</th>\n",
       "      <td>Apalachicola</td>\n",
       "      <td>irma</td>\n",
       "      <td>9/10/2017</td>\n",
       "      <td>42.523469</td>\n",
       "      <td>71.58080</td>\n",
       "      <td>12877</td>\n",
       "      <td>52379.75722</td>\n",
       "      <td>63594.00344</td>\n",
       "      <td>21.409504</td>\n",
       "      <td>1</td>\n",
       "    </tr>\n",
       "    <tr>\n",
       "      <th>...</th>\n",
       "      <td>...</td>\n",
       "      <td>...</td>\n",
       "      <td>...</td>\n",
       "      <td>...</td>\n",
       "      <td>...</td>\n",
       "      <td>...</td>\n",
       "      <td>...</td>\n",
       "      <td>...</td>\n",
       "      <td>...</td>\n",
       "      <td>...</td>\n",
       "    </tr>\n",
       "    <tr>\n",
       "      <th>1188</th>\n",
       "      <td>West Palm Beach</td>\n",
       "      <td>matthew</td>\n",
       "      <td>10/7/2016</td>\n",
       "      <td>44.044561</td>\n",
       "      <td>69.56759</td>\n",
       "      <td>158</td>\n",
       "      <td>375111.31040</td>\n",
       "      <td>393070.81160</td>\n",
       "      <td>4.787779</td>\n",
       "      <td>0</td>\n",
       "    </tr>\n",
       "    <tr>\n",
       "      <th>1189</th>\n",
       "      <td>West Palm Beach</td>\n",
       "      <td>matthew</td>\n",
       "      <td>10/8/2016</td>\n",
       "      <td>23.509819</td>\n",
       "      <td>38.02730</td>\n",
       "      <td>158</td>\n",
       "      <td>375111.31040</td>\n",
       "      <td>393070.81160</td>\n",
       "      <td>4.787779</td>\n",
       "      <td>0</td>\n",
       "    </tr>\n",
       "    <tr>\n",
       "      <th>1190</th>\n",
       "      <td>West Palm Beach</td>\n",
       "      <td>michael</td>\n",
       "      <td>10/11/2018</td>\n",
       "      <td>15.501717</td>\n",
       "      <td>38.02730</td>\n",
       "      <td>158</td>\n",
       "      <td>414414.18150</td>\n",
       "      <td>434088.96000</td>\n",
       "      <td>4.747612</td>\n",
       "      <td>0</td>\n",
       "    </tr>\n",
       "    <tr>\n",
       "      <th>1191</th>\n",
       "      <td>West Palm Beach</td>\n",
       "      <td>michael</td>\n",
       "      <td>10/10/2018</td>\n",
       "      <td>28.520475</td>\n",
       "      <td>56.14619</td>\n",
       "      <td>158</td>\n",
       "      <td>414414.18150</td>\n",
       "      <td>434088.96000</td>\n",
       "      <td>4.747612</td>\n",
       "      <td>0</td>\n",
       "    </tr>\n",
       "    <tr>\n",
       "      <th>1192</th>\n",
       "      <td>West Palm Beach</td>\n",
       "      <td>michael</td>\n",
       "      <td>10/9/2018</td>\n",
       "      <td>30.533685</td>\n",
       "      <td>51.44870</td>\n",
       "      <td>158</td>\n",
       "      <td>414414.18150</td>\n",
       "      <td>434088.96000</td>\n",
       "      <td>4.747612</td>\n",
       "      <td>0</td>\n",
       "    </tr>\n",
       "  </tbody>\n",
       "</table>\n",
       "<p>1193 rows × 10 columns</p>\n",
       "</div>"
      ],
      "text/plain": [
       "                 City HurricaneName        DATE       AWND      WSF2  \\\n",
       "0        Apalachicola       charley   8/14/2004  13.018758  29.07970   \n",
       "1        Apalachicola        dennis   7/10/2005  43.530074  67.10700   \n",
       "2        Apalachicola        dennis   7/11/2005  38.027300  71.58080   \n",
       "3        Apalachicola          irma   9/11/2017  46.527520  82.54161   \n",
       "4        Apalachicola          irma   9/10/2017  42.523469  71.58080   \n",
       "...               ...           ...         ...        ...       ...   \n",
       "1188  West Palm Beach       matthew   10/7/2016  44.044561  69.56759   \n",
       "1189  West Palm Beach       matthew   10/8/2016  23.509819  38.02730   \n",
       "1190  West Palm Beach       michael  10/11/2018  15.501717  38.02730   \n",
       "1191  West Palm Beach       michael  10/10/2018  28.520475  56.14619   \n",
       "1192  West Palm Beach       michael   10/9/2018  30.533685  51.44870   \n",
       "\n",
       "      SizeRank        before         after    percent  increase  \n",
       "0        12877   33025.67901   41196.08834  24.739565         1  \n",
       "1        12877   40369.46137   50891.84431  26.065205         0  \n",
       "2        12877   40369.46137   50891.84431  26.065205         0  \n",
       "3        12877   52379.75722   63594.00344  21.409504         1  \n",
       "4        12877   52379.75722   63594.00344  21.409504         1  \n",
       "...        ...           ...           ...        ...       ...  \n",
       "1188       158  375111.31040  393070.81160   4.787779         0  \n",
       "1189       158  375111.31040  393070.81160   4.787779         0  \n",
       "1190       158  414414.18150  434088.96000   4.747612         0  \n",
       "1191       158  414414.18150  434088.96000   4.747612         0  \n",
       "1192       158  414414.18150  434088.96000   4.747612         0  \n",
       "\n",
       "[1193 rows x 10 columns]"
      ]
     },
     "execution_count": 4,
     "metadata": {},
     "output_type": "execute_result"
    }
   ],
   "source": [
    "all"
   ]
  },
  {
   "cell_type": "code",
   "execution_count": 5,
   "id": "1ed0c95b",
   "metadata": {},
   "outputs": [],
   "source": [
    "#let's get rid of duplicate cities by only grabbing the cities with the max value for AWND\n",
    "bottom = bottom.sort_values('AWND', ascending=False).drop_duplicates(['HurricaneName', 'City']).sort_index()\n",
    "middle = middle.sort_values('AWND', ascending=False).drop_duplicates(['HurricaneName', 'City']).sort_index()\n",
    "top = top.sort_values('AWND', ascending=False).drop_duplicates(['HurricaneName', 'City']).sort_index()\n",
    "all = all.sort_values('AWND', ascending=False).drop_duplicates(['HurricaneName', 'City', 'DATE']).sort_index()"
   ]
  },
  {
   "cell_type": "code",
   "execution_count": 6,
   "id": "30ba0b5f",
   "metadata": {},
   "outputs": [
    {
     "data": {
      "text/html": [
       "<div>\n",
       "<style scoped>\n",
       "    .dataframe tbody tr th:only-of-type {\n",
       "        vertical-align: middle;\n",
       "    }\n",
       "\n",
       "    .dataframe tbody tr th {\n",
       "        vertical-align: top;\n",
       "    }\n",
       "\n",
       "    .dataframe thead th {\n",
       "        text-align: right;\n",
       "    }\n",
       "</style>\n",
       "<table border=\"1\" class=\"dataframe\">\n",
       "  <thead>\n",
       "    <tr style=\"text-align: right;\">\n",
       "      <th></th>\n",
       "      <th>City</th>\n",
       "      <th>HurricaneName</th>\n",
       "      <th>DATE</th>\n",
       "      <th>AWND</th>\n",
       "      <th>WSF2</th>\n",
       "      <th>SizeRank</th>\n",
       "      <th>before</th>\n",
       "      <th>after</th>\n",
       "      <th>percent</th>\n",
       "      <th>increase</th>\n",
       "    </tr>\n",
       "  </thead>\n",
       "  <tbody>\n",
       "    <tr>\n",
       "      <th>0</th>\n",
       "      <td>Apalachicola</td>\n",
       "      <td>charley</td>\n",
       "      <td>8/14/2004</td>\n",
       "      <td>13.018758</td>\n",
       "      <td>29.07970</td>\n",
       "      <td>12877</td>\n",
       "      <td>33025.67901</td>\n",
       "      <td>41196.08834</td>\n",
       "      <td>24.739565</td>\n",
       "      <td>1</td>\n",
       "    </tr>\n",
       "    <tr>\n",
       "      <th>1</th>\n",
       "      <td>Apalachicola</td>\n",
       "      <td>dennis</td>\n",
       "      <td>7/10/2005</td>\n",
       "      <td>43.530074</td>\n",
       "      <td>67.10700</td>\n",
       "      <td>12877</td>\n",
       "      <td>40369.46137</td>\n",
       "      <td>50891.84431</td>\n",
       "      <td>26.065205</td>\n",
       "      <td>0</td>\n",
       "    </tr>\n",
       "    <tr>\n",
       "      <th>3</th>\n",
       "      <td>Apalachicola</td>\n",
       "      <td>irma</td>\n",
       "      <td>9/11/2017</td>\n",
       "      <td>46.527520</td>\n",
       "      <td>82.54161</td>\n",
       "      <td>12877</td>\n",
       "      <td>52379.75722</td>\n",
       "      <td>63594.00344</td>\n",
       "      <td>21.409504</td>\n",
       "      <td>1</td>\n",
       "    </tr>\n",
       "    <tr>\n",
       "      <th>6</th>\n",
       "      <td>Apalachicola</td>\n",
       "      <td>matthew</td>\n",
       "      <td>10/7/2016</td>\n",
       "      <td>24.024306</td>\n",
       "      <td>48.98811</td>\n",
       "      <td>12877</td>\n",
       "      <td>48548.85811</td>\n",
       "      <td>52980.36723</td>\n",
       "      <td>9.127937</td>\n",
       "      <td>0</td>\n",
       "    </tr>\n",
       "    <tr>\n",
       "      <th>8</th>\n",
       "      <td>Apalachicola</td>\n",
       "      <td>michael</td>\n",
       "      <td>10/10/2018</td>\n",
       "      <td>66.547775</td>\n",
       "      <td>141.14839</td>\n",
       "      <td>12877</td>\n",
       "      <td>65287.07867</td>\n",
       "      <td>76710.34737</td>\n",
       "      <td>17.496982</td>\n",
       "      <td>1</td>\n",
       "    </tr>\n",
       "    <tr>\n",
       "      <th>...</th>\n",
       "      <td>...</td>\n",
       "      <td>...</td>\n",
       "      <td>...</td>\n",
       "      <td>...</td>\n",
       "      <td>...</td>\n",
       "      <td>...</td>\n",
       "      <td>...</td>\n",
       "      <td>...</td>\n",
       "      <td>...</td>\n",
       "      <td>...</td>\n",
       "    </tr>\n",
       "    <tr>\n",
       "      <th>388</th>\n",
       "      <td>West Palm Beach</td>\n",
       "      <td>michael</td>\n",
       "      <td>10/9/2018</td>\n",
       "      <td>30.533685</td>\n",
       "      <td>51.44870</td>\n",
       "      <td>158</td>\n",
       "      <td>131859.03710</td>\n",
       "      <td>143536.42570</td>\n",
       "      <td>8.855964</td>\n",
       "      <td>0</td>\n",
       "    </tr>\n",
       "    <tr>\n",
       "      <th>389</th>\n",
       "      <td>Winter Haven</td>\n",
       "      <td>dennis</td>\n",
       "      <td>7/10/2005</td>\n",
       "      <td>30.533685</td>\n",
       "      <td>56.14619</td>\n",
       "      <td>395</td>\n",
       "      <td>59886.01537</td>\n",
       "      <td>76763.92735</td>\n",
       "      <td>28.183395</td>\n",
       "      <td>0</td>\n",
       "    </tr>\n",
       "    <tr>\n",
       "      <th>392</th>\n",
       "      <td>Winter Haven</td>\n",
       "      <td>irma</td>\n",
       "      <td>9/10/2017</td>\n",
       "      <td>58.047555</td>\n",
       "      <td>123.02950</td>\n",
       "      <td>395</td>\n",
       "      <td>80030.41335</td>\n",
       "      <td>93036.50736</td>\n",
       "      <td>16.251439</td>\n",
       "      <td>1</td>\n",
       "    </tr>\n",
       "    <tr>\n",
       "      <th>394</th>\n",
       "      <td>Winter Haven</td>\n",
       "      <td>matthew</td>\n",
       "      <td>10/7/2016</td>\n",
       "      <td>30.019198</td>\n",
       "      <td>57.93571</td>\n",
       "      <td>395</td>\n",
       "      <td>69267.39054</td>\n",
       "      <td>80862.30360</td>\n",
       "      <td>16.739353</td>\n",
       "      <td>1</td>\n",
       "    </tr>\n",
       "    <tr>\n",
       "      <th>397</th>\n",
       "      <td>Winter Haven</td>\n",
       "      <td>michael</td>\n",
       "      <td>10/10/2018</td>\n",
       "      <td>29.527080</td>\n",
       "      <td>56.14619</td>\n",
       "      <td>395</td>\n",
       "      <td>94132.64063</td>\n",
       "      <td>110238.51310</td>\n",
       "      <td>17.109764</td>\n",
       "      <td>1</td>\n",
       "    </tr>\n",
       "  </tbody>\n",
       "</table>\n",
       "<p>141 rows × 10 columns</p>\n",
       "</div>"
      ],
      "text/plain": [
       "                City HurricaneName        DATE       AWND       WSF2  \\\n",
       "0       Apalachicola       charley   8/14/2004  13.018758   29.07970   \n",
       "1       Apalachicola        dennis   7/10/2005  43.530074   67.10700   \n",
       "3       Apalachicola          irma   9/11/2017  46.527520   82.54161   \n",
       "6       Apalachicola       matthew   10/7/2016  24.024306   48.98811   \n",
       "8       Apalachicola       michael  10/10/2018  66.547775  141.14839   \n",
       "..               ...           ...         ...        ...        ...   \n",
       "388  West Palm Beach       michael   10/9/2018  30.533685   51.44870   \n",
       "389     Winter Haven        dennis   7/10/2005  30.533685   56.14619   \n",
       "392     Winter Haven          irma   9/10/2017  58.047555  123.02950   \n",
       "394     Winter Haven       matthew   10/7/2016  30.019198   57.93571   \n",
       "397     Winter Haven       michael  10/10/2018  29.527080   56.14619   \n",
       "\n",
       "     SizeRank        before         after    percent  increase  \n",
       "0       12877   33025.67901   41196.08834  24.739565         1  \n",
       "1       12877   40369.46137   50891.84431  26.065205         0  \n",
       "3       12877   52379.75722   63594.00344  21.409504         1  \n",
       "6       12877   48548.85811   52980.36723   9.127937         0  \n",
       "8       12877   65287.07867   76710.34737  17.496982         1  \n",
       "..        ...           ...           ...        ...       ...  \n",
       "388       158  131859.03710  143536.42570   8.855964         0  \n",
       "389       395   59886.01537   76763.92735  28.183395         0  \n",
       "392       395   80030.41335   93036.50736  16.251439         1  \n",
       "394       395   69267.39054   80862.30360  16.739353         1  \n",
       "397       395   94132.64063  110238.51310  17.109764         1  \n",
       "\n",
       "[141 rows x 10 columns]"
      ]
     },
     "execution_count": 6,
     "metadata": {},
     "output_type": "execute_result"
    }
   ],
   "source": [
    "bottom"
   ]
  },
  {
   "cell_type": "code",
   "execution_count": 7,
   "id": "74e26a00",
   "metadata": {},
   "outputs": [
    {
     "data": {
      "text/html": [
       "<div>\n",
       "<style scoped>\n",
       "    .dataframe tbody tr th:only-of-type {\n",
       "        vertical-align: middle;\n",
       "    }\n",
       "\n",
       "    .dataframe tbody tr th {\n",
       "        vertical-align: top;\n",
       "    }\n",
       "\n",
       "    .dataframe thead th {\n",
       "        text-align: right;\n",
       "    }\n",
       "</style>\n",
       "<table border=\"1\" class=\"dataframe\">\n",
       "  <thead>\n",
       "    <tr style=\"text-align: right;\">\n",
       "      <th></th>\n",
       "      <th>City</th>\n",
       "      <th>HurricaneName</th>\n",
       "      <th>DATE</th>\n",
       "      <th>AWND</th>\n",
       "      <th>WSF2</th>\n",
       "      <th>SizeRank</th>\n",
       "      <th>before</th>\n",
       "      <th>after</th>\n",
       "      <th>percent</th>\n",
       "      <th>increase</th>\n",
       "    </tr>\n",
       "  </thead>\n",
       "  <tbody>\n",
       "    <tr>\n",
       "      <th>0</th>\n",
       "      <td>Apalachicola</td>\n",
       "      <td>charley</td>\n",
       "      <td>8/14/2004</td>\n",
       "      <td>13.018758</td>\n",
       "      <td>29.07970</td>\n",
       "      <td>12877</td>\n",
       "      <td>91915.39335</td>\n",
       "      <td>114408.1491</td>\n",
       "      <td>24.471152</td>\n",
       "      <td>1</td>\n",
       "    </tr>\n",
       "    <tr>\n",
       "      <th>1</th>\n",
       "      <td>Apalachicola</td>\n",
       "      <td>dennis</td>\n",
       "      <td>7/10/2005</td>\n",
       "      <td>43.530074</td>\n",
       "      <td>67.10700</td>\n",
       "      <td>12877</td>\n",
       "      <td>112287.89680</td>\n",
       "      <td>140227.0087</td>\n",
       "      <td>24.881677</td>\n",
       "      <td>0</td>\n",
       "    </tr>\n",
       "    <tr>\n",
       "      <th>3</th>\n",
       "      <td>Apalachicola</td>\n",
       "      <td>irma</td>\n",
       "      <td>9/11/2017</td>\n",
       "      <td>46.527520</td>\n",
       "      <td>82.54161</td>\n",
       "      <td>12877</td>\n",
       "      <td>127923.42670</td>\n",
       "      <td>142053.1799</td>\n",
       "      <td>11.045477</td>\n",
       "      <td>0</td>\n",
       "    </tr>\n",
       "    <tr>\n",
       "      <th>6</th>\n",
       "      <td>Apalachicola</td>\n",
       "      <td>matthew</td>\n",
       "      <td>10/7/2016</td>\n",
       "      <td>24.024306</td>\n",
       "      <td>48.98811</td>\n",
       "      <td>12877</td>\n",
       "      <td>124938.95560</td>\n",
       "      <td>128831.4366</td>\n",
       "      <td>3.115506</td>\n",
       "      <td>0</td>\n",
       "    </tr>\n",
       "    <tr>\n",
       "      <th>8</th>\n",
       "      <td>Apalachicola</td>\n",
       "      <td>michael</td>\n",
       "      <td>10/10/2018</td>\n",
       "      <td>66.547775</td>\n",
       "      <td>141.14839</td>\n",
       "      <td>12877</td>\n",
       "      <td>144565.87220</td>\n",
       "      <td>161515.9275</td>\n",
       "      <td>11.724797</td>\n",
       "      <td>1</td>\n",
       "    </tr>\n",
       "    <tr>\n",
       "      <th>...</th>\n",
       "      <td>...</td>\n",
       "      <td>...</td>\n",
       "      <td>...</td>\n",
       "      <td>...</td>\n",
       "      <td>...</td>\n",
       "      <td>...</td>\n",
       "      <td>...</td>\n",
       "      <td>...</td>\n",
       "      <td>...</td>\n",
       "      <td>...</td>\n",
       "    </tr>\n",
       "    <tr>\n",
       "      <th>381</th>\n",
       "      <td>West Palm Beach</td>\n",
       "      <td>charley</td>\n",
       "      <td>8/13/2004</td>\n",
       "      <td>28.520475</td>\n",
       "      <td>69.56759</td>\n",
       "      <td>158</td>\n",
       "      <td>156234.53760</td>\n",
       "      <td>191100.1557</td>\n",
       "      <td>22.316204</td>\n",
       "      <td>0</td>\n",
       "    </tr>\n",
       "    <tr>\n",
       "      <th>383</th>\n",
       "      <td>West Palm Beach</td>\n",
       "      <td>dennis</td>\n",
       "      <td>7/10/2005</td>\n",
       "      <td>35.521972</td>\n",
       "      <td>78.06781</td>\n",
       "      <td>158</td>\n",
       "      <td>187824.49660</td>\n",
       "      <td>240703.5672</td>\n",
       "      <td>28.153447</td>\n",
       "      <td>0</td>\n",
       "    </tr>\n",
       "    <tr>\n",
       "      <th>386</th>\n",
       "      <td>West Palm Beach</td>\n",
       "      <td>irma</td>\n",
       "      <td>9/10/2017</td>\n",
       "      <td>87.060148</td>\n",
       "      <td>147.63540</td>\n",
       "      <td>158</td>\n",
       "      <td>214427.89250</td>\n",
       "      <td>234149.5014</td>\n",
       "      <td>9.197315</td>\n",
       "      <td>0</td>\n",
       "    </tr>\n",
       "    <tr>\n",
       "      <th>388</th>\n",
       "      <td>West Palm Beach</td>\n",
       "      <td>matthew</td>\n",
       "      <td>10/7/2016</td>\n",
       "      <td>44.044561</td>\n",
       "      <td>69.56759</td>\n",
       "      <td>158</td>\n",
       "      <td>197641.97590</td>\n",
       "      <td>216511.5252</td>\n",
       "      <td>9.547339</td>\n",
       "      <td>0</td>\n",
       "    </tr>\n",
       "    <tr>\n",
       "      <th>392</th>\n",
       "      <td>West Palm Beach</td>\n",
       "      <td>michael</td>\n",
       "      <td>10/9/2018</td>\n",
       "      <td>30.533685</td>\n",
       "      <td>51.44870</td>\n",
       "      <td>158</td>\n",
       "      <td>235358.13210</td>\n",
       "      <td>250692.0721</td>\n",
       "      <td>6.515152</td>\n",
       "      <td>0</td>\n",
       "    </tr>\n",
       "  </tbody>\n",
       "</table>\n",
       "<p>139 rows × 10 columns</p>\n",
       "</div>"
      ],
      "text/plain": [
       "                City HurricaneName        DATE       AWND       WSF2  \\\n",
       "0       Apalachicola       charley   8/14/2004  13.018758   29.07970   \n",
       "1       Apalachicola        dennis   7/10/2005  43.530074   67.10700   \n",
       "3       Apalachicola          irma   9/11/2017  46.527520   82.54161   \n",
       "6       Apalachicola       matthew   10/7/2016  24.024306   48.98811   \n",
       "8       Apalachicola       michael  10/10/2018  66.547775  141.14839   \n",
       "..               ...           ...         ...        ...        ...   \n",
       "381  West Palm Beach       charley   8/13/2004  28.520475   69.56759   \n",
       "383  West Palm Beach        dennis   7/10/2005  35.521972   78.06781   \n",
       "386  West Palm Beach          irma   9/10/2017  87.060148  147.63540   \n",
       "388  West Palm Beach       matthew   10/7/2016  44.044561   69.56759   \n",
       "392  West Palm Beach       michael   10/9/2018  30.533685   51.44870   \n",
       "\n",
       "     SizeRank        before        after    percent  increase  \n",
       "0       12877   91915.39335  114408.1491  24.471152         1  \n",
       "1       12877  112287.89680  140227.0087  24.881677         0  \n",
       "3       12877  127923.42670  142053.1799  11.045477         0  \n",
       "6       12877  124938.95560  128831.4366   3.115506         0  \n",
       "8       12877  144565.87220  161515.9275  11.724797         1  \n",
       "..        ...           ...          ...        ...       ...  \n",
       "381       158  156234.53760  191100.1557  22.316204         0  \n",
       "383       158  187824.49660  240703.5672  28.153447         0  \n",
       "386       158  214427.89250  234149.5014   9.197315         0  \n",
       "388       158  197641.97590  216511.5252   9.547339         0  \n",
       "392       158  235358.13210  250692.0721   6.515152         0  \n",
       "\n",
       "[139 rows x 10 columns]"
      ]
     },
     "execution_count": 7,
     "metadata": {},
     "output_type": "execute_result"
    }
   ],
   "source": [
    "middle"
   ]
  },
  {
   "cell_type": "code",
   "execution_count": 8,
   "id": "e27ee915",
   "metadata": {
    "scrolled": true
   },
   "outputs": [
    {
     "data": {
      "text/html": [
       "<div>\n",
       "<style scoped>\n",
       "    .dataframe tbody tr th:only-of-type {\n",
       "        vertical-align: middle;\n",
       "    }\n",
       "\n",
       "    .dataframe tbody tr th {\n",
       "        vertical-align: top;\n",
       "    }\n",
       "\n",
       "    .dataframe thead th {\n",
       "        text-align: right;\n",
       "    }\n",
       "</style>\n",
       "<table border=\"1\" class=\"dataframe\">\n",
       "  <thead>\n",
       "    <tr style=\"text-align: right;\">\n",
       "      <th></th>\n",
       "      <th>City</th>\n",
       "      <th>HurricaneName</th>\n",
       "      <th>DATE</th>\n",
       "      <th>AWND</th>\n",
       "      <th>WSF2</th>\n",
       "      <th>SizeRank</th>\n",
       "      <th>before</th>\n",
       "      <th>after</th>\n",
       "      <th>percent</th>\n",
       "      <th>increase</th>\n",
       "    </tr>\n",
       "  </thead>\n",
       "  <tbody>\n",
       "    <tr>\n",
       "      <th>0</th>\n",
       "      <td>Apalachicola</td>\n",
       "      <td>charley</td>\n",
       "      <td>8/14/2004</td>\n",
       "      <td>13.018758</td>\n",
       "      <td>29.07970</td>\n",
       "      <td>12877</td>\n",
       "      <td>221794.3003</td>\n",
       "      <td>275297.2698</td>\n",
       "      <td>24.122788</td>\n",
       "      <td>1</td>\n",
       "    </tr>\n",
       "    <tr>\n",
       "      <th>1</th>\n",
       "      <td>Apalachicola</td>\n",
       "      <td>dennis</td>\n",
       "      <td>7/10/2005</td>\n",
       "      <td>43.530074</td>\n",
       "      <td>67.10700</td>\n",
       "      <td>12877</td>\n",
       "      <td>269923.5452</td>\n",
       "      <td>339439.8016</td>\n",
       "      <td>25.754054</td>\n",
       "      <td>0</td>\n",
       "    </tr>\n",
       "    <tr>\n",
       "      <th>3</th>\n",
       "      <td>Apalachicola</td>\n",
       "      <td>irma</td>\n",
       "      <td>9/11/2017</td>\n",
       "      <td>46.527520</td>\n",
       "      <td>82.54161</td>\n",
       "      <td>12877</td>\n",
       "      <td>257605.2886</td>\n",
       "      <td>276477.8214</td>\n",
       "      <td>7.326143</td>\n",
       "      <td>0</td>\n",
       "    </tr>\n",
       "    <tr>\n",
       "      <th>6</th>\n",
       "      <td>Apalachicola</td>\n",
       "      <td>matthew</td>\n",
       "      <td>10/7/2016</td>\n",
       "      <td>24.024306</td>\n",
       "      <td>48.98811</td>\n",
       "      <td>12877</td>\n",
       "      <td>255217.2827</td>\n",
       "      <td>259168.4086</td>\n",
       "      <td>1.548142</td>\n",
       "      <td>0</td>\n",
       "    </tr>\n",
       "    <tr>\n",
       "      <th>8</th>\n",
       "      <td>Apalachicola</td>\n",
       "      <td>michael</td>\n",
       "      <td>10/10/2018</td>\n",
       "      <td>66.547775</td>\n",
       "      <td>141.14839</td>\n",
       "      <td>12877</td>\n",
       "      <td>279871.2479</td>\n",
       "      <td>308859.8100</td>\n",
       "      <td>10.357821</td>\n",
       "      <td>1</td>\n",
       "    </tr>\n",
       "    <tr>\n",
       "      <th>...</th>\n",
       "      <td>...</td>\n",
       "      <td>...</td>\n",
       "      <td>...</td>\n",
       "      <td>...</td>\n",
       "      <td>...</td>\n",
       "      <td>...</td>\n",
       "      <td>...</td>\n",
       "      <td>...</td>\n",
       "      <td>...</td>\n",
       "      <td>...</td>\n",
       "    </tr>\n",
       "    <tr>\n",
       "      <th>389</th>\n",
       "      <td>West Palm Beach</td>\n",
       "      <td>charley</td>\n",
       "      <td>8/13/2004</td>\n",
       "      <td>28.520475</td>\n",
       "      <td>69.56759</td>\n",
       "      <td>158</td>\n",
       "      <td>337513.4241</td>\n",
       "      <td>408594.3455</td>\n",
       "      <td>21.060176</td>\n",
       "      <td>0</td>\n",
       "    </tr>\n",
       "    <tr>\n",
       "      <th>391</th>\n",
       "      <td>West Palm Beach</td>\n",
       "      <td>dennis</td>\n",
       "      <td>7/10/2005</td>\n",
       "      <td>35.521972</td>\n",
       "      <td>78.06781</td>\n",
       "      <td>158</td>\n",
       "      <td>401684.3542</td>\n",
       "      <td>509416.8784</td>\n",
       "      <td>26.820194</td>\n",
       "      <td>0</td>\n",
       "    </tr>\n",
       "    <tr>\n",
       "      <th>394</th>\n",
       "      <td>West Palm Beach</td>\n",
       "      <td>irma</td>\n",
       "      <td>9/10/2017</td>\n",
       "      <td>87.060148</td>\n",
       "      <td>147.63540</td>\n",
       "      <td>158</td>\n",
       "      <td>390818.9715</td>\n",
       "      <td>413213.8804</td>\n",
       "      <td>5.730251</td>\n",
       "      <td>0</td>\n",
       "    </tr>\n",
       "    <tr>\n",
       "      <th>396</th>\n",
       "      <td>West Palm Beach</td>\n",
       "      <td>matthew</td>\n",
       "      <td>10/7/2016</td>\n",
       "      <td>44.044561</td>\n",
       "      <td>69.56759</td>\n",
       "      <td>158</td>\n",
       "      <td>375111.3104</td>\n",
       "      <td>393070.8116</td>\n",
       "      <td>4.787779</td>\n",
       "      <td>0</td>\n",
       "    </tr>\n",
       "    <tr>\n",
       "      <th>400</th>\n",
       "      <td>West Palm Beach</td>\n",
       "      <td>michael</td>\n",
       "      <td>10/9/2018</td>\n",
       "      <td>30.533685</td>\n",
       "      <td>51.44870</td>\n",
       "      <td>158</td>\n",
       "      <td>414414.1815</td>\n",
       "      <td>434088.9600</td>\n",
       "      <td>4.747612</td>\n",
       "      <td>0</td>\n",
       "    </tr>\n",
       "  </tbody>\n",
       "</table>\n",
       "<p>142 rows × 10 columns</p>\n",
       "</div>"
      ],
      "text/plain": [
       "                City HurricaneName        DATE       AWND       WSF2  \\\n",
       "0       Apalachicola       charley   8/14/2004  13.018758   29.07970   \n",
       "1       Apalachicola        dennis   7/10/2005  43.530074   67.10700   \n",
       "3       Apalachicola          irma   9/11/2017  46.527520   82.54161   \n",
       "6       Apalachicola       matthew   10/7/2016  24.024306   48.98811   \n",
       "8       Apalachicola       michael  10/10/2018  66.547775  141.14839   \n",
       "..               ...           ...         ...        ...        ...   \n",
       "389  West Palm Beach       charley   8/13/2004  28.520475   69.56759   \n",
       "391  West Palm Beach        dennis   7/10/2005  35.521972   78.06781   \n",
       "394  West Palm Beach          irma   9/10/2017  87.060148  147.63540   \n",
       "396  West Palm Beach       matthew   10/7/2016  44.044561   69.56759   \n",
       "400  West Palm Beach       michael   10/9/2018  30.533685   51.44870   \n",
       "\n",
       "     SizeRank       before        after    percent  increase  \n",
       "0       12877  221794.3003  275297.2698  24.122788         1  \n",
       "1       12877  269923.5452  339439.8016  25.754054         0  \n",
       "3       12877  257605.2886  276477.8214   7.326143         0  \n",
       "6       12877  255217.2827  259168.4086   1.548142         0  \n",
       "8       12877  279871.2479  308859.8100  10.357821         1  \n",
       "..        ...          ...          ...        ...       ...  \n",
       "389       158  337513.4241  408594.3455  21.060176         0  \n",
       "391       158  401684.3542  509416.8784  26.820194         0  \n",
       "394       158  390818.9715  413213.8804   5.730251         0  \n",
       "396       158  375111.3104  393070.8116   4.787779         0  \n",
       "400       158  414414.1815  434088.9600   4.747612         0  \n",
       "\n",
       "[142 rows x 10 columns]"
      ]
     },
     "execution_count": 8,
     "metadata": {},
     "output_type": "execute_result"
    }
   ],
   "source": [
    "top"
   ]
  },
  {
   "cell_type": "code",
   "execution_count": 9,
   "id": "d55c972b",
   "metadata": {},
   "outputs": [
    {
     "data": {
      "text/html": [
       "<div>\n",
       "<style scoped>\n",
       "    .dataframe tbody tr th:only-of-type {\n",
       "        vertical-align: middle;\n",
       "    }\n",
       "\n",
       "    .dataframe tbody tr th {\n",
       "        vertical-align: top;\n",
       "    }\n",
       "\n",
       "    .dataframe thead th {\n",
       "        text-align: right;\n",
       "    }\n",
       "</style>\n",
       "<table border=\"1\" class=\"dataframe\">\n",
       "  <thead>\n",
       "    <tr style=\"text-align: right;\">\n",
       "      <th></th>\n",
       "      <th>City</th>\n",
       "      <th>HurricaneName</th>\n",
       "      <th>DATE</th>\n",
       "      <th>AWND</th>\n",
       "      <th>WSF2</th>\n",
       "      <th>SizeRank</th>\n",
       "      <th>before</th>\n",
       "      <th>after</th>\n",
       "      <th>percent</th>\n",
       "      <th>increase</th>\n",
       "    </tr>\n",
       "  </thead>\n",
       "  <tbody>\n",
       "    <tr>\n",
       "      <th>3</th>\n",
       "      <td>Apalachicola</td>\n",
       "      <td>irma</td>\n",
       "      <td>9/11/2017</td>\n",
       "      <td>46.527520</td>\n",
       "      <td>82.54161</td>\n",
       "      <td>12877</td>\n",
       "      <td>52379.75722</td>\n",
       "      <td>63594.00344</td>\n",
       "      <td>21.409504</td>\n",
       "      <td>1</td>\n",
       "    </tr>\n",
       "    <tr>\n",
       "      <th>4</th>\n",
       "      <td>Apalachicola</td>\n",
       "      <td>irma</td>\n",
       "      <td>9/10/2017</td>\n",
       "      <td>42.523469</td>\n",
       "      <td>71.58080</td>\n",
       "      <td>12877</td>\n",
       "      <td>52379.75722</td>\n",
       "      <td>63594.00344</td>\n",
       "      <td>21.409504</td>\n",
       "      <td>1</td>\n",
       "    </tr>\n",
       "    <tr>\n",
       "      <th>5</th>\n",
       "      <td>Apalachicola</td>\n",
       "      <td>irma</td>\n",
       "      <td>9/9/2017</td>\n",
       "      <td>29.012593</td>\n",
       "      <td>44.51431</td>\n",
       "      <td>12877</td>\n",
       "      <td>52379.75722</td>\n",
       "      <td>63594.00344</td>\n",
       "      <td>21.409504</td>\n",
       "      <td>1</td>\n",
       "    </tr>\n",
       "    <tr>\n",
       "      <th>6</th>\n",
       "      <td>Apalachicola</td>\n",
       "      <td>matthew</td>\n",
       "      <td>10/7/2016</td>\n",
       "      <td>24.024306</td>\n",
       "      <td>48.98811</td>\n",
       "      <td>12877</td>\n",
       "      <td>48548.85811</td>\n",
       "      <td>52980.36723</td>\n",
       "      <td>9.127937</td>\n",
       "      <td>0</td>\n",
       "    </tr>\n",
       "    <tr>\n",
       "      <th>9</th>\n",
       "      <td>Apalachicola</td>\n",
       "      <td>michael</td>\n",
       "      <td>10/9/2018</td>\n",
       "      <td>29.527080</td>\n",
       "      <td>46.97490</td>\n",
       "      <td>12877</td>\n",
       "      <td>65287.07867</td>\n",
       "      <td>76710.34737</td>\n",
       "      <td>17.496982</td>\n",
       "      <td>1</td>\n",
       "    </tr>\n",
       "    <tr>\n",
       "      <th>...</th>\n",
       "      <td>...</td>\n",
       "      <td>...</td>\n",
       "      <td>...</td>\n",
       "      <td>...</td>\n",
       "      <td>...</td>\n",
       "      <td>...</td>\n",
       "      <td>...</td>\n",
       "      <td>...</td>\n",
       "      <td>...</td>\n",
       "      <td>...</td>\n",
       "    </tr>\n",
       "    <tr>\n",
       "      <th>1175</th>\n",
       "      <td>Vero Beach</td>\n",
       "      <td>irma</td>\n",
       "      <td>9/9/2017</td>\n",
       "      <td>36.036459</td>\n",
       "      <td>67.10700</td>\n",
       "      <td>350</td>\n",
       "      <td>388826.87870</td>\n",
       "      <td>415861.76700</td>\n",
       "      <td>6.952937</td>\n",
       "      <td>0</td>\n",
       "    </tr>\n",
       "    <tr>\n",
       "      <th>1176</th>\n",
       "      <td>Vero Beach</td>\n",
       "      <td>matthew</td>\n",
       "      <td>10/7/2016</td>\n",
       "      <td>55.542227</td>\n",
       "      <td>123.02950</td>\n",
       "      <td>350</td>\n",
       "      <td>370610.35240</td>\n",
       "      <td>391912.10820</td>\n",
       "      <td>5.747750</td>\n",
       "      <td>0</td>\n",
       "    </tr>\n",
       "    <tr>\n",
       "      <th>1178</th>\n",
       "      <td>Vero Beach</td>\n",
       "      <td>michael</td>\n",
       "      <td>10/11/2018</td>\n",
       "      <td>23.509819</td>\n",
       "      <td>40.48789</td>\n",
       "      <td>350</td>\n",
       "      <td>417970.89410</td>\n",
       "      <td>434714.67370</td>\n",
       "      <td>4.005968</td>\n",
       "      <td>0</td>\n",
       "    </tr>\n",
       "    <tr>\n",
       "      <th>1181</th>\n",
       "      <td>West Palm Beach</td>\n",
       "      <td>charley</td>\n",
       "      <td>8/13/2004</td>\n",
       "      <td>28.520475</td>\n",
       "      <td>69.56759</td>\n",
       "      <td>158</td>\n",
       "      <td>337513.42410</td>\n",
       "      <td>408594.34550</td>\n",
       "      <td>21.060176</td>\n",
       "      <td>0</td>\n",
       "    </tr>\n",
       "    <tr>\n",
       "      <th>1182</th>\n",
       "      <td>West Palm Beach</td>\n",
       "      <td>charley</td>\n",
       "      <td>8/14/2004</td>\n",
       "      <td>24.516424</td>\n",
       "      <td>46.97490</td>\n",
       "      <td>158</td>\n",
       "      <td>337513.42410</td>\n",
       "      <td>408594.34550</td>\n",
       "      <td>21.060176</td>\n",
       "      <td>0</td>\n",
       "    </tr>\n",
       "  </tbody>\n",
       "</table>\n",
       "<p>344 rows × 10 columns</p>\n",
       "</div>"
      ],
      "text/plain": [
       "                 City HurricaneName        DATE       AWND       WSF2  \\\n",
       "3        Apalachicola          irma   9/11/2017  46.527520   82.54161   \n",
       "4        Apalachicola          irma   9/10/2017  42.523469   71.58080   \n",
       "5        Apalachicola          irma    9/9/2017  29.012593   44.51431   \n",
       "6        Apalachicola       matthew   10/7/2016  24.024306   48.98811   \n",
       "9        Apalachicola       michael   10/9/2018  29.527080   46.97490   \n",
       "...               ...           ...         ...        ...        ...   \n",
       "1175       Vero Beach          irma    9/9/2017  36.036459   67.10700   \n",
       "1176       Vero Beach       matthew   10/7/2016  55.542227  123.02950   \n",
       "1178       Vero Beach       michael  10/11/2018  23.509819   40.48789   \n",
       "1181  West Palm Beach       charley   8/13/2004  28.520475   69.56759   \n",
       "1182  West Palm Beach       charley   8/14/2004  24.516424   46.97490   \n",
       "\n",
       "      SizeRank        before         after    percent  increase  \n",
       "3        12877   52379.75722   63594.00344  21.409504         1  \n",
       "4        12877   52379.75722   63594.00344  21.409504         1  \n",
       "5        12877   52379.75722   63594.00344  21.409504         1  \n",
       "6        12877   48548.85811   52980.36723   9.127937         0  \n",
       "9        12877   65287.07867   76710.34737  17.496982         1  \n",
       "...        ...           ...           ...        ...       ...  \n",
       "1175       350  388826.87870  415861.76700   6.952937         0  \n",
       "1176       350  370610.35240  391912.10820   5.747750         0  \n",
       "1178       350  417970.89410  434714.67370   4.005968         0  \n",
       "1181       158  337513.42410  408594.34550  21.060176         0  \n",
       "1182       158  337513.42410  408594.34550  21.060176         0  \n",
       "\n",
       "[344 rows x 10 columns]"
      ]
     },
     "execution_count": 9,
     "metadata": {},
     "output_type": "execute_result"
    }
   ],
   "source": [
    "all"
   ]
  },
  {
   "cell_type": "markdown",
   "id": "32fa52cf",
   "metadata": {},
   "source": [
    "## Checking Crosstabs"
   ]
  },
  {
   "cell_type": "markdown",
   "id": "24617cfc",
   "metadata": {},
   "source": [
    "### Bottom Tier Home Values"
   ]
  },
  {
   "cell_type": "code",
   "execution_count": 10,
   "id": "eabe7306",
   "metadata": {},
   "outputs": [
    {
     "data": {
      "text/html": [
       "<div>\n",
       "<style scoped>\n",
       "    .dataframe tbody tr th:only-of-type {\n",
       "        vertical-align: middle;\n",
       "    }\n",
       "\n",
       "    .dataframe tbody tr th {\n",
       "        vertical-align: top;\n",
       "    }\n",
       "\n",
       "    .dataframe thead th {\n",
       "        text-align: right;\n",
       "    }\n",
       "</style>\n",
       "<table border=\"1\" class=\"dataframe\">\n",
       "  <thead>\n",
       "    <tr style=\"text-align: right;\">\n",
       "      <th></th>\n",
       "      <th>AWND</th>\n",
       "      <th>WSF2</th>\n",
       "      <th>SizeRank</th>\n",
       "      <th>before</th>\n",
       "      <th>after</th>\n",
       "      <th>percent</th>\n",
       "      <th>increase</th>\n",
       "    </tr>\n",
       "  </thead>\n",
       "  <tbody>\n",
       "    <tr>\n",
       "      <th>count</th>\n",
       "      <td>96.000000</td>\n",
       "      <td>96.000000</td>\n",
       "      <td>96.000000</td>\n",
       "      <td>96.000000</td>\n",
       "      <td>96.000000</td>\n",
       "      <td>96.000000</td>\n",
       "      <td>96.0</td>\n",
       "    </tr>\n",
       "    <tr>\n",
       "      <th>mean</th>\n",
       "      <td>37.643299</td>\n",
       "      <td>70.658079</td>\n",
       "      <td>778.479167</td>\n",
       "      <td>95519.992225</td>\n",
       "      <td>109226.353419</td>\n",
       "      <td>15.737500</td>\n",
       "      <td>0.0</td>\n",
       "    </tr>\n",
       "    <tr>\n",
       "      <th>std</th>\n",
       "      <td>16.800257</td>\n",
       "      <td>31.050273</td>\n",
       "      <td>1933.043703</td>\n",
       "      <td>36589.222256</td>\n",
       "      <td>38580.694737</td>\n",
       "      <td>7.428945</td>\n",
       "      <td>0.0</td>\n",
       "    </tr>\n",
       "    <tr>\n",
       "      <th>min</th>\n",
       "      <td>10.513430</td>\n",
       "      <td>0.000000</td>\n",
       "      <td>12.000000</td>\n",
       "      <td>35072.914710</td>\n",
       "      <td>42936.584540</td>\n",
       "      <td>1.715556</td>\n",
       "      <td>0.0</td>\n",
       "    </tr>\n",
       "    <tr>\n",
       "      <th>25%</th>\n",
       "      <td>28.520475</td>\n",
       "      <td>51.448700</td>\n",
       "      <td>109.000000</td>\n",
       "      <td>67085.771493</td>\n",
       "      <td>77117.054463</td>\n",
       "      <td>9.294061</td>\n",
       "      <td>0.0</td>\n",
       "    </tr>\n",
       "    <tr>\n",
       "      <th>50%</th>\n",
       "      <td>32.278467</td>\n",
       "      <td>60.284455</td>\n",
       "      <td>219.000000</td>\n",
       "      <td>87921.154230</td>\n",
       "      <td>106197.766650</td>\n",
       "      <td>13.545954</td>\n",
       "      <td>0.0</td>\n",
       "    </tr>\n",
       "    <tr>\n",
       "      <th>75%</th>\n",
       "      <td>43.530074</td>\n",
       "      <td>80.528400</td>\n",
       "      <td>714.000000</td>\n",
       "      <td>124777.238250</td>\n",
       "      <td>137188.222700</td>\n",
       "      <td>21.427859</td>\n",
       "      <td>0.0</td>\n",
       "    </tr>\n",
       "    <tr>\n",
       "      <th>max</th>\n",
       "      <td>90.057594</td>\n",
       "      <td>176.715100</td>\n",
       "      <td>12877.000000</td>\n",
       "      <td>187941.971100</td>\n",
       "      <td>204898.395000</td>\n",
       "      <td>31.148843</td>\n",
       "      <td>0.0</td>\n",
       "    </tr>\n",
       "  </tbody>\n",
       "</table>\n",
       "</div>"
      ],
      "text/plain": [
       "            AWND        WSF2      SizeRank         before          after  \\\n",
       "count  96.000000   96.000000     96.000000      96.000000      96.000000   \n",
       "mean   37.643299   70.658079    778.479167   95519.992225  109226.353419   \n",
       "std    16.800257   31.050273   1933.043703   36589.222256   38580.694737   \n",
       "min    10.513430    0.000000     12.000000   35072.914710   42936.584540   \n",
       "25%    28.520475   51.448700    109.000000   67085.771493   77117.054463   \n",
       "50%    32.278467   60.284455    219.000000   87921.154230  106197.766650   \n",
       "75%    43.530074   80.528400    714.000000  124777.238250  137188.222700   \n",
       "max    90.057594  176.715100  12877.000000  187941.971100  204898.395000   \n",
       "\n",
       "         percent  increase  \n",
       "count  96.000000      96.0  \n",
       "mean   15.737500       0.0  \n",
       "std     7.428945       0.0  \n",
       "min     1.715556       0.0  \n",
       "25%     9.294061       0.0  \n",
       "50%    13.545954       0.0  \n",
       "75%    21.427859       0.0  \n",
       "max    31.148843       0.0  "
      ]
     },
     "execution_count": 10,
     "metadata": {},
     "output_type": "execute_result"
    }
   ],
   "source": [
    "#check crosstabs \n",
    "bottom[bottom['increase'] == 0].describe()"
   ]
  },
  {
   "cell_type": "code",
   "execution_count": 11,
   "id": "6bbf2551",
   "metadata": {},
   "outputs": [
    {
     "data": {
      "text/html": [
       "<div>\n",
       "<style scoped>\n",
       "    .dataframe tbody tr th:only-of-type {\n",
       "        vertical-align: middle;\n",
       "    }\n",
       "\n",
       "    .dataframe tbody tr th {\n",
       "        vertical-align: top;\n",
       "    }\n",
       "\n",
       "    .dataframe thead th {\n",
       "        text-align: right;\n",
       "    }\n",
       "</style>\n",
       "<table border=\"1\" class=\"dataframe\">\n",
       "  <thead>\n",
       "    <tr style=\"text-align: right;\">\n",
       "      <th></th>\n",
       "      <th>AWND</th>\n",
       "      <th>WSF2</th>\n",
       "      <th>SizeRank</th>\n",
       "      <th>before</th>\n",
       "      <th>after</th>\n",
       "      <th>percent</th>\n",
       "      <th>increase</th>\n",
       "    </tr>\n",
       "  </thead>\n",
       "  <tbody>\n",
       "    <tr>\n",
       "      <th>count</th>\n",
       "      <td>45.000000</td>\n",
       "      <td>45.000000</td>\n",
       "      <td>45.000000</td>\n",
       "      <td>45.000000</td>\n",
       "      <td>45.000000</td>\n",
       "      <td>45.000000</td>\n",
       "      <td>45.0</td>\n",
       "    </tr>\n",
       "    <tr>\n",
       "      <th>mean</th>\n",
       "      <td>44.089299</td>\n",
       "      <td>81.333684</td>\n",
       "      <td>1614.733333</td>\n",
       "      <td>81869.675339</td>\n",
       "      <td>99918.350911</td>\n",
       "      <td>22.208175</td>\n",
       "      <td>1.0</td>\n",
       "    </tr>\n",
       "    <tr>\n",
       "      <th>std</th>\n",
       "      <td>16.901994</td>\n",
       "      <td>31.479745</td>\n",
       "      <td>3251.236781</td>\n",
       "      <td>22972.899025</td>\n",
       "      <td>28216.775660</td>\n",
       "      <td>6.973273</td>\n",
       "      <td>0.0</td>\n",
       "    </tr>\n",
       "    <tr>\n",
       "      <th>min</th>\n",
       "      <td>13.018758</td>\n",
       "      <td>29.079700</td>\n",
       "      <td>12.000000</td>\n",
       "      <td>33025.679010</td>\n",
       "      <td>41196.088340</td>\n",
       "      <td>12.376811</td>\n",
       "      <td>1.0</td>\n",
       "    </tr>\n",
       "    <tr>\n",
       "      <th>25%</th>\n",
       "      <td>31.025803</td>\n",
       "      <td>57.935710</td>\n",
       "      <td>105.000000</td>\n",
       "      <td>65732.062590</td>\n",
       "      <td>78209.741850</td>\n",
       "      <td>17.496982</td>\n",
       "      <td>1.0</td>\n",
       "    </tr>\n",
       "    <tr>\n",
       "      <th>50%</th>\n",
       "      <td>43.530074</td>\n",
       "      <td>69.567590</td>\n",
       "      <td>350.000000</td>\n",
       "      <td>79706.029380</td>\n",
       "      <td>97547.957590</td>\n",
       "      <td>19.823318</td>\n",
       "      <td>1.0</td>\n",
       "    </tr>\n",
       "    <tr>\n",
       "      <th>75%</th>\n",
       "      <td>53.036899</td>\n",
       "      <td>116.542490</td>\n",
       "      <td>1343.000000</td>\n",
       "      <td>94132.640630</td>\n",
       "      <td>113361.292200</td>\n",
       "      <td>24.912005</td>\n",
       "      <td>1.0</td>\n",
       "    </tr>\n",
       "    <tr>\n",
       "      <th>max</th>\n",
       "      <td>91.064199</td>\n",
       "      <td>158.596210</td>\n",
       "      <td>12877.000000</td>\n",
       "      <td>137614.499600</td>\n",
       "      <td>166366.441400</td>\n",
       "      <td>38.720009</td>\n",
       "      <td>1.0</td>\n",
       "    </tr>\n",
       "  </tbody>\n",
       "</table>\n",
       "</div>"
      ],
      "text/plain": [
       "            AWND        WSF2      SizeRank         before          after  \\\n",
       "count  45.000000   45.000000     45.000000      45.000000      45.000000   \n",
       "mean   44.089299   81.333684   1614.733333   81869.675339   99918.350911   \n",
       "std    16.901994   31.479745   3251.236781   22972.899025   28216.775660   \n",
       "min    13.018758   29.079700     12.000000   33025.679010   41196.088340   \n",
       "25%    31.025803   57.935710    105.000000   65732.062590   78209.741850   \n",
       "50%    43.530074   69.567590    350.000000   79706.029380   97547.957590   \n",
       "75%    53.036899  116.542490   1343.000000   94132.640630  113361.292200   \n",
       "max    91.064199  158.596210  12877.000000  137614.499600  166366.441400   \n",
       "\n",
       "         percent  increase  \n",
       "count  45.000000      45.0  \n",
       "mean   22.208175       1.0  \n",
       "std     6.973273       0.0  \n",
       "min    12.376811       1.0  \n",
       "25%    17.496982       1.0  \n",
       "50%    19.823318       1.0  \n",
       "75%    24.912005       1.0  \n",
       "max    38.720009       1.0  "
      ]
     },
     "execution_count": 11,
     "metadata": {},
     "output_type": "execute_result"
    }
   ],
   "source": [
    "#check crosstabs \n",
    "bottom[bottom['increase'] == 1].describe()"
   ]
  },
  {
   "cell_type": "markdown",
   "id": "4453ad41",
   "metadata": {},
   "source": [
    "### Middle Tier Home Values"
   ]
  },
  {
   "cell_type": "code",
   "execution_count": 12,
   "id": "188f91d9",
   "metadata": {},
   "outputs": [
    {
     "data": {
      "text/html": [
       "<div>\n",
       "<style scoped>\n",
       "    .dataframe tbody tr th:only-of-type {\n",
       "        vertical-align: middle;\n",
       "    }\n",
       "\n",
       "    .dataframe tbody tr th {\n",
       "        vertical-align: top;\n",
       "    }\n",
       "\n",
       "    .dataframe thead th {\n",
       "        text-align: right;\n",
       "    }\n",
       "</style>\n",
       "<table border=\"1\" class=\"dataframe\">\n",
       "  <thead>\n",
       "    <tr style=\"text-align: right;\">\n",
       "      <th></th>\n",
       "      <th>AWND</th>\n",
       "      <th>WSF2</th>\n",
       "      <th>SizeRank</th>\n",
       "      <th>before</th>\n",
       "      <th>after</th>\n",
       "      <th>percent</th>\n",
       "      <th>increase</th>\n",
       "    </tr>\n",
       "  </thead>\n",
       "  <tbody>\n",
       "    <tr>\n",
       "      <th>count</th>\n",
       "      <td>106.000000</td>\n",
       "      <td>106.000000</td>\n",
       "      <td>106.000000</td>\n",
       "      <td>106.000000</td>\n",
       "      <td>106.000000</td>\n",
       "      <td>106.000000</td>\n",
       "      <td>106.0</td>\n",
       "    </tr>\n",
       "    <tr>\n",
       "      <th>mean</th>\n",
       "      <td>38.458431</td>\n",
       "      <td>72.874403</td>\n",
       "      <td>1196.764151</td>\n",
       "      <td>178788.700647</td>\n",
       "      <td>200015.445600</td>\n",
       "      <td>12.739620</td>\n",
       "      <td>0.0</td>\n",
       "    </tr>\n",
       "    <tr>\n",
       "      <th>std</th>\n",
       "      <td>16.550277</td>\n",
       "      <td>29.720473</td>\n",
       "      <td>2875.059325</td>\n",
       "      <td>57253.054213</td>\n",
       "      <td>60012.616564</td>\n",
       "      <td>8.166830</td>\n",
       "      <td>0.0</td>\n",
       "    </tr>\n",
       "    <tr>\n",
       "      <th>min</th>\n",
       "      <td>10.513430</td>\n",
       "      <td>22.592690</td>\n",
       "      <td>12.000000</td>\n",
       "      <td>47433.413480</td>\n",
       "      <td>55475.026340</td>\n",
       "      <td>-0.304135</td>\n",
       "      <td>0.0</td>\n",
       "    </tr>\n",
       "    <tr>\n",
       "      <th>25%</th>\n",
       "      <td>28.520475</td>\n",
       "      <td>53.461910</td>\n",
       "      <td>106.000000</td>\n",
       "      <td>140195.814075</td>\n",
       "      <td>158385.796575</td>\n",
       "      <td>6.516116</td>\n",
       "      <td>0.0</td>\n",
       "    </tr>\n",
       "    <tr>\n",
       "      <th>50%</th>\n",
       "      <td>33.016644</td>\n",
       "      <td>65.093790</td>\n",
       "      <td>219.000000</td>\n",
       "      <td>168077.713500</td>\n",
       "      <td>188779.652850</td>\n",
       "      <td>10.175417</td>\n",
       "      <td>0.0</td>\n",
       "    </tr>\n",
       "    <tr>\n",
       "      <th>75%</th>\n",
       "      <td>45.912372</td>\n",
       "      <td>82.541610</td>\n",
       "      <td>744.000000</td>\n",
       "      <td>214175.896200</td>\n",
       "      <td>235810.160275</td>\n",
       "      <td>19.340890</td>\n",
       "      <td>0.0</td>\n",
       "    </tr>\n",
       "    <tr>\n",
       "      <th>max</th>\n",
       "      <td>87.060148</td>\n",
       "      <td>176.715100</td>\n",
       "      <td>12877.000000</td>\n",
       "      <td>328091.109800</td>\n",
       "      <td>346404.378100</td>\n",
       "      <td>30.423110</td>\n",
       "      <td>0.0</td>\n",
       "    </tr>\n",
       "  </tbody>\n",
       "</table>\n",
       "</div>"
      ],
      "text/plain": [
       "             AWND        WSF2      SizeRank         before          after  \\\n",
       "count  106.000000  106.000000    106.000000     106.000000     106.000000   \n",
       "mean    38.458431   72.874403   1196.764151  178788.700647  200015.445600   \n",
       "std     16.550277   29.720473   2875.059325   57253.054213   60012.616564   \n",
       "min     10.513430   22.592690     12.000000   47433.413480   55475.026340   \n",
       "25%     28.520475   53.461910    106.000000  140195.814075  158385.796575   \n",
       "50%     33.016644   65.093790    219.000000  168077.713500  188779.652850   \n",
       "75%     45.912372   82.541610    744.000000  214175.896200  235810.160275   \n",
       "max     87.060148  176.715100  12877.000000  328091.109800  346404.378100   \n",
       "\n",
       "          percent  increase  \n",
       "count  106.000000     106.0  \n",
       "mean    12.739620       0.0  \n",
       "std      8.166830       0.0  \n",
       "min     -0.304135       0.0  \n",
       "25%      6.516116       0.0  \n",
       "50%     10.175417       0.0  \n",
       "75%     19.340890       0.0  \n",
       "max     30.423110       0.0  "
      ]
     },
     "execution_count": 12,
     "metadata": {},
     "output_type": "execute_result"
    }
   ],
   "source": [
    "#check crosstabs \n",
    "middle[middle['increase'] == 0].describe()"
   ]
  },
  {
   "cell_type": "code",
   "execution_count": 13,
   "id": "e09d1870",
   "metadata": {},
   "outputs": [
    {
     "data": {
      "text/html": [
       "<div>\n",
       "<style scoped>\n",
       "    .dataframe tbody tr th:only-of-type {\n",
       "        vertical-align: middle;\n",
       "    }\n",
       "\n",
       "    .dataframe tbody tr th {\n",
       "        vertical-align: top;\n",
       "    }\n",
       "\n",
       "    .dataframe thead th {\n",
       "        text-align: right;\n",
       "    }\n",
       "</style>\n",
       "<table border=\"1\" class=\"dataframe\">\n",
       "  <thead>\n",
       "    <tr style=\"text-align: right;\">\n",
       "      <th></th>\n",
       "      <th>AWND</th>\n",
       "      <th>WSF2</th>\n",
       "      <th>SizeRank</th>\n",
       "      <th>before</th>\n",
       "      <th>after</th>\n",
       "      <th>percent</th>\n",
       "      <th>increase</th>\n",
       "    </tr>\n",
       "  </thead>\n",
       "  <tbody>\n",
       "    <tr>\n",
       "      <th>count</th>\n",
       "      <td>33.000000</td>\n",
       "      <td>33.000000</td>\n",
       "      <td>33.000000</td>\n",
       "      <td>33.000000</td>\n",
       "      <td>33.000000</td>\n",
       "      <td>33.000000</td>\n",
       "      <td>33.0</td>\n",
       "    </tr>\n",
       "    <tr>\n",
       "      <th>mean</th>\n",
       "      <td>43.548376</td>\n",
       "      <td>76.359632</td>\n",
       "      <td>2376.212121</td>\n",
       "      <td>152609.677086</td>\n",
       "      <td>183012.972018</td>\n",
       "      <td>19.750077</td>\n",
       "      <td>1.0</td>\n",
       "    </tr>\n",
       "    <tr>\n",
       "      <th>std</th>\n",
       "      <td>20.249049</td>\n",
       "      <td>35.454592</td>\n",
       "      <td>3966.086317</td>\n",
       "      <td>45215.695236</td>\n",
       "      <td>58301.939354</td>\n",
       "      <td>9.054438</td>\n",
       "      <td>0.0</td>\n",
       "    </tr>\n",
       "    <tr>\n",
       "      <th>min</th>\n",
       "      <td>9.998943</td>\n",
       "      <td>18.118890</td>\n",
       "      <td>12.000000</td>\n",
       "      <td>38971.285380</td>\n",
       "      <td>48205.342730</td>\n",
       "      <td>8.693131</td>\n",
       "      <td>1.0</td>\n",
       "    </tr>\n",
       "    <tr>\n",
       "      <th>25%</th>\n",
       "      <td>30.533685</td>\n",
       "      <td>53.461910</td>\n",
       "      <td>299.000000</td>\n",
       "      <td>131341.028200</td>\n",
       "      <td>147305.080700</td>\n",
       "      <td>11.724797</td>\n",
       "      <td>1.0</td>\n",
       "    </tr>\n",
       "    <tr>\n",
       "      <th>50%</th>\n",
       "      <td>37.535182</td>\n",
       "      <td>65.093790</td>\n",
       "      <td>529.000000</td>\n",
       "      <td>153995.650000</td>\n",
       "      <td>185899.410500</td>\n",
       "      <td>14.943632</td>\n",
       "      <td>1.0</td>\n",
       "    </tr>\n",
       "    <tr>\n",
       "      <th>75%</th>\n",
       "      <td>55.050109</td>\n",
       "      <td>103.121090</td>\n",
       "      <td>1644.000000</td>\n",
       "      <td>184197.828400</td>\n",
       "      <td>211150.410200</td>\n",
       "      <td>27.524342</td>\n",
       "      <td>1.0</td>\n",
       "    </tr>\n",
       "    <tr>\n",
       "      <th>max</th>\n",
       "      <td>91.064199</td>\n",
       "      <td>158.596210</td>\n",
       "      <td>12877.000000</td>\n",
       "      <td>237636.125500</td>\n",
       "      <td>316361.491800</td>\n",
       "      <td>34.925821</td>\n",
       "      <td>1.0</td>\n",
       "    </tr>\n",
       "  </tbody>\n",
       "</table>\n",
       "</div>"
      ],
      "text/plain": [
       "            AWND        WSF2      SizeRank         before          after  \\\n",
       "count  33.000000   33.000000     33.000000      33.000000      33.000000   \n",
       "mean   43.548376   76.359632   2376.212121  152609.677086  183012.972018   \n",
       "std    20.249049   35.454592   3966.086317   45215.695236   58301.939354   \n",
       "min     9.998943   18.118890     12.000000   38971.285380   48205.342730   \n",
       "25%    30.533685   53.461910    299.000000  131341.028200  147305.080700   \n",
       "50%    37.535182   65.093790    529.000000  153995.650000  185899.410500   \n",
       "75%    55.050109  103.121090   1644.000000  184197.828400  211150.410200   \n",
       "max    91.064199  158.596210  12877.000000  237636.125500  316361.491800   \n",
       "\n",
       "         percent  increase  \n",
       "count  33.000000      33.0  \n",
       "mean   19.750077       1.0  \n",
       "std     9.054438       0.0  \n",
       "min     8.693131       1.0  \n",
       "25%    11.724797       1.0  \n",
       "50%    14.943632       1.0  \n",
       "75%    27.524342       1.0  \n",
       "max    34.925821       1.0  "
      ]
     },
     "execution_count": 13,
     "metadata": {},
     "output_type": "execute_result"
    }
   ],
   "source": [
    "#check crosstabs \n",
    "middle[middle['increase'] == 1].describe()"
   ]
  },
  {
   "cell_type": "markdown",
   "id": "5b0c765b",
   "metadata": {},
   "source": [
    "### Top Tier Home Values"
   ]
  },
  {
   "cell_type": "code",
   "execution_count": 14,
   "id": "ddcff20a",
   "metadata": {},
   "outputs": [
    {
     "data": {
      "text/html": [
       "<div>\n",
       "<style scoped>\n",
       "    .dataframe tbody tr th:only-of-type {\n",
       "        vertical-align: middle;\n",
       "    }\n",
       "\n",
       "    .dataframe tbody tr th {\n",
       "        vertical-align: top;\n",
       "    }\n",
       "\n",
       "    .dataframe thead th {\n",
       "        text-align: right;\n",
       "    }\n",
       "</style>\n",
       "<table border=\"1\" class=\"dataframe\">\n",
       "  <thead>\n",
       "    <tr style=\"text-align: right;\">\n",
       "      <th></th>\n",
       "      <th>AWND</th>\n",
       "      <th>WSF2</th>\n",
       "      <th>SizeRank</th>\n",
       "      <th>before</th>\n",
       "      <th>after</th>\n",
       "      <th>percent</th>\n",
       "      <th>increase</th>\n",
       "    </tr>\n",
       "  </thead>\n",
       "  <tbody>\n",
       "    <tr>\n",
       "      <th>count</th>\n",
       "      <td>114.000000</td>\n",
       "      <td>114.000000</td>\n",
       "      <td>114.000000</td>\n",
       "      <td>114.000000</td>\n",
       "      <td>114.000000</td>\n",
       "      <td>114.000000</td>\n",
       "      <td>114.0</td>\n",
       "    </tr>\n",
       "    <tr>\n",
       "      <th>mean</th>\n",
       "      <td>39.736174</td>\n",
       "      <td>73.878528</td>\n",
       "      <td>1225.184211</td>\n",
       "      <td>328449.969281</td>\n",
       "      <td>360988.239664</td>\n",
       "      <td>10.473163</td>\n",
       "      <td>0.0</td>\n",
       "    </tr>\n",
       "    <tr>\n",
       "      <th>std</th>\n",
       "      <td>17.565823</td>\n",
       "      <td>31.217781</td>\n",
       "      <td>2961.979981</td>\n",
       "      <td>113947.912364</td>\n",
       "      <td>122569.498236</td>\n",
       "      <td>8.631772</td>\n",
       "      <td>0.0</td>\n",
       "    </tr>\n",
       "    <tr>\n",
       "      <th>min</th>\n",
       "      <td>9.998943</td>\n",
       "      <td>0.000000</td>\n",
       "      <td>12.000000</td>\n",
       "      <td>98118.000900</td>\n",
       "      <td>119490.997200</td>\n",
       "      <td>-4.161603</td>\n",
       "      <td>0.0</td>\n",
       "    </tr>\n",
       "    <tr>\n",
       "      <th>25%</th>\n",
       "      <td>29.012593</td>\n",
       "      <td>53.461910</td>\n",
       "      <td>93.000000</td>\n",
       "      <td>246799.050675</td>\n",
       "      <td>271226.589675</td>\n",
       "      <td>4.737962</td>\n",
       "      <td>0.0</td>\n",
       "    </tr>\n",
       "    <tr>\n",
       "      <th>50%</th>\n",
       "      <td>33.777190</td>\n",
       "      <td>65.093790</td>\n",
       "      <td>190.000000</td>\n",
       "      <td>315968.313150</td>\n",
       "      <td>350767.209850</td>\n",
       "      <td>5.958488</td>\n",
       "      <td>0.0</td>\n",
       "    </tr>\n",
       "    <tr>\n",
       "      <th>75%</th>\n",
       "      <td>46.527520</td>\n",
       "      <td>85.002200</td>\n",
       "      <td>744.000000</td>\n",
       "      <td>382389.195500</td>\n",
       "      <td>418708.970725</td>\n",
       "      <td>17.504185</td>\n",
       "      <td>0.0</td>\n",
       "    </tr>\n",
       "    <tr>\n",
       "      <th>max</th>\n",
       "      <td>90.057594</td>\n",
       "      <td>176.715100</td>\n",
       "      <td>12877.000000</td>\n",
       "      <td>671004.028700</td>\n",
       "      <td>768214.341700</td>\n",
       "      <td>27.655345</td>\n",
       "      <td>0.0</td>\n",
       "    </tr>\n",
       "  </tbody>\n",
       "</table>\n",
       "</div>"
      ],
      "text/plain": [
       "             AWND        WSF2      SizeRank         before          after  \\\n",
       "count  114.000000  114.000000    114.000000     114.000000     114.000000   \n",
       "mean    39.736174   73.878528   1225.184211  328449.969281  360988.239664   \n",
       "std     17.565823   31.217781   2961.979981  113947.912364  122569.498236   \n",
       "min      9.998943    0.000000     12.000000   98118.000900  119490.997200   \n",
       "25%     29.012593   53.461910     93.000000  246799.050675  271226.589675   \n",
       "50%     33.777190   65.093790    190.000000  315968.313150  350767.209850   \n",
       "75%     46.527520   85.002200    744.000000  382389.195500  418708.970725   \n",
       "max     90.057594  176.715100  12877.000000  671004.028700  768214.341700   \n",
       "\n",
       "          percent  increase  \n",
       "count  114.000000     114.0  \n",
       "mean    10.473163       0.0  \n",
       "std      8.631772       0.0  \n",
       "min     -4.161603       0.0  \n",
       "25%      4.737962       0.0  \n",
       "50%      5.958488       0.0  \n",
       "75%     17.504185       0.0  \n",
       "max     27.655345       0.0  "
      ]
     },
     "execution_count": 14,
     "metadata": {},
     "output_type": "execute_result"
    }
   ],
   "source": [
    "#check crosstabs \n",
    "top[top['increase'] == 0].describe()"
   ]
  },
  {
   "cell_type": "code",
   "execution_count": 15,
   "id": "d6842f4a",
   "metadata": {},
   "outputs": [
    {
     "data": {
      "text/html": [
       "<div>\n",
       "<style scoped>\n",
       "    .dataframe tbody tr th:only-of-type {\n",
       "        vertical-align: middle;\n",
       "    }\n",
       "\n",
       "    .dataframe tbody tr th {\n",
       "        vertical-align: top;\n",
       "    }\n",
       "\n",
       "    .dataframe thead th {\n",
       "        text-align: right;\n",
       "    }\n",
       "</style>\n",
       "<table border=\"1\" class=\"dataframe\">\n",
       "  <thead>\n",
       "    <tr style=\"text-align: right;\">\n",
       "      <th></th>\n",
       "      <th>AWND</th>\n",
       "      <th>WSF2</th>\n",
       "      <th>SizeRank</th>\n",
       "      <th>before</th>\n",
       "      <th>after</th>\n",
       "      <th>percent</th>\n",
       "      <th>increase</th>\n",
       "    </tr>\n",
       "  </thead>\n",
       "  <tbody>\n",
       "    <tr>\n",
       "      <th>count</th>\n",
       "      <td>28.000000</td>\n",
       "      <td>28.000000</td>\n",
       "      <td>28.000000</td>\n",
       "      <td>28.000000</td>\n",
       "      <td>28.000000</td>\n",
       "      <td>28.000000</td>\n",
       "      <td>28.0</td>\n",
       "    </tr>\n",
       "    <tr>\n",
       "      <th>mean</th>\n",
       "      <td>39.423765</td>\n",
       "      <td>72.012202</td>\n",
       "      <td>2354.142857</td>\n",
       "      <td>273379.316779</td>\n",
       "      <td>326346.226943</td>\n",
       "      <td>18.132019</td>\n",
       "      <td>1.0</td>\n",
       "    </tr>\n",
       "    <tr>\n",
       "      <th>std</th>\n",
       "      <td>17.008282</td>\n",
       "      <td>32.354927</td>\n",
       "      <td>3809.242403</td>\n",
       "      <td>76774.203448</td>\n",
       "      <td>110181.403979</td>\n",
       "      <td>10.229255</td>\n",
       "      <td>0.0</td>\n",
       "    </tr>\n",
       "    <tr>\n",
       "      <th>min</th>\n",
       "      <td>13.018758</td>\n",
       "      <td>29.079700</td>\n",
       "      <td>16.000000</td>\n",
       "      <td>130756.896600</td>\n",
       "      <td>140391.373400</td>\n",
       "      <td>6.722834</td>\n",
       "      <td>1.0</td>\n",
       "    </tr>\n",
       "    <tr>\n",
       "      <th>25%</th>\n",
       "      <td>29.398458</td>\n",
       "      <td>52.958607</td>\n",
       "      <td>299.000000</td>\n",
       "      <td>231229.432300</td>\n",
       "      <td>255309.653800</td>\n",
       "      <td>7.967553</td>\n",
       "      <td>1.0</td>\n",
       "    </tr>\n",
       "    <tr>\n",
       "      <th>50%</th>\n",
       "      <td>33.273888</td>\n",
       "      <td>62.633200</td>\n",
       "      <td>636.500000</td>\n",
       "      <td>252692.063600</td>\n",
       "      <td>311156.525200</td>\n",
       "      <td>18.205906</td>\n",
       "      <td>1.0</td>\n",
       "    </tr>\n",
       "    <tr>\n",
       "      <th>75%</th>\n",
       "      <td>49.038440</td>\n",
       "      <td>76.781592</td>\n",
       "      <td>1927.000000</td>\n",
       "      <td>315217.170000</td>\n",
       "      <td>372749.758575</td>\n",
       "      <td>28.046185</td>\n",
       "      <td>1.0</td>\n",
       "    </tr>\n",
       "    <tr>\n",
       "      <th>max</th>\n",
       "      <td>91.064199</td>\n",
       "      <td>158.596210</td>\n",
       "      <td>12877.000000</td>\n",
       "      <td>457389.673300</td>\n",
       "      <td>605350.754900</td>\n",
       "      <td>33.863819</td>\n",
       "      <td>1.0</td>\n",
       "    </tr>\n",
       "  </tbody>\n",
       "</table>\n",
       "</div>"
      ],
      "text/plain": [
       "            AWND        WSF2      SizeRank         before          after  \\\n",
       "count  28.000000   28.000000     28.000000      28.000000      28.000000   \n",
       "mean   39.423765   72.012202   2354.142857  273379.316779  326346.226943   \n",
       "std    17.008282   32.354927   3809.242403   76774.203448  110181.403979   \n",
       "min    13.018758   29.079700     16.000000  130756.896600  140391.373400   \n",
       "25%    29.398458   52.958607    299.000000  231229.432300  255309.653800   \n",
       "50%    33.273888   62.633200    636.500000  252692.063600  311156.525200   \n",
       "75%    49.038440   76.781592   1927.000000  315217.170000  372749.758575   \n",
       "max    91.064199  158.596210  12877.000000  457389.673300  605350.754900   \n",
       "\n",
       "         percent  increase  \n",
       "count  28.000000      28.0  \n",
       "mean   18.132019       1.0  \n",
       "std    10.229255       0.0  \n",
       "min     6.722834       1.0  \n",
       "25%     7.967553       1.0  \n",
       "50%    18.205906       1.0  \n",
       "75%    28.046185       1.0  \n",
       "max    33.863819       1.0  "
      ]
     },
     "execution_count": 15,
     "metadata": {},
     "output_type": "execute_result"
    }
   ],
   "source": [
    "#check crosstabs \n",
    "top[top['increase'] == 1].describe()"
   ]
  },
  {
   "cell_type": "markdown",
   "id": "f30f7a62",
   "metadata": {},
   "source": [
    "### All Home Values "
   ]
  },
  {
   "cell_type": "code",
   "execution_count": 16,
   "id": "5857d34d",
   "metadata": {},
   "outputs": [
    {
     "data": {
      "text/html": [
       "<div>\n",
       "<style scoped>\n",
       "    .dataframe tbody tr th:only-of-type {\n",
       "        vertical-align: middle;\n",
       "    }\n",
       "\n",
       "    .dataframe tbody tr th {\n",
       "        vertical-align: top;\n",
       "    }\n",
       "\n",
       "    .dataframe thead th {\n",
       "        text-align: right;\n",
       "    }\n",
       "</style>\n",
       "<table border=\"1\" class=\"dataframe\">\n",
       "  <thead>\n",
       "    <tr style=\"text-align: right;\">\n",
       "      <th></th>\n",
       "      <th>AWND</th>\n",
       "      <th>WSF2</th>\n",
       "      <th>SizeRank</th>\n",
       "      <th>before</th>\n",
       "      <th>after</th>\n",
       "      <th>percent</th>\n",
       "      <th>increase</th>\n",
       "    </tr>\n",
       "  </thead>\n",
       "  <tbody>\n",
       "    <tr>\n",
       "      <th>count</th>\n",
       "      <td>255.000000</td>\n",
       "      <td>255.000000</td>\n",
       "      <td>255.000000</td>\n",
       "      <td>255.000000</td>\n",
       "      <td>255.000000</td>\n",
       "      <td>255.000000</td>\n",
       "      <td>255.0</td>\n",
       "    </tr>\n",
       "    <tr>\n",
       "      <th>mean</th>\n",
       "      <td>30.925011</td>\n",
       "      <td>60.731396</td>\n",
       "      <td>1089.431373</td>\n",
       "      <td>211747.767169</td>\n",
       "      <td>233408.265102</td>\n",
       "      <td>11.845164</td>\n",
       "      <td>0.0</td>\n",
       "    </tr>\n",
       "    <tr>\n",
       "      <th>std</th>\n",
       "      <td>15.293820</td>\n",
       "      <td>27.899548</td>\n",
       "      <td>2694.309919</td>\n",
       "      <td>123184.553376</td>\n",
       "      <td>132296.698262</td>\n",
       "      <td>8.187838</td>\n",
       "      <td>0.0</td>\n",
       "    </tr>\n",
       "    <tr>\n",
       "      <th>min</th>\n",
       "      <td>6.509379</td>\n",
       "      <td>0.000000</td>\n",
       "      <td>12.000000</td>\n",
       "      <td>35072.914710</td>\n",
       "      <td>42936.584540</td>\n",
       "      <td>-4.161603</td>\n",
       "      <td>0.0</td>\n",
       "    </tr>\n",
       "    <tr>\n",
       "      <th>25%</th>\n",
       "      <td>19.763011</td>\n",
       "      <td>40.487890</td>\n",
       "      <td>106.000000</td>\n",
       "      <td>124794.712500</td>\n",
       "      <td>140227.008700</td>\n",
       "      <td>5.646389</td>\n",
       "      <td>0.0</td>\n",
       "    </tr>\n",
       "    <tr>\n",
       "      <th>50%</th>\n",
       "      <td>27.513870</td>\n",
       "      <td>53.461910</td>\n",
       "      <td>219.000000</td>\n",
       "      <td>187824.496600</td>\n",
       "      <td>214674.751400</td>\n",
       "      <td>9.022159</td>\n",
       "      <td>0.0</td>\n",
       "    </tr>\n",
       "    <tr>\n",
       "      <th>75%</th>\n",
       "      <td>37.535182</td>\n",
       "      <td>69.567590</td>\n",
       "      <td>744.000000</td>\n",
       "      <td>273060.916100</td>\n",
       "      <td>295327.216450</td>\n",
       "      <td>17.328141</td>\n",
       "      <td>0.0</td>\n",
       "    </tr>\n",
       "    <tr>\n",
       "      <th>max</th>\n",
       "      <td>87.060148</td>\n",
       "      <td>176.715100</td>\n",
       "      <td>12877.000000</td>\n",
       "      <td>638691.713200</td>\n",
       "      <td>768214.341700</td>\n",
       "      <td>30.676022</td>\n",
       "      <td>0.0</td>\n",
       "    </tr>\n",
       "  </tbody>\n",
       "</table>\n",
       "</div>"
      ],
      "text/plain": [
       "             AWND        WSF2      SizeRank         before          after  \\\n",
       "count  255.000000  255.000000    255.000000     255.000000     255.000000   \n",
       "mean    30.925011   60.731396   1089.431373  211747.767169  233408.265102   \n",
       "std     15.293820   27.899548   2694.309919  123184.553376  132296.698262   \n",
       "min      6.509379    0.000000     12.000000   35072.914710   42936.584540   \n",
       "25%     19.763011   40.487890    106.000000  124794.712500  140227.008700   \n",
       "50%     27.513870   53.461910    219.000000  187824.496600  214674.751400   \n",
       "75%     37.535182   69.567590    744.000000  273060.916100  295327.216450   \n",
       "max     87.060148  176.715100  12877.000000  638691.713200  768214.341700   \n",
       "\n",
       "          percent  increase  \n",
       "count  255.000000     255.0  \n",
       "mean    11.845164       0.0  \n",
       "std      8.187838       0.0  \n",
       "min     -4.161603       0.0  \n",
       "25%      5.646389       0.0  \n",
       "50%      9.022159       0.0  \n",
       "75%     17.328141       0.0  \n",
       "max     30.676022       0.0  "
      ]
     },
     "execution_count": 16,
     "metadata": {},
     "output_type": "execute_result"
    }
   ],
   "source": [
    "#check crosstabs \n",
    "all[all['increase'] == 0].describe()"
   ]
  },
  {
   "cell_type": "code",
   "execution_count": 17,
   "id": "b295204a",
   "metadata": {},
   "outputs": [
    {
     "data": {
      "text/html": [
       "<div>\n",
       "<style scoped>\n",
       "    .dataframe tbody tr th:only-of-type {\n",
       "        vertical-align: middle;\n",
       "    }\n",
       "\n",
       "    .dataframe tbody tr th {\n",
       "        vertical-align: top;\n",
       "    }\n",
       "\n",
       "    .dataframe thead th {\n",
       "        text-align: right;\n",
       "    }\n",
       "</style>\n",
       "<table border=\"1\" class=\"dataframe\">\n",
       "  <thead>\n",
       "    <tr style=\"text-align: right;\">\n",
       "      <th></th>\n",
       "      <th>AWND</th>\n",
       "      <th>WSF2</th>\n",
       "      <th>SizeRank</th>\n",
       "      <th>before</th>\n",
       "      <th>after</th>\n",
       "      <th>percent</th>\n",
       "      <th>increase</th>\n",
       "    </tr>\n",
       "  </thead>\n",
       "  <tbody>\n",
       "    <tr>\n",
       "      <th>count</th>\n",
       "      <td>89.000000</td>\n",
       "      <td>89.000000</td>\n",
       "      <td>89.000000</td>\n",
       "      <td>89.000000</td>\n",
       "      <td>89.000000</td>\n",
       "      <td>89.000000</td>\n",
       "      <td>89.0</td>\n",
       "    </tr>\n",
       "    <tr>\n",
       "      <th>mean</th>\n",
       "      <td>32.844478</td>\n",
       "      <td>62.633200</td>\n",
       "      <td>2131.494382</td>\n",
       "      <td>152594.353036</td>\n",
       "      <td>181933.349527</td>\n",
       "      <td>19.095580</td>\n",
       "      <td>1.0</td>\n",
       "    </tr>\n",
       "    <tr>\n",
       "      <th>std</th>\n",
       "      <td>16.774794</td>\n",
       "      <td>29.838443</td>\n",
       "      <td>3717.355567</td>\n",
       "      <td>86637.294646</td>\n",
       "      <td>108333.418143</td>\n",
       "      <td>8.441306</td>\n",
       "      <td>0.0</td>\n",
       "    </tr>\n",
       "    <tr>\n",
       "      <th>min</th>\n",
       "      <td>11.005548</td>\n",
       "      <td>15.434610</td>\n",
       "      <td>12.000000</td>\n",
       "      <td>44457.567490</td>\n",
       "      <td>55432.846820</td>\n",
       "      <td>6.722834</td>\n",
       "      <td>1.0</td>\n",
       "    </tr>\n",
       "    <tr>\n",
       "      <th>25%</th>\n",
       "      <td>19.505768</td>\n",
       "      <td>40.487890</td>\n",
       "      <td>113.000000</td>\n",
       "      <td>80030.413350</td>\n",
       "      <td>97547.957590</td>\n",
       "      <td>11.991988</td>\n",
       "      <td>1.0</td>\n",
       "    </tr>\n",
       "    <tr>\n",
       "      <th>50%</th>\n",
       "      <td>29.527080</td>\n",
       "      <td>56.146190</td>\n",
       "      <td>529.000000</td>\n",
       "      <td>131778.204300</td>\n",
       "      <td>156779.957100</td>\n",
       "      <td>17.496982</td>\n",
       "      <td>1.0</td>\n",
       "    </tr>\n",
       "    <tr>\n",
       "      <th>75%</th>\n",
       "      <td>42.523469</td>\n",
       "      <td>71.580800</td>\n",
       "      <td>1644.000000</td>\n",
       "      <td>196585.356400</td>\n",
       "      <td>236701.273600</td>\n",
       "      <td>24.037927</td>\n",
       "      <td>1.0</td>\n",
       "    </tr>\n",
       "    <tr>\n",
       "      <th>max</th>\n",
       "      <td>91.064199</td>\n",
       "      <td>158.596210</td>\n",
       "      <td>12877.000000</td>\n",
       "      <td>457389.673300</td>\n",
       "      <td>605350.754900</td>\n",
       "      <td>38.720009</td>\n",
       "      <td>1.0</td>\n",
       "    </tr>\n",
       "  </tbody>\n",
       "</table>\n",
       "</div>"
      ],
      "text/plain": [
       "            AWND        WSF2      SizeRank         before          after  \\\n",
       "count  89.000000   89.000000     89.000000      89.000000      89.000000   \n",
       "mean   32.844478   62.633200   2131.494382  152594.353036  181933.349527   \n",
       "std    16.774794   29.838443   3717.355567   86637.294646  108333.418143   \n",
       "min    11.005548   15.434610     12.000000   44457.567490   55432.846820   \n",
       "25%    19.505768   40.487890    113.000000   80030.413350   97547.957590   \n",
       "50%    29.527080   56.146190    529.000000  131778.204300  156779.957100   \n",
       "75%    42.523469   71.580800   1644.000000  196585.356400  236701.273600   \n",
       "max    91.064199  158.596210  12877.000000  457389.673300  605350.754900   \n",
       "\n",
       "         percent  increase  \n",
       "count  89.000000      89.0  \n",
       "mean   19.095580       1.0  \n",
       "std     8.441306       0.0  \n",
       "min     6.722834       1.0  \n",
       "25%    11.991988       1.0  \n",
       "50%    17.496982       1.0  \n",
       "75%    24.037927       1.0  \n",
       "max    38.720009       1.0  "
      ]
     },
     "execution_count": 17,
     "metadata": {},
     "output_type": "execute_result"
    }
   ],
   "source": [
    "#check crosstabs \n",
    "all[all['increase'] == 1].describe()"
   ]
  },
  {
   "cell_type": "markdown",
   "id": "baa1bba6",
   "metadata": {},
   "source": [
    "### Examining Class Imbalance"
   ]
  },
  {
   "cell_type": "markdown",
   "id": "249c2c34",
   "metadata": {},
   "source": [
    "|dataset | Increase | No Increase | No Increase as Percent |\n",
    "|---|---|---|---|\n",
    "|bottom tier| 45 | 96| 68% |\n",
    "|middle tier| 33 | 106 | 76% |\n",
    "|top tier| 28 | 114 | 80% |\n",
    "|all| 89 | 255 | 74% |"
   ]
  },
  {
   "cell_type": "markdown",
   "id": "a644b247",
   "metadata": {},
   "source": [
    "#### Bottom Tier Class Imabalance"
   ]
  },
  {
   "cell_type": "code",
   "execution_count": 18,
   "id": "f950d782",
   "metadata": {},
   "outputs": [
    {
     "name": "stdout",
     "output_type": "stream",
     "text": [
      "0    96\n",
      "1    45\n",
      "Name: increase, dtype: int64\n",
      "majority percent is 68.08510638297872 %\n"
     ]
    },
    {
     "data": {
      "image/png": "[encoded data removed]",
      "text/plain": [
       "<Figure size 640x480 with 1 Axes>"
      ]
     },
     "metadata": {},
     "output_type": "display_data"
    }
   ],
   "source": [
    "# Checking the balance of target variable 'increase'\n",
    "sns.countplot(x='increase', data=bottom);\n",
    "print(bottom['increase'].value_counts())\n",
    "#checking ratio to see what accuracy is like\n",
    "percent = (len(bottom['increase']) - bottom['increase'].sum())/(len(bottom['increase']) - bottom['increase'].sum()+bottom['increase'].sum())*100\n",
    "print(\"majority percent is {}\".format(percent),\"%\")\n"
   ]
  },
  {
   "cell_type": "markdown",
   "id": "f390ca51",
   "metadata": {},
   "source": [
    "#### Middle Tier Class Imbalance"
   ]
  },
  {
   "cell_type": "code",
   "execution_count": 19,
   "id": "52744f2f",
   "metadata": {},
   "outputs": [
    {
     "name": "stdout",
     "output_type": "stream",
     "text": [
      "0    106\n",
      "1     33\n",
      "Name: increase, dtype: int64\n",
      "majority percent is 76.2589928057554 %\n"
     ]
    },
    {
     "data": {
      "image/png": "[encoded data removed]",
      "text/plain": [
       "<Figure size 640x480 with 1 Axes>"
      ]
     },
     "metadata": {},
     "output_type": "display_data"
    }
   ],
   "source": [
    "# Checking the balance of target variable 'increase'\n",
    "sns.countplot(x='increase', data=middle);\n",
    "print(middle['increase'].value_counts())\n",
    "#checking ratio to see what accuracy is like\n",
    "percent = (len(middle['increase']) - middle['increase'].sum())/(len(middle['increase']) - middle['increase'].sum()+middle['increase'].sum())*100\n",
    "print(\"majority percent is {}\".format(percent),\"%\")"
   ]
  },
  {
   "cell_type": "markdown",
   "id": "a9008f7c",
   "metadata": {},
   "source": [
    "#### Top Tier Class Imbalance"
   ]
  },
  {
   "cell_type": "code",
   "execution_count": 20,
   "id": "facb8309",
   "metadata": {},
   "outputs": [
    {
     "name": "stdout",
     "output_type": "stream",
     "text": [
      "0    114\n",
      "1     28\n",
      "Name: increase, dtype: int64\n",
      "majority percent is 80.28169014084507 %\n"
     ]
    },
    {
     "data": {
      "image/png": "[encoded data removed]",
      "text/plain": [
       "<Figure size 640x480 with 1 Axes>"
      ]
     },
     "metadata": {},
     "output_type": "display_data"
    }
   ],
   "source": [
    "# Checking the balance of target variable 'increase'\n",
    "sns.countplot(x='increase', data=top);\n",
    "print(top['increase'].value_counts())\n",
    "#checking ratio to see what accuracy is like\n",
    "percent = (len(top['increase']) - top['increase'].sum())/(len(top['increase']) - top['increase'].sum()+top['increase'].sum())*100\n",
    "print(\"majority percent is {}\".format(percent),\"%\")"
   ]
  },
  {
   "cell_type": "markdown",
   "id": "3e89f4b8",
   "metadata": {},
   "source": [
    "### All Homes Class Imbalance"
   ]
  },
  {
   "cell_type": "code",
   "execution_count": 21,
   "id": "7751143e",
   "metadata": {},
   "outputs": [
    {
     "name": "stdout",
     "output_type": "stream",
     "text": [
      "0    255\n",
      "1     89\n",
      "Name: increase, dtype: int64\n",
      "majority percent is 74.12790697674419 %\n"
     ]
    },
    {
     "data": {
      "image/png": "[encoded data removed]",
      "text/plain": [
       "<Figure size 640x480 with 1 Axes>"
      ]
     },
     "metadata": {},
     "output_type": "display_data"
    }
   ],
   "source": [
    "# Checking the balance of target variable 'increase'\n",
    "sns.countplot(x='increase', data=all);\n",
    "print(all['increase'].value_counts())\n",
    "#checking ratio to see what accuracy is like\n",
    "percent = (len(all['increase']) - all['increase'].sum())/(len(all['increase']) - all['increase'].sum()+all['increase'].sum())*100\n",
    "print(\"majority percent is {}\".format(percent),\"%\")"
   ]
  },
  {
   "cell_type": "markdown",
   "id": "f7c6b034",
   "metadata": {},
   "source": [
    "# Logistic Regression"
   ]
  },
  {
   "cell_type": "code",
   "execution_count": 22,
   "id": "a1d57af3",
   "metadata": {},
   "outputs": [],
   "source": [
    "logreg = LogisticRegression(random_state=56)"
   ]
  },
  {
   "attachments": {
    "Confusion_Matrix-2.jpg": {
     "image/jpeg": "[encoded data removed]"
    }
   },
   "cell_type": "markdown",
   "id": "f91c8552",
   "metadata": {},
   "source": [
    "![Confusion_Matrix-2.jpg](attachment:Confusion_Matrix-2.jpg)"
   ]
  },
  {
   "cell_type": "markdown",
   "id": "63cef1df",
   "metadata": {},
   "source": [
    "## Model 1: Bottom Tier Housing\n",
    "\n",
    "We will use the bottom tier housing for modeling since it has the best class imbalance. "
   ]
  },
  {
   "cell_type": "code",
   "execution_count": 23,
   "id": "2d154b78",
   "metadata": {},
   "outputs": [
    {
     "data": {
      "text/html": [
       "<div>\n",
       "<style scoped>\n",
       "    .dataframe tbody tr th:only-of-type {\n",
       "        vertical-align: middle;\n",
       "    }\n",
       "\n",
       "    .dataframe tbody tr th {\n",
       "        vertical-align: top;\n",
       "    }\n",
       "\n",
       "    .dataframe thead th {\n",
       "        text-align: right;\n",
       "    }\n",
       "</style>\n",
       "<table border=\"1\" class=\"dataframe\">\n",
       "  <thead>\n",
       "    <tr style=\"text-align: right;\">\n",
       "      <th></th>\n",
       "      <th>City</th>\n",
       "      <th>HurricaneName</th>\n",
       "      <th>DATE</th>\n",
       "      <th>AWND</th>\n",
       "      <th>WSF2</th>\n",
       "      <th>SizeRank</th>\n",
       "      <th>before</th>\n",
       "      <th>after</th>\n",
       "      <th>percent</th>\n",
       "      <th>increase</th>\n",
       "    </tr>\n",
       "  </thead>\n",
       "  <tbody>\n",
       "    <tr>\n",
       "      <th>0</th>\n",
       "      <td>Apalachicola</td>\n",
       "      <td>charley</td>\n",
       "      <td>8/14/2004</td>\n",
       "      <td>13.018758</td>\n",
       "      <td>29.07970</td>\n",
       "      <td>12877</td>\n",
       "      <td>33025.67901</td>\n",
       "      <td>41196.08834</td>\n",
       "      <td>24.739565</td>\n",
       "      <td>1</td>\n",
       "    </tr>\n",
       "    <tr>\n",
       "      <th>1</th>\n",
       "      <td>Apalachicola</td>\n",
       "      <td>dennis</td>\n",
       "      <td>7/10/2005</td>\n",
       "      <td>43.530074</td>\n",
       "      <td>67.10700</td>\n",
       "      <td>12877</td>\n",
       "      <td>40369.46137</td>\n",
       "      <td>50891.84431</td>\n",
       "      <td>26.065205</td>\n",
       "      <td>0</td>\n",
       "    </tr>\n",
       "    <tr>\n",
       "      <th>3</th>\n",
       "      <td>Apalachicola</td>\n",
       "      <td>irma</td>\n",
       "      <td>9/11/2017</td>\n",
       "      <td>46.527520</td>\n",
       "      <td>82.54161</td>\n",
       "      <td>12877</td>\n",
       "      <td>52379.75722</td>\n",
       "      <td>63594.00344</td>\n",
       "      <td>21.409504</td>\n",
       "      <td>1</td>\n",
       "    </tr>\n",
       "    <tr>\n",
       "      <th>6</th>\n",
       "      <td>Apalachicola</td>\n",
       "      <td>matthew</td>\n",
       "      <td>10/7/2016</td>\n",
       "      <td>24.024306</td>\n",
       "      <td>48.98811</td>\n",
       "      <td>12877</td>\n",
       "      <td>48548.85811</td>\n",
       "      <td>52980.36723</td>\n",
       "      <td>9.127937</td>\n",
       "      <td>0</td>\n",
       "    </tr>\n",
       "    <tr>\n",
       "      <th>8</th>\n",
       "      <td>Apalachicola</td>\n",
       "      <td>michael</td>\n",
       "      <td>10/10/2018</td>\n",
       "      <td>66.547775</td>\n",
       "      <td>141.14839</td>\n",
       "      <td>12877</td>\n",
       "      <td>65287.07867</td>\n",
       "      <td>76710.34737</td>\n",
       "      <td>17.496982</td>\n",
       "      <td>1</td>\n",
       "    </tr>\n",
       "  </tbody>\n",
       "</table>\n",
       "</div>"
      ],
      "text/plain": [
       "           City HurricaneName        DATE       AWND       WSF2  SizeRank  \\\n",
       "0  Apalachicola       charley   8/14/2004  13.018758   29.07970     12877   \n",
       "1  Apalachicola        dennis   7/10/2005  43.530074   67.10700     12877   \n",
       "3  Apalachicola          irma   9/11/2017  46.527520   82.54161     12877   \n",
       "6  Apalachicola       matthew   10/7/2016  24.024306   48.98811     12877   \n",
       "8  Apalachicola       michael  10/10/2018  66.547775  141.14839     12877   \n",
       "\n",
       "        before        after    percent  increase  \n",
       "0  33025.67901  41196.08834  24.739565         1  \n",
       "1  40369.46137  50891.84431  26.065205         0  \n",
       "3  52379.75722  63594.00344  21.409504         1  \n",
       "6  48548.85811  52980.36723   9.127937         0  \n",
       "8  65287.07867  76710.34737  17.496982         1  "
      ]
     },
     "execution_count": 23,
     "metadata": {},
     "output_type": "execute_result"
    }
   ],
   "source": [
    "bottom.head()"
   ]
  },
  {
   "cell_type": "markdown",
   "id": "717abdac",
   "metadata": {},
   "source": [
    "### Selecting Our Target Variable and Features\n",
    "Our targer variable is increase and for our first iteration of modeling we will use all the available features. "
   ]
  },
  {
   "cell_type": "code",
   "execution_count": 24,
   "id": "ec860ba4",
   "metadata": {},
   "outputs": [],
   "source": [
    "#y is prediction variable \n",
    "#X is features \n",
    "y = bottom['increase']\n",
    "X = bottom.drop(['City', 'HurricaneName', 'DATE', 'after', 'percent', 'increase'], axis=1)"
   ]
  },
  {
   "cell_type": "markdown",
   "id": "d5f29cb4",
   "metadata": {},
   "source": [
    "### Train/Test Split"
   ]
  },
  {
   "cell_type": "code",
   "execution_count": 25,
   "id": "40d48836",
   "metadata": {},
   "outputs": [],
   "source": [
    "#performing train test split \n",
    "X_train, X_test, y_train, y_test = train_test_split(X, y, test_size=0.40, random_state=56)"
   ]
  },
  {
   "cell_type": "markdown",
   "id": "601a32f8",
   "metadata": {},
   "source": [
    "### Training Data"
   ]
  },
  {
   "cell_type": "code",
   "execution_count": 26,
   "id": "cdc834db",
   "metadata": {},
   "outputs": [],
   "source": [
    "#fitting the model unto our training data\n",
    "logreg.fit(X_train, y_train)\n",
    "y_pred_train = logreg.predict(X_train)"
   ]
  },
  {
   "cell_type": "code",
   "execution_count": 27,
   "id": "ef68dd0e",
   "metadata": {},
   "outputs": [
    {
     "name": "stdout",
     "output_type": "stream",
     "text": [
      "F1 Score: 0.372\n"
     ]
    }
   ],
   "source": [
    "#using F-1 score to see how it performs\n",
    "#F1 Score = 2* Precision Score * Recall Score/ (Precision Score + Recall Score/)\n",
    "print('F1 Score: %.3f' % f1_score(y_train, y_pred_train))"
   ]
  },
  {
   "cell_type": "markdown",
   "id": "f60030be",
   "metadata": {},
   "source": [
    "### Testing Data"
   ]
  },
  {
   "cell_type": "code",
   "execution_count": 28,
   "id": "cfca0e55",
   "metadata": {},
   "outputs": [],
   "source": [
    "#fitting the model unto our test data\n",
    "logreg.fit(X_test, y_test)\n",
    "y_pred_test = logreg.predict(X_test)"
   ]
  },
  {
   "cell_type": "code",
   "execution_count": 29,
   "id": "558a2cbd",
   "metadata": {},
   "outputs": [
    {
     "name": "stdout",
     "output_type": "stream",
     "text": [
      "F1 Score: 0.500\n"
     ]
    }
   ],
   "source": [
    "#using F-1 score to see how it performs\n",
    "#F1 Score = 2* Precision Score * Recall Score/ (Precision Score + Recall Score/)\n",
    "print('F1 Score: %.3f' % f1_score(y_test, y_pred_test))"
   ]
  },
  {
   "cell_type": "code",
   "execution_count": 30,
   "id": "ae97d79e",
   "metadata": {},
   "outputs": [
    {
     "data": {
      "image/png": "[encoded data removed]",
      "text/plain": [
       "<Figure size 500x500 with 1 Axes>"
      ]
     },
     "metadata": {},
     "output_type": "display_data"
    }
   ],
   "source": [
    "#https://vitalflux.com/accuracy-precision-recall-f1-score-python-example/\n",
    "conf_matrix = confusion_matrix(y_true=y_test, y_pred=y_pred_test)\n",
    "\n",
    "fig, ax = plt.subplots(figsize=(5, 5))\n",
    "ax.matshow(conf_matrix, cmap=plt.cm.Blues, alpha=0.3)\n",
    "for i in range(conf_matrix.shape[0]):\n",
    "    for j in range(conf_matrix.shape[1]):\n",
    "        ax.text(x=j, y=i,s=conf_matrix[i, j], va='center', ha='center', size='xx-large')\n",
    " \n",
    "plt.xlabel('Predictions', fontsize=18)\n",
    "plt.ylabel('Actuals', fontsize=18)\n",
    "plt.title('Confusion Matrix', fontsize=18)\n",
    "plt.show()"
   ]
  },
  {
   "cell_type": "code",
   "execution_count": 31,
   "id": "0f56a376",
   "metadata": {},
   "outputs": [
    {
     "data": {
      "image/png": "[encoded data removed]",
      "text/plain": [
       "<Figure size 1000x600 with 1 Axes>"
      ]
     },
     "metadata": {},
     "output_type": "display_data"
    }
   ],
   "source": [
    "#https://forecastegy.com/posts/feature-importance-in-logistic-regression/#feature-importance-in-binary-logistic-regression\n",
    "#checking out feature importance\n",
    "\n",
    "model = LogisticRegression()\n",
    "model.fit(X_train, y_train)\n",
    "\n",
    "\n",
    "coefficients = model.coef_[0]\n",
    "\n",
    "feature_importance = pd.DataFrame({'Feature': X.columns, 'Importance': np.abs(coefficients)})\n",
    "feature_importance = feature_importance.sort_values('Importance', ascending=True)\n",
    "feature_importance.plot(x='Feature', y='Importance', kind='barh', figsize=(10, 6));"
   ]
  },
  {
   "cell_type": "markdown",
   "id": "5277b974",
   "metadata": {},
   "source": [
    "## Model 2: Bottom Tier Housing Without Colinear Variables \n",
    "\n",
    "We will use the bottom tier housing for modeling since it has the best class imbalance. "
   ]
  },
  {
   "cell_type": "code",
   "execution_count": 32,
   "id": "b233aef0",
   "metadata": {},
   "outputs": [
    {
     "data": {
      "text/html": [
       "<div>\n",
       "<style scoped>\n",
       "    .dataframe tbody tr th:only-of-type {\n",
       "        vertical-align: middle;\n",
       "    }\n",
       "\n",
       "    .dataframe tbody tr th {\n",
       "        vertical-align: top;\n",
       "    }\n",
       "\n",
       "    .dataframe thead th {\n",
       "        text-align: right;\n",
       "    }\n",
       "</style>\n",
       "<table border=\"1\" class=\"dataframe\">\n",
       "  <thead>\n",
       "    <tr style=\"text-align: right;\">\n",
       "      <th></th>\n",
       "      <th>City</th>\n",
       "      <th>HurricaneName</th>\n",
       "      <th>DATE</th>\n",
       "      <th>AWND</th>\n",
       "      <th>WSF2</th>\n",
       "      <th>SizeRank</th>\n",
       "      <th>before</th>\n",
       "      <th>after</th>\n",
       "      <th>percent</th>\n",
       "      <th>increase</th>\n",
       "    </tr>\n",
       "  </thead>\n",
       "  <tbody>\n",
       "    <tr>\n",
       "      <th>0</th>\n",
       "      <td>Apalachicola</td>\n",
       "      <td>charley</td>\n",
       "      <td>8/14/2004</td>\n",
       "      <td>13.018758</td>\n",
       "      <td>29.07970</td>\n",
       "      <td>12877</td>\n",
       "      <td>33025.67901</td>\n",
       "      <td>41196.08834</td>\n",
       "      <td>24.739565</td>\n",
       "      <td>1</td>\n",
       "    </tr>\n",
       "    <tr>\n",
       "      <th>1</th>\n",
       "      <td>Apalachicola</td>\n",
       "      <td>dennis</td>\n",
       "      <td>7/10/2005</td>\n",
       "      <td>43.530074</td>\n",
       "      <td>67.10700</td>\n",
       "      <td>12877</td>\n",
       "      <td>40369.46137</td>\n",
       "      <td>50891.84431</td>\n",
       "      <td>26.065205</td>\n",
       "      <td>0</td>\n",
       "    </tr>\n",
       "    <tr>\n",
       "      <th>3</th>\n",
       "      <td>Apalachicola</td>\n",
       "      <td>irma</td>\n",
       "      <td>9/11/2017</td>\n",
       "      <td>46.527520</td>\n",
       "      <td>82.54161</td>\n",
       "      <td>12877</td>\n",
       "      <td>52379.75722</td>\n",
       "      <td>63594.00344</td>\n",
       "      <td>21.409504</td>\n",
       "      <td>1</td>\n",
       "    </tr>\n",
       "    <tr>\n",
       "      <th>6</th>\n",
       "      <td>Apalachicola</td>\n",
       "      <td>matthew</td>\n",
       "      <td>10/7/2016</td>\n",
       "      <td>24.024306</td>\n",
       "      <td>48.98811</td>\n",
       "      <td>12877</td>\n",
       "      <td>48548.85811</td>\n",
       "      <td>52980.36723</td>\n",
       "      <td>9.127937</td>\n",
       "      <td>0</td>\n",
       "    </tr>\n",
       "    <tr>\n",
       "      <th>8</th>\n",
       "      <td>Apalachicola</td>\n",
       "      <td>michael</td>\n",
       "      <td>10/10/2018</td>\n",
       "      <td>66.547775</td>\n",
       "      <td>141.14839</td>\n",
       "      <td>12877</td>\n",
       "      <td>65287.07867</td>\n",
       "      <td>76710.34737</td>\n",
       "      <td>17.496982</td>\n",
       "      <td>1</td>\n",
       "    </tr>\n",
       "  </tbody>\n",
       "</table>\n",
       "</div>"
      ],
      "text/plain": [
       "           City HurricaneName        DATE       AWND       WSF2  SizeRank  \\\n",
       "0  Apalachicola       charley   8/14/2004  13.018758   29.07970     12877   \n",
       "1  Apalachicola        dennis   7/10/2005  43.530074   67.10700     12877   \n",
       "3  Apalachicola          irma   9/11/2017  46.527520   82.54161     12877   \n",
       "6  Apalachicola       matthew   10/7/2016  24.024306   48.98811     12877   \n",
       "8  Apalachicola       michael  10/10/2018  66.547775  141.14839     12877   \n",
       "\n",
       "        before        after    percent  increase  \n",
       "0  33025.67901  41196.08834  24.739565         1  \n",
       "1  40369.46137  50891.84431  26.065205         0  \n",
       "3  52379.75722  63594.00344  21.409504         1  \n",
       "6  48548.85811  52980.36723   9.127937         0  \n",
       "8  65287.07867  76710.34737  17.496982         1  "
      ]
     },
     "execution_count": 32,
     "metadata": {},
     "output_type": "execute_result"
    }
   ],
   "source": [
    "bottom.head()"
   ]
  },
  {
   "cell_type": "markdown",
   "id": "38eaea48",
   "metadata": {},
   "source": [
    "### Selecting Our Target Variable and Features\n",
    "Our targer variable is increase and for our second iteration of modeling we will drop WSF2 because it's highly correlated with AWND. "
   ]
  },
  {
   "cell_type": "code",
   "execution_count": 33,
   "id": "5e31f7d9",
   "metadata": {},
   "outputs": [],
   "source": [
    "#y is prediction variable \n",
    "#X is features \n",
    "y = bottom['increase']\n",
    "X = bottom.drop(['City', 'HurricaneName', 'DATE', 'after', 'percent', 'WSF2', 'increase'], axis=1)"
   ]
  },
  {
   "cell_type": "markdown",
   "id": "84665a2d",
   "metadata": {},
   "source": [
    "### Train/Test Split"
   ]
  },
  {
   "cell_type": "code",
   "execution_count": 34,
   "id": "667b62a9",
   "metadata": {},
   "outputs": [],
   "source": [
    "#performing train test split \n",
    "X_train, X_test, y_train, y_test = train_test_split(X, y, test_size=0.40, random_state=56)"
   ]
  },
  {
   "cell_type": "markdown",
   "id": "0ef4e532",
   "metadata": {},
   "source": [
    "### Training Data"
   ]
  },
  {
   "cell_type": "code",
   "execution_count": 35,
   "id": "aa5ae6c9",
   "metadata": {},
   "outputs": [],
   "source": [
    "#fitting the model unto our training data\n",
    "logreg.fit(X_train, y_train)\n",
    "y_pred_train = logreg.predict(X_train)"
   ]
  },
  {
   "cell_type": "code",
   "execution_count": 36,
   "id": "d40c7e23",
   "metadata": {},
   "outputs": [
    {
     "name": "stdout",
     "output_type": "stream",
     "text": [
      "F1 Score: 0.333\n"
     ]
    }
   ],
   "source": [
    "#using F-1 score to see how it performs\n",
    "#F1 Score = 2* Precision Score * Recall Score/ (Precision Score + Recall Score/)\n",
    "print('F1 Score: %.3f' % f1_score(y_train, y_pred_train))"
   ]
  },
  {
   "cell_type": "markdown",
   "id": "60ad8fbc",
   "metadata": {},
   "source": [
    "### Testing Data"
   ]
  },
  {
   "cell_type": "code",
   "execution_count": 37,
   "id": "9e105c28",
   "metadata": {},
   "outputs": [],
   "source": [
    "#fitting the model unto our test data\n",
    "logreg.fit(X_test, y_test)\n",
    "y_pred_test = logreg.predict(X_test)"
   ]
  },
  {
   "cell_type": "code",
   "execution_count": 38,
   "id": "153eec91",
   "metadata": {},
   "outputs": [
    {
     "name": "stdout",
     "output_type": "stream",
     "text": [
      "F1 Score: 0.538\n"
     ]
    }
   ],
   "source": [
    "#using F-1 score to see how it performs\n",
    "#F1 Score = 2* Precision Score * Recall Score/ (Precision Score + Recall Score/)\n",
    "print('F1 Score: %.3f' % f1_score(y_test, y_pred_test))"
   ]
  },
  {
   "cell_type": "code",
   "execution_count": 39,
   "id": "f68868eb",
   "metadata": {},
   "outputs": [
    {
     "data": {
      "image/png": "[encoded data removed]",
      "text/plain": [
       "<Figure size 500x500 with 1 Axes>"
      ]
     },
     "metadata": {},
     "output_type": "display_data"
    }
   ],
   "source": [
    "#https://vitalflux.com/accuracy-precision-recall-f1-score-python-example/\n",
    "conf_matrix = confusion_matrix(y_true=y_test, y_pred=y_pred_test)\n",
    "\n",
    "fig, ax = plt.subplots(figsize=(5, 5))\n",
    "ax.matshow(conf_matrix, cmap=plt.cm.Blues, alpha=0.3)\n",
    "for i in range(conf_matrix.shape[0]):\n",
    "    for j in range(conf_matrix.shape[1]):\n",
    "        ax.text(x=j, y=i,s=conf_matrix[i, j], va='center', ha='center', size='xx-large')\n",
    " \n",
    "plt.xlabel('Predictions', fontsize=18)\n",
    "plt.ylabel('Actuals', fontsize=18)\n",
    "plt.title('Confusion Matrix', fontsize=18)\n",
    "plt.show()"
   ]
  },
  {
   "cell_type": "code",
   "execution_count": 40,
   "id": "34f5c150",
   "metadata": {},
   "outputs": [
    {
     "data": {
      "image/png": "[encoded data removed]",
      "text/plain": [
       "<Figure size 1000x600 with 1 Axes>"
      ]
     },
     "metadata": {},
     "output_type": "display_data"
    }
   ],
   "source": [
    "model = LogisticRegression()\n",
    "model.fit(X_train, y_train)\n",
    "\n",
    "\n",
    "coefficients = model.coef_[0]\n",
    "\n",
    "feature_importance = pd.DataFrame({'Feature': X.columns, 'Importance': np.abs(coefficients)})\n",
    "feature_importance = feature_importance.sort_values('Importance', ascending=True)\n",
    "feature_importance.plot(x='Feature', y='Importance', kind='barh', figsize=(10, 6));"
   ]
  },
  {
   "cell_type": "markdown",
   "id": "fd5cc938",
   "metadata": {},
   "source": [
    "## Model 3: Bottom Tier Housing Without Colinear Variables and Scaling \n",
    "\n",
    "We will use the bottom tier housing for modeling since it has the best class imbalance. "
   ]
  },
  {
   "cell_type": "code",
   "execution_count": 41,
   "id": "1e4fc94b",
   "metadata": {},
   "outputs": [
    {
     "data": {
      "text/html": [
       "<div>\n",
       "<style scoped>\n",
       "    .dataframe tbody tr th:only-of-type {\n",
       "        vertical-align: middle;\n",
       "    }\n",
       "\n",
       "    .dataframe tbody tr th {\n",
       "        vertical-align: top;\n",
       "    }\n",
       "\n",
       "    .dataframe thead th {\n",
       "        text-align: right;\n",
       "    }\n",
       "</style>\n",
       "<table border=\"1\" class=\"dataframe\">\n",
       "  <thead>\n",
       "    <tr style=\"text-align: right;\">\n",
       "      <th></th>\n",
       "      <th>City</th>\n",
       "      <th>HurricaneName</th>\n",
       "      <th>DATE</th>\n",
       "      <th>AWND</th>\n",
       "      <th>WSF2</th>\n",
       "      <th>SizeRank</th>\n",
       "      <th>before</th>\n",
       "      <th>after</th>\n",
       "      <th>percent</th>\n",
       "      <th>increase</th>\n",
       "    </tr>\n",
       "  </thead>\n",
       "  <tbody>\n",
       "    <tr>\n",
       "      <th>0</th>\n",
       "      <td>Apalachicola</td>\n",
       "      <td>charley</td>\n",
       "      <td>8/14/2004</td>\n",
       "      <td>13.018758</td>\n",
       "      <td>29.07970</td>\n",
       "      <td>12877</td>\n",
       "      <td>33025.67901</td>\n",
       "      <td>41196.08834</td>\n",
       "      <td>24.739565</td>\n",
       "      <td>1</td>\n",
       "    </tr>\n",
       "    <tr>\n",
       "      <th>1</th>\n",
       "      <td>Apalachicola</td>\n",
       "      <td>dennis</td>\n",
       "      <td>7/10/2005</td>\n",
       "      <td>43.530074</td>\n",
       "      <td>67.10700</td>\n",
       "      <td>12877</td>\n",
       "      <td>40369.46137</td>\n",
       "      <td>50891.84431</td>\n",
       "      <td>26.065205</td>\n",
       "      <td>0</td>\n",
       "    </tr>\n",
       "    <tr>\n",
       "      <th>3</th>\n",
       "      <td>Apalachicola</td>\n",
       "      <td>irma</td>\n",
       "      <td>9/11/2017</td>\n",
       "      <td>46.527520</td>\n",
       "      <td>82.54161</td>\n",
       "      <td>12877</td>\n",
       "      <td>52379.75722</td>\n",
       "      <td>63594.00344</td>\n",
       "      <td>21.409504</td>\n",
       "      <td>1</td>\n",
       "    </tr>\n",
       "    <tr>\n",
       "      <th>6</th>\n",
       "      <td>Apalachicola</td>\n",
       "      <td>matthew</td>\n",
       "      <td>10/7/2016</td>\n",
       "      <td>24.024306</td>\n",
       "      <td>48.98811</td>\n",
       "      <td>12877</td>\n",
       "      <td>48548.85811</td>\n",
       "      <td>52980.36723</td>\n",
       "      <td>9.127937</td>\n",
       "      <td>0</td>\n",
       "    </tr>\n",
       "    <tr>\n",
       "      <th>8</th>\n",
       "      <td>Apalachicola</td>\n",
       "      <td>michael</td>\n",
       "      <td>10/10/2018</td>\n",
       "      <td>66.547775</td>\n",
       "      <td>141.14839</td>\n",
       "      <td>12877</td>\n",
       "      <td>65287.07867</td>\n",
       "      <td>76710.34737</td>\n",
       "      <td>17.496982</td>\n",
       "      <td>1</td>\n",
       "    </tr>\n",
       "  </tbody>\n",
       "</table>\n",
       "</div>"
      ],
      "text/plain": [
       "           City HurricaneName        DATE       AWND       WSF2  SizeRank  \\\n",
       "0  Apalachicola       charley   8/14/2004  13.018758   29.07970     12877   \n",
       "1  Apalachicola        dennis   7/10/2005  43.530074   67.10700     12877   \n",
       "3  Apalachicola          irma   9/11/2017  46.527520   82.54161     12877   \n",
       "6  Apalachicola       matthew   10/7/2016  24.024306   48.98811     12877   \n",
       "8  Apalachicola       michael  10/10/2018  66.547775  141.14839     12877   \n",
       "\n",
       "        before        after    percent  increase  \n",
       "0  33025.67901  41196.08834  24.739565         1  \n",
       "1  40369.46137  50891.84431  26.065205         0  \n",
       "3  52379.75722  63594.00344  21.409504         1  \n",
       "6  48548.85811  52980.36723   9.127937         0  \n",
       "8  65287.07867  76710.34737  17.496982         1  "
      ]
     },
     "execution_count": 41,
     "metadata": {},
     "output_type": "execute_result"
    }
   ],
   "source": [
    "bottom.head()"
   ]
  },
  {
   "cell_type": "markdown",
   "id": "29c919f9",
   "metadata": {},
   "source": [
    "### Selecting Our Target Variable and Features\n",
    "Our targer variable is increase and for our second iteration of modeling we will drop WSF2 because it's highly correlated with AWND. "
   ]
  },
  {
   "cell_type": "code",
   "execution_count": 42,
   "id": "497b4ddd",
   "metadata": {},
   "outputs": [],
   "source": [
    "#y is prediction variable \n",
    "#X is features \n",
    "y = bottom['increase']\n",
    "X = bottom.drop(['City', 'HurricaneName', 'DATE', 'after', 'percent', 'WSF2', 'increase'], axis=1)"
   ]
  },
  {
   "cell_type": "markdown",
   "id": "ea998d3f",
   "metadata": {},
   "source": [
    "### Train/Test Split"
   ]
  },
  {
   "cell_type": "code",
   "execution_count": 43,
   "id": "a9e86de9",
   "metadata": {},
   "outputs": [],
   "source": [
    "#how do i know if it's even?\n",
    "#performing train test split \n",
    "X_train, X_test, y_train, y_test = train_test_split(X, y, test_size=0.40, random_state=56)"
   ]
  },
  {
   "cell_type": "code",
   "execution_count": 44,
   "id": "874eac48",
   "metadata": {},
   "outputs": [],
   "source": [
    "sc = StandardScaler()\n",
    "sc.fit(X_train)\n",
    "X_train_std = sc.transform(X_train)\n",
    "X_test_std = sc.transform(X_test)"
   ]
  },
  {
   "cell_type": "markdown",
   "id": "6cf27a0f",
   "metadata": {},
   "source": [
    "### Training Data"
   ]
  },
  {
   "cell_type": "code",
   "execution_count": 45,
   "id": "b547624e",
   "metadata": {},
   "outputs": [],
   "source": [
    "#fitting the model unto our training data\n",
    "logreg.fit(X_train_std, y_train)\n",
    "y_pred_train = logreg.predict(X_train_std)"
   ]
  },
  {
   "cell_type": "code",
   "execution_count": 46,
   "id": "6a0fce74",
   "metadata": {},
   "outputs": [
    {
     "name": "stdout",
     "output_type": "stream",
     "text": [
      "F1 Score: 0.270\n"
     ]
    }
   ],
   "source": [
    "#using F-1 score to see how it performs\n",
    "#F1 Score = 2* Precision Score * Recall Score/ (Precision Score + Recall Score/)\n",
    "print('F1 Score: %.3f' % f1_score(y_train, y_pred_train))"
   ]
  },
  {
   "cell_type": "markdown",
   "id": "bd7d86e2",
   "metadata": {},
   "source": [
    "### Testing Data"
   ]
  },
  {
   "cell_type": "code",
   "execution_count": 47,
   "id": "a448ddd6",
   "metadata": {},
   "outputs": [],
   "source": [
    "#fitting the model unto our test data\n",
    "logreg.fit(X_test_std, y_test)\n",
    "y_pred_test = logreg.predict(X_test_std)"
   ]
  },
  {
   "cell_type": "code",
   "execution_count": 48,
   "id": "2351d9ed",
   "metadata": {},
   "outputs": [
    {
     "name": "stdout",
     "output_type": "stream",
     "text": [
      "F1 Score: 0.435\n"
     ]
    }
   ],
   "source": [
    "#using F-1 score to see how it performs\n",
    "#F1 Score = 2* Precision Score * Recall Score/ (Precision Score + Recall Score/)\n",
    "print('F1 Score: %.3f' % f1_score(y_test, y_pred_test))"
   ]
  },
  {
   "cell_type": "code",
   "execution_count": 49,
   "id": "979477a4",
   "metadata": {},
   "outputs": [
    {
     "data": {
      "image/png": "[encoded data removed]",
      "text/plain": [
       "<Figure size 500x500 with 1 Axes>"
      ]
     },
     "metadata": {},
     "output_type": "display_data"
    }
   ],
   "source": [
    "#https://vitalflux.com/accuracy-precision-recall-f1-score-python-example/\n",
    "conf_matrix = confusion_matrix(y_true=y_test, y_pred=y_pred_test)\n",
    "\n",
    "fig, ax = plt.subplots(figsize=(5, 5))\n",
    "ax.matshow(conf_matrix, cmap=plt.cm.Blues, alpha=0.3)\n",
    "for i in range(conf_matrix.shape[0]):\n",
    "    for j in range(conf_matrix.shape[1]):\n",
    "        ax.text(x=j, y=i,s=conf_matrix[i, j], va='center', ha='center', size='xx-large')\n",
    " \n",
    "plt.xlabel('Predictions', fontsize=18)\n",
    "plt.ylabel('Actuals', fontsize=18)\n",
    "plt.title('Confusion Matrix', fontsize=18)\n",
    "plt.show()"
   ]
  },
  {
   "cell_type": "code",
   "execution_count": 50,
   "id": "54a447e1",
   "metadata": {},
   "outputs": [
    {
     "data": {
      "image/png": "[encoded data removed]",
      "text/plain": [
       "<Figure size 1000x600 with 1 Axes>"
      ]
     },
     "metadata": {},
     "output_type": "display_data"
    }
   ],
   "source": [
    "model = LogisticRegression()\n",
    "model.fit(X_train, y_train)\n",
    "\n",
    "\n",
    "coefficients = model.coef_[0]\n",
    "\n",
    "feature_importance = pd.DataFrame({'Feature': X.columns, 'Importance': np.abs(coefficients)})\n",
    "feature_importance = feature_importance.sort_values('Importance', ascending=True)\n",
    "feature_importance.plot(x='Feature', y='Importance', kind='barh', figsize=(10, 6));"
   ]
  },
  {
   "cell_type": "markdown",
   "id": "c841d258",
   "metadata": {},
   "source": [
    "## Model 4: Bottom Tier Housing With No Scaling, No Colinear Variables, and Smote"
   ]
  },
  {
   "cell_type": "code",
   "execution_count": 51,
   "id": "a3a99fc4",
   "metadata": {},
   "outputs": [
    {
     "data": {
      "text/html": [
       "<div>\n",
       "<style scoped>\n",
       "    .dataframe tbody tr th:only-of-type {\n",
       "        vertical-align: middle;\n",
       "    }\n",
       "\n",
       "    .dataframe tbody tr th {\n",
       "        vertical-align: top;\n",
       "    }\n",
       "\n",
       "    .dataframe thead th {\n",
       "        text-align: right;\n",
       "    }\n",
       "</style>\n",
       "<table border=\"1\" class=\"dataframe\">\n",
       "  <thead>\n",
       "    <tr style=\"text-align: right;\">\n",
       "      <th></th>\n",
       "      <th>City</th>\n",
       "      <th>HurricaneName</th>\n",
       "      <th>DATE</th>\n",
       "      <th>AWND</th>\n",
       "      <th>WSF2</th>\n",
       "      <th>SizeRank</th>\n",
       "      <th>before</th>\n",
       "      <th>after</th>\n",
       "      <th>percent</th>\n",
       "      <th>increase</th>\n",
       "    </tr>\n",
       "  </thead>\n",
       "  <tbody>\n",
       "    <tr>\n",
       "      <th>0</th>\n",
       "      <td>Apalachicola</td>\n",
       "      <td>charley</td>\n",
       "      <td>8/14/2004</td>\n",
       "      <td>13.018758</td>\n",
       "      <td>29.07970</td>\n",
       "      <td>12877</td>\n",
       "      <td>33025.67901</td>\n",
       "      <td>41196.08834</td>\n",
       "      <td>24.739565</td>\n",
       "      <td>1</td>\n",
       "    </tr>\n",
       "    <tr>\n",
       "      <th>1</th>\n",
       "      <td>Apalachicola</td>\n",
       "      <td>dennis</td>\n",
       "      <td>7/10/2005</td>\n",
       "      <td>43.530074</td>\n",
       "      <td>67.10700</td>\n",
       "      <td>12877</td>\n",
       "      <td>40369.46137</td>\n",
       "      <td>50891.84431</td>\n",
       "      <td>26.065205</td>\n",
       "      <td>0</td>\n",
       "    </tr>\n",
       "    <tr>\n",
       "      <th>3</th>\n",
       "      <td>Apalachicola</td>\n",
       "      <td>irma</td>\n",
       "      <td>9/11/2017</td>\n",
       "      <td>46.527520</td>\n",
       "      <td>82.54161</td>\n",
       "      <td>12877</td>\n",
       "      <td>52379.75722</td>\n",
       "      <td>63594.00344</td>\n",
       "      <td>21.409504</td>\n",
       "      <td>1</td>\n",
       "    </tr>\n",
       "    <tr>\n",
       "      <th>6</th>\n",
       "      <td>Apalachicola</td>\n",
       "      <td>matthew</td>\n",
       "      <td>10/7/2016</td>\n",
       "      <td>24.024306</td>\n",
       "      <td>48.98811</td>\n",
       "      <td>12877</td>\n",
       "      <td>48548.85811</td>\n",
       "      <td>52980.36723</td>\n",
       "      <td>9.127937</td>\n",
       "      <td>0</td>\n",
       "    </tr>\n",
       "    <tr>\n",
       "      <th>8</th>\n",
       "      <td>Apalachicola</td>\n",
       "      <td>michael</td>\n",
       "      <td>10/10/2018</td>\n",
       "      <td>66.547775</td>\n",
       "      <td>141.14839</td>\n",
       "      <td>12877</td>\n",
       "      <td>65287.07867</td>\n",
       "      <td>76710.34737</td>\n",
       "      <td>17.496982</td>\n",
       "      <td>1</td>\n",
       "    </tr>\n",
       "    <tr>\n",
       "      <th>...</th>\n",
       "      <td>...</td>\n",
       "      <td>...</td>\n",
       "      <td>...</td>\n",
       "      <td>...</td>\n",
       "      <td>...</td>\n",
       "      <td>...</td>\n",
       "      <td>...</td>\n",
       "      <td>...</td>\n",
       "      <td>...</td>\n",
       "      <td>...</td>\n",
       "    </tr>\n",
       "    <tr>\n",
       "      <th>388</th>\n",
       "      <td>West Palm Beach</td>\n",
       "      <td>michael</td>\n",
       "      <td>10/9/2018</td>\n",
       "      <td>30.533685</td>\n",
       "      <td>51.44870</td>\n",
       "      <td>158</td>\n",
       "      <td>131859.03710</td>\n",
       "      <td>143536.42570</td>\n",
       "      <td>8.855964</td>\n",
       "      <td>0</td>\n",
       "    </tr>\n",
       "    <tr>\n",
       "      <th>389</th>\n",
       "      <td>Winter Haven</td>\n",
       "      <td>dennis</td>\n",
       "      <td>7/10/2005</td>\n",
       "      <td>30.533685</td>\n",
       "      <td>56.14619</td>\n",
       "      <td>395</td>\n",
       "      <td>59886.01537</td>\n",
       "      <td>76763.92735</td>\n",
       "      <td>28.183395</td>\n",
       "      <td>0</td>\n",
       "    </tr>\n",
       "    <tr>\n",
       "      <th>392</th>\n",
       "      <td>Winter Haven</td>\n",
       "      <td>irma</td>\n",
       "      <td>9/10/2017</td>\n",
       "      <td>58.047555</td>\n",
       "      <td>123.02950</td>\n",
       "      <td>395</td>\n",
       "      <td>80030.41335</td>\n",
       "      <td>93036.50736</td>\n",
       "      <td>16.251439</td>\n",
       "      <td>1</td>\n",
       "    </tr>\n",
       "    <tr>\n",
       "      <th>394</th>\n",
       "      <td>Winter Haven</td>\n",
       "      <td>matthew</td>\n",
       "      <td>10/7/2016</td>\n",
       "      <td>30.019198</td>\n",
       "      <td>57.93571</td>\n",
       "      <td>395</td>\n",
       "      <td>69267.39054</td>\n",
       "      <td>80862.30360</td>\n",
       "      <td>16.739353</td>\n",
       "      <td>1</td>\n",
       "    </tr>\n",
       "    <tr>\n",
       "      <th>397</th>\n",
       "      <td>Winter Haven</td>\n",
       "      <td>michael</td>\n",
       "      <td>10/10/2018</td>\n",
       "      <td>29.527080</td>\n",
       "      <td>56.14619</td>\n",
       "      <td>395</td>\n",
       "      <td>94132.64063</td>\n",
       "      <td>110238.51310</td>\n",
       "      <td>17.109764</td>\n",
       "      <td>1</td>\n",
       "    </tr>\n",
       "  </tbody>\n",
       "</table>\n",
       "<p>141 rows × 10 columns</p>\n",
       "</div>"
      ],
      "text/plain": [
       "                City HurricaneName        DATE       AWND       WSF2  \\\n",
       "0       Apalachicola       charley   8/14/2004  13.018758   29.07970   \n",
       "1       Apalachicola        dennis   7/10/2005  43.530074   67.10700   \n",
       "3       Apalachicola          irma   9/11/2017  46.527520   82.54161   \n",
       "6       Apalachicola       matthew   10/7/2016  24.024306   48.98811   \n",
       "8       Apalachicola       michael  10/10/2018  66.547775  141.14839   \n",
       "..               ...           ...         ...        ...        ...   \n",
       "388  West Palm Beach       michael   10/9/2018  30.533685   51.44870   \n",
       "389     Winter Haven        dennis   7/10/2005  30.533685   56.14619   \n",
       "392     Winter Haven          irma   9/10/2017  58.047555  123.02950   \n",
       "394     Winter Haven       matthew   10/7/2016  30.019198   57.93571   \n",
       "397     Winter Haven       michael  10/10/2018  29.527080   56.14619   \n",
       "\n",
       "     SizeRank        before         after    percent  increase  \n",
       "0       12877   33025.67901   41196.08834  24.739565         1  \n",
       "1       12877   40369.46137   50891.84431  26.065205         0  \n",
       "3       12877   52379.75722   63594.00344  21.409504         1  \n",
       "6       12877   48548.85811   52980.36723   9.127937         0  \n",
       "8       12877   65287.07867   76710.34737  17.496982         1  \n",
       "..        ...           ...           ...        ...       ...  \n",
       "388       158  131859.03710  143536.42570   8.855964         0  \n",
       "389       395   59886.01537   76763.92735  28.183395         0  \n",
       "392       395   80030.41335   93036.50736  16.251439         1  \n",
       "394       395   69267.39054   80862.30360  16.739353         1  \n",
       "397       395   94132.64063  110238.51310  17.109764         1  \n",
       "\n",
       "[141 rows x 10 columns]"
      ]
     },
     "execution_count": 51,
     "metadata": {},
     "output_type": "execute_result"
    }
   ],
   "source": [
    "bottom"
   ]
  },
  {
   "cell_type": "code",
   "execution_count": 52,
   "id": "307b39cc",
   "metadata": {},
   "outputs": [],
   "source": [
    "#y is prediction variable \n",
    "#X is features \n",
    "y = bottom['increase']\n",
    "X = bottom.drop(['City', 'HurricaneName', 'DATE', 'after', 'percent', 'WSF2', 'increase'], axis=1)"
   ]
  },
  {
   "cell_type": "markdown",
   "id": "e5556dc2",
   "metadata": {},
   "source": [
    "### Train/Test Split"
   ]
  },
  {
   "cell_type": "code",
   "execution_count": 53,
   "id": "ec6b7221",
   "metadata": {},
   "outputs": [],
   "source": [
    "#performing train test split \n",
    "X_train, X_test, y_train, y_test = train_test_split(X, y, test_size=0.40, random_state=56)"
   ]
  },
  {
   "cell_type": "code",
   "execution_count": 54,
   "id": "e019e0b0",
   "metadata": {},
   "outputs": [],
   "source": [
    "# Create instance of smotec\n",
    "from imblearn.over_sampling import SMOTE,SMOTENC\n",
    "smote = SMOTE(random_state=56)"
   ]
  },
  {
   "cell_type": "code",
   "execution_count": 55,
   "id": "e299cca0",
   "metadata": {},
   "outputs": [],
   "source": [
    "# Create resampled version of the train dataset\n",
    "SMOTE_X_train, SMOTE_y_train = smote.fit_resample(X_train, y_train)\n",
    "# Create resampled version of the test dataset\n",
    "SMOTE_X_test, SMOTE_y_test = smote.fit_resample(X_test, y_test)"
   ]
  },
  {
   "cell_type": "code",
   "execution_count": 56,
   "id": "b91c2852",
   "metadata": {},
   "outputs": [
    {
     "name": "stdout",
     "output_type": "stream",
     "text": [
      "Before Smote\n",
      " 0    56\n",
      "1    28\n",
      "Name: increase, dtype: int64\n",
      "\n",
      "After Smote\n",
      " 0    56\n",
      "1    56\n",
      "Name: increase, dtype: int64\n"
     ]
    }
   ],
   "source": [
    "#before smote\n",
    "print('Before Smote\\n', y_train.value_counts())\n",
    "\n",
    "#after smote\n",
    "print('\\nAfter Smote\\n', SMOTE_y_train.value_counts())"
   ]
  },
  {
   "cell_type": "markdown",
   "id": "4887f075",
   "metadata": {},
   "source": [
    "### Training Data"
   ]
  },
  {
   "cell_type": "code",
   "execution_count": 57,
   "id": "88f22cab",
   "metadata": {},
   "outputs": [],
   "source": [
    "#fitting the model unto our training data\n",
    "logreg.fit(SMOTE_X_train, SMOTE_y_train)\n",
    "y_pred_train = logreg.predict(SMOTE_X_train)"
   ]
  },
  {
   "cell_type": "code",
   "execution_count": 58,
   "id": "0d1b0bbd",
   "metadata": {},
   "outputs": [
    {
     "name": "stdout",
     "output_type": "stream",
     "text": [
      "F1 Score: 0.631\n"
     ]
    }
   ],
   "source": [
    "#using F-1 score to see how it performs\n",
    "#F1 Score = 2* Precision Score * Recall Score/ (Precision Score + Recall Score/)\n",
    "print('F1 Score: %.3f' % f1_score(SMOTE_y_train, y_pred_train))"
   ]
  },
  {
   "cell_type": "markdown",
   "id": "4cf991ba",
   "metadata": {},
   "source": [
    "### Testing Data"
   ]
  },
  {
   "cell_type": "code",
   "execution_count": 59,
   "id": "42bd4951",
   "metadata": {},
   "outputs": [],
   "source": [
    "#fitting the model unto our test data\n",
    "logreg.fit(SMOTE_X_test, SMOTE_y_test)\n",
    "y_pred_test = logreg.predict(SMOTE_X_test)"
   ]
  },
  {
   "cell_type": "code",
   "execution_count": 60,
   "id": "c7f89679",
   "metadata": {},
   "outputs": [
    {
     "name": "stdout",
     "output_type": "stream",
     "text": [
      "F1 Score: 0.711\n"
     ]
    }
   ],
   "source": [
    "#using F-1 score to see how it performs\n",
    "#F1 Score = 2* Precision Score * Recall Score/ (Precision Score + Recall Score/)\n",
    "print('F1 Score: %.3f' % f1_score(SMOTE_y_test, y_pred_test))"
   ]
  },
  {
   "cell_type": "code",
   "execution_count": 61,
   "id": "880728e7",
   "metadata": {},
   "outputs": [
    {
     "data": {
      "image/png": "[encoded data removed]",
      "text/plain": [
       "<Figure size 500x500 with 1 Axes>"
      ]
     },
     "metadata": {},
     "output_type": "display_data"
    }
   ],
   "source": [
    "#https://vitalflux.com/accuracy-precision-recall-f1-score-python-example/\n",
    "conf_matrix = confusion_matrix(y_true=SMOTE_y_test, y_pred=y_pred_test)\n",
    "\n",
    "fig, ax = plt.subplots(figsize=(5, 5))\n",
    "ax.matshow(conf_matrix, cmap=plt.cm.Blues, alpha=0.3)\n",
    "for i in range(conf_matrix.shape[0]):\n",
    "    for j in range(conf_matrix.shape[1]):\n",
    "        ax.text(x=j, y=i,s=conf_matrix[i, j], va='center', ha='center', size='xx-large')\n",
    " \n",
    "plt.xlabel('Predictions', fontsize=18)\n",
    "plt.ylabel('Actuals', fontsize=18)\n",
    "plt.title('Confusion Matrix', fontsize=18)\n",
    "plt.show()"
   ]
  },
  {
   "cell_type": "code",
   "execution_count": 62,
   "id": "58653ca7",
   "metadata": {},
   "outputs": [
    {
     "data": {
      "image/png": "[encoded data removed]",
      "text/plain": [
       "<Figure size 1000x600 with 1 Axes>"
      ]
     },
     "metadata": {},
     "output_type": "display_data"
    }
   ],
   "source": [
    "model = LogisticRegression()\n",
    "model.fit(SMOTE_X_train, SMOTE_y_train)\n",
    "\n",
    "\n",
    "coefficients = model.coef_[0]\n",
    "\n",
    "feature_importance = pd.DataFrame({'Feature': X.columns, 'Importance': np.abs(coefficients)})\n",
    "feature_importance = feature_importance.sort_values('Importance', ascending=True)\n",
    "feature_importance.plot(x='Feature', y='Importance', kind='barh', figsize=(10, 6));"
   ]
  },
  {
   "cell_type": "markdown",
   "id": "18abb4d3",
   "metadata": {},
   "source": [
    "## XGBoost"
   ]
  },
  {
   "cell_type": "code",
   "execution_count": 63,
   "id": "7cf13928",
   "metadata": {},
   "outputs": [],
   "source": [
    "import xgboost as xgb \n",
    "from xgboost import XGBClassifier, plot_importance\n",
    "xgb = xgb.XGBClassifier(random_state=56)"
   ]
  },
  {
   "cell_type": "markdown",
   "id": "89653554",
   "metadata": {},
   "source": [
    "### Selecting Our Target Variable and Features\n",
    "Our targer variable is increase and for our second iteration of modeling we will drop WSF2 because it's highly correlated with AWND. "
   ]
  },
  {
   "cell_type": "code",
   "execution_count": 64,
   "id": "81c9a7cf",
   "metadata": {},
   "outputs": [],
   "source": [
    "#y is prediction variable \n",
    "#X is features \n",
    "y_boost = bottom['increase']\n",
    "X_boost = bottom.drop(['City', 'HurricaneName', 'DATE', 'after', 'percent', 'WSF2', 'increase'], axis=1)"
   ]
  },
  {
   "cell_type": "code",
   "execution_count": 65,
   "id": "54b5232a",
   "metadata": {},
   "outputs": [],
   "source": [
    "#performing train test split \n",
    "XG_X_train, XG_X_test, XG_y_train, XG_y_test = train_test_split(X_boost, y_boost, test_size=0.40, random_state=56)"
   ]
  },
  {
   "cell_type": "code",
   "execution_count": 66,
   "id": "17f09e1b",
   "metadata": {},
   "outputs": [],
   "source": [
    "xgb.fit(XG_X_train, XG_y_train);"
   ]
  },
  {
   "cell_type": "code",
   "execution_count": 67,
   "id": "93ae30c5",
   "metadata": {},
   "outputs": [],
   "source": [
    "y_pred_train = xgb.predict(XG_X_train)"
   ]
  },
  {
   "cell_type": "code",
   "execution_count": 68,
   "id": "29ecd78b",
   "metadata": {},
   "outputs": [
    {
     "name": "stdout",
     "output_type": "stream",
     "text": [
      "F1 Score: 1.000\n"
     ]
    }
   ],
   "source": [
    "#using F-1 score to see how it performs\n",
    "#F1 Score = 2* Precision Score * Recall Score/ (Precision Score + Recall Score/)\n",
    "print('F1 Score: %.3f' % f1_score(XG_y_train, y_pred_train))"
   ]
  },
  {
   "cell_type": "code",
   "execution_count": 69,
   "id": "8816092c",
   "metadata": {},
   "outputs": [],
   "source": [
    "xgb.fit(XG_X_test, XG_y_test);"
   ]
  },
  {
   "cell_type": "code",
   "execution_count": 70,
   "id": "37b897e3",
   "metadata": {},
   "outputs": [],
   "source": [
    "y_pred_test = xgb.predict(XG_X_test)"
   ]
  },
  {
   "cell_type": "code",
   "execution_count": 71,
   "id": "6a195584",
   "metadata": {},
   "outputs": [
    {
     "name": "stdout",
     "output_type": "stream",
     "text": [
      "F1 Score: 1.000\n"
     ]
    }
   ],
   "source": [
    "#using F-1 score to see how it performs\n",
    "#F1 Score = 2* Precision Score * Recall Score/ (Precision Score + Recall Score/)\n",
    "print('F1 Score: %.3f' % f1_score(XG_y_test, y_pred_test))"
   ]
  },
  {
   "cell_type": "code",
   "execution_count": 72,
   "id": "629f893b",
   "metadata": {},
   "outputs": [
    {
     "data": {
      "image/png": "[encoded data removed]",
      "text/plain": [
       "<Figure size 500x500 with 1 Axes>"
      ]
     },
     "metadata": {},
     "output_type": "display_data"
    }
   ],
   "source": [
    "conf_matrix = confusion_matrix(y_true=XG_y_test, y_pred=y_pred_test)\n",
    "\n",
    "fig, ax = plt.subplots(figsize=(5, 5))\n",
    "ax.matshow(conf_matrix, cmap=plt.cm.Blues, alpha=0.3)\n",
    "for i in range(conf_matrix.shape[0]):\n",
    "    for j in range(conf_matrix.shape[1]):\n",
    "        ax.text(x=j, y=i,s=conf_matrix[i, j], va='center', ha='center', size='xx-large')\n",
    " \n",
    "plt.xlabel('Predictions', fontsize=18)\n",
    "plt.ylabel('Actuals', fontsize=18)\n",
    "plt.title('Confusion Matrix', fontsize=18)\n",
    "plt.show()"
   ]
  },
  {
   "cell_type": "code",
   "execution_count": 73,
   "id": "96b28e33",
   "metadata": {},
   "outputs": [
    {
     "data": {
      "image/png": "[encoded data removed]",
      "text/plain": [
       "<Figure size 640x480 with 1 Axes>"
      ]
     },
     "metadata": {},
     "output_type": "display_data"
    }
   ],
   "source": [
    "#seeing what features are most important to housing value\n",
    "#Using feature importance \n",
    "feature_importances = xgb.feature_importances_\n",
    "\n",
    "# Create a list of features\n",
    "feature_list = list(X_boost.columns)\n",
    "\n",
    "# Save the results inside a DataFrame using feature_list as an index\n",
    "relative_importances = pd.DataFrame(index=feature_list, data=feature_importances, columns=[\"importance\"])\n",
    "\n",
    "# Sort values to learn most important features\n",
    "relative_importances.sort_values(by=\"importance\", ascending=False)\n",
    "\n",
    "\n",
    "result = relative_importances.reset_index().sort_values('importance',ascending=False)\n",
    "\n",
    "#plot feature importances with sorted values\n",
    "sns.barplot(x='importance', y=\"index\", data=result, color='blue');"
   ]
  },
  {
   "cell_type": "markdown",
   "id": "4866cb42",
   "metadata": {},
   "source": [
    "# Modeling All Housing\n",
    "Let's run our model on our dataset with all our home values"
   ]
  },
  {
   "cell_type": "markdown",
   "id": "2d6c8bd9",
   "metadata": {},
   "source": [
    "## Model 1: All Housing\n",
    "\n",
    "Let's see how our dataset with all data looks. "
   ]
  },
  {
   "cell_type": "code",
   "execution_count": 74,
   "id": "549251c3",
   "metadata": {},
   "outputs": [
    {
     "data": {
      "text/html": [
       "<div>\n",
       "<style scoped>\n",
       "    .dataframe tbody tr th:only-of-type {\n",
       "        vertical-align: middle;\n",
       "    }\n",
       "\n",
       "    .dataframe tbody tr th {\n",
       "        vertical-align: top;\n",
       "    }\n",
       "\n",
       "    .dataframe thead th {\n",
       "        text-align: right;\n",
       "    }\n",
       "</style>\n",
       "<table border=\"1\" class=\"dataframe\">\n",
       "  <thead>\n",
       "    <tr style=\"text-align: right;\">\n",
       "      <th></th>\n",
       "      <th>City</th>\n",
       "      <th>HurricaneName</th>\n",
       "      <th>DATE</th>\n",
       "      <th>AWND</th>\n",
       "      <th>WSF2</th>\n",
       "      <th>SizeRank</th>\n",
       "      <th>before</th>\n",
       "      <th>after</th>\n",
       "      <th>percent</th>\n",
       "      <th>increase</th>\n",
       "    </tr>\n",
       "  </thead>\n",
       "  <tbody>\n",
       "    <tr>\n",
       "      <th>3</th>\n",
       "      <td>Apalachicola</td>\n",
       "      <td>irma</td>\n",
       "      <td>9/11/2017</td>\n",
       "      <td>46.527520</td>\n",
       "      <td>82.54161</td>\n",
       "      <td>12877</td>\n",
       "      <td>52379.75722</td>\n",
       "      <td>63594.00344</td>\n",
       "      <td>21.409504</td>\n",
       "      <td>1</td>\n",
       "    </tr>\n",
       "    <tr>\n",
       "      <th>4</th>\n",
       "      <td>Apalachicola</td>\n",
       "      <td>irma</td>\n",
       "      <td>9/10/2017</td>\n",
       "      <td>42.523469</td>\n",
       "      <td>71.58080</td>\n",
       "      <td>12877</td>\n",
       "      <td>52379.75722</td>\n",
       "      <td>63594.00344</td>\n",
       "      <td>21.409504</td>\n",
       "      <td>1</td>\n",
       "    </tr>\n",
       "    <tr>\n",
       "      <th>5</th>\n",
       "      <td>Apalachicola</td>\n",
       "      <td>irma</td>\n",
       "      <td>9/9/2017</td>\n",
       "      <td>29.012593</td>\n",
       "      <td>44.51431</td>\n",
       "      <td>12877</td>\n",
       "      <td>52379.75722</td>\n",
       "      <td>63594.00344</td>\n",
       "      <td>21.409504</td>\n",
       "      <td>1</td>\n",
       "    </tr>\n",
       "    <tr>\n",
       "      <th>6</th>\n",
       "      <td>Apalachicola</td>\n",
       "      <td>matthew</td>\n",
       "      <td>10/7/2016</td>\n",
       "      <td>24.024306</td>\n",
       "      <td>48.98811</td>\n",
       "      <td>12877</td>\n",
       "      <td>48548.85811</td>\n",
       "      <td>52980.36723</td>\n",
       "      <td>9.127937</td>\n",
       "      <td>0</td>\n",
       "    </tr>\n",
       "    <tr>\n",
       "      <th>9</th>\n",
       "      <td>Apalachicola</td>\n",
       "      <td>michael</td>\n",
       "      <td>10/9/2018</td>\n",
       "      <td>29.527080</td>\n",
       "      <td>46.97490</td>\n",
       "      <td>12877</td>\n",
       "      <td>65287.07867</td>\n",
       "      <td>76710.34737</td>\n",
       "      <td>17.496982</td>\n",
       "      <td>1</td>\n",
       "    </tr>\n",
       "  </tbody>\n",
       "</table>\n",
       "</div>"
      ],
      "text/plain": [
       "           City HurricaneName       DATE       AWND      WSF2  SizeRank  \\\n",
       "3  Apalachicola          irma  9/11/2017  46.527520  82.54161     12877   \n",
       "4  Apalachicola          irma  9/10/2017  42.523469  71.58080     12877   \n",
       "5  Apalachicola          irma   9/9/2017  29.012593  44.51431     12877   \n",
       "6  Apalachicola       matthew  10/7/2016  24.024306  48.98811     12877   \n",
       "9  Apalachicola       michael  10/9/2018  29.527080  46.97490     12877   \n",
       "\n",
       "        before        after    percent  increase  \n",
       "3  52379.75722  63594.00344  21.409504         1  \n",
       "4  52379.75722  63594.00344  21.409504         1  \n",
       "5  52379.75722  63594.00344  21.409504         1  \n",
       "6  48548.85811  52980.36723   9.127937         0  \n",
       "9  65287.07867  76710.34737  17.496982         1  "
      ]
     },
     "execution_count": 74,
     "metadata": {},
     "output_type": "execute_result"
    }
   ],
   "source": [
    "all.head()"
   ]
  },
  {
   "cell_type": "markdown",
   "id": "6a606495",
   "metadata": {},
   "source": [
    "### Selecting Our Target Variable and Features\n",
    "Our targer variable is increase and for our second iteration of modeling we will drop WSF2 because it's highly correlated with AWND. "
   ]
  },
  {
   "cell_type": "code",
   "execution_count": 75,
   "id": "b042cb59",
   "metadata": {},
   "outputs": [],
   "source": [
    "#y is prediction variable \n",
    "#X is features \n",
    "y = all['increase']\n",
    "X = all.drop(['City', 'HurricaneName', 'DATE', 'after', 'percent', 'WSF2', 'increase'], axis=1)"
   ]
  },
  {
   "cell_type": "markdown",
   "id": "7e3b0be8",
   "metadata": {},
   "source": [
    "### Train/Test Split"
   ]
  },
  {
   "cell_type": "code",
   "execution_count": 76,
   "id": "02eaa7c4",
   "metadata": {},
   "outputs": [],
   "source": [
    "#performing train test split \n",
    "X_train, X_test, y_train, y_test = train_test_split(X, y, test_size=0.40, random_state=56)"
   ]
  },
  {
   "cell_type": "markdown",
   "id": "607cdc43",
   "metadata": {},
   "source": [
    "### Training Data"
   ]
  },
  {
   "cell_type": "code",
   "execution_count": 77,
   "id": "0dda6041",
   "metadata": {},
   "outputs": [],
   "source": [
    "#fitting the model unto our training data\n",
    "logreg.fit(X_train, y_train)\n",
    "y_pred_train = logreg.predict(X_train)"
   ]
  },
  {
   "cell_type": "code",
   "execution_count": 78,
   "id": "1ddab374",
   "metadata": {},
   "outputs": [
    {
     "name": "stdout",
     "output_type": "stream",
     "text": [
      "F1 Score: 0.123\n"
     ]
    }
   ],
   "source": [
    "#using F-1 score to see how it performs\n",
    "#F1 Score = 2* Precision Score * Recall Score/ (Precision Score + Recall Score/)\n",
    "print('F1 Score: %.3f' % f1_score(y_train, y_pred_train))"
   ]
  },
  {
   "cell_type": "markdown",
   "id": "c0cace25",
   "metadata": {},
   "source": [
    "### Testing Data"
   ]
  },
  {
   "cell_type": "code",
   "execution_count": 79,
   "id": "1a6962b3",
   "metadata": {},
   "outputs": [],
   "source": [
    "#fitting the model unto our test data\n",
    "logreg.fit(X_test, y_test)\n",
    "y_pred_test = logreg.predict(X_test)"
   ]
  },
  {
   "cell_type": "code",
   "execution_count": 80,
   "id": "63b738bc",
   "metadata": {},
   "outputs": [
    {
     "name": "stdout",
     "output_type": "stream",
     "text": [
      "F1 Score: 0.118\n"
     ]
    }
   ],
   "source": [
    "#using F-1 score to see how it performs\n",
    "#F1 Score = 2* Precision Score * Recall Score/ (Precision Score + Recall Score/)\n",
    "print('F1 Score: %.3f' % f1_score(y_test, y_pred_test))"
   ]
  },
  {
   "cell_type": "code",
   "execution_count": 81,
   "id": "0c012044",
   "metadata": {},
   "outputs": [
    {
     "data": {
      "image/png": "[encoded data removed]",
      "text/plain": [
       "<Figure size 500x500 with 1 Axes>"
      ]
     },
     "metadata": {},
     "output_type": "display_data"
    }
   ],
   "source": [
    "#https://vitalflux.com/accuracy-precision-recall-f1-score-python-example/\n",
    "conf_matrix = confusion_matrix(y_true=y_test, y_pred=y_pred_test)\n",
    "\n",
    "fig, ax = plt.subplots(figsize=(5, 5))\n",
    "ax.matshow(conf_matrix, cmap=plt.cm.Blues, alpha=0.3)\n",
    "for i in range(conf_matrix.shape[0]):\n",
    "    for j in range(conf_matrix.shape[1]):\n",
    "        ax.text(x=j, y=i,s=conf_matrix[i, j], va='center', ha='center', size='xx-large')\n",
    " \n",
    "plt.xlabel('Predictions', fontsize=18)\n",
    "plt.ylabel('Actuals', fontsize=18)\n",
    "plt.title('Confusion Matrix', fontsize=18)\n",
    "plt.show()"
   ]
  },
  {
   "cell_type": "code",
   "execution_count": 82,
   "id": "26ae6fd1",
   "metadata": {},
   "outputs": [
    {
     "data": {
      "image/png": "[encoded data removed]",
      "text/plain": [
       "<Figure size 1000x600 with 1 Axes>"
      ]
     },
     "metadata": {},
     "output_type": "display_data"
    }
   ],
   "source": [
    "model = LogisticRegression()\n",
    "model.fit(X_train, y_train)\n",
    "\n",
    "\n",
    "coefficients = model.coef_[0]\n",
    "\n",
    "feature_importance = pd.DataFrame({'Feature': X.columns, 'Importance': np.abs(coefficients)})\n",
    "feature_importance = feature_importance.sort_values('Importance', ascending=True)\n",
    "feature_importance.plot(x='Feature', y='Importance', kind='barh', figsize=(10, 6));"
   ]
  },
  {
   "cell_type": "markdown",
   "id": "dd435b48",
   "metadata": {},
   "source": [
    "## Model 2: All Housing Without Colinear Variables and Scaling \n",
    "\n",
    "We will use the bottom tier housing for modeling since it has the best class imbalance. "
   ]
  },
  {
   "cell_type": "code",
   "execution_count": 83,
   "id": "a662c5c1",
   "metadata": {},
   "outputs": [
    {
     "data": {
      "text/html": [
       "<div>\n",
       "<style scoped>\n",
       "    .dataframe tbody tr th:only-of-type {\n",
       "        vertical-align: middle;\n",
       "    }\n",
       "\n",
       "    .dataframe tbody tr th {\n",
       "        vertical-align: top;\n",
       "    }\n",
       "\n",
       "    .dataframe thead th {\n",
       "        text-align: right;\n",
       "    }\n",
       "</style>\n",
       "<table border=\"1\" class=\"dataframe\">\n",
       "  <thead>\n",
       "    <tr style=\"text-align: right;\">\n",
       "      <th></th>\n",
       "      <th>City</th>\n",
       "      <th>HurricaneName</th>\n",
       "      <th>DATE</th>\n",
       "      <th>AWND</th>\n",
       "      <th>WSF2</th>\n",
       "      <th>SizeRank</th>\n",
       "      <th>before</th>\n",
       "      <th>after</th>\n",
       "      <th>percent</th>\n",
       "      <th>increase</th>\n",
       "    </tr>\n",
       "  </thead>\n",
       "  <tbody>\n",
       "    <tr>\n",
       "      <th>3</th>\n",
       "      <td>Apalachicola</td>\n",
       "      <td>irma</td>\n",
       "      <td>9/11/2017</td>\n",
       "      <td>46.527520</td>\n",
       "      <td>82.54161</td>\n",
       "      <td>12877</td>\n",
       "      <td>52379.75722</td>\n",
       "      <td>63594.00344</td>\n",
       "      <td>21.409504</td>\n",
       "      <td>1</td>\n",
       "    </tr>\n",
       "    <tr>\n",
       "      <th>4</th>\n",
       "      <td>Apalachicola</td>\n",
       "      <td>irma</td>\n",
       "      <td>9/10/2017</td>\n",
       "      <td>42.523469</td>\n",
       "      <td>71.58080</td>\n",
       "      <td>12877</td>\n",
       "      <td>52379.75722</td>\n",
       "      <td>63594.00344</td>\n",
       "      <td>21.409504</td>\n",
       "      <td>1</td>\n",
       "    </tr>\n",
       "    <tr>\n",
       "      <th>5</th>\n",
       "      <td>Apalachicola</td>\n",
       "      <td>irma</td>\n",
       "      <td>9/9/2017</td>\n",
       "      <td>29.012593</td>\n",
       "      <td>44.51431</td>\n",
       "      <td>12877</td>\n",
       "      <td>52379.75722</td>\n",
       "      <td>63594.00344</td>\n",
       "      <td>21.409504</td>\n",
       "      <td>1</td>\n",
       "    </tr>\n",
       "    <tr>\n",
       "      <th>6</th>\n",
       "      <td>Apalachicola</td>\n",
       "      <td>matthew</td>\n",
       "      <td>10/7/2016</td>\n",
       "      <td>24.024306</td>\n",
       "      <td>48.98811</td>\n",
       "      <td>12877</td>\n",
       "      <td>48548.85811</td>\n",
       "      <td>52980.36723</td>\n",
       "      <td>9.127937</td>\n",
       "      <td>0</td>\n",
       "    </tr>\n",
       "    <tr>\n",
       "      <th>9</th>\n",
       "      <td>Apalachicola</td>\n",
       "      <td>michael</td>\n",
       "      <td>10/9/2018</td>\n",
       "      <td>29.527080</td>\n",
       "      <td>46.97490</td>\n",
       "      <td>12877</td>\n",
       "      <td>65287.07867</td>\n",
       "      <td>76710.34737</td>\n",
       "      <td>17.496982</td>\n",
       "      <td>1</td>\n",
       "    </tr>\n",
       "  </tbody>\n",
       "</table>\n",
       "</div>"
      ],
      "text/plain": [
       "           City HurricaneName       DATE       AWND      WSF2  SizeRank  \\\n",
       "3  Apalachicola          irma  9/11/2017  46.527520  82.54161     12877   \n",
       "4  Apalachicola          irma  9/10/2017  42.523469  71.58080     12877   \n",
       "5  Apalachicola          irma   9/9/2017  29.012593  44.51431     12877   \n",
       "6  Apalachicola       matthew  10/7/2016  24.024306  48.98811     12877   \n",
       "9  Apalachicola       michael  10/9/2018  29.527080  46.97490     12877   \n",
       "\n",
       "        before        after    percent  increase  \n",
       "3  52379.75722  63594.00344  21.409504         1  \n",
       "4  52379.75722  63594.00344  21.409504         1  \n",
       "5  52379.75722  63594.00344  21.409504         1  \n",
       "6  48548.85811  52980.36723   9.127937         0  \n",
       "9  65287.07867  76710.34737  17.496982         1  "
      ]
     },
     "execution_count": 83,
     "metadata": {},
     "output_type": "execute_result"
    }
   ],
   "source": [
    "all.head()"
   ]
  },
  {
   "cell_type": "markdown",
   "id": "7a177a59",
   "metadata": {},
   "source": [
    "### Selecting Our Target Variable and Features\n",
    "Our targer variable is increase and for our second iteration of modeling we will drop WSF2 because it's highly correlated with AWND. "
   ]
  },
  {
   "cell_type": "code",
   "execution_count": 84,
   "id": "b7a4d8a9",
   "metadata": {},
   "outputs": [],
   "source": [
    "#y is prediction variable \n",
    "#X is features \n",
    "y = all['increase']\n",
    "X = all.drop(['City', 'HurricaneName', 'DATE', 'after', 'percent', 'WSF2', 'increase'], axis=1)"
   ]
  },
  {
   "cell_type": "markdown",
   "id": "41431d2a",
   "metadata": {},
   "source": [
    "### Train/Test Split"
   ]
  },
  {
   "cell_type": "code",
   "execution_count": 85,
   "id": "90278721",
   "metadata": {},
   "outputs": [],
   "source": [
    "#how do i know if it's even?\n",
    "#performing train test split \n",
    "X_train, X_test, y_train, y_test = train_test_split(X, y, test_size=0.40, random_state=56)"
   ]
  },
  {
   "cell_type": "code",
   "execution_count": 86,
   "id": "ce48306d",
   "metadata": {},
   "outputs": [],
   "source": [
    "sc = StandardScaler()\n",
    "sc.fit(X_train)\n",
    "X_train_std = sc.transform(X_train)\n",
    "X_test_std = sc.transform(X_test)"
   ]
  },
  {
   "cell_type": "markdown",
   "id": "186c5fd0",
   "metadata": {},
   "source": [
    "### Training Data"
   ]
  },
  {
   "cell_type": "code",
   "execution_count": 87,
   "id": "64706d47",
   "metadata": {},
   "outputs": [],
   "source": [
    "#fitting the model unto our training data\n",
    "logreg.fit(X_train_std, y_train)\n",
    "y_pred_train = logreg.predict(X_train_std)"
   ]
  },
  {
   "cell_type": "code",
   "execution_count": 88,
   "id": "5accc267",
   "metadata": {},
   "outputs": [
    {
     "name": "stdout",
     "output_type": "stream",
     "text": [
      "F1 Score: 0.092\n"
     ]
    }
   ],
   "source": [
    "#using F-1 score to see how it performs\n",
    "#F1 Score = 2* Precision Score * Recall Score/ (Precision Score + Recall Score/)\n",
    "print('F1 Score: %.3f' % f1_score(y_train, y_pred_train))"
   ]
  },
  {
   "cell_type": "markdown",
   "id": "5536efca",
   "metadata": {},
   "source": [
    "### Testing Data"
   ]
  },
  {
   "cell_type": "code",
   "execution_count": 89,
   "id": "7948ebd6",
   "metadata": {},
   "outputs": [],
   "source": [
    "#fitting the model unto our test data\n",
    "logreg.fit(X_test_std, y_test)\n",
    "y_pred_test = logreg.predict(X_test_std)"
   ]
  },
  {
   "cell_type": "code",
   "execution_count": 90,
   "id": "d075967c",
   "metadata": {},
   "outputs": [
    {
     "name": "stdout",
     "output_type": "stream",
     "text": [
      "F1 Score: 0.114\n"
     ]
    }
   ],
   "source": [
    "#using F-1 score to see how it performs\n",
    "#F1 Score = 2* Precision Score * Recall Score/ (Precision Score + Recall Score/)\n",
    "print('F1 Score: %.3f' % f1_score(y_test, y_pred_test))"
   ]
  },
  {
   "cell_type": "code",
   "execution_count": 91,
   "id": "2ca98466",
   "metadata": {},
   "outputs": [
    {
     "data": {
      "image/png": "[encoded data removed]",
      "text/plain": [
       "<Figure size 500x500 with 1 Axes>"
      ]
     },
     "metadata": {},
     "output_type": "display_data"
    }
   ],
   "source": [
    "#https://vitalflux.com/accuracy-precision-recall-f1-score-python-example/\n",
    "conf_matrix = confusion_matrix(y_true=y_test, y_pred=y_pred_test)\n",
    "\n",
    "fig, ax = plt.subplots(figsize=(5, 5))\n",
    "ax.matshow(conf_matrix, cmap=plt.cm.Blues, alpha=0.3)\n",
    "for i in range(conf_matrix.shape[0]):\n",
    "    for j in range(conf_matrix.shape[1]):\n",
    "        ax.text(x=j, y=i,s=conf_matrix[i, j], va='center', ha='center', size='xx-large')\n",
    " \n",
    "plt.xlabel('Predictions', fontsize=18)\n",
    "plt.ylabel('Actuals', fontsize=18)\n",
    "plt.title('Confusion Matrix', fontsize=18)\n",
    "plt.show()"
   ]
  },
  {
   "cell_type": "code",
   "execution_count": 92,
   "id": "4232cdc9",
   "metadata": {},
   "outputs": [
    {
     "data": {
      "image/png": "[encoded data removed]",
      "text/plain": [
       "<Figure size 1000x600 with 1 Axes>"
      ]
     },
     "metadata": {},
     "output_type": "display_data"
    }
   ],
   "source": [
    "model = LogisticRegression()\n",
    "model.fit(X_train, y_train)\n",
    "\n",
    "\n",
    "coefficients = model.coef_[0]\n",
    "\n",
    "feature_importance = pd.DataFrame({'Feature': X.columns, 'Importance': np.abs(coefficients)})\n",
    "feature_importance = feature_importance.sort_values('Importance', ascending=True)\n",
    "feature_importance.plot(x='Feature', y='Importance', kind='barh', figsize=(10, 6));"
   ]
  },
  {
   "cell_type": "markdown",
   "id": "9274b829",
   "metadata": {},
   "source": [
    "## XGBoost"
   ]
  },
  {
   "cell_type": "code",
   "execution_count": 93,
   "id": "b2b062d0",
   "metadata": {},
   "outputs": [],
   "source": [
    "import xgboost as xgb \n",
    "from xgboost import XGBClassifier, plot_importance\n",
    "xgb = xgb.XGBClassifier(random_state=56)"
   ]
  },
  {
   "cell_type": "markdown",
   "id": "012d4218",
   "metadata": {},
   "source": [
    "### Selecting Our Target Variable and Features\n",
    "Our targer variable is increase and for our second iteration of modeling we will drop WSF2 because it's highly correlated with AWND. "
   ]
  },
  {
   "cell_type": "code",
   "execution_count": 94,
   "id": "436f1bd8",
   "metadata": {},
   "outputs": [],
   "source": [
    "#y is prediction variable \n",
    "#X is features \n",
    "y_boost = all['increase']\n",
    "X_boost = all.drop(['City', 'HurricaneName', 'DATE', 'after', 'percent', 'WSF2', 'increase'], axis=1)"
   ]
  },
  {
   "cell_type": "code",
   "execution_count": 95,
   "id": "a4048f1c",
   "metadata": {},
   "outputs": [],
   "source": [
    "#performing train test split \n",
    "XG_X_train, XG_X_test, XG_y_train, XG_y_test = train_test_split(X_boost, y_boost, test_size=0.40, random_state=56)"
   ]
  },
  {
   "cell_type": "code",
   "execution_count": 96,
   "id": "52e22f69",
   "metadata": {},
   "outputs": [],
   "source": [
    "xgb.fit(XG_X_train, XG_y_train);"
   ]
  },
  {
   "cell_type": "code",
   "execution_count": 97,
   "id": "df5e5e63",
   "metadata": {},
   "outputs": [],
   "source": [
    "y_pred_train = xgb.predict(XG_X_train)"
   ]
  },
  {
   "cell_type": "code",
   "execution_count": 98,
   "id": "a896ec5c",
   "metadata": {},
   "outputs": [
    {
     "name": "stdout",
     "output_type": "stream",
     "text": [
      "F1 Score: 1.000\n"
     ]
    }
   ],
   "source": [
    "#using F-1 score to see how it performs\n",
    "#F1 Score = 2* Precision Score * Recall Score/ (Precision Score + Recall Score/)\n",
    "print('F1 Score: %.3f' % f1_score(XG_y_train, y_pred_train))"
   ]
  },
  {
   "cell_type": "code",
   "execution_count": 99,
   "id": "408759fb",
   "metadata": {},
   "outputs": [],
   "source": [
    "xgb.fit(XG_X_test, XG_y_test);"
   ]
  },
  {
   "cell_type": "code",
   "execution_count": 100,
   "id": "42e57d75",
   "metadata": {},
   "outputs": [],
   "source": [
    "y_pred_test = xgb.predict(XG_X_test)"
   ]
  },
  {
   "cell_type": "code",
   "execution_count": 101,
   "id": "5078a9d7",
   "metadata": {},
   "outputs": [
    {
     "name": "stdout",
     "output_type": "stream",
     "text": [
      "F1 Score: 1.000\n"
     ]
    }
   ],
   "source": [
    "#using F-1 score to see how it performs\n",
    "#F1 Score = 2* Precision Score * Recall Score/ (Precision Score + Recall Score/)\n",
    "print('F1 Score: %.3f' % f1_score(XG_y_test, y_pred_test))"
   ]
  },
  {
   "cell_type": "code",
   "execution_count": 102,
   "id": "37c1371e",
   "metadata": {},
   "outputs": [
    {
     "data": {
      "image/png": "[encoded data removed]",
      "text/plain": [
       "<Figure size 500x500 with 1 Axes>"
      ]
     },
     "metadata": {},
     "output_type": "display_data"
    }
   ],
   "source": [
    "conf_matrix = confusion_matrix(y_true=XG_y_test, y_pred=y_pred_test)\n",
    "\n",
    "fig, ax = plt.subplots(figsize=(5, 5))\n",
    "ax.matshow(conf_matrix, cmap=plt.cm.Blues, alpha=0.3)\n",
    "for i in range(conf_matrix.shape[0]):\n",
    "    for j in range(conf_matrix.shape[1]):\n",
    "        ax.text(x=j, y=i,s=conf_matrix[i, j], va='center', ha='center', size='xx-large')\n",
    " \n",
    "plt.xlabel('Predictions', fontsize=18)\n",
    "plt.ylabel('Actuals', fontsize=18)\n",
    "plt.title('Confusion Matrix', fontsize=18)\n",
    "plt.show()"
   ]
  },
  {
   "cell_type": "code",
   "execution_count": 103,
   "id": "50535251",
   "metadata": {},
   "outputs": [
    {
     "data": {
      "image/png": "[encoded data removed]",
      "text/plain": [
       "<Figure size 640x480 with 1 Axes>"
      ]
     },
     "metadata": {},
     "output_type": "display_data"
    }
   ],
   "source": [
    "#seeing what features are most important to housing value\n",
    "#Using feature importance \n",
    "feature_importances = xgb.feature_importances_\n",
    "\n",
    "# Create a list of features\n",
    "feature_list = list(X_boost.columns)\n",
    "\n",
    "# Save the results inside a DataFrame using feature_list as an index\n",
    "relative_importances = pd.DataFrame(index=feature_list, data=feature_importances, columns=[\"importance\"])\n",
    "\n",
    "# Sort values to learn most important features\n",
    "relative_importances.sort_values(by=\"importance\", ascending=False)\n",
    "\n",
    "\n",
    "result = relative_importances.reset_index().sort_values('importance',ascending=False)\n",
    "\n",
    "#plot feature importances with sorted values\n",
    "sns.barplot(x='importance', y=\"index\", data=result, color='blue');"
   ]
  },
  {
   "cell_type": "code",
   "execution_count": null,
   "id": "548c5426",
   "metadata": {},
   "outputs": [],
   "source": []
  },
  {
   "cell_type": "code",
   "execution_count": null,
   "id": "1af9257f",
   "metadata": {},
   "outputs": [],
   "source": []
  },
  {
   "cell_type": "code",
   "execution_count": null,
   "id": "eac7596e",
   "metadata": {},
   "outputs": [],
   "source": []
  },
  {
   "cell_type": "code",
   "execution_count": null,
   "id": "9d5e0aba",
   "metadata": {},
   "outputs": [],
   "source": []
  },
  {
   "cell_type": "code",
   "execution_count": null,
   "id": "0aa9bd8a",
   "metadata": {},
   "outputs": [],
   "source": []
  },
  {
   "cell_type": "code",
   "execution_count": null,
   "id": "f0c6cdd3",
   "metadata": {},
   "outputs": [],
   "source": []
  },
  {
   "cell_type": "code",
   "execution_count": null,
   "id": "1d2cd511",
   "metadata": {},
   "outputs": [],
   "source": []
  },
  {
   "cell_type": "code",
   "execution_count": null,
   "id": "eb7ae38f",
   "metadata": {},
   "outputs": [],
   "source": []
  },
  {
   "cell_type": "code",
   "execution_count": null,
   "id": "56e044a9",
   "metadata": {},
   "outputs": [],
   "source": []
  },
  {
   "cell_type": "code",
   "execution_count": null,
   "id": "2c96a875",
   "metadata": {},
   "outputs": [],
   "source": []
  },
  {
   "cell_type": "code",
   "execution_count": null,
   "id": "0ba45844",
   "metadata": {},
   "outputs": [],
   "source": []
  },
  {
   "cell_type": "markdown",
   "id": "2738b362",
   "metadata": {},
   "source": [
    "#### Precision \n",
    "\"Precision measures the proportion of true positive predictions made by the model (i.e. the number of correct positive predictions divided by the total number of positive predictions). It is a useful metric for evaluating the model’s ability to avoid false positives.\""
   ]
  },
  {
   "cell_type": "markdown",
   "id": "cd8c5f23",
   "metadata": {},
   "source": [
    "#### Recall\n",
    "\"Model recall score represents the model’s ability to correctly predict the positives out of actual positives. This is unlike precision which measures how many predictions made by models are actually positive out of all positive predictions made. For example: If your machine learning model is trying to identify positive reviews, the recall score would be what percent of those positive reviews did your machine learning model correctly predict as a positive. In other words, it measures how good our machine learning model is at identifying all actual positives out of all positives that exist within a dataset. Recall is also known as sensitivity or the true positive rate.\"\n",
    "\n",
    "\"Recall score can be used in the scenario where the labels are not equally divided among classes. For example, if there is a class imbalance ratio of 20:80 (imbalanced data), then the recall score will be more useful than accuracy because it can provide information about how well the machine learning model identified rarer events.\"\n",
    "\n"
   ]
  },
  {
   "cell_type": "code",
   "execution_count": 104,
   "id": "b49c50a5",
   "metadata": {},
   "outputs": [
    {
     "ename": "NameError",
     "evalue": "name 'y_pred' is not defined",
     "output_type": "error",
     "traceback": [
      "\u001b[1;31m---------------------------------------------------------------------------\u001b[0m",
      "\u001b[1;31mNameError\u001b[0m                                 Traceback (most recent call last)",
      "Cell \u001b[1;32mIn[104], line 2\u001b[0m\n\u001b[0;32m      1\u001b[0m \u001b[38;5;66;03m#Recall Score = TP / (FN + TP)\u001b[39;00m\n\u001b[1;32m----> 2\u001b[0m \u001b[38;5;28mprint\u001b[39m(\u001b[38;5;124m'\u001b[39m\u001b[38;5;124mRecall: \u001b[39m\u001b[38;5;132;01m%.3f\u001b[39;00m\u001b[38;5;124m'\u001b[39m \u001b[38;5;241m%\u001b[39m recall_score(y_test, \u001b[43my_pred\u001b[49m))\n",
      "\u001b[1;31mNameError\u001b[0m: name 'y_pred' is not defined"
     ]
    }
   ],
   "source": [
    "#Recall Score = TP / (FN + TP)\n",
    "print('Recall: %.3f' % recall_score(y_test, y_pred))"
   ]
  },
  {
   "cell_type": "markdown",
   "id": "4bdf0c33",
   "metadata": {},
   "source": [
    "#### Accuracy\n",
    "Accuracy metrics only considers the number of correct predictions (true positives and true negatives) made by the model."
   ]
  },
  {
   "cell_type": "code",
   "execution_count": null,
   "id": "df2ede09",
   "metadata": {},
   "outputs": [],
   "source": [
    "#Printing Accuracy\n",
    "print('Accuracy: %.3f' % accuracy_score(y_test, y_pred))"
   ]
  },
  {
   "cell_type": "code",
   "execution_count": null,
   "id": "25fe333c",
   "metadata": {},
   "outputs": [],
   "source": [
    "#F1 Score = 2* Precision Score * Recall Score/ (Precision Score + Recall Score/)\n",
    "print('F1 Score: %.3f' % f1_score(y_test, y_pred))"
   ]
  },
  {
   "cell_type": "code",
   "execution_count": null,
   "id": "61040cc9",
   "metadata": {},
   "outputs": [],
   "source": [
    "logreg.get_params(deep=True)"
   ]
  },
  {
   "cell_type": "code",
   "execution_count": null,
   "id": "62b70119",
   "metadata": {},
   "outputs": [],
   "source": [
    "#run XG Boost \n",
    "#get feature importance \n",
    "#backup data, what we could do in the future to yield different results \n",
    "##ould be worth it to have SMOTE in portofilio \n",
    "#could have dataset with or without SMOTE \n",
    "#change class weights to try to adjust for parameters (can be done in scikit learn)"
   ]
  },
  {
   "cell_type": "markdown",
   "id": "4cc2efac",
   "metadata": {},
   "source": [
    "#confusion matrix \n",
    "#false negatives and false positives \n",
    "#recall \n",
    "#continue to iterate, trying out other types of models \n",
    "#hyperparameters tuning doesn't need to be done except for best model \n",
    "#run best model on all datasets \n",
    "#shap to explore feature importance\n",
    "#feature importance \n",
    "\n",
    "Faith Says: XG Boost and interpretation of data, make confusion matrix, if XG Boost performs better than do hyper parameter tuning on that, then do a tree based importance thing, or print out logistic regression formula to know best feature \n",
    "\n",
    "https://www.youtube.com/watch?v=FdnMWdICdRs\n"
   ]
  }
 ],
 "metadata": {
  "kernelspec": {
   "display_name": "Python 3 (ipykernel)",
   "language": "python",
   "name": "python3"
  },
  "language_info": {
   "codemirror_mode": {
    "name": "ipython",
    "version": 3
   },
   "file_extension": ".py",
   "mimetype": "text/x-python",
   "name": "python",
   "nbconvert_exporter": "python",
   "pygments_lexer": "ipython3",
   "version": "3.10.9"
  }
 },
 "nbformat": 4,
 "nbformat_minor": 5
}
