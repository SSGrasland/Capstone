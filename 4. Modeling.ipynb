{
 "cells": [
  {
   "cell_type": "markdown",
   "id": "88c86d40",
   "metadata": {},
   "source": [
    "# Obtaining Data"
   ]
  },
  {
   "cell_type": "code",
   "execution_count": 5,
   "id": "fb41dc2c",
   "metadata": {},
   "outputs": [],
   "source": [
    "#Importing libraries needed\n",
    "import pandas as pd\n",
    "import numpy as np\n",
    "\n",
    "\n",
    "#For graphing \n",
    "import matplotlib.pyplot as plt\n",
    "from matplotlib import pyplot\n",
    "%matplotlib inline\n",
    "import seaborn as sns\n",
    "import shap\n",
    "\n",
    "# For our modeling steps\n",
    "from sklearn.model_selection import train_test_split\n",
    "from sklearn.preprocessing import normalize\n",
    "from sklearn.linear_model import LinearRegression, LogisticRegression\n",
    "from sklearn.metrics import log_loss\n",
    "from sklearn.metrics import precision_recall_fscore_support\n",
    "from sklearn.preprocessing import StandardScaler\n",
    "from sklearn.svm import SVC\n",
    "from sklearn.metrics import confusion_matrix\n",
    "from sklearn.metrics import precision_score, recall_score, f1_score, accuracy_score\n",
    "from sklearn.model_selection import GridSearchCV, cross_val_score\n",
    "import xgboost as xgb \n",
    "from xgboost import XGBClassifier, plot_importance\n",
    "from sklearn.metrics import accuracy_score, confusion_matrix, roc_auc_score, roc_curve\n",
    "from sklearn import svm, datasets\n",
    "from sklearn import metrics\n",
    "\n",
    "\n",
    "\n",
    "# For demonstrative pruposes\n",
    "from scipy.special import logit, expit\n",
    "\n",
    "import warnings\n",
    "warnings.filterwarnings('ignore')"
   ]
  },
  {
   "cell_type": "code",
   "execution_count": 6,
   "id": "a51a5479",
   "metadata": {},
   "outputs": [
    {
     "ename": "PermissionError",
     "evalue": "[Errno 13] Permission denied: 'C:\\\\Users\\\\salom\\\\OneDrive\\\\Área de Trabalho\\\\Flatiron\\\\Capstone Materials\\\\Capstone\\\\data'",
     "output_type": "error",
     "traceback": [
      "\u001b[1;31m---------------------------------------------------------------------------\u001b[0m",
      "\u001b[1;31mPermissionError\u001b[0m                           Traceback (most recent call last)",
      "Cell \u001b[1;32mIn[6], line 1\u001b[0m\n\u001b[1;32m----> 1\u001b[0m bottom \u001b[38;5;241m=\u001b[39m \u001b[43mpd\u001b[49m\u001b[38;5;241;43m.\u001b[39;49m\u001b[43mread_csv\u001b[49m\u001b[43m(\u001b[49m\u001b[38;5;124;43mr\u001b[39;49m\u001b[38;5;124;43m\"\u001b[39;49m\u001b[38;5;124;43mC:\u001b[39;49m\u001b[38;5;124;43m\\\u001b[39;49m\u001b[38;5;124;43mUsers\u001b[39;49m\u001b[38;5;124;43m\\\u001b[39;49m\u001b[38;5;124;43msalom\u001b[39;49m\u001b[38;5;124;43m\\\u001b[39;49m\u001b[38;5;124;43mOneDrive\u001b[39;49m\u001b[38;5;124;43m\\\u001b[39;49m\u001b[38;5;124;43mÁrea de Trabalho\u001b[39;49m\u001b[38;5;124;43m\\\u001b[39;49m\u001b[38;5;124;43mFlatiron\u001b[39;49m\u001b[38;5;124;43m\\\u001b[39;49m\u001b[38;5;124;43mCapstone Materials\u001b[39;49m\u001b[38;5;124;43m\\\u001b[39;49m\u001b[38;5;124;43mCapstone\u001b[39;49m\u001b[38;5;124;43m\\\u001b[39;49m\u001b[38;5;124;43mdata\u001b[39;49m\u001b[38;5;124;43m\"\u001b[39;49m\u001b[43m)\u001b[49m\n",
      "File \u001b[1;32m~\\anaconda3\\lib\\site-packages\\pandas\\util\\_decorators.py:211\u001b[0m, in \u001b[0;36mdeprecate_kwarg.<locals>._deprecate_kwarg.<locals>.wrapper\u001b[1;34m(*args, **kwargs)\u001b[0m\n\u001b[0;32m    209\u001b[0m     \u001b[38;5;28;01melse\u001b[39;00m:\n\u001b[0;32m    210\u001b[0m         kwargs[new_arg_name] \u001b[38;5;241m=\u001b[39m new_arg_value\n\u001b[1;32m--> 211\u001b[0m \u001b[38;5;28;01mreturn\u001b[39;00m func(\u001b[38;5;241m*\u001b[39margs, \u001b[38;5;241m*\u001b[39m\u001b[38;5;241m*\u001b[39mkwargs)\n",
      "File \u001b[1;32m~\\anaconda3\\lib\\site-packages\\pandas\\util\\_decorators.py:331\u001b[0m, in \u001b[0;36mdeprecate_nonkeyword_arguments.<locals>.decorate.<locals>.wrapper\u001b[1;34m(*args, **kwargs)\u001b[0m\n\u001b[0;32m    325\u001b[0m \u001b[38;5;28;01mif\u001b[39;00m \u001b[38;5;28mlen\u001b[39m(args) \u001b[38;5;241m>\u001b[39m num_allow_args:\n\u001b[0;32m    326\u001b[0m     warnings\u001b[38;5;241m.\u001b[39mwarn(\n\u001b[0;32m    327\u001b[0m         msg\u001b[38;5;241m.\u001b[39mformat(arguments\u001b[38;5;241m=\u001b[39m_format_argument_list(allow_args)),\n\u001b[0;32m    328\u001b[0m         \u001b[38;5;167;01mFutureWarning\u001b[39;00m,\n\u001b[0;32m    329\u001b[0m         stacklevel\u001b[38;5;241m=\u001b[39mfind_stack_level(),\n\u001b[0;32m    330\u001b[0m     )\n\u001b[1;32m--> 331\u001b[0m \u001b[38;5;28;01mreturn\u001b[39;00m func(\u001b[38;5;241m*\u001b[39margs, \u001b[38;5;241m*\u001b[39m\u001b[38;5;241m*\u001b[39mkwargs)\n",
      "File \u001b[1;32m~\\anaconda3\\lib\\site-packages\\pandas\\io\\parsers\\readers.py:950\u001b[0m, in \u001b[0;36mread_csv\u001b[1;34m(filepath_or_buffer, sep, delimiter, header, names, index_col, usecols, squeeze, prefix, mangle_dupe_cols, dtype, engine, converters, true_values, false_values, skipinitialspace, skiprows, skipfooter, nrows, na_values, keep_default_na, na_filter, verbose, skip_blank_lines, parse_dates, infer_datetime_format, keep_date_col, date_parser, dayfirst, cache_dates, iterator, chunksize, compression, thousands, decimal, lineterminator, quotechar, quoting, doublequote, escapechar, comment, encoding, encoding_errors, dialect, error_bad_lines, warn_bad_lines, on_bad_lines, delim_whitespace, low_memory, memory_map, float_precision, storage_options)\u001b[0m\n\u001b[0;32m    935\u001b[0m kwds_defaults \u001b[38;5;241m=\u001b[39m _refine_defaults_read(\n\u001b[0;32m    936\u001b[0m     dialect,\n\u001b[0;32m    937\u001b[0m     delimiter,\n\u001b[1;32m   (...)\u001b[0m\n\u001b[0;32m    946\u001b[0m     defaults\u001b[38;5;241m=\u001b[39m{\u001b[38;5;124m\"\u001b[39m\u001b[38;5;124mdelimiter\u001b[39m\u001b[38;5;124m\"\u001b[39m: \u001b[38;5;124m\"\u001b[39m\u001b[38;5;124m,\u001b[39m\u001b[38;5;124m\"\u001b[39m},\n\u001b[0;32m    947\u001b[0m )\n\u001b[0;32m    948\u001b[0m kwds\u001b[38;5;241m.\u001b[39mupdate(kwds_defaults)\n\u001b[1;32m--> 950\u001b[0m \u001b[38;5;28;01mreturn\u001b[39;00m \u001b[43m_read\u001b[49m\u001b[43m(\u001b[49m\u001b[43mfilepath_or_buffer\u001b[49m\u001b[43m,\u001b[49m\u001b[43m \u001b[49m\u001b[43mkwds\u001b[49m\u001b[43m)\u001b[49m\n",
      "File \u001b[1;32m~\\anaconda3\\lib\\site-packages\\pandas\\io\\parsers\\readers.py:605\u001b[0m, in \u001b[0;36m_read\u001b[1;34m(filepath_or_buffer, kwds)\u001b[0m\n\u001b[0;32m    602\u001b[0m _validate_names(kwds\u001b[38;5;241m.\u001b[39mget(\u001b[38;5;124m\"\u001b[39m\u001b[38;5;124mnames\u001b[39m\u001b[38;5;124m\"\u001b[39m, \u001b[38;5;28;01mNone\u001b[39;00m))\n\u001b[0;32m    604\u001b[0m \u001b[38;5;66;03m# Create the parser.\u001b[39;00m\n\u001b[1;32m--> 605\u001b[0m parser \u001b[38;5;241m=\u001b[39m TextFileReader(filepath_or_buffer, \u001b[38;5;241m*\u001b[39m\u001b[38;5;241m*\u001b[39mkwds)\n\u001b[0;32m    607\u001b[0m \u001b[38;5;28;01mif\u001b[39;00m chunksize \u001b[38;5;129;01mor\u001b[39;00m iterator:\n\u001b[0;32m    608\u001b[0m     \u001b[38;5;28;01mreturn\u001b[39;00m parser\n",
      "File \u001b[1;32m~\\anaconda3\\lib\\site-packages\\pandas\\io\\parsers\\readers.py:1442\u001b[0m, in \u001b[0;36mTextFileReader.__init__\u001b[1;34m(self, f, engine, **kwds)\u001b[0m\n\u001b[0;32m   1439\u001b[0m     \u001b[38;5;28mself\u001b[39m\u001b[38;5;241m.\u001b[39moptions[\u001b[38;5;124m\"\u001b[39m\u001b[38;5;124mhas_index_names\u001b[39m\u001b[38;5;124m\"\u001b[39m] \u001b[38;5;241m=\u001b[39m kwds[\u001b[38;5;124m\"\u001b[39m\u001b[38;5;124mhas_index_names\u001b[39m\u001b[38;5;124m\"\u001b[39m]\n\u001b[0;32m   1441\u001b[0m \u001b[38;5;28mself\u001b[39m\u001b[38;5;241m.\u001b[39mhandles: IOHandles \u001b[38;5;241m|\u001b[39m \u001b[38;5;28;01mNone\u001b[39;00m \u001b[38;5;241m=\u001b[39m \u001b[38;5;28;01mNone\u001b[39;00m\n\u001b[1;32m-> 1442\u001b[0m \u001b[38;5;28mself\u001b[39m\u001b[38;5;241m.\u001b[39m_engine \u001b[38;5;241m=\u001b[39m \u001b[38;5;28;43mself\u001b[39;49m\u001b[38;5;241;43m.\u001b[39;49m\u001b[43m_make_engine\u001b[49m\u001b[43m(\u001b[49m\u001b[43mf\u001b[49m\u001b[43m,\u001b[49m\u001b[43m \u001b[49m\u001b[38;5;28;43mself\u001b[39;49m\u001b[38;5;241;43m.\u001b[39;49m\u001b[43mengine\u001b[49m\u001b[43m)\u001b[49m\n",
      "File \u001b[1;32m~\\anaconda3\\lib\\site-packages\\pandas\\io\\parsers\\readers.py:1735\u001b[0m, in \u001b[0;36mTextFileReader._make_engine\u001b[1;34m(self, f, engine)\u001b[0m\n\u001b[0;32m   1733\u001b[0m     \u001b[38;5;28;01mif\u001b[39;00m \u001b[38;5;124m\"\u001b[39m\u001b[38;5;124mb\u001b[39m\u001b[38;5;124m\"\u001b[39m \u001b[38;5;129;01mnot\u001b[39;00m \u001b[38;5;129;01min\u001b[39;00m mode:\n\u001b[0;32m   1734\u001b[0m         mode \u001b[38;5;241m+\u001b[39m\u001b[38;5;241m=\u001b[39m \u001b[38;5;124m\"\u001b[39m\u001b[38;5;124mb\u001b[39m\u001b[38;5;124m\"\u001b[39m\n\u001b[1;32m-> 1735\u001b[0m \u001b[38;5;28mself\u001b[39m\u001b[38;5;241m.\u001b[39mhandles \u001b[38;5;241m=\u001b[39m \u001b[43mget_handle\u001b[49m\u001b[43m(\u001b[49m\n\u001b[0;32m   1736\u001b[0m \u001b[43m    \u001b[49m\u001b[43mf\u001b[49m\u001b[43m,\u001b[49m\n\u001b[0;32m   1737\u001b[0m \u001b[43m    \u001b[49m\u001b[43mmode\u001b[49m\u001b[43m,\u001b[49m\n\u001b[0;32m   1738\u001b[0m \u001b[43m    \u001b[49m\u001b[43mencoding\u001b[49m\u001b[38;5;241;43m=\u001b[39;49m\u001b[38;5;28;43mself\u001b[39;49m\u001b[38;5;241;43m.\u001b[39;49m\u001b[43moptions\u001b[49m\u001b[38;5;241;43m.\u001b[39;49m\u001b[43mget\u001b[49m\u001b[43m(\u001b[49m\u001b[38;5;124;43m\"\u001b[39;49m\u001b[38;5;124;43mencoding\u001b[39;49m\u001b[38;5;124;43m\"\u001b[39;49m\u001b[43m,\u001b[49m\u001b[43m \u001b[49m\u001b[38;5;28;43;01mNone\u001b[39;49;00m\u001b[43m)\u001b[49m\u001b[43m,\u001b[49m\n\u001b[0;32m   1739\u001b[0m \u001b[43m    \u001b[49m\u001b[43mcompression\u001b[49m\u001b[38;5;241;43m=\u001b[39;49m\u001b[38;5;28;43mself\u001b[39;49m\u001b[38;5;241;43m.\u001b[39;49m\u001b[43moptions\u001b[49m\u001b[38;5;241;43m.\u001b[39;49m\u001b[43mget\u001b[49m\u001b[43m(\u001b[49m\u001b[38;5;124;43m\"\u001b[39;49m\u001b[38;5;124;43mcompression\u001b[39;49m\u001b[38;5;124;43m\"\u001b[39;49m\u001b[43m,\u001b[49m\u001b[43m \u001b[49m\u001b[38;5;28;43;01mNone\u001b[39;49;00m\u001b[43m)\u001b[49m\u001b[43m,\u001b[49m\n\u001b[0;32m   1740\u001b[0m \u001b[43m    \u001b[49m\u001b[43mmemory_map\u001b[49m\u001b[38;5;241;43m=\u001b[39;49m\u001b[38;5;28;43mself\u001b[39;49m\u001b[38;5;241;43m.\u001b[39;49m\u001b[43moptions\u001b[49m\u001b[38;5;241;43m.\u001b[39;49m\u001b[43mget\u001b[49m\u001b[43m(\u001b[49m\u001b[38;5;124;43m\"\u001b[39;49m\u001b[38;5;124;43mmemory_map\u001b[39;49m\u001b[38;5;124;43m\"\u001b[39;49m\u001b[43m,\u001b[49m\u001b[43m \u001b[49m\u001b[38;5;28;43;01mFalse\u001b[39;49;00m\u001b[43m)\u001b[49m\u001b[43m,\u001b[49m\n\u001b[0;32m   1741\u001b[0m \u001b[43m    \u001b[49m\u001b[43mis_text\u001b[49m\u001b[38;5;241;43m=\u001b[39;49m\u001b[43mis_text\u001b[49m\u001b[43m,\u001b[49m\n\u001b[0;32m   1742\u001b[0m \u001b[43m    \u001b[49m\u001b[43merrors\u001b[49m\u001b[38;5;241;43m=\u001b[39;49m\u001b[38;5;28;43mself\u001b[39;49m\u001b[38;5;241;43m.\u001b[39;49m\u001b[43moptions\u001b[49m\u001b[38;5;241;43m.\u001b[39;49m\u001b[43mget\u001b[49m\u001b[43m(\u001b[49m\u001b[38;5;124;43m\"\u001b[39;49m\u001b[38;5;124;43mencoding_errors\u001b[39;49m\u001b[38;5;124;43m\"\u001b[39;49m\u001b[43m,\u001b[49m\u001b[43m \u001b[49m\u001b[38;5;124;43m\"\u001b[39;49m\u001b[38;5;124;43mstrict\u001b[39;49m\u001b[38;5;124;43m\"\u001b[39;49m\u001b[43m)\u001b[49m\u001b[43m,\u001b[49m\n\u001b[0;32m   1743\u001b[0m \u001b[43m    \u001b[49m\u001b[43mstorage_options\u001b[49m\u001b[38;5;241;43m=\u001b[39;49m\u001b[38;5;28;43mself\u001b[39;49m\u001b[38;5;241;43m.\u001b[39;49m\u001b[43moptions\u001b[49m\u001b[38;5;241;43m.\u001b[39;49m\u001b[43mget\u001b[49m\u001b[43m(\u001b[49m\u001b[38;5;124;43m\"\u001b[39;49m\u001b[38;5;124;43mstorage_options\u001b[39;49m\u001b[38;5;124;43m\"\u001b[39;49m\u001b[43m,\u001b[49m\u001b[43m \u001b[49m\u001b[38;5;28;43;01mNone\u001b[39;49;00m\u001b[43m)\u001b[49m\u001b[43m,\u001b[49m\n\u001b[0;32m   1744\u001b[0m \u001b[43m\u001b[49m\u001b[43m)\u001b[49m\n\u001b[0;32m   1745\u001b[0m \u001b[38;5;28;01massert\u001b[39;00m \u001b[38;5;28mself\u001b[39m\u001b[38;5;241m.\u001b[39mhandles \u001b[38;5;129;01mis\u001b[39;00m \u001b[38;5;129;01mnot\u001b[39;00m \u001b[38;5;28;01mNone\u001b[39;00m\n\u001b[0;32m   1746\u001b[0m f \u001b[38;5;241m=\u001b[39m \u001b[38;5;28mself\u001b[39m\u001b[38;5;241m.\u001b[39mhandles\u001b[38;5;241m.\u001b[39mhandle\n",
      "File \u001b[1;32m~\\anaconda3\\lib\\site-packages\\pandas\\io\\common.py:856\u001b[0m, in \u001b[0;36mget_handle\u001b[1;34m(path_or_buf, mode, encoding, compression, memory_map, is_text, errors, storage_options)\u001b[0m\n\u001b[0;32m    851\u001b[0m \u001b[38;5;28;01melif\u001b[39;00m \u001b[38;5;28misinstance\u001b[39m(handle, \u001b[38;5;28mstr\u001b[39m):\n\u001b[0;32m    852\u001b[0m     \u001b[38;5;66;03m# Check whether the filename is to be opened in binary mode.\u001b[39;00m\n\u001b[0;32m    853\u001b[0m     \u001b[38;5;66;03m# Binary mode does not support 'encoding' and 'newline'.\u001b[39;00m\n\u001b[0;32m    854\u001b[0m     \u001b[38;5;28;01mif\u001b[39;00m ioargs\u001b[38;5;241m.\u001b[39mencoding \u001b[38;5;129;01mand\u001b[39;00m \u001b[38;5;124m\"\u001b[39m\u001b[38;5;124mb\u001b[39m\u001b[38;5;124m\"\u001b[39m \u001b[38;5;129;01mnot\u001b[39;00m \u001b[38;5;129;01min\u001b[39;00m ioargs\u001b[38;5;241m.\u001b[39mmode:\n\u001b[0;32m    855\u001b[0m         \u001b[38;5;66;03m# Encoding\u001b[39;00m\n\u001b[1;32m--> 856\u001b[0m         handle \u001b[38;5;241m=\u001b[39m \u001b[38;5;28;43mopen\u001b[39;49m\u001b[43m(\u001b[49m\n\u001b[0;32m    857\u001b[0m \u001b[43m            \u001b[49m\u001b[43mhandle\u001b[49m\u001b[43m,\u001b[49m\n\u001b[0;32m    858\u001b[0m \u001b[43m            \u001b[49m\u001b[43mioargs\u001b[49m\u001b[38;5;241;43m.\u001b[39;49m\u001b[43mmode\u001b[49m\u001b[43m,\u001b[49m\n\u001b[0;32m    859\u001b[0m \u001b[43m            \u001b[49m\u001b[43mencoding\u001b[49m\u001b[38;5;241;43m=\u001b[39;49m\u001b[43mioargs\u001b[49m\u001b[38;5;241;43m.\u001b[39;49m\u001b[43mencoding\u001b[49m\u001b[43m,\u001b[49m\n\u001b[0;32m    860\u001b[0m \u001b[43m            \u001b[49m\u001b[43merrors\u001b[49m\u001b[38;5;241;43m=\u001b[39;49m\u001b[43merrors\u001b[49m\u001b[43m,\u001b[49m\n\u001b[0;32m    861\u001b[0m \u001b[43m            \u001b[49m\u001b[43mnewline\u001b[49m\u001b[38;5;241;43m=\u001b[39;49m\u001b[38;5;124;43m\"\u001b[39;49m\u001b[38;5;124;43m\"\u001b[39;49m\u001b[43m,\u001b[49m\n\u001b[0;32m    862\u001b[0m \u001b[43m        \u001b[49m\u001b[43m)\u001b[49m\n\u001b[0;32m    863\u001b[0m     \u001b[38;5;28;01melse\u001b[39;00m:\n\u001b[0;32m    864\u001b[0m         \u001b[38;5;66;03m# Binary mode\u001b[39;00m\n\u001b[0;32m    865\u001b[0m         handle \u001b[38;5;241m=\u001b[39m \u001b[38;5;28mopen\u001b[39m(handle, ioargs\u001b[38;5;241m.\u001b[39mmode)\n",
      "\u001b[1;31mPermissionError\u001b[0m: [Errno 13] Permission denied: 'C:\\\\Users\\\\salom\\\\OneDrive\\\\Área de Trabalho\\\\Flatiron\\\\Capstone Materials\\\\Capstone\\\\data'"
     ]
    }
   ],
   "source": [
    "bottom = pd.read_csv(r\"C:\\Users\\salom\\OneDrive\\Área de Trabalho\\Flatiron\\Capstone Materials\\Capstone\\data\")"
   ]
  },
  {
   "cell_type": "code",
   "execution_count": 3,
   "id": "f5e97317",
   "metadata": {},
   "outputs": [
    {
     "ename": "PermissionError",
     "evalue": "[Errno 13] Permission denied: 'C:\\\\Users\\\\salom\\\\OneDrive\\\\Área de Trabalho\\\\Flatiron\\\\Capstone Materials\\\\Capstone\\\\data'",
     "output_type": "error",
     "traceback": [
      "\u001b[1;31m---------------------------------------------------------------------------\u001b[0m",
      "\u001b[1;31mPermissionError\u001b[0m                           Traceback (most recent call last)",
      "Cell \u001b[1;32mIn[3], line 2\u001b[0m\n\u001b[0;32m      1\u001b[0m \u001b[38;5;66;03m#opening the datasets \u001b[39;00m\n\u001b[1;32m----> 2\u001b[0m bottom \u001b[38;5;241m=\u001b[39m  \u001b[43mpd\u001b[49m\u001b[38;5;241;43m.\u001b[39;49m\u001b[43mread_csv\u001b[49m\u001b[43m(\u001b[49m\u001b[38;5;124;43mr\u001b[39;49m\u001b[38;5;124;43m'\u001b[39;49m\u001b[38;5;124;43mC:\u001b[39;49m\u001b[38;5;124;43m\\\u001b[39;49m\u001b[38;5;124;43mUsers\u001b[39;49m\u001b[38;5;124;43m\\\u001b[39;49m\u001b[38;5;124;43msalom\u001b[39;49m\u001b[38;5;124;43m\\\u001b[39;49m\u001b[38;5;124;43mOneDrive\u001b[39;49m\u001b[38;5;124;43m\\\u001b[39;49m\u001b[38;5;124;43mÁrea de Trabalho\u001b[39;49m\u001b[38;5;124;43m\\\u001b[39;49m\u001b[38;5;124;43mFlatiron\u001b[39;49m\u001b[38;5;124;43m\\\u001b[39;49m\u001b[38;5;124;43mCapstone Materials\u001b[39;49m\u001b[38;5;124;43m\\\u001b[39;49m\u001b[38;5;124;43mCapstone\u001b[39;49m\u001b[38;5;124;43m\\\u001b[39;49m\u001b[38;5;124;43mdata\u001b[39;49m\u001b[38;5;124;43m'\u001b[39;49m\u001b[43m)\u001b[49m\n\u001b[0;32m      3\u001b[0m middle \u001b[38;5;241m=\u001b[39m  pd\u001b[38;5;241m.\u001b[39mread_csv(\u001b[38;5;124mr\u001b[39m\u001b[38;5;124m'\u001b[39m\u001b[38;5;124mdata\u001b[39m\u001b[38;5;124m\\\u001b[39m\u001b[38;5;124mmiddle_hurricane.csv\u001b[39m\u001b[38;5;124m'\u001b[39m)\n\u001b[0;32m      4\u001b[0m top \u001b[38;5;241m=\u001b[39m  pd\u001b[38;5;241m.\u001b[39mread_csv(\u001b[38;5;124mr\u001b[39m\u001b[38;5;124m'\u001b[39m\u001b[38;5;124mdata\u001b[39m\u001b[38;5;124m\\\u001b[39m\u001b[38;5;124mtop_hurricane.csv\u001b[39m\u001b[38;5;124m'\u001b[39m)\n",
      "File \u001b[1;32m~\\anaconda3\\lib\\site-packages\\pandas\\util\\_decorators.py:211\u001b[0m, in \u001b[0;36mdeprecate_kwarg.<locals>._deprecate_kwarg.<locals>.wrapper\u001b[1;34m(*args, **kwargs)\u001b[0m\n\u001b[0;32m    209\u001b[0m     \u001b[38;5;28;01melse\u001b[39;00m:\n\u001b[0;32m    210\u001b[0m         kwargs[new_arg_name] \u001b[38;5;241m=\u001b[39m new_arg_value\n\u001b[1;32m--> 211\u001b[0m \u001b[38;5;28;01mreturn\u001b[39;00m func(\u001b[38;5;241m*\u001b[39margs, \u001b[38;5;241m*\u001b[39m\u001b[38;5;241m*\u001b[39mkwargs)\n",
      "File \u001b[1;32m~\\anaconda3\\lib\\site-packages\\pandas\\util\\_decorators.py:331\u001b[0m, in \u001b[0;36mdeprecate_nonkeyword_arguments.<locals>.decorate.<locals>.wrapper\u001b[1;34m(*args, **kwargs)\u001b[0m\n\u001b[0;32m    325\u001b[0m \u001b[38;5;28;01mif\u001b[39;00m \u001b[38;5;28mlen\u001b[39m(args) \u001b[38;5;241m>\u001b[39m num_allow_args:\n\u001b[0;32m    326\u001b[0m     warnings\u001b[38;5;241m.\u001b[39mwarn(\n\u001b[0;32m    327\u001b[0m         msg\u001b[38;5;241m.\u001b[39mformat(arguments\u001b[38;5;241m=\u001b[39m_format_argument_list(allow_args)),\n\u001b[0;32m    328\u001b[0m         \u001b[38;5;167;01mFutureWarning\u001b[39;00m,\n\u001b[0;32m    329\u001b[0m         stacklevel\u001b[38;5;241m=\u001b[39mfind_stack_level(),\n\u001b[0;32m    330\u001b[0m     )\n\u001b[1;32m--> 331\u001b[0m \u001b[38;5;28;01mreturn\u001b[39;00m func(\u001b[38;5;241m*\u001b[39margs, \u001b[38;5;241m*\u001b[39m\u001b[38;5;241m*\u001b[39mkwargs)\n",
      "File \u001b[1;32m~\\anaconda3\\lib\\site-packages\\pandas\\io\\parsers\\readers.py:950\u001b[0m, in \u001b[0;36mread_csv\u001b[1;34m(filepath_or_buffer, sep, delimiter, header, names, index_col, usecols, squeeze, prefix, mangle_dupe_cols, dtype, engine, converters, true_values, false_values, skipinitialspace, skiprows, skipfooter, nrows, na_values, keep_default_na, na_filter, verbose, skip_blank_lines, parse_dates, infer_datetime_format, keep_date_col, date_parser, dayfirst, cache_dates, iterator, chunksize, compression, thousands, decimal, lineterminator, quotechar, quoting, doublequote, escapechar, comment, encoding, encoding_errors, dialect, error_bad_lines, warn_bad_lines, on_bad_lines, delim_whitespace, low_memory, memory_map, float_precision, storage_options)\u001b[0m\n\u001b[0;32m    935\u001b[0m kwds_defaults \u001b[38;5;241m=\u001b[39m _refine_defaults_read(\n\u001b[0;32m    936\u001b[0m     dialect,\n\u001b[0;32m    937\u001b[0m     delimiter,\n\u001b[1;32m   (...)\u001b[0m\n\u001b[0;32m    946\u001b[0m     defaults\u001b[38;5;241m=\u001b[39m{\u001b[38;5;124m\"\u001b[39m\u001b[38;5;124mdelimiter\u001b[39m\u001b[38;5;124m\"\u001b[39m: \u001b[38;5;124m\"\u001b[39m\u001b[38;5;124m,\u001b[39m\u001b[38;5;124m\"\u001b[39m},\n\u001b[0;32m    947\u001b[0m )\n\u001b[0;32m    948\u001b[0m kwds\u001b[38;5;241m.\u001b[39mupdate(kwds_defaults)\n\u001b[1;32m--> 950\u001b[0m \u001b[38;5;28;01mreturn\u001b[39;00m \u001b[43m_read\u001b[49m\u001b[43m(\u001b[49m\u001b[43mfilepath_or_buffer\u001b[49m\u001b[43m,\u001b[49m\u001b[43m \u001b[49m\u001b[43mkwds\u001b[49m\u001b[43m)\u001b[49m\n",
      "File \u001b[1;32m~\\anaconda3\\lib\\site-packages\\pandas\\io\\parsers\\readers.py:605\u001b[0m, in \u001b[0;36m_read\u001b[1;34m(filepath_or_buffer, kwds)\u001b[0m\n\u001b[0;32m    602\u001b[0m _validate_names(kwds\u001b[38;5;241m.\u001b[39mget(\u001b[38;5;124m\"\u001b[39m\u001b[38;5;124mnames\u001b[39m\u001b[38;5;124m\"\u001b[39m, \u001b[38;5;28;01mNone\u001b[39;00m))\n\u001b[0;32m    604\u001b[0m \u001b[38;5;66;03m# Create the parser.\u001b[39;00m\n\u001b[1;32m--> 605\u001b[0m parser \u001b[38;5;241m=\u001b[39m TextFileReader(filepath_or_buffer, \u001b[38;5;241m*\u001b[39m\u001b[38;5;241m*\u001b[39mkwds)\n\u001b[0;32m    607\u001b[0m \u001b[38;5;28;01mif\u001b[39;00m chunksize \u001b[38;5;129;01mor\u001b[39;00m iterator:\n\u001b[0;32m    608\u001b[0m     \u001b[38;5;28;01mreturn\u001b[39;00m parser\n",
      "File \u001b[1;32m~\\anaconda3\\lib\\site-packages\\pandas\\io\\parsers\\readers.py:1442\u001b[0m, in \u001b[0;36mTextFileReader.__init__\u001b[1;34m(self, f, engine, **kwds)\u001b[0m\n\u001b[0;32m   1439\u001b[0m     \u001b[38;5;28mself\u001b[39m\u001b[38;5;241m.\u001b[39moptions[\u001b[38;5;124m\"\u001b[39m\u001b[38;5;124mhas_index_names\u001b[39m\u001b[38;5;124m\"\u001b[39m] \u001b[38;5;241m=\u001b[39m kwds[\u001b[38;5;124m\"\u001b[39m\u001b[38;5;124mhas_index_names\u001b[39m\u001b[38;5;124m\"\u001b[39m]\n\u001b[0;32m   1441\u001b[0m \u001b[38;5;28mself\u001b[39m\u001b[38;5;241m.\u001b[39mhandles: IOHandles \u001b[38;5;241m|\u001b[39m \u001b[38;5;28;01mNone\u001b[39;00m \u001b[38;5;241m=\u001b[39m \u001b[38;5;28;01mNone\u001b[39;00m\n\u001b[1;32m-> 1442\u001b[0m \u001b[38;5;28mself\u001b[39m\u001b[38;5;241m.\u001b[39m_engine \u001b[38;5;241m=\u001b[39m \u001b[38;5;28;43mself\u001b[39;49m\u001b[38;5;241;43m.\u001b[39;49m\u001b[43m_make_engine\u001b[49m\u001b[43m(\u001b[49m\u001b[43mf\u001b[49m\u001b[43m,\u001b[49m\u001b[43m \u001b[49m\u001b[38;5;28;43mself\u001b[39;49m\u001b[38;5;241;43m.\u001b[39;49m\u001b[43mengine\u001b[49m\u001b[43m)\u001b[49m\n",
      "File \u001b[1;32m~\\anaconda3\\lib\\site-packages\\pandas\\io\\parsers\\readers.py:1735\u001b[0m, in \u001b[0;36mTextFileReader._make_engine\u001b[1;34m(self, f, engine)\u001b[0m\n\u001b[0;32m   1733\u001b[0m     \u001b[38;5;28;01mif\u001b[39;00m \u001b[38;5;124m\"\u001b[39m\u001b[38;5;124mb\u001b[39m\u001b[38;5;124m\"\u001b[39m \u001b[38;5;129;01mnot\u001b[39;00m \u001b[38;5;129;01min\u001b[39;00m mode:\n\u001b[0;32m   1734\u001b[0m         mode \u001b[38;5;241m+\u001b[39m\u001b[38;5;241m=\u001b[39m \u001b[38;5;124m\"\u001b[39m\u001b[38;5;124mb\u001b[39m\u001b[38;5;124m\"\u001b[39m\n\u001b[1;32m-> 1735\u001b[0m \u001b[38;5;28mself\u001b[39m\u001b[38;5;241m.\u001b[39mhandles \u001b[38;5;241m=\u001b[39m \u001b[43mget_handle\u001b[49m\u001b[43m(\u001b[49m\n\u001b[0;32m   1736\u001b[0m \u001b[43m    \u001b[49m\u001b[43mf\u001b[49m\u001b[43m,\u001b[49m\n\u001b[0;32m   1737\u001b[0m \u001b[43m    \u001b[49m\u001b[43mmode\u001b[49m\u001b[43m,\u001b[49m\n\u001b[0;32m   1738\u001b[0m \u001b[43m    \u001b[49m\u001b[43mencoding\u001b[49m\u001b[38;5;241;43m=\u001b[39;49m\u001b[38;5;28;43mself\u001b[39;49m\u001b[38;5;241;43m.\u001b[39;49m\u001b[43moptions\u001b[49m\u001b[38;5;241;43m.\u001b[39;49m\u001b[43mget\u001b[49m\u001b[43m(\u001b[49m\u001b[38;5;124;43m\"\u001b[39;49m\u001b[38;5;124;43mencoding\u001b[39;49m\u001b[38;5;124;43m\"\u001b[39;49m\u001b[43m,\u001b[49m\u001b[43m \u001b[49m\u001b[38;5;28;43;01mNone\u001b[39;49;00m\u001b[43m)\u001b[49m\u001b[43m,\u001b[49m\n\u001b[0;32m   1739\u001b[0m \u001b[43m    \u001b[49m\u001b[43mcompression\u001b[49m\u001b[38;5;241;43m=\u001b[39;49m\u001b[38;5;28;43mself\u001b[39;49m\u001b[38;5;241;43m.\u001b[39;49m\u001b[43moptions\u001b[49m\u001b[38;5;241;43m.\u001b[39;49m\u001b[43mget\u001b[49m\u001b[43m(\u001b[49m\u001b[38;5;124;43m\"\u001b[39;49m\u001b[38;5;124;43mcompression\u001b[39;49m\u001b[38;5;124;43m\"\u001b[39;49m\u001b[43m,\u001b[49m\u001b[43m \u001b[49m\u001b[38;5;28;43;01mNone\u001b[39;49;00m\u001b[43m)\u001b[49m\u001b[43m,\u001b[49m\n\u001b[0;32m   1740\u001b[0m \u001b[43m    \u001b[49m\u001b[43mmemory_map\u001b[49m\u001b[38;5;241;43m=\u001b[39;49m\u001b[38;5;28;43mself\u001b[39;49m\u001b[38;5;241;43m.\u001b[39;49m\u001b[43moptions\u001b[49m\u001b[38;5;241;43m.\u001b[39;49m\u001b[43mget\u001b[49m\u001b[43m(\u001b[49m\u001b[38;5;124;43m\"\u001b[39;49m\u001b[38;5;124;43mmemory_map\u001b[39;49m\u001b[38;5;124;43m\"\u001b[39;49m\u001b[43m,\u001b[49m\u001b[43m \u001b[49m\u001b[38;5;28;43;01mFalse\u001b[39;49;00m\u001b[43m)\u001b[49m\u001b[43m,\u001b[49m\n\u001b[0;32m   1741\u001b[0m \u001b[43m    \u001b[49m\u001b[43mis_text\u001b[49m\u001b[38;5;241;43m=\u001b[39;49m\u001b[43mis_text\u001b[49m\u001b[43m,\u001b[49m\n\u001b[0;32m   1742\u001b[0m \u001b[43m    \u001b[49m\u001b[43merrors\u001b[49m\u001b[38;5;241;43m=\u001b[39;49m\u001b[38;5;28;43mself\u001b[39;49m\u001b[38;5;241;43m.\u001b[39;49m\u001b[43moptions\u001b[49m\u001b[38;5;241;43m.\u001b[39;49m\u001b[43mget\u001b[49m\u001b[43m(\u001b[49m\u001b[38;5;124;43m\"\u001b[39;49m\u001b[38;5;124;43mencoding_errors\u001b[39;49m\u001b[38;5;124;43m\"\u001b[39;49m\u001b[43m,\u001b[49m\u001b[43m \u001b[49m\u001b[38;5;124;43m\"\u001b[39;49m\u001b[38;5;124;43mstrict\u001b[39;49m\u001b[38;5;124;43m\"\u001b[39;49m\u001b[43m)\u001b[49m\u001b[43m,\u001b[49m\n\u001b[0;32m   1743\u001b[0m \u001b[43m    \u001b[49m\u001b[43mstorage_options\u001b[49m\u001b[38;5;241;43m=\u001b[39;49m\u001b[38;5;28;43mself\u001b[39;49m\u001b[38;5;241;43m.\u001b[39;49m\u001b[43moptions\u001b[49m\u001b[38;5;241;43m.\u001b[39;49m\u001b[43mget\u001b[49m\u001b[43m(\u001b[49m\u001b[38;5;124;43m\"\u001b[39;49m\u001b[38;5;124;43mstorage_options\u001b[39;49m\u001b[38;5;124;43m\"\u001b[39;49m\u001b[43m,\u001b[49m\u001b[43m \u001b[49m\u001b[38;5;28;43;01mNone\u001b[39;49;00m\u001b[43m)\u001b[49m\u001b[43m,\u001b[49m\n\u001b[0;32m   1744\u001b[0m \u001b[43m\u001b[49m\u001b[43m)\u001b[49m\n\u001b[0;32m   1745\u001b[0m \u001b[38;5;28;01massert\u001b[39;00m \u001b[38;5;28mself\u001b[39m\u001b[38;5;241m.\u001b[39mhandles \u001b[38;5;129;01mis\u001b[39;00m \u001b[38;5;129;01mnot\u001b[39;00m \u001b[38;5;28;01mNone\u001b[39;00m\n\u001b[0;32m   1746\u001b[0m f \u001b[38;5;241m=\u001b[39m \u001b[38;5;28mself\u001b[39m\u001b[38;5;241m.\u001b[39mhandles\u001b[38;5;241m.\u001b[39mhandle\n",
      "File \u001b[1;32m~\\anaconda3\\lib\\site-packages\\pandas\\io\\common.py:856\u001b[0m, in \u001b[0;36mget_handle\u001b[1;34m(path_or_buf, mode, encoding, compression, memory_map, is_text, errors, storage_options)\u001b[0m\n\u001b[0;32m    851\u001b[0m \u001b[38;5;28;01melif\u001b[39;00m \u001b[38;5;28misinstance\u001b[39m(handle, \u001b[38;5;28mstr\u001b[39m):\n\u001b[0;32m    852\u001b[0m     \u001b[38;5;66;03m# Check whether the filename is to be opened in binary mode.\u001b[39;00m\n\u001b[0;32m    853\u001b[0m     \u001b[38;5;66;03m# Binary mode does not support 'encoding' and 'newline'.\u001b[39;00m\n\u001b[0;32m    854\u001b[0m     \u001b[38;5;28;01mif\u001b[39;00m ioargs\u001b[38;5;241m.\u001b[39mencoding \u001b[38;5;129;01mand\u001b[39;00m \u001b[38;5;124m\"\u001b[39m\u001b[38;5;124mb\u001b[39m\u001b[38;5;124m\"\u001b[39m \u001b[38;5;129;01mnot\u001b[39;00m \u001b[38;5;129;01min\u001b[39;00m ioargs\u001b[38;5;241m.\u001b[39mmode:\n\u001b[0;32m    855\u001b[0m         \u001b[38;5;66;03m# Encoding\u001b[39;00m\n\u001b[1;32m--> 856\u001b[0m         handle \u001b[38;5;241m=\u001b[39m \u001b[38;5;28;43mopen\u001b[39;49m\u001b[43m(\u001b[49m\n\u001b[0;32m    857\u001b[0m \u001b[43m            \u001b[49m\u001b[43mhandle\u001b[49m\u001b[43m,\u001b[49m\n\u001b[0;32m    858\u001b[0m \u001b[43m            \u001b[49m\u001b[43mioargs\u001b[49m\u001b[38;5;241;43m.\u001b[39;49m\u001b[43mmode\u001b[49m\u001b[43m,\u001b[49m\n\u001b[0;32m    859\u001b[0m \u001b[43m            \u001b[49m\u001b[43mencoding\u001b[49m\u001b[38;5;241;43m=\u001b[39;49m\u001b[43mioargs\u001b[49m\u001b[38;5;241;43m.\u001b[39;49m\u001b[43mencoding\u001b[49m\u001b[43m,\u001b[49m\n\u001b[0;32m    860\u001b[0m \u001b[43m            \u001b[49m\u001b[43merrors\u001b[49m\u001b[38;5;241;43m=\u001b[39;49m\u001b[43merrors\u001b[49m\u001b[43m,\u001b[49m\n\u001b[0;32m    861\u001b[0m \u001b[43m            \u001b[49m\u001b[43mnewline\u001b[49m\u001b[38;5;241;43m=\u001b[39;49m\u001b[38;5;124;43m\"\u001b[39;49m\u001b[38;5;124;43m\"\u001b[39;49m\u001b[43m,\u001b[49m\n\u001b[0;32m    862\u001b[0m \u001b[43m        \u001b[49m\u001b[43m)\u001b[49m\n\u001b[0;32m    863\u001b[0m     \u001b[38;5;28;01melse\u001b[39;00m:\n\u001b[0;32m    864\u001b[0m         \u001b[38;5;66;03m# Binary mode\u001b[39;00m\n\u001b[0;32m    865\u001b[0m         handle \u001b[38;5;241m=\u001b[39m \u001b[38;5;28mopen\u001b[39m(handle, ioargs\u001b[38;5;241m.\u001b[39mmode)\n",
      "\u001b[1;31mPermissionError\u001b[0m: [Errno 13] Permission denied: 'C:\\\\Users\\\\salom\\\\OneDrive\\\\Área de Trabalho\\\\Flatiron\\\\Capstone Materials\\\\Capstone\\\\data'"
     ]
    }
   ],
   "source": [
    "#opening the datasets \n",
    "bottom =  pd.read_csv(r'data\\bottom_hurricane.csv')\n",
    "middle =  pd.read_csv(r'data\\middle_hurricane.csv')\n",
    "top =  pd.read_csv(r'data\\top_hurricane.csv')\n",
    "all_df = pd.read_csv(r'data\\all_hurricane.csv')"
   ]
  },
  {
   "cell_type": "markdown",
   "id": "5e132553",
   "metadata": {},
   "source": [
    "# Data Processing"
   ]
  },
  {
   "cell_type": "code",
   "execution_count": null,
   "id": "1ed0c95b",
   "metadata": {},
   "outputs": [],
   "source": [
    "#let's get rid of duplicate cities by only grabbing the cities with the max value for AWND\n",
    "bottom = bottom.sort_values('AWND', ascending=False).drop_duplicates(['HurricaneName', 'City']).sort_index()\n",
    "middle = middle.sort_values('AWND', ascending=False).drop_duplicates(['HurricaneName', 'City']).sort_index()\n",
    "top = top.sort_values('AWND', ascending=False).drop_duplicates(['HurricaneName', 'City']).sort_index()\n",
    "all_df = all_df.sort_values('AWND', ascending=False).drop_duplicates(['HurricaneName', 'City', 'DATE']).sort_index()"
   ]
  },
  {
   "cell_type": "code",
   "execution_count": null,
   "id": "539ee5b1",
   "metadata": {},
   "outputs": [],
   "source": [
    "#We want to use data from hurricane Ian to test our mode\n",
    "#let's save a dataframe that has just Ian \n",
    "all_ian = all_df.loc[all_df['HurricaneName'] == 'ian']\n",
    "all_ian.head()"
   ]
  },
  {
   "cell_type": "code",
   "execution_count": null,
   "id": "57d2cbc4",
   "metadata": {},
   "outputs": [],
   "source": [
    "#removing ian from the other datasets\n",
    "bottom = bottom.drop(bottom[bottom['HurricaneName'] == 'ian'].index)\n",
    "middle = middle.drop(middle[middle['HurricaneName'] == 'ian'].index)\n",
    "top = top.drop(top[top['HurricaneName'] == 'ian'].index)\n",
    "all_df = all_df.drop(all_df[all_df['HurricaneName'] == 'ian'].index)"
   ]
  },
  {
   "cell_type": "code",
   "execution_count": null,
   "id": "12cfb254",
   "metadata": {},
   "outputs": [],
   "source": [
    "#saving the all dataset for use in later analysis \n",
    "all_df.to_csv(r'data\\wind_modeling.csv', index=False)"
   ]
  },
  {
   "cell_type": "markdown",
   "id": "5f6b7f8a",
   "metadata": {},
   "source": [
    "## Comparing Crosstabs by Target Variable"
   ]
  },
  {
   "cell_type": "markdown",
   "id": "24617cfc",
   "metadata": {},
   "source": [
    "### Bottom Tier Home Values"
   ]
  },
  {
   "cell_type": "code",
   "execution_count": null,
   "id": "eabe7306",
   "metadata": {},
   "outputs": [],
   "source": [
    "#check crosstabs \n",
    "bottom[bottom['increase'] == 0].describe()"
   ]
  },
  {
   "cell_type": "code",
   "execution_count": null,
   "id": "6bbf2551",
   "metadata": {},
   "outputs": [],
   "source": [
    "#check crosstabs \n",
    "bottom[bottom['increase'] == 1].describe()"
   ]
  },
  {
   "cell_type": "markdown",
   "id": "4453ad41",
   "metadata": {},
   "source": [
    "### Middle Tier Home Values"
   ]
  },
  {
   "cell_type": "code",
   "execution_count": null,
   "id": "188f91d9",
   "metadata": {},
   "outputs": [],
   "source": [
    "#check crosstabs \n",
    "middle[middle['increase'] == 0].describe()"
   ]
  },
  {
   "cell_type": "code",
   "execution_count": null,
   "id": "e09d1870",
   "metadata": {},
   "outputs": [],
   "source": [
    "#check crosstabs \n",
    "middle[middle['increase'] == 1].describe()"
   ]
  },
  {
   "cell_type": "markdown",
   "id": "5b0c765b",
   "metadata": {},
   "source": [
    "### Top Tier Home Values"
   ]
  },
  {
   "cell_type": "code",
   "execution_count": null,
   "id": "ddcff20a",
   "metadata": {},
   "outputs": [],
   "source": [
    "#check crosstabs \n",
    "top[top['increase'] == 0].describe()"
   ]
  },
  {
   "cell_type": "code",
   "execution_count": null,
   "id": "d6842f4a",
   "metadata": {},
   "outputs": [],
   "source": [
    "#check crosstabs \n",
    "top[top['increase'] == 1].describe()"
   ]
  },
  {
   "cell_type": "markdown",
   "id": "f30f7a62",
   "metadata": {},
   "source": [
    "### All Home Values "
   ]
  },
  {
   "cell_type": "code",
   "execution_count": null,
   "id": "5857d34d",
   "metadata": {},
   "outputs": [],
   "source": [
    "#check crosstabs \n",
    "all_df[all_df['increase'] == 0].describe()"
   ]
  },
  {
   "cell_type": "code",
   "execution_count": null,
   "id": "b295204a",
   "metadata": {},
   "outputs": [],
   "source": [
    "#check crosstabs \n",
    "all_df[all_df['increase'] == 1].describe()"
   ]
  },
  {
   "cell_type": "markdown",
   "id": "ee33ecbc",
   "metadata": {},
   "source": [
    "# Baseline Model"
   ]
  },
  {
   "cell_type": "markdown",
   "id": "baa1bba6",
   "metadata": {},
   "source": [
    "## Examining Class Imbalance\n",
    "\n",
    "In order to know what a good accuracy is for our models, we must know what the majority class percent is. This will tell us if our model performs any better than just selecting the majority class each time. "
   ]
  },
  {
   "cell_type": "markdown",
   "id": "249c2c34",
   "metadata": {},
   "source": [
    "|Dataset | Increase | No Increase | No Increase as Percent |\n",
    "|---|---|---|---|\n",
    "|Bottom Tier| 45 | 96| 68% |\n",
    "|Middle Tier| 33 | 106 | 76% |\n",
    "|Top Tier| 28 | 114 | 80% |\n",
    "|All| 89 | 255 | 74% |"
   ]
  },
  {
   "cell_type": "markdown",
   "id": "a644b247",
   "metadata": {},
   "source": [
    "#### Bottom Tier Class Imabalance"
   ]
  },
  {
   "cell_type": "code",
   "execution_count": null,
   "id": "f950d782",
   "metadata": {},
   "outputs": [],
   "source": [
    "# Checking the balance of target variable 'increase'\n",
    "sns.countplot(x='increase', data=bottom).set(title='Bottom Tier Home Class Imbalance')\n",
    "print(bottom['increase'].value_counts())\n",
    "#checking ratio to see what accuracy is like\n",
    "percent_bottom = (len(bottom['increase']) - bottom['increase'].sum())/(len(bottom['increase']) - bottom['increase'].sum()+bottom['increase'].sum())*100\n",
    "print(\"majority percent is {}\".format(percent_bottom),\"%\")\n"
   ]
  },
  {
   "cell_type": "markdown",
   "id": "f390ca51",
   "metadata": {},
   "source": [
    "#### Middle Tier Class Imbalance"
   ]
  },
  {
   "cell_type": "code",
   "execution_count": null,
   "id": "52744f2f",
   "metadata": {},
   "outputs": [],
   "source": [
    "# Checking the balance of target variable 'increase'\n",
    "sns.countplot(x='increase', data=middle).set(title='Middle Tier Home Class Imbalance')\n",
    "print(middle['increase'].value_counts())\n",
    "#checking ratio to see what accuracy is like\n",
    "percent = (len(middle['increase']) - middle['increase'].sum())/(len(middle['increase']) - middle['increase'].sum()+middle['increase'].sum())*100\n",
    "print(\"majority percent is {}\".format(percent),\"%\")"
   ]
  },
  {
   "cell_type": "markdown",
   "id": "a9008f7c",
   "metadata": {},
   "source": [
    "#### Top Tier Class Imbalance"
   ]
  },
  {
   "cell_type": "code",
   "execution_count": null,
   "id": "facb8309",
   "metadata": {},
   "outputs": [],
   "source": [
    "# Checking the balance of target variable 'increase'\n",
    "sns.countplot(x='increase', data=top).set(title='Top Tier Home Class Imbalance')\n",
    "print(top['increase'].value_counts())\n",
    "#checking ratio to see what accuracy is like\n",
    "percent = (len(top['increase']) - top['increase'].sum())/(len(top['increase']) - top['increase'].sum()+top['increase'].sum())*100\n",
    "print(\"majority percent is {}\".format(percent),\"%\")"
   ]
  },
  {
   "cell_type": "markdown",
   "id": "3e89f4b8",
   "metadata": {},
   "source": [
    "### All Homes Class Imbalance"
   ]
  },
  {
   "cell_type": "code",
   "execution_count": null,
   "id": "7751143e",
   "metadata": {},
   "outputs": [],
   "source": [
    "# Checking the balance of target variable 'increase'\n",
    "sns.countplot(x='increase', data=all_df);\n",
    "print(all_df['increase'].value_counts())\n",
    "#checking ratio to see what accuracy is like\n",
    "percent = (len(all_df['increase']) - all_df['increase'].sum())/(len(all_df['increase']) - all_df['increase'].sum()+all_df['increase'].sum())*100\n",
    "print(\"majority percent is {}\".format(percent),\"%\")"
   ]
  },
  {
   "cell_type": "markdown",
   "id": "f7c6b034",
   "metadata": {},
   "source": [
    "# Modeling "
   ]
  },
  {
   "attachments": {
    "Confusion_Matrix-2.jpg": {
     "image/jpeg": "[encoded data removed]"
    }
   },
   "cell_type": "markdown",
   "id": "f91c8552",
   "metadata": {},
   "source": [
    "Of equal concern to the business problem was the model predicting False Negatives or False Positives. In this situation both are of equal importance to our real estate client. If the model predicts that the home value will not increase but it does (false negative) then our client could lose out on a possible higher return on a home. However, if the model predicts that the home value will increase but it does not (false positive) then our client may have invested money into a home that does not pay off. \n",
    "\n",
    "For the scope of this project we will be using accuracy and F1 score to assess our model performance. Since we had a class imbalance we could not solely rely on accuracy to communicate model performance. Since, precision and recall were of equal importance for our business problem F1 score was used to assess model performance. \n",
    "\n",
    "- **Model accuracy** is a machine learning classification model performance metric that takes the ratio of true positives and true negatives to all positives and negative results. It communicates how often our model will correctly predict an outcome out of the total number of predictions made. However, accuracy metrics are not always reliable for imbalance datasets. Accuracy Score = (TP + TN)/ (TP + FN + TN + FP)  \n",
    "\n",
    "- **Model F1 Score** is a model performance metric that gives equal weight to both the Precision and Recall for measuring performance. F1 Score = 2* Precision Score * Recall Score/ (Precision Score + Recall Score/)    \n",
    "\n",
    "![Confusion_Matrix-2.jpg](attachment:Confusion_Matrix-2.jpg)\n",
    "\n",
    "**Works Cited**   \n",
    "Kumar A. Accuracy, Precision, Recall & F1-Score - Python Examples. Data Analytics. Published October 1, 2021. https://vitalflux.com/accuracy-precision-recall-f1-score-python-example/"
   ]
  },
  {
   "cell_type": "markdown",
   "id": "b22e0e7e",
   "metadata": {},
   "source": [
    "### Logistic Regresion\n",
    "\n",
    "A logistic regression model was iterated through with our scaled data. We removed collinear variables and used SMOTE to adjust for the class imbalance. The logistic regression model that performed the best was our SMOTE model with no colinear features and had an accuracy of 0.74 which was slightly better than our baseline accuracy of 0.68 and an F1 score of 0.68. "
   ]
  },
  {
   "cell_type": "code",
   "execution_count": null,
   "id": "a1d57af3",
   "metadata": {},
   "outputs": [],
   "source": [
    "#establishing model \n",
    "logreg = LogisticRegression(random_state=56)"
   ]
  },
  {
   "cell_type": "markdown",
   "id": "63cef1df",
   "metadata": {},
   "source": [
    "## Model 1: Bottom Tier Housing\n",
    "\n",
    "We will use the bottom tier housing for modeling since it has the best class imbalance. "
   ]
  },
  {
   "cell_type": "markdown",
   "id": "717abdac",
   "metadata": {},
   "source": [
    "### Selecting Our Target Variable and Features\n",
    "Our targer variable is increase and for our first iteration of modeling we will use all the available features. "
   ]
  },
  {
   "cell_type": "code",
   "execution_count": null,
   "id": "ec860ba4",
   "metadata": {},
   "outputs": [],
   "source": [
    "#y is prediction variable \n",
    "#X is features \n",
    "y = bottom['increase']\n",
    "X = bottom.drop(['City', 'HurricaneName', 'DATE', 'after', 'percent', 'increase'], axis=1)"
   ]
  },
  {
   "cell_type": "markdown",
   "id": "d5f29cb4",
   "metadata": {},
   "source": [
    "### Train/Test Split"
   ]
  },
  {
   "cell_type": "code",
   "execution_count": null,
   "id": "40d48836",
   "metadata": {},
   "outputs": [],
   "source": [
    "#performing train test split \n",
    "X_train, X_test, y_train, y_test = train_test_split(X, y, test_size=0.30, random_state=56)"
   ]
  },
  {
   "cell_type": "markdown",
   "id": "30075b9d",
   "metadata": {},
   "source": [
    "### Scaling Our Data"
   ]
  },
  {
   "cell_type": "code",
   "execution_count": null,
   "id": "4f1519c8",
   "metadata": {},
   "outputs": [],
   "source": [
    "#initiating Standard Scaler\n",
    "sc = StandardScaler()\n",
    "#fitting\n",
    "sc.fit(X_train)\n",
    "#tranforming X train and test\n",
    "X_train = sc.transform(X_train)\n",
    "X_test= sc.transform(X_test)"
   ]
  },
  {
   "cell_type": "markdown",
   "id": "601a32f8",
   "metadata": {},
   "source": [
    "### Training Data"
   ]
  },
  {
   "cell_type": "code",
   "execution_count": null,
   "id": "cdc834db",
   "metadata": {},
   "outputs": [],
   "source": [
    "#fitting the model unto our training data\n",
    "logreg.fit(X_train, y_train)\n",
    "y_pred_train = logreg.predict(X_train)"
   ]
  },
  {
   "cell_type": "code",
   "execution_count": null,
   "id": "c0f4d4a3",
   "metadata": {},
   "outputs": [],
   "source": [
    "#Printing Accuracy\n",
    "print('Accuracy: %.3f' % accuracy_score(y_train, y_pred_train))"
   ]
  },
  {
   "cell_type": "code",
   "execution_count": null,
   "id": "ef68dd0e",
   "metadata": {},
   "outputs": [],
   "source": [
    "#using F-1 score to see how it performs\n",
    "#F1 Score = 2* Precision Score * Recall Score/ (Precision Score + Recall Score/)\n",
    "print('F1 Score: %.3f' % f1_score(y_train, y_pred_train))"
   ]
  },
  {
   "cell_type": "markdown",
   "id": "f60030be",
   "metadata": {},
   "source": [
    "### Testing Data"
   ]
  },
  {
   "cell_type": "code",
   "execution_count": null,
   "id": "cfca0e55",
   "metadata": {},
   "outputs": [],
   "source": [
    "#fitting the model unto our test data\n",
    "logreg.fit(X_test, y_test)\n",
    "y_pred_test = logreg.predict(X_test)"
   ]
  },
  {
   "cell_type": "code",
   "execution_count": null,
   "id": "cfe796e6",
   "metadata": {},
   "outputs": [],
   "source": [
    "#Printing Accuracy\n",
    "accuracy_1 = accuracy_score(y_test, y_pred_test)\n",
    "print(accuracy_1)"
   ]
  },
  {
   "cell_type": "code",
   "execution_count": null,
   "id": "558a2cbd",
   "metadata": {},
   "outputs": [],
   "source": [
    "#using F-1 score to see how it performs\n",
    "#F1 Score = 2* Precision Score * Recall Score/ (Precision Score + Recall Score/)\n",
    "F1_1 = f1_score(y_test, y_pred_test)\n",
    "print(F1_1)"
   ]
  },
  {
   "cell_type": "code",
   "execution_count": null,
   "id": "572e5b3d",
   "metadata": {},
   "outputs": [],
   "source": [
    "#initiating dictionary to keep model accuracy and F1 score\n",
    "model_dict = {}\n",
    "#recording baseline model accuracy\n",
    "model_dict['Baseline Accuracy'] = percent_bottom\n",
    "#recording model 1 values\n",
    "model_dict['LGRModel1_Accuracy'] = accuracy_1\n",
    "model_dict['LGRModel1_F1'] = F1_1\n",
    "model_dict"
   ]
  },
  {
   "cell_type": "code",
   "execution_count": null,
   "id": "470cf370",
   "metadata": {},
   "outputs": [],
   "source": [
    "#let's check out the AUC curve\n",
    "#getting probability\n",
    "y_pred_prob = logreg.predict_proba(X_test)[::,1]\n",
    "fpr, tpr, _ = metrics.roc_curve(y_test,  y_pred_prob)\n",
    "auc = metrics.roc_auc_score(y_test, y_pred_prob)\n",
    "\n",
    "#plotting\n",
    "plt.plot(fpr,tpr,label=\"Log. Reg. Model 1, auc=\"+str(auc))\n",
    "plt.legend(loc=4)\n",
    "plt.show()"
   ]
  },
  {
   "cell_type": "code",
   "execution_count": null,
   "id": "ae97d79e",
   "metadata": {},
   "outputs": [],
   "source": [
    "#https://vitalflux.com/accuracy-precision-recall-f1-score-python-example/\n",
    "conf_matrix = confusion_matrix(y_true=y_test, y_pred=y_pred_test)\n",
    "\n",
    "fig, ax = plt.subplots(figsize=(5, 5))\n",
    "ax.matshow(conf_matrix, cmap=plt.cm.Blues, alpha=0.3)\n",
    "for i in range(conf_matrix.shape[0]):\n",
    "    for j in range(conf_matrix.shape[1]):\n",
    "        ax.text(x=j, y=i,s=conf_matrix[i, j], va='center', ha='center', size='xx-large')\n",
    " \n",
    "plt.xlabel('Predictions', fontsize=18)\n",
    "plt.ylabel('Actuals', fontsize=18)\n",
    "plt.title('Confusion Matrix for Log. Reg. Model 1', fontsize=18)\n",
    "plt.show()"
   ]
  },
  {
   "cell_type": "code",
   "execution_count": null,
   "id": "0f56a376",
   "metadata": {},
   "outputs": [],
   "source": [
    "#https://forecastegy.com/posts/feature-importance-in-logistic-regression/#feature-importance-in-binary-logistic-regression\n",
    "#checking out feature importance\n",
    "\n",
    "model = LogisticRegression()\n",
    "model.fit(X_train, y_train)\n",
    "\n",
    "\n",
    "coefficients = model.coef_[0]\n",
    "\n",
    "feature_importance = pd.DataFrame({'Feature': X.columns, 'Importance': np.abs(coefficients)})\n",
    "feature_importance = feature_importance.sort_values('Importance', ascending=True)\n",
    "feature_importance.plot(x='Feature', y='Importance', title='Feature Importance for Log. Reg. Model 1', kind='barh', figsize=(10, 6));"
   ]
  },
  {
   "cell_type": "markdown",
   "id": "5277b974",
   "metadata": {},
   "source": [
    "## Model 2: Bottom Tier Housing Without Colinear Variables \n",
    "\n",
    "We will use the bottom tier housing for modeling since it has the best class imbalance. "
   ]
  },
  {
   "cell_type": "markdown",
   "id": "38eaea48",
   "metadata": {},
   "source": [
    "### Selecting Our Target Variable and Features\n",
    "Our targer variable is increase and for our second iteration of modeling we will drop WSF2 because it's highly correlated with AWND. "
   ]
  },
  {
   "cell_type": "code",
   "execution_count": null,
   "id": "5e31f7d9",
   "metadata": {},
   "outputs": [],
   "source": [
    "#y is prediction variable \n",
    "#X is features \n",
    "y = bottom['increase']\n",
    "X = bottom.drop(['City', 'HurricaneName', 'DATE', 'after', 'percent', 'WSF2', 'increase'], axis=1)"
   ]
  },
  {
   "cell_type": "markdown",
   "id": "84665a2d",
   "metadata": {},
   "source": [
    "### Train/Test Split"
   ]
  },
  {
   "cell_type": "code",
   "execution_count": null,
   "id": "667b62a9",
   "metadata": {},
   "outputs": [],
   "source": [
    "#performing train test split \n",
    "X_train, X_test, y_train, y_test = train_test_split(X, y, test_size=0.30, random_state=56)"
   ]
  },
  {
   "cell_type": "markdown",
   "id": "547d0e44",
   "metadata": {},
   "source": [
    "### Scaling Our Data"
   ]
  },
  {
   "cell_type": "code",
   "execution_count": null,
   "id": "73d0c07e",
   "metadata": {},
   "outputs": [],
   "source": [
    "#initiating Standard Scaler\n",
    "sc = StandardScaler()\n",
    "#fitting\n",
    "sc.fit(X_train)\n",
    "#tranforming X train and test\n",
    "X_train = sc.transform(X_train)\n",
    "X_test= sc.transform(X_test)"
   ]
  },
  {
   "cell_type": "markdown",
   "id": "0ef4e532",
   "metadata": {},
   "source": [
    "### Training Data"
   ]
  },
  {
   "cell_type": "code",
   "execution_count": null,
   "id": "aa5ae6c9",
   "metadata": {},
   "outputs": [],
   "source": [
    "#fitting the model unto our training data\n",
    "logreg.fit(X_train, y_train)\n",
    "y_pred_train = logreg.predict(X_train)"
   ]
  },
  {
   "cell_type": "code",
   "execution_count": null,
   "id": "c14f3a32",
   "metadata": {},
   "outputs": [],
   "source": [
    "#Printing Accuracy\n",
    "print('Accuracy: %.3f' % accuracy_score(y_train, y_pred_train))"
   ]
  },
  {
   "cell_type": "code",
   "execution_count": null,
   "id": "d40c7e23",
   "metadata": {},
   "outputs": [],
   "source": [
    "#using F-1 score to see how it performs\n",
    "#F1 Score = 2* Precision Score * Recall Score/ (Precision Score + Recall Score/)\n",
    "print('F1 Score: %.3f' % f1_score(y_train, y_pred_train))"
   ]
  },
  {
   "cell_type": "markdown",
   "id": "60ad8fbc",
   "metadata": {},
   "source": [
    "### Testing Data"
   ]
  },
  {
   "cell_type": "code",
   "execution_count": null,
   "id": "9e105c28",
   "metadata": {},
   "outputs": [],
   "source": [
    "#fitting the model unto our test data\n",
    "logreg.fit(X_test, y_test)\n",
    "y_pred_test = logreg.predict(X_test)"
   ]
  },
  {
   "cell_type": "code",
   "execution_count": null,
   "id": "0bb861fa",
   "metadata": {},
   "outputs": [],
   "source": [
    "#Printing Accuracy\n",
    "accuracy_2 = accuracy_score(y_test, y_pred_test)\n",
    "print(accuracy_2)"
   ]
  },
  {
   "cell_type": "code",
   "execution_count": null,
   "id": "153eec91",
   "metadata": {},
   "outputs": [],
   "source": [
    "#using F-1 score to see how it performs\n",
    "#F1 Score = 2* Precision Score * Recall Score/ (Precision Score + Recall Score/)\n",
    "F1_2 = f1_score(y_test, y_pred_test)\n",
    "print(F1_2)"
   ]
  },
  {
   "cell_type": "markdown",
   "id": "464e7aec",
   "metadata": {},
   "source": [
    "### Saving to Dictionary"
   ]
  },
  {
   "cell_type": "code",
   "execution_count": null,
   "id": "abfe70a4",
   "metadata": {},
   "outputs": [],
   "source": [
    "#adding to model dictionary\n",
    "model_dict['LGRModel2_Accuracy'] = accuracy_2\n",
    "model_dict['LGRModel2_F1'] = F1_2\n",
    "model_dict"
   ]
  },
  {
   "cell_type": "code",
   "execution_count": null,
   "id": "54c3c0b4",
   "metadata": {},
   "outputs": [],
   "source": [
    "#let's check out the AUC curve\n",
    "#getting probability\n",
    "y_pred_prob = logreg.predict_proba(X_test)[::,1]\n",
    "fpr, tpr, _ = metrics.roc_curve(y_test,  y_pred_prob)\n",
    "auc = metrics.roc_auc_score(y_test, y_pred_prob)\n",
    "\n",
    "#plotting\n",
    "plt.plot(fpr,tpr,label=\"Log. Reg. Model 2, auc=\"+str(auc))\n",
    "plt.legend(loc=4)\n",
    "plt.show()"
   ]
  },
  {
   "cell_type": "markdown",
   "id": "bdd67b60",
   "metadata": {},
   "source": [
    "### Confusion Matrix"
   ]
  },
  {
   "cell_type": "code",
   "execution_count": null,
   "id": "f68868eb",
   "metadata": {},
   "outputs": [],
   "source": [
    "#plotting confusion matrix\n",
    "conf_matrix = confusion_matrix(y_true=y_test, y_pred=y_pred_test)\n",
    "\n",
    "fig, ax = plt.subplots(figsize=(5, 5))\n",
    "ax.matshow(conf_matrix, cmap=plt.cm.Blues, alpha=0.3)\n",
    "for i in range(conf_matrix.shape[0]):\n",
    "    for j in range(conf_matrix.shape[1]):\n",
    "        ax.text(x=j, y=i,s=conf_matrix[i, j], va='center', ha='center', size='xx-large')\n",
    " \n",
    "plt.xlabel('Predictions', fontsize=18)\n",
    "plt.ylabel('Actuals', fontsize=18)\n",
    "plt.title('Confusion Matrix for Log. Reg. Model 2', fontsize=18)\n",
    "plt.show()"
   ]
  },
  {
   "cell_type": "code",
   "execution_count": null,
   "id": "34f5c150",
   "metadata": {},
   "outputs": [],
   "source": [
    "model = LogisticRegression()\n",
    "model.fit(X_train, y_train)\n",
    "\n",
    "\n",
    "coefficients = model.coef_[0]\n",
    "\n",
    "feature_importance = pd.DataFrame({'Feature': X.columns, 'Importance': np.abs(coefficients)})\n",
    "feature_importance = feature_importance.sort_values('Importance', ascending=True)\n",
    "feature_importance.plot(x='Feature', y='Importance', kind='barh', title= 'Feature Importance for Log. Reg. Model 2', figsize=(10, 6));"
   ]
  },
  {
   "cell_type": "markdown",
   "id": "a4995679",
   "metadata": {},
   "source": [
    "## Model 3: Bottom Tier Housing with Smote "
   ]
  },
  {
   "cell_type": "code",
   "execution_count": null,
   "id": "307b39cc",
   "metadata": {},
   "outputs": [],
   "source": [
    "#y is prediction variable \n",
    "#X is features \n",
    "y = bottom['increase']\n",
    "X = bottom.drop(['City', 'HurricaneName', 'DATE', 'after', 'percent', 'increase', 'WSF2'], axis=1)"
   ]
  },
  {
   "cell_type": "markdown",
   "id": "e5556dc2",
   "metadata": {},
   "source": [
    "### Train/Test Split"
   ]
  },
  {
   "cell_type": "code",
   "execution_count": null,
   "id": "ec6b7221",
   "metadata": {},
   "outputs": [],
   "source": [
    "#performing train test split \n",
    "X_train, X_test, y_train, y_test = train_test_split(X, y, test_size=0.30, random_state=56)"
   ]
  },
  {
   "cell_type": "markdown",
   "id": "4d688226",
   "metadata": {},
   "source": [
    "### Scaling Our Data"
   ]
  },
  {
   "cell_type": "code",
   "execution_count": null,
   "id": "18f80c3d",
   "metadata": {},
   "outputs": [],
   "source": [
    "#initiating Standard Scaler\n",
    "sc = StandardScaler()\n",
    "#fitting\n",
    "sc.fit(X_train)\n",
    "#tranforming X train and test\n",
    "X_train = sc.transform(X_train)\n",
    "X_test= sc.transform(X_test)"
   ]
  },
  {
   "cell_type": "markdown",
   "id": "f267c9cc",
   "metadata": {},
   "source": [
    "### SMOTE"
   ]
  },
  {
   "cell_type": "code",
   "execution_count": null,
   "id": "e019e0b0",
   "metadata": {},
   "outputs": [],
   "source": [
    "# Create instance of smotec\n",
    "from imblearn.over_sampling import SMOTE,SMOTENC\n",
    "# set sampling_strategy to 0.8 to avoid oversampling\n",
    "smote = SMOTE(sampling_strategy=0.8, random_state=56)"
   ]
  },
  {
   "cell_type": "code",
   "execution_count": null,
   "id": "e299cca0",
   "metadata": {},
   "outputs": [],
   "source": [
    "# Create resampled version of the train dataset\n",
    "SMOTE_X_train, SMOTE_y_train = smote.fit_resample(X_train, y_train)\n",
    "# Create resampled version of the test dataset\n",
    "SMOTE_X_test, SMOTE_y_test = smote.fit_resample(X_test, y_test)"
   ]
  },
  {
   "cell_type": "code",
   "execution_count": null,
   "id": "b91c2852",
   "metadata": {},
   "outputs": [],
   "source": [
    "#before smote\n",
    "print('Before Smote\\n', y_train.value_counts())\n",
    "\n",
    "#after smote\n",
    "print('\\nAfter Smote\\n', SMOTE_y_train.value_counts())"
   ]
  },
  {
   "cell_type": "markdown",
   "id": "4887f075",
   "metadata": {},
   "source": [
    "### Training Data"
   ]
  },
  {
   "cell_type": "code",
   "execution_count": null,
   "id": "88f22cab",
   "metadata": {},
   "outputs": [],
   "source": [
    "#fitting the model unto our training data\n",
    "logreg.fit(SMOTE_X_train, SMOTE_y_train)\n",
    "y_pred_train = logreg.predict(SMOTE_X_train)"
   ]
  },
  {
   "cell_type": "markdown",
   "id": "e72496fc",
   "metadata": {},
   "source": [
    "#### Checking Metrics"
   ]
  },
  {
   "cell_type": "code",
   "execution_count": null,
   "id": "dd9e5268",
   "metadata": {},
   "outputs": [],
   "source": [
    "#Printing Accuracy\n",
    "print('Accuracy: %.3f' % accuracy_score(SMOTE_y_train, y_pred_train))"
   ]
  },
  {
   "cell_type": "code",
   "execution_count": null,
   "id": "0d1b0bbd",
   "metadata": {},
   "outputs": [],
   "source": [
    "#using F-1 score to see how it performs\n",
    "#F1 Score = 2* Precision Score * Recall Score/ (Precision Score + Recall Score/)\n",
    "print('F1 Score: %.3f' % f1_score(SMOTE_y_train, y_pred_train))"
   ]
  },
  {
   "cell_type": "markdown",
   "id": "4cf991ba",
   "metadata": {},
   "source": [
    "### Testing Data"
   ]
  },
  {
   "cell_type": "code",
   "execution_count": null,
   "id": "42bd4951",
   "metadata": {},
   "outputs": [],
   "source": [
    "#fitting the model unto our test data\n",
    "logreg.fit(SMOTE_X_test, SMOTE_y_test)\n",
    "y_pred_test = logreg.predict(SMOTE_X_test)"
   ]
  },
  {
   "cell_type": "markdown",
   "id": "bf00a0eb",
   "metadata": {},
   "source": [
    "#### Checking Metrics"
   ]
  },
  {
   "cell_type": "code",
   "execution_count": null,
   "id": "26d4e713",
   "metadata": {},
   "outputs": [],
   "source": [
    "#Printing Accuracy\n",
    "accuracy_3 = accuracy_score(SMOTE_y_test, y_pred_test)\n",
    "print(accuracy_3)"
   ]
  },
  {
   "cell_type": "code",
   "execution_count": null,
   "id": "c7f89679",
   "metadata": {},
   "outputs": [],
   "source": [
    "#using F-1 score to see how it performs\n",
    "#F1 Score = 2* Precision Score * Recall Score/ (Precision Score + Recall Score/)\n",
    "F1_3 = f1_score(SMOTE_y_test, y_pred_test)\n",
    "print(F1_3)"
   ]
  },
  {
   "cell_type": "code",
   "execution_count": null,
   "id": "164240c7",
   "metadata": {},
   "outputs": [],
   "source": [
    "#adding metrics to dictionary\n",
    "model_dict['LGRModel3_Accuracy'] = accuracy_3\n",
    "model_dict['LGRModel3_F1'] = F1_3\n",
    "model_dict"
   ]
  },
  {
   "cell_type": "code",
   "execution_count": null,
   "id": "44883e2e",
   "metadata": {},
   "outputs": [],
   "source": [
    "#let's check out the AUC curve\n",
    "#getting probability\n",
    "y_pred_prob = logreg.predict_proba(X_test)[::,1]\n",
    "fpr, tpr, _ = metrics.roc_curve(y_test,  y_pred_prob)\n",
    "auc = metrics.roc_auc_score(y_test, y_pred_prob)\n",
    "\n",
    "#plotting\n",
    "plt.plot(fpr,tpr,label=\"Log. Reg. Model 3, auc=\"+str(auc))\n",
    "plt.legend(loc=4)\n",
    "plt.show()"
   ]
  },
  {
   "cell_type": "markdown",
   "id": "24b1709d",
   "metadata": {},
   "source": [
    "### Confusion Matrix"
   ]
  },
  {
   "cell_type": "code",
   "execution_count": null,
   "id": "880728e7",
   "metadata": {},
   "outputs": [],
   "source": [
    "conf_matrix = confusion_matrix(y_true=SMOTE_y_test, y_pred=y_pred_test)\n",
    "\n",
    "fig, ax = plt.subplots(figsize=(5, 5))\n",
    "ax.matshow(conf_matrix, cmap=plt.cm.Blues, alpha=0.3)\n",
    "for i in range(conf_matrix.shape[0]):\n",
    "    for j in range(conf_matrix.shape[1]):\n",
    "        ax.text(x=j, y=i,s=conf_matrix[i, j], va='center', ha='center', size='xx-large')\n",
    " \n",
    "plt.xlabel('Predictions', fontsize=18)\n",
    "plt.ylabel('Actuals', fontsize=18)\n",
    "plt.title('Confusion Matrix for Log. Reg. Model 3', fontsize=18)\n",
    "plt.show()"
   ]
  },
  {
   "cell_type": "markdown",
   "id": "36eb96fb",
   "metadata": {},
   "source": [
    "### Feature Importance"
   ]
  },
  {
   "cell_type": "code",
   "execution_count": null,
   "id": "58653ca7",
   "metadata": {
    "scrolled": true
   },
   "outputs": [],
   "source": [
    "model = LogisticRegression()\n",
    "model.fit(SMOTE_X_train, SMOTE_y_train)\n",
    "\n",
    "coefficients = model.coef_[0]\n",
    "\n",
    "feature_importance = pd.DataFrame({'Feature': X.columns, 'Importance': np.abs(coefficients)})\n",
    "feature_importance = feature_importance.sort_values('Importance', ascending=True)\n",
    "feature_importance.plot(x='Feature', y='Importance', kind='barh', title= 'Feature Importance for Log. Reg. Model 3', figsize=(10, 6));"
   ]
  },
  {
   "cell_type": "markdown",
   "id": "18abb4d3",
   "metadata": {},
   "source": [
    "## XGBoost"
   ]
  },
  {
   "cell_type": "code",
   "execution_count": null,
   "id": "7cf13928",
   "metadata": {},
   "outputs": [],
   "source": [
    "#initiating model\n",
    "xgb = XGBClassifier(random_state=56)"
   ]
  },
  {
   "cell_type": "markdown",
   "id": "89653554",
   "metadata": {},
   "source": [
    "### Selecting Our Target Variable and Features"
   ]
  },
  {
   "cell_type": "code",
   "execution_count": null,
   "id": "81c9a7cf",
   "metadata": {},
   "outputs": [],
   "source": [
    "#y is prediction variable \n",
    "#X is features \n",
    "y_boost = bottom['increase']\n",
    "X_boost = bottom.drop(['City', 'HurricaneName', 'DATE', 'after', 'percent', 'increase'], axis=1)\n"
   ]
  },
  {
   "cell_type": "markdown",
   "id": "60d30b6c",
   "metadata": {},
   "source": [
    "### Train/Test Split"
   ]
  },
  {
   "cell_type": "code",
   "execution_count": null,
   "id": "54b5232a",
   "metadata": {},
   "outputs": [],
   "source": [
    "#train/test splits with 30% test size\n",
    "XG_X_train, XG_X_test, XG_y_train, XG_y_test = train_test_split(X_boost, y_boost, test_size=0.30, random_state=56)"
   ]
  },
  {
   "cell_type": "markdown",
   "id": "f4800318",
   "metadata": {},
   "source": [
    "### Training Data"
   ]
  },
  {
   "cell_type": "code",
   "execution_count": null,
   "id": "17f09e1b",
   "metadata": {},
   "outputs": [],
   "source": [
    "xgb.fit(XG_X_train, XG_y_train);"
   ]
  },
  {
   "cell_type": "code",
   "execution_count": null,
   "id": "93ae30c5",
   "metadata": {},
   "outputs": [],
   "source": [
    "y_pred_train = xgb.predict(XG_X_train)"
   ]
  },
  {
   "cell_type": "code",
   "execution_count": null,
   "id": "05d7aa16",
   "metadata": {},
   "outputs": [],
   "source": [
    "#Printing Accuracy\n",
    "print('Accuracy: %.3f' % accuracy_score(XG_y_train, y_pred_train))"
   ]
  },
  {
   "cell_type": "code",
   "execution_count": null,
   "id": "29ecd78b",
   "metadata": {},
   "outputs": [],
   "source": [
    "#using F-1 score to see how it performs\n",
    "#F1 Score = 2* Precision Score * Recall Score/ (Precision Score + Recall Score/)\n",
    "print('F1 Score: %.3f' % f1_score(XG_y_train, y_pred_train))"
   ]
  },
  {
   "cell_type": "markdown",
   "id": "5e08d1c1",
   "metadata": {},
   "source": [
    "### Testing Data"
   ]
  },
  {
   "cell_type": "code",
   "execution_count": null,
   "id": "8816092c",
   "metadata": {},
   "outputs": [],
   "source": [
    "xgb.fit(XG_X_test, XG_y_test);"
   ]
  },
  {
   "cell_type": "code",
   "execution_count": null,
   "id": "37b897e3",
   "metadata": {},
   "outputs": [],
   "source": [
    "y_pred_test = xgb.predict(XG_X_test)"
   ]
  },
  {
   "cell_type": "code",
   "execution_count": null,
   "id": "b7290e7c",
   "metadata": {},
   "outputs": [],
   "source": [
    "#Printing Accuracy\n",
    "accuracy_XG1 = accuracy_score(XG_y_test, y_pred_test)\n",
    "print(accuracy_XG1)"
   ]
  },
  {
   "cell_type": "code",
   "execution_count": null,
   "id": "6a195584",
   "metadata": {},
   "outputs": [],
   "source": [
    "#using F-1 score to see how it performs\n",
    "#F1 Score = 2* Precision Score * Recall Score/ (Precision Score + Recall Score/)\n",
    "F1_XG1 = f1_score(XG_y_test, y_pred_test)\n",
    "print(F1_XG1)"
   ]
  },
  {
   "cell_type": "code",
   "execution_count": null,
   "id": "1ec39f23",
   "metadata": {},
   "outputs": [],
   "source": [
    "model_dict['XGBoost_Accuracy'] = accuracy_XG1\n",
    "model_dict['XGBoost_F1'] = F1_XG1\n",
    "model_dict"
   ]
  },
  {
   "cell_type": "code",
   "execution_count": null,
   "id": "3df8aaef",
   "metadata": {},
   "outputs": [],
   "source": [
    "#let's check out the AUC curve\n",
    "#getting probability\n",
    "y_pred_prob = xgb.predict_proba(XG_X_test)[::,1]\n",
    "fpr, tpr, _ = metrics.roc_curve(XG_y_test,  y_pred_prob)\n",
    "auc = metrics.roc_auc_score(XG_y_test, y_pred_prob)\n",
    "\n",
    "#plotting\n",
    "plt.plot(fpr,tpr,label=\"XG Boost, auc=\"+str(auc))\n",
    "plt.legend(loc=4)\n",
    "plt.show()"
   ]
  },
  {
   "cell_type": "code",
   "execution_count": null,
   "id": "629f893b",
   "metadata": {},
   "outputs": [],
   "source": [
    "conf_matrix = confusion_matrix(y_true=XG_y_test, y_pred=y_pred_test)\n",
    "\n",
    "fig, ax = plt.subplots(figsize=(5, 5))\n",
    "ax.matshow(conf_matrix, cmap=plt.cm.Blues, alpha=0.3)\n",
    "for i in range(conf_matrix.shape[0]):\n",
    "    for j in range(conf_matrix.shape[1]):\n",
    "        ax.text(x=j, y=i,s=conf_matrix[i, j], va='center', ha='center', size='xx-large')\n",
    " \n",
    "plt.xlabel('Predictions', fontsize=18)\n",
    "plt.ylabel('Actuals', fontsize=18)\n",
    "plt.title('Confusion Matrix for Best Model on Test Set', fontsize=18)\n",
    "plt.show()"
   ]
  },
  {
   "cell_type": "markdown",
   "id": "5f95789b",
   "metadata": {},
   "source": [
    "## SHAP (SHapley Additive exPlanations) \n",
    "\n",
    "SHAP is a unified approach to explain the output of any machine learning model. Beeswarm plots are a more complex and information-rich display of SHAP values that reveal not just the relative importance of features, but their actual relationships with the predicted outcome. \n",
    "\n",
    "shap_values : the average contribution of each feature to each prediction for each sample based on all possible features. It is a (n,m) n — samples, m — features matrix that represents the contribution of each feature to each sample.\n",
    "\n",
    "From the plot below we can interpret that larger SizeRank values have a higher impact on feature value. Smaller before values have a higher impact on feature value. Higher WSF2 and AWND values also have higher impact on feature value. \n",
    "\n",
    "Works Cited   \n",
    "Classification Feature Selection : SHAP Tutorial. kaggle.com. Accessed July 6, 2023. https://www.kaggle.com/code/ritzig/classification-feature-selection-shap-tutorial#SHAP\n"
   ]
  },
  {
   "cell_type": "code",
   "execution_count": null,
   "id": "f92e065f",
   "metadata": {},
   "outputs": [],
   "source": [
    "#Using SHAP to assess feature importance \n",
    "# creating an explainer for our model\n",
    "explainer = shap.TreeExplainer(xgb)\n",
    "\n",
    "# finding out the shap values using the explainer\n",
    "shap_values = explainer.shap_values(XG_X_test)\n",
    "\n",
    "#creating a beeswarm plot \n",
    "shap.initjs()\n",
    "plt.title(\"XGBoost Feature Importance\", y=1)\n",
    "shap.summary_plot(shap_values, XG_X_test)"
   ]
  },
  {
   "cell_type": "markdown",
   "id": "e10b2deb",
   "metadata": {},
   "source": [
    "# Best Model: XGBoost\n",
    "We ran two types of models, logistic regression and XG Boost. The best logisitc regression model had an accuracy of 72% which is only slightly better than the majority percent of 68%. Our best model was XGBoost which had a perfect accuracy and F1 score with the included features:\n",
    "- AWND\n",
    "- WSF2\n",
    "- SizeRank\n",
    "- before "
   ]
  },
  {
   "cell_type": "code",
   "execution_count": null,
   "id": "db8c0ac7",
   "metadata": {},
   "outputs": [],
   "source": [
    "model_dict"
   ]
  },
  {
   "cell_type": "markdown",
   "id": "c0aa8969",
   "metadata": {},
   "source": [
    "# Model Validation "
   ]
  },
  {
   "cell_type": "markdown",
   "id": "1d773358",
   "metadata": {},
   "source": [
    "## XGBoost on Hurricane Ian Data"
   ]
  },
  {
   "cell_type": "code",
   "execution_count": null,
   "id": "5e9b3ee3",
   "metadata": {},
   "outputs": [],
   "source": [
    "# Checking the balance of target variable 'increase'\n",
    "#plotting \n",
    "sns.countplot(x='increase', data=all_ian).set(title='Hurricane Ian Class Imbalance')\n",
    "#print value counts \n",
    "print(all_ian['increase'].value_counts())\n",
    "#checking ratio to see what accuracy is like\n",
    "percent = (len(all_ian['increase']) - all_ian['increase'].sum())/(len(all_ian['increase']) - all_ian['increase'].sum()+all_ian['increase'].sum())*100\n",
    "print(\"majority percent is {}\".format(percent),\"%\")"
   ]
  },
  {
   "cell_type": "markdown",
   "id": "0d6e1503",
   "metadata": {},
   "source": [
    "### Selecting Our Target Variable and Features\n",
    "Our targer variable is increase and for our second iteration of modeling we will drop WSF2 because it's highly correlated with AWND. "
   ]
  },
  {
   "cell_type": "code",
   "execution_count": null,
   "id": "da8829a7",
   "metadata": {},
   "outputs": [],
   "source": [
    "#y is prediction variable \n",
    "#X is features \n",
    "y_ian = all_ian['increase']\n",
    "X_ian = all_ian.drop(['City', 'HurricaneName', 'DATE', 'after', 'percent', 'increase'], axis=1)"
   ]
  },
  {
   "cell_type": "code",
   "execution_count": null,
   "id": "43605ad8",
   "metadata": {},
   "outputs": [],
   "source": [
    "y_pred = xgb.predict(X_ian)"
   ]
  },
  {
   "cell_type": "code",
   "execution_count": null,
   "id": "810485cd",
   "metadata": {},
   "outputs": [],
   "source": [
    "#Printing Accuracy\n",
    "print('Accuracy: %.3f' % accuracy_score(y_ian, y_pred))"
   ]
  },
  {
   "cell_type": "code",
   "execution_count": null,
   "id": "3f5703ec",
   "metadata": {},
   "outputs": [],
   "source": [
    "#using F-1 score to see how it performs\n",
    "#F1 Score = 2* Precision Score * Recall Score/ (Precision Score + Recall Score/)\n",
    "print('F1 Score: %.3f' % f1_score(y_ian, y_pred))"
   ]
  },
  {
   "cell_type": "code",
   "execution_count": null,
   "id": "e3dbf8fb",
   "metadata": {},
   "outputs": [],
   "source": [
    "#let's check out the AUC curve\n",
    "#getting probability\n",
    "y_pred_prob = xgb.predict_proba(X_ian)[::,1]\n",
    "fpr, tpr, _ = metrics.roc_curve(y_ian,  y_pred_prob)\n",
    "auc = metrics.roc_auc_score(y_ian, y_pred_prob)\n",
    "\n",
    "#plotting\n",
    "plt.plot(fpr,tpr,label=\"XG Boost for Hurricane Ian, auc=\"+str(auc))\n",
    "plt.legend(loc=4)\n",
    "plt.show()"
   ]
  },
  {
   "cell_type": "markdown",
   "id": "14fa12ec",
   "metadata": {},
   "source": [
    "## Confusion Matrix\n",
    "\n",
    "As seen below 7 false negatives were predicted. Meaning home value was predicted not to increase, but it did. "
   ]
  },
  {
   "cell_type": "code",
   "execution_count": null,
   "id": "e1bb0f44",
   "metadata": {},
   "outputs": [],
   "source": [
    "conf_matrix = confusion_matrix(y_true=y_ian, y_pred=y_pred)\n",
    "\n",
    "fig, ax = plt.subplots(figsize=(5, 5))\n",
    "ax.matshow(conf_matrix, cmap=plt.cm.Blues, alpha=0.3)\n",
    "for i in range(conf_matrix.shape[0]):\n",
    "    for j in range(conf_matrix.shape[1]):\n",
    "        ax.text(x=j, y=i,s=conf_matrix[i, j], va='center', ha='center', size='xx-large')\n",
    " \n",
    "plt.xlabel('Predictions', fontsize=18)\n",
    "plt.ylabel('Actuals', fontsize=18)\n",
    "plt.title('Confusion Matrix for Hurricane Ian', fontsize=18)\n",
    "plt.show()"
   ]
  }
 ],
 "metadata": {
  "kernelspec": {
   "display_name": "Python 3 (ipykernel)",
   "language": "python",
   "name": "python3"
  },
  "language_info": {
   "codemirror_mode": {
    "name": "ipython",
    "version": 3
   },
   "file_extension": ".py",
   "mimetype": "text/x-python",
   "name": "python",
   "nbconvert_exporter": "python",
   "pygments_lexer": "ipython3",
   "version": "3.10.9"
  }
 },
 "nbformat": 4,
 "nbformat_minor": 5
}
