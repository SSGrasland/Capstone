{
 "cells": [
  {
   "cell_type": "code",
   "execution_count": 1,
   "id": "cab1a889",
   "metadata": {},
   "outputs": [],
   "source": [
    "#wrapping things up \n",
    "#have code that shows we werent able to predict any better than just predicting the dominant class \n",
    "#iterating through models by adding and subtracting variables to show colinearity \n",
    "#to show that there is no relationship to be found \n",
    "#sum things up with little recommendations for future research \n",
    "#throw in some charts (crosstabs (box and whisker plot), bar graph (for classes))\n",
    "#model with different things (but maybe not because throwing kitchen sink is useless)\n",
    "#run model on six months before and after\n",
    "#change bottom model to six months before and after "
   ]
  },
  {
   "cell_type": "markdown",
   "id": "88c86d40",
   "metadata": {},
   "source": [
    "# Obtaining Data"
   ]
  },
  {
   "cell_type": "code",
   "execution_count": 2,
   "id": "fb41dc2c",
   "metadata": {},
   "outputs": [],
   "source": [
    "#Importing libraries needed\n",
    "import pandas as pd\n",
    "import matplotlib.pyplot as plt\n",
    "from matplotlib import pyplot\n",
    "%matplotlib inline\n",
    "import numpy as np\n",
    "import seaborn as sns\n",
    "\n",
    "import warnings\n",
    "warnings.filterwarnings('ignore')"
   ]
  },
  {
   "cell_type": "code",
   "execution_count": 3,
   "id": "f5e97317",
   "metadata": {},
   "outputs": [],
   "source": [
    "#opening the datasets \n",
    "bottom =  pd.read_csv(r'data\\bottom_hurricane.csv')\n",
    "middle =  pd.read_csv(r'data\\middle_hurricane.csv')\n",
    "top =  pd.read_csv(r'data\\top_hurricane.csv')"
   ]
  },
  {
   "cell_type": "code",
   "execution_count": 4,
   "id": "1ed0c95b",
   "metadata": {},
   "outputs": [],
   "source": [
    "#let's get rid of duplicate cities by only grabbing the cities with the max value for AWND\n",
    "bottom = bottom.sort_values('AWND', ascending=False).drop_duplicates('City').sort_index()\n",
    "middle = middle.sort_values('AWND', ascending=False).drop_duplicates('City').sort_index()\n",
    "top = top.sort_values('AWND', ascending=False).drop_duplicates('City').sort_index()"
   ]
  },
  {
   "cell_type": "code",
   "execution_count": 5,
   "id": "30ba0b5f",
   "metadata": {},
   "outputs": [
    {
     "data": {
      "text/html": [
       "<div>\n",
       "<style scoped>\n",
       "    .dataframe tbody tr th:only-of-type {\n",
       "        vertical-align: middle;\n",
       "    }\n",
       "\n",
       "    .dataframe tbody tr th {\n",
       "        vertical-align: top;\n",
       "    }\n",
       "\n",
       "    .dataframe thead th {\n",
       "        text-align: right;\n",
       "    }\n",
       "</style>\n",
       "<table border=\"1\" class=\"dataframe\">\n",
       "  <thead>\n",
       "    <tr style=\"text-align: right;\">\n",
       "      <th></th>\n",
       "      <th>City</th>\n",
       "      <th>HurricaneName</th>\n",
       "      <th>DATE</th>\n",
       "      <th>AWND</th>\n",
       "      <th>WSF2</th>\n",
       "      <th>SizeRank</th>\n",
       "      <th>b</th>\n",
       "      <th>a</th>\n",
       "      <th>percent</th>\n",
       "      <th>bool</th>\n",
       "    </tr>\n",
       "  </thead>\n",
       "  <tbody>\n",
       "    <tr>\n",
       "      <th>5</th>\n",
       "      <td>Apalachicola</td>\n",
       "      <td>mi</td>\n",
       "      <td>10/10/2018</td>\n",
       "      <td>29.75</td>\n",
       "      <td>63.1</td>\n",
       "      <td>12877</td>\n",
       "      <td>65287.07867</td>\n",
       "      <td>76710.34737</td>\n",
       "      <td>17.496982</td>\n",
       "      <td>1.0</td>\n",
       "    </tr>\n",
       "    <tr>\n",
       "      <th>11</th>\n",
       "      <td>Brooksville</td>\n",
       "      <td>ma</td>\n",
       "      <td>10/7/2016</td>\n",
       "      <td>19.69</td>\n",
       "      <td>30.0</td>\n",
       "      <td>1410</td>\n",
       "      <td>50528.88696</td>\n",
       "      <td>60596.57200</td>\n",
       "      <td>19.924613</td>\n",
       "      <td>1.0</td>\n",
       "    </tr>\n",
       "    <tr>\n",
       "      <th>20</th>\n",
       "      <td>Clearwater</td>\n",
       "      <td>ma</td>\n",
       "      <td>10/7/2016</td>\n",
       "      <td>20.58</td>\n",
       "      <td>31.1</td>\n",
       "      <td>233</td>\n",
       "      <td>75030.31664</td>\n",
       "      <td>87159.19859</td>\n",
       "      <td>16.165308</td>\n",
       "      <td>1.0</td>\n",
       "    </tr>\n",
       "    <tr>\n",
       "      <th>29</th>\n",
       "      <td>Daytona Beach</td>\n",
       "      <td>ma</td>\n",
       "      <td>10/7/2016</td>\n",
       "      <td>27.51</td>\n",
       "      <td>52.1</td>\n",
       "      <td>744</td>\n",
       "      <td>55949.49283</td>\n",
       "      <td>64257.66956</td>\n",
       "      <td>14.849423</td>\n",
       "      <td>0.0</td>\n",
       "    </tr>\n",
       "    <tr>\n",
       "      <th>44</th>\n",
       "      <td>Fort Lauderdale</td>\n",
       "      <td>ma</td>\n",
       "      <td>10/7/2016</td>\n",
       "      <td>16.55</td>\n",
       "      <td>29.1</td>\n",
       "      <td>190</td>\n",
       "      <td>138330.70080</td>\n",
       "      <td>154191.06280</td>\n",
       "      <td>11.465540</td>\n",
       "      <td>0.0</td>\n",
       "    </tr>\n",
       "  </tbody>\n",
       "</table>\n",
       "</div>"
      ],
      "text/plain": [
       "               City HurricaneName        DATE   AWND  WSF2  SizeRank  \\\n",
       "5      Apalachicola            mi  10/10/2018  29.75  63.1     12877   \n",
       "11      Brooksville            ma   10/7/2016  19.69  30.0      1410   \n",
       "20       Clearwater            ma   10/7/2016  20.58  31.1       233   \n",
       "29    Daytona Beach            ma   10/7/2016  27.51  52.1       744   \n",
       "44  Fort Lauderdale            ma   10/7/2016  16.55  29.1       190   \n",
       "\n",
       "               b             a    percent  bool  \n",
       "5    65287.07867   76710.34737  17.496982   1.0  \n",
       "11   50528.88696   60596.57200  19.924613   1.0  \n",
       "20   75030.31664   87159.19859  16.165308   1.0  \n",
       "29   55949.49283   64257.66956  14.849423   0.0  \n",
       "44  138330.70080  154191.06280  11.465540   0.0  "
      ]
     },
     "execution_count": 5,
     "metadata": {},
     "output_type": "execute_result"
    }
   ],
   "source": [
    "bottom.head()"
   ]
  },
  {
   "cell_type": "code",
   "execution_count": 6,
   "id": "74e26a00",
   "metadata": {},
   "outputs": [
    {
     "data": {
      "text/html": [
       "<div>\n",
       "<style scoped>\n",
       "    .dataframe tbody tr th:only-of-type {\n",
       "        vertical-align: middle;\n",
       "    }\n",
       "\n",
       "    .dataframe tbody tr th {\n",
       "        vertical-align: top;\n",
       "    }\n",
       "\n",
       "    .dataframe thead th {\n",
       "        text-align: right;\n",
       "    }\n",
       "</style>\n",
       "<table border=\"1\" class=\"dataframe\">\n",
       "  <thead>\n",
       "    <tr style=\"text-align: right;\">\n",
       "      <th></th>\n",
       "      <th>City</th>\n",
       "      <th>HurricaneName</th>\n",
       "      <th>DATE</th>\n",
       "      <th>AWND</th>\n",
       "      <th>WSF2</th>\n",
       "      <th>SizeRank</th>\n",
       "      <th>b</th>\n",
       "      <th>a</th>\n",
       "      <th>percent</th>\n",
       "      <th>bool</th>\n",
       "    </tr>\n",
       "  </thead>\n",
       "  <tbody>\n",
       "    <tr>\n",
       "      <th>5</th>\n",
       "      <td>Apalachicola</td>\n",
       "      <td>mi</td>\n",
       "      <td>10/10/2018</td>\n",
       "      <td>29.75</td>\n",
       "      <td>63.1</td>\n",
       "      <td>12877</td>\n",
       "      <td>144565.87220</td>\n",
       "      <td>161515.92750</td>\n",
       "      <td>11.724797</td>\n",
       "      <td>1.0</td>\n",
       "    </tr>\n",
       "    <tr>\n",
       "      <th>11</th>\n",
       "      <td>Brooksville</td>\n",
       "      <td>ma</td>\n",
       "      <td>10/7/2016</td>\n",
       "      <td>19.69</td>\n",
       "      <td>30.0</td>\n",
       "      <td>1410</td>\n",
       "      <td>131341.02820</td>\n",
       "      <td>147305.08070</td>\n",
       "      <td>12.154658</td>\n",
       "      <td>1.0</td>\n",
       "    </tr>\n",
       "    <tr>\n",
       "      <th>20</th>\n",
       "      <td>Clearwater</td>\n",
       "      <td>ma</td>\n",
       "      <td>10/7/2016</td>\n",
       "      <td>20.58</td>\n",
       "      <td>31.1</td>\n",
       "      <td>233</td>\n",
       "      <td>164004.34390</td>\n",
       "      <td>180947.34500</td>\n",
       "      <td>10.330825</td>\n",
       "      <td>0.0</td>\n",
       "    </tr>\n",
       "    <tr>\n",
       "      <th>29</th>\n",
       "      <td>Cross City</td>\n",
       "      <td>ma</td>\n",
       "      <td>10/7/2016</td>\n",
       "      <td>16.33</td>\n",
       "      <td>27.1</td>\n",
       "      <td>11954</td>\n",
       "      <td>55644.25987</td>\n",
       "      <td>55475.02634</td>\n",
       "      <td>-0.304135</td>\n",
       "      <td>0.0</td>\n",
       "    </tr>\n",
       "    <tr>\n",
       "      <th>38</th>\n",
       "      <td>Daytona Beach</td>\n",
       "      <td>ma</td>\n",
       "      <td>10/7/2016</td>\n",
       "      <td>27.51</td>\n",
       "      <td>52.1</td>\n",
       "      <td>744</td>\n",
       "      <td>119402.40490</td>\n",
       "      <td>132585.84080</td>\n",
       "      <td>11.041181</td>\n",
       "      <td>1.0</td>\n",
       "    </tr>\n",
       "  </tbody>\n",
       "</table>\n",
       "</div>"
      ],
      "text/plain": [
       "             City HurricaneName        DATE   AWND  WSF2  SizeRank  \\\n",
       "5    Apalachicola            mi  10/10/2018  29.75  63.1     12877   \n",
       "11    Brooksville            ma   10/7/2016  19.69  30.0      1410   \n",
       "20     Clearwater            ma   10/7/2016  20.58  31.1       233   \n",
       "29     Cross City            ma   10/7/2016  16.33  27.1     11954   \n",
       "38  Daytona Beach            ma   10/7/2016  27.51  52.1       744   \n",
       "\n",
       "               b             a    percent  bool  \n",
       "5   144565.87220  161515.92750  11.724797   1.0  \n",
       "11  131341.02820  147305.08070  12.154658   1.0  \n",
       "20  164004.34390  180947.34500  10.330825   0.0  \n",
       "29   55644.25987   55475.02634  -0.304135   0.0  \n",
       "38  119402.40490  132585.84080  11.041181   1.0  "
      ]
     },
     "execution_count": 6,
     "metadata": {},
     "output_type": "execute_result"
    }
   ],
   "source": [
    "middle.head()"
   ]
  },
  {
   "cell_type": "code",
   "execution_count": 7,
   "id": "e27ee915",
   "metadata": {
    "scrolled": true
   },
   "outputs": [
    {
     "data": {
      "text/html": [
       "<div>\n",
       "<style scoped>\n",
       "    .dataframe tbody tr th:only-of-type {\n",
       "        vertical-align: middle;\n",
       "    }\n",
       "\n",
       "    .dataframe tbody tr th {\n",
       "        vertical-align: top;\n",
       "    }\n",
       "\n",
       "    .dataframe thead th {\n",
       "        text-align: right;\n",
       "    }\n",
       "</style>\n",
       "<table border=\"1\" class=\"dataframe\">\n",
       "  <thead>\n",
       "    <tr style=\"text-align: right;\">\n",
       "      <th></th>\n",
       "      <th>City</th>\n",
       "      <th>HurricaneName</th>\n",
       "      <th>DATE</th>\n",
       "      <th>AWND</th>\n",
       "      <th>WSF2</th>\n",
       "      <th>SizeRank</th>\n",
       "      <th>b</th>\n",
       "      <th>a</th>\n",
       "      <th>percent</th>\n",
       "      <th>bool</th>\n",
       "    </tr>\n",
       "  </thead>\n",
       "  <tbody>\n",
       "    <tr>\n",
       "      <th>5</th>\n",
       "      <td>Apalachicola</td>\n",
       "      <td>mi</td>\n",
       "      <td>10/10/2018</td>\n",
       "      <td>29.75</td>\n",
       "      <td>63.1</td>\n",
       "      <td>12877</td>\n",
       "      <td>279871.2479</td>\n",
       "      <td>308859.8100</td>\n",
       "      <td>10.357821</td>\n",
       "      <td>1.0</td>\n",
       "    </tr>\n",
       "    <tr>\n",
       "      <th>11</th>\n",
       "      <td>Brooksville</td>\n",
       "      <td>ma</td>\n",
       "      <td>10/7/2016</td>\n",
       "      <td>19.69</td>\n",
       "      <td>30.0</td>\n",
       "      <td>1410</td>\n",
       "      <td>236668.7002</td>\n",
       "      <td>254118.0847</td>\n",
       "      <td>7.372916</td>\n",
       "      <td>1.0</td>\n",
       "    </tr>\n",
       "    <tr>\n",
       "      <th>20</th>\n",
       "      <td>Clearwater</td>\n",
       "      <td>ma</td>\n",
       "      <td>10/7/2016</td>\n",
       "      <td>20.58</td>\n",
       "      <td>31.1</td>\n",
       "      <td>233</td>\n",
       "      <td>331293.1616</td>\n",
       "      <td>349546.3935</td>\n",
       "      <td>5.509692</td>\n",
       "      <td>0.0</td>\n",
       "    </tr>\n",
       "    <tr>\n",
       "      <th>29</th>\n",
       "      <td>Cross City</td>\n",
       "      <td>ma</td>\n",
       "      <td>10/7/2016</td>\n",
       "      <td>16.33</td>\n",
       "      <td>27.1</td>\n",
       "      <td>11954</td>\n",
       "      <td>124107.7381</td>\n",
       "      <td>125538.8548</td>\n",
       "      <td>1.153124</td>\n",
       "      <td>0.0</td>\n",
       "    </tr>\n",
       "    <tr>\n",
       "      <th>38</th>\n",
       "      <td>Daytona Beach</td>\n",
       "      <td>ma</td>\n",
       "      <td>10/7/2016</td>\n",
       "      <td>27.51</td>\n",
       "      <td>52.1</td>\n",
       "      <td>744</td>\n",
       "      <td>220281.3651</td>\n",
       "      <td>235594.0105</td>\n",
       "      <td>6.951403</td>\n",
       "      <td>0.0</td>\n",
       "    </tr>\n",
       "  </tbody>\n",
       "</table>\n",
       "</div>"
      ],
      "text/plain": [
       "             City HurricaneName        DATE   AWND  WSF2  SizeRank  \\\n",
       "5    Apalachicola            mi  10/10/2018  29.75  63.1     12877   \n",
       "11    Brooksville            ma   10/7/2016  19.69  30.0      1410   \n",
       "20     Clearwater            ma   10/7/2016  20.58  31.1       233   \n",
       "29     Cross City            ma   10/7/2016  16.33  27.1     11954   \n",
       "38  Daytona Beach            ma   10/7/2016  27.51  52.1       744   \n",
       "\n",
       "              b            a    percent  bool  \n",
       "5   279871.2479  308859.8100  10.357821   1.0  \n",
       "11  236668.7002  254118.0847   7.372916   1.0  \n",
       "20  331293.1616  349546.3935   5.509692   0.0  \n",
       "29  124107.7381  125538.8548   1.153124   0.0  \n",
       "38  220281.3651  235594.0105   6.951403   0.0  "
      ]
     },
     "execution_count": 7,
     "metadata": {},
     "output_type": "execute_result"
    }
   ],
   "source": [
    "top.head()"
   ]
  },
  {
   "cell_type": "markdown",
   "id": "32fa52cf",
   "metadata": {},
   "source": [
    "## Checking Crosstabs"
   ]
  },
  {
   "cell_type": "markdown",
   "id": "24617cfc",
   "metadata": {},
   "source": [
    "### Bottom Tier Home Values"
   ]
  },
  {
   "cell_type": "code",
   "execution_count": 8,
   "id": "eabe7306",
   "metadata": {},
   "outputs": [
    {
     "data": {
      "text/html": [
       "<div>\n",
       "<style scoped>\n",
       "    .dataframe tbody tr th:only-of-type {\n",
       "        vertical-align: middle;\n",
       "    }\n",
       "\n",
       "    .dataframe tbody tr th {\n",
       "        vertical-align: top;\n",
       "    }\n",
       "\n",
       "    .dataframe thead th {\n",
       "        text-align: right;\n",
       "    }\n",
       "</style>\n",
       "<table border=\"1\" class=\"dataframe\">\n",
       "  <thead>\n",
       "    <tr style=\"text-align: right;\">\n",
       "      <th></th>\n",
       "      <th>AWND</th>\n",
       "      <th>WSF2</th>\n",
       "      <th>SizeRank</th>\n",
       "      <th>b</th>\n",
       "      <th>a</th>\n",
       "      <th>percent</th>\n",
       "      <th>bool</th>\n",
       "    </tr>\n",
       "  </thead>\n",
       "  <tbody>\n",
       "    <tr>\n",
       "      <th>count</th>\n",
       "      <td>18.000000</td>\n",
       "      <td>18.000000</td>\n",
       "      <td>18.000000</td>\n",
       "      <td>18.000000</td>\n",
       "      <td>18.000000</td>\n",
       "      <td>18.000000</td>\n",
       "      <td>18.0</td>\n",
       "    </tr>\n",
       "    <tr>\n",
       "      <th>mean</th>\n",
       "      <td>18.691111</td>\n",
       "      <td>37.533333</td>\n",
       "      <td>400.333333</td>\n",
       "      <td>94271.502143</td>\n",
       "      <td>106658.738416</td>\n",
       "      <td>14.294362</td>\n",
       "      <td>0.0</td>\n",
       "    </tr>\n",
       "    <tr>\n",
       "      <th>std</th>\n",
       "      <td>4.566811</td>\n",
       "      <td>14.350651</td>\n",
       "      <td>439.485394</td>\n",
       "      <td>32799.627145</td>\n",
       "      <td>34310.857279</td>\n",
       "      <td>6.968502</td>\n",
       "      <td>0.0</td>\n",
       "    </tr>\n",
       "    <tr>\n",
       "      <th>min</th>\n",
       "      <td>12.750000</td>\n",
       "      <td>23.000000</td>\n",
       "      <td>16.000000</td>\n",
       "      <td>51493.986580</td>\n",
       "      <td>63037.950880</td>\n",
       "      <td>1.715556</td>\n",
       "      <td>0.0</td>\n",
       "    </tr>\n",
       "    <tr>\n",
       "      <th>25%</th>\n",
       "      <td>15.660000</td>\n",
       "      <td>26.700000</td>\n",
       "      <td>107.000000</td>\n",
       "      <td>70686.035723</td>\n",
       "      <td>76881.636387</td>\n",
       "      <td>9.995740</td>\n",
       "      <td>0.0</td>\n",
       "    </tr>\n",
       "    <tr>\n",
       "      <th>50%</th>\n",
       "      <td>18.230000</td>\n",
       "      <td>32.100000</td>\n",
       "      <td>204.500000</td>\n",
       "      <td>89851.854570</td>\n",
       "      <td>103229.680500</td>\n",
       "      <td>12.521362</td>\n",
       "      <td>0.0</td>\n",
       "    </tr>\n",
       "    <tr>\n",
       "      <th>75%</th>\n",
       "      <td>21.865000</td>\n",
       "      <td>44.300000</td>\n",
       "      <td>626.750000</td>\n",
       "      <td>117165.998800</td>\n",
       "      <td>131188.480800</td>\n",
       "      <td>17.316173</td>\n",
       "      <td>0.0</td>\n",
       "    </tr>\n",
       "    <tr>\n",
       "      <th>max</th>\n",
       "      <td>27.510000</td>\n",
       "      <td>76.100000</td>\n",
       "      <td>1644.000000</td>\n",
       "      <td>170218.203700</td>\n",
       "      <td>185409.502800</td>\n",
       "      <td>28.183395</td>\n",
       "      <td>0.0</td>\n",
       "    </tr>\n",
       "  </tbody>\n",
       "</table>\n",
       "</div>"
      ],
      "text/plain": [
       "            AWND       WSF2     SizeRank              b              a  \\\n",
       "count  18.000000  18.000000    18.000000      18.000000      18.000000   \n",
       "mean   18.691111  37.533333   400.333333   94271.502143  106658.738416   \n",
       "std     4.566811  14.350651   439.485394   32799.627145   34310.857279   \n",
       "min    12.750000  23.000000    16.000000   51493.986580   63037.950880   \n",
       "25%    15.660000  26.700000   107.000000   70686.035723   76881.636387   \n",
       "50%    18.230000  32.100000   204.500000   89851.854570  103229.680500   \n",
       "75%    21.865000  44.300000   626.750000  117165.998800  131188.480800   \n",
       "max    27.510000  76.100000  1644.000000  170218.203700  185409.502800   \n",
       "\n",
       "         percent  bool  \n",
       "count  18.000000  18.0  \n",
       "mean   14.294362   0.0  \n",
       "std     6.968502   0.0  \n",
       "min     1.715556   0.0  \n",
       "25%     9.995740   0.0  \n",
       "50%    12.521362   0.0  \n",
       "75%    17.316173   0.0  \n",
       "max    28.183395   0.0  "
      ]
     },
     "execution_count": 8,
     "metadata": {},
     "output_type": "execute_result"
    }
   ],
   "source": [
    "#check crosstabs \n",
    "bottom[bottom['bool'] == 0].describe()"
   ]
  },
  {
   "cell_type": "code",
   "execution_count": 9,
   "id": "6bbf2551",
   "metadata": {},
   "outputs": [
    {
     "data": {
      "text/html": [
       "<div>\n",
       "<style scoped>\n",
       "    .dataframe tbody tr th:only-of-type {\n",
       "        vertical-align: middle;\n",
       "    }\n",
       "\n",
       "    .dataframe tbody tr th {\n",
       "        vertical-align: top;\n",
       "    }\n",
       "\n",
       "    .dataframe thead th {\n",
       "        text-align: right;\n",
       "    }\n",
       "</style>\n",
       "<table border=\"1\" class=\"dataframe\">\n",
       "  <thead>\n",
       "    <tr style=\"text-align: right;\">\n",
       "      <th></th>\n",
       "      <th>AWND</th>\n",
       "      <th>WSF2</th>\n",
       "      <th>SizeRank</th>\n",
       "      <th>b</th>\n",
       "      <th>a</th>\n",
       "      <th>percent</th>\n",
       "      <th>bool</th>\n",
       "    </tr>\n",
       "  </thead>\n",
       "  <tbody>\n",
       "    <tr>\n",
       "      <th>count</th>\n",
       "      <td>13.000000</td>\n",
       "      <td>13.000000</td>\n",
       "      <td>13.000000</td>\n",
       "      <td>13.000000</td>\n",
       "      <td>13.000000</td>\n",
       "      <td>13.000000</td>\n",
       "      <td>13.0</td>\n",
       "    </tr>\n",
       "    <tr>\n",
       "      <th>mean</th>\n",
       "      <td>22.369231</td>\n",
       "      <td>38.784615</td>\n",
       "      <td>1862.769231</td>\n",
       "      <td>79915.419922</td>\n",
       "      <td>98993.668878</td>\n",
       "      <td>23.108019</td>\n",
       "      <td>1.0</td>\n",
       "    </tr>\n",
       "    <tr>\n",
       "      <th>std</th>\n",
       "      <td>5.117712</td>\n",
       "      <td>13.247191</td>\n",
       "      <td>3532.525823</td>\n",
       "      <td>23642.004600</td>\n",
       "      <td>33024.845069</td>\n",
       "      <td>7.272369</td>\n",
       "      <td>0.0</td>\n",
       "    </tr>\n",
       "    <tr>\n",
       "      <th>min</th>\n",
       "      <td>15.660000</td>\n",
       "      <td>21.900000</td>\n",
       "      <td>12.000000</td>\n",
       "      <td>50528.886960</td>\n",
       "      <td>60596.572000</td>\n",
       "      <td>16.165308</td>\n",
       "      <td>1.0</td>\n",
       "    </tr>\n",
       "    <tr>\n",
       "      <th>25%</th>\n",
       "      <td>19.460000</td>\n",
       "      <td>30.000000</td>\n",
       "      <td>113.000000</td>\n",
       "      <td>65287.078670</td>\n",
       "      <td>76710.347370</td>\n",
       "      <td>17.624896</td>\n",
       "      <td>1.0</td>\n",
       "    </tr>\n",
       "    <tr>\n",
       "      <th>50%</th>\n",
       "      <td>21.250000</td>\n",
       "      <td>32.000000</td>\n",
       "      <td>350.000000</td>\n",
       "      <td>75030.316640</td>\n",
       "      <td>89037.172400</td>\n",
       "      <td>19.924613</td>\n",
       "      <td>1.0</td>\n",
       "    </tr>\n",
       "    <tr>\n",
       "      <th>75%</th>\n",
       "      <td>24.830000</td>\n",
       "      <td>53.000000</td>\n",
       "      <td>1410.000000</td>\n",
       "      <td>91758.659330</td>\n",
       "      <td>109114.022000</td>\n",
       "      <td>24.912005</td>\n",
       "      <td>1.0</td>\n",
       "    </tr>\n",
       "    <tr>\n",
       "      <th>max</th>\n",
       "      <td>33.330000</td>\n",
       "      <td>63.100000</td>\n",
       "      <td>12877.000000</td>\n",
       "      <td>121735.801300</td>\n",
       "      <td>166366.441400</td>\n",
       "      <td>36.661886</td>\n",
       "      <td>1.0</td>\n",
       "    </tr>\n",
       "  </tbody>\n",
       "</table>\n",
       "</div>"
      ],
      "text/plain": [
       "            AWND       WSF2      SizeRank              b              a  \\\n",
       "count  13.000000  13.000000     13.000000      13.000000      13.000000   \n",
       "mean   22.369231  38.784615   1862.769231   79915.419922   98993.668878   \n",
       "std     5.117712  13.247191   3532.525823   23642.004600   33024.845069   \n",
       "min    15.660000  21.900000     12.000000   50528.886960   60596.572000   \n",
       "25%    19.460000  30.000000    113.000000   65287.078670   76710.347370   \n",
       "50%    21.250000  32.000000    350.000000   75030.316640   89037.172400   \n",
       "75%    24.830000  53.000000   1410.000000   91758.659330  109114.022000   \n",
       "max    33.330000  63.100000  12877.000000  121735.801300  166366.441400   \n",
       "\n",
       "         percent  bool  \n",
       "count  13.000000  13.0  \n",
       "mean   23.108019   1.0  \n",
       "std     7.272369   0.0  \n",
       "min    16.165308   1.0  \n",
       "25%    17.624896   1.0  \n",
       "50%    19.924613   1.0  \n",
       "75%    24.912005   1.0  \n",
       "max    36.661886   1.0  "
      ]
     },
     "execution_count": 9,
     "metadata": {},
     "output_type": "execute_result"
    }
   ],
   "source": [
    "#check crosstabs \n",
    "bottom[bottom['bool'] == 1].describe()"
   ]
  },
  {
   "cell_type": "markdown",
   "id": "4453ad41",
   "metadata": {},
   "source": [
    "### Middle Tier Home Values"
   ]
  },
  {
   "cell_type": "code",
   "execution_count": 10,
   "id": "188f91d9",
   "metadata": {},
   "outputs": [
    {
     "data": {
      "text/html": [
       "<div>\n",
       "<style scoped>\n",
       "    .dataframe tbody tr th:only-of-type {\n",
       "        vertical-align: middle;\n",
       "    }\n",
       "\n",
       "    .dataframe tbody tr th {\n",
       "        vertical-align: top;\n",
       "    }\n",
       "\n",
       "    .dataframe thead th {\n",
       "        text-align: right;\n",
       "    }\n",
       "</style>\n",
       "<table border=\"1\" class=\"dataframe\">\n",
       "  <thead>\n",
       "    <tr style=\"text-align: right;\">\n",
       "      <th></th>\n",
       "      <th>AWND</th>\n",
       "      <th>WSF2</th>\n",
       "      <th>SizeRank</th>\n",
       "      <th>b</th>\n",
       "      <th>a</th>\n",
       "      <th>percent</th>\n",
       "      <th>bool</th>\n",
       "    </tr>\n",
       "  </thead>\n",
       "  <tbody>\n",
       "    <tr>\n",
       "      <th>count</th>\n",
       "      <td>19.000000</td>\n",
       "      <td>19.000000</td>\n",
       "      <td>19.000000</td>\n",
       "      <td>19.000000</td>\n",
       "      <td>19.000000</td>\n",
       "      <td>19.000000</td>\n",
       "      <td>19.0</td>\n",
       "    </tr>\n",
       "    <tr>\n",
       "      <th>mean</th>\n",
       "      <td>19.637895</td>\n",
       "      <td>37.405263</td>\n",
       "      <td>1106.421053</td>\n",
       "      <td>173096.570156</td>\n",
       "      <td>189599.531107</td>\n",
       "      <td>9.886511</td>\n",
       "      <td>0.0</td>\n",
       "    </tr>\n",
       "    <tr>\n",
       "      <th>std</th>\n",
       "      <td>4.937980</td>\n",
       "      <td>13.960280</td>\n",
       "      <td>2716.798449</td>\n",
       "      <td>53256.051020</td>\n",
       "      <td>55216.048302</td>\n",
       "      <td>6.384666</td>\n",
       "      <td>0.0</td>\n",
       "    </tr>\n",
       "    <tr>\n",
       "      <th>min</th>\n",
       "      <td>12.750000</td>\n",
       "      <td>23.000000</td>\n",
       "      <td>12.000000</td>\n",
       "      <td>55644.259870</td>\n",
       "      <td>55475.026340</td>\n",
       "      <td>-0.304135</td>\n",
       "      <td>0.0</td>\n",
       "    </tr>\n",
       "    <tr>\n",
       "      <th>25%</th>\n",
       "      <td>16.220000</td>\n",
       "      <td>28.100000</td>\n",
       "      <td>108.000000</td>\n",
       "      <td>146272.683200</td>\n",
       "      <td>161420.343200</td>\n",
       "      <td>6.022504</td>\n",
       "      <td>0.0</td>\n",
       "    </tr>\n",
       "    <tr>\n",
       "      <th>50%</th>\n",
       "      <td>19.460000</td>\n",
       "      <td>31.100000</td>\n",
       "      <td>219.000000</td>\n",
       "      <td>168090.344800</td>\n",
       "      <td>185504.511900</td>\n",
       "      <td>9.706864</td>\n",
       "      <td>0.0</td>\n",
       "    </tr>\n",
       "    <tr>\n",
       "      <th>75%</th>\n",
       "      <td>21.920000</td>\n",
       "      <td>42.500000</td>\n",
       "      <td>810.000000</td>\n",
       "      <td>193946.169250</td>\n",
       "      <td>213005.085900</td>\n",
       "      <td>10.412815</td>\n",
       "      <td>0.0</td>\n",
       "    </tr>\n",
       "    <tr>\n",
       "      <th>max</th>\n",
       "      <td>33.330000</td>\n",
       "      <td>76.100000</td>\n",
       "      <td>11954.000000</td>\n",
       "      <td>280584.508000</td>\n",
       "      <td>295369.592000</td>\n",
       "      <td>24.756066</td>\n",
       "      <td>0.0</td>\n",
       "    </tr>\n",
       "  </tbody>\n",
       "</table>\n",
       "</div>"
      ],
      "text/plain": [
       "            AWND       WSF2      SizeRank              b              a  \\\n",
       "count  19.000000  19.000000     19.000000      19.000000      19.000000   \n",
       "mean   19.637895  37.405263   1106.421053  173096.570156  189599.531107   \n",
       "std     4.937980  13.960280   2716.798449   53256.051020   55216.048302   \n",
       "min    12.750000  23.000000     12.000000   55644.259870   55475.026340   \n",
       "25%    16.220000  28.100000    108.000000  146272.683200  161420.343200   \n",
       "50%    19.460000  31.100000    219.000000  168090.344800  185504.511900   \n",
       "75%    21.920000  42.500000    810.000000  193946.169250  213005.085900   \n",
       "max    33.330000  76.100000  11954.000000  280584.508000  295369.592000   \n",
       "\n",
       "         percent  bool  \n",
       "count  19.000000  19.0  \n",
       "mean    9.886511   0.0  \n",
       "std     6.384666   0.0  \n",
       "min    -0.304135   0.0  \n",
       "25%     6.022504   0.0  \n",
       "50%     9.706864   0.0  \n",
       "75%    10.412815   0.0  \n",
       "max    24.756066   0.0  "
      ]
     },
     "execution_count": 10,
     "metadata": {},
     "output_type": "execute_result"
    }
   ],
   "source": [
    "#check crosstabs \n",
    "middle[middle['bool'] == 0].describe()"
   ]
  },
  {
   "cell_type": "code",
   "execution_count": 11,
   "id": "e09d1870",
   "metadata": {},
   "outputs": [
    {
     "data": {
      "text/html": [
       "<div>\n",
       "<style scoped>\n",
       "    .dataframe tbody tr th:only-of-type {\n",
       "        vertical-align: middle;\n",
       "    }\n",
       "\n",
       "    .dataframe tbody tr th {\n",
       "        vertical-align: top;\n",
       "    }\n",
       "\n",
       "    .dataframe thead th {\n",
       "        text-align: right;\n",
       "    }\n",
       "</style>\n",
       "<table border=\"1\" class=\"dataframe\">\n",
       "  <thead>\n",
       "    <tr style=\"text-align: right;\">\n",
       "      <th></th>\n",
       "      <th>AWND</th>\n",
       "      <th>WSF2</th>\n",
       "      <th>SizeRank</th>\n",
       "      <th>b</th>\n",
       "      <th>a</th>\n",
       "      <th>percent</th>\n",
       "      <th>bool</th>\n",
       "    </tr>\n",
       "  </thead>\n",
       "  <tbody>\n",
       "    <tr>\n",
       "      <th>count</th>\n",
       "      <td>11.000000</td>\n",
       "      <td>11.000000</td>\n",
       "      <td>11.000000</td>\n",
       "      <td>11.000000</td>\n",
       "      <td>11.000000</td>\n",
       "      <td>11.000000</td>\n",
       "      <td>11.0</td>\n",
       "    </tr>\n",
       "    <tr>\n",
       "      <th>mean</th>\n",
       "      <td>21.759091</td>\n",
       "      <td>40.836364</td>\n",
       "      <td>1986.727273</td>\n",
       "      <td>165776.665236</td>\n",
       "      <td>198624.407509</td>\n",
       "      <td>18.698109</td>\n",
       "      <td>1.0</td>\n",
       "    </tr>\n",
       "    <tr>\n",
       "      <th>std</th>\n",
       "      <td>5.136710</td>\n",
       "      <td>13.071899</td>\n",
       "      <td>3797.605142</td>\n",
       "      <td>45241.977348</td>\n",
       "      <td>65568.232826</td>\n",
       "      <td>9.064933</td>\n",
       "      <td>0.0</td>\n",
       "    </tr>\n",
       "    <tr>\n",
       "      <th>min</th>\n",
       "      <td>13.650000</td>\n",
       "      <td>25.100000</td>\n",
       "      <td>20.000000</td>\n",
       "      <td>107890.268300</td>\n",
       "      <td>132585.840800</td>\n",
       "      <td>10.984947</td>\n",
       "      <td>1.0</td>\n",
       "    </tr>\n",
       "    <tr>\n",
       "      <th>25%</th>\n",
       "      <td>18.120000</td>\n",
       "      <td>30.000000</td>\n",
       "      <td>206.000000</td>\n",
       "      <td>125371.716550</td>\n",
       "      <td>142445.717550</td>\n",
       "      <td>11.382989</td>\n",
       "      <td>1.0</td>\n",
       "    </tr>\n",
       "    <tr>\n",
       "      <th>50%</th>\n",
       "      <td>22.590000</td>\n",
       "      <td>38.000000</td>\n",
       "      <td>529.000000</td>\n",
       "      <td>175538.384000</td>\n",
       "      <td>194821.182600</td>\n",
       "      <td>14.050237</td>\n",
       "      <td>1.0</td>\n",
       "    </tr>\n",
       "    <tr>\n",
       "      <th>75%</th>\n",
       "      <td>25.275000</td>\n",
       "      <td>52.550000</td>\n",
       "      <td>1376.500000</td>\n",
       "      <td>195007.514850</td>\n",
       "      <td>228490.642600</td>\n",
       "      <td>25.388068</td>\n",
       "      <td>1.0</td>\n",
       "    </tr>\n",
       "    <tr>\n",
       "      <th>max</th>\n",
       "      <td>29.750000</td>\n",
       "      <td>63.100000</td>\n",
       "      <td>12877.000000</td>\n",
       "      <td>237636.125500</td>\n",
       "      <td>316361.491800</td>\n",
       "      <td>33.601156</td>\n",
       "      <td>1.0</td>\n",
       "    </tr>\n",
       "  </tbody>\n",
       "</table>\n",
       "</div>"
      ],
      "text/plain": [
       "            AWND       WSF2      SizeRank              b              a  \\\n",
       "count  11.000000  11.000000     11.000000      11.000000      11.000000   \n",
       "mean   21.759091  40.836364   1986.727273  165776.665236  198624.407509   \n",
       "std     5.136710  13.071899   3797.605142   45241.977348   65568.232826   \n",
       "min    13.650000  25.100000     20.000000  107890.268300  132585.840800   \n",
       "25%    18.120000  30.000000    206.000000  125371.716550  142445.717550   \n",
       "50%    22.590000  38.000000    529.000000  175538.384000  194821.182600   \n",
       "75%    25.275000  52.550000   1376.500000  195007.514850  228490.642600   \n",
       "max    29.750000  63.100000  12877.000000  237636.125500  316361.491800   \n",
       "\n",
       "         percent  bool  \n",
       "count  11.000000  11.0  \n",
       "mean   18.698109   1.0  \n",
       "std     9.064933   0.0  \n",
       "min    10.984947   1.0  \n",
       "25%    11.382989   1.0  \n",
       "50%    14.050237   1.0  \n",
       "75%    25.388068   1.0  \n",
       "max    33.601156   1.0  "
      ]
     },
     "execution_count": 11,
     "metadata": {},
     "output_type": "execute_result"
    }
   ],
   "source": [
    "#check crosstabs \n",
    "middle[middle['bool'] == 1].describe()"
   ]
  },
  {
   "cell_type": "markdown",
   "id": "5b0c765b",
   "metadata": {},
   "source": [
    "### Top Tier Home Values"
   ]
  },
  {
   "cell_type": "code",
   "execution_count": 12,
   "id": "ddcff20a",
   "metadata": {},
   "outputs": [
    {
     "data": {
      "text/html": [
       "<div>\n",
       "<style scoped>\n",
       "    .dataframe tbody tr th:only-of-type {\n",
       "        vertical-align: middle;\n",
       "    }\n",
       "\n",
       "    .dataframe tbody tr th {\n",
       "        vertical-align: top;\n",
       "    }\n",
       "\n",
       "    .dataframe thead th {\n",
       "        text-align: right;\n",
       "    }\n",
       "</style>\n",
       "<table border=\"1\" class=\"dataframe\">\n",
       "  <thead>\n",
       "    <tr style=\"text-align: right;\">\n",
       "      <th></th>\n",
       "      <th>AWND</th>\n",
       "      <th>WSF2</th>\n",
       "      <th>SizeRank</th>\n",
       "      <th>b</th>\n",
       "      <th>a</th>\n",
       "      <th>percent</th>\n",
       "      <th>bool</th>\n",
       "    </tr>\n",
       "  </thead>\n",
       "  <tbody>\n",
       "    <tr>\n",
       "      <th>count</th>\n",
       "      <td>23.000000</td>\n",
       "      <td>23.000000</td>\n",
       "      <td>23.000000</td>\n",
       "      <td>23.000000</td>\n",
       "      <td>23.000000</td>\n",
       "      <td>23.000000</td>\n",
       "      <td>23.0</td>\n",
       "    </tr>\n",
       "    <tr>\n",
       "      <th>mean</th>\n",
       "      <td>20.006087</td>\n",
       "      <td>37.778261</td>\n",
       "      <td>897.695652</td>\n",
       "      <td>313723.715126</td>\n",
       "      <td>337404.854117</td>\n",
       "      <td>7.773596</td>\n",
       "      <td>0.0</td>\n",
       "    </tr>\n",
       "    <tr>\n",
       "      <th>std</th>\n",
       "      <td>4.917864</td>\n",
       "      <td>14.052853</td>\n",
       "      <td>2482.388649</td>\n",
       "      <td>104478.805625</td>\n",
       "      <td>109901.459202</td>\n",
       "      <td>6.974185</td>\n",
       "      <td>0.0</td>\n",
       "    </tr>\n",
       "    <tr>\n",
       "      <th>min</th>\n",
       "      <td>12.750000</td>\n",
       "      <td>21.900000</td>\n",
       "      <td>12.000000</td>\n",
       "      <td>124107.738100</td>\n",
       "      <td>125538.854800</td>\n",
       "      <td>1.153124</td>\n",
       "      <td>0.0</td>\n",
       "    </tr>\n",
       "    <tr>\n",
       "      <th>25%</th>\n",
       "      <td>16.440000</td>\n",
       "      <td>28.100000</td>\n",
       "      <td>97.000000</td>\n",
       "      <td>239055.556650</td>\n",
       "      <td>257389.864800</td>\n",
       "      <td>4.704960</td>\n",
       "      <td>0.0</td>\n",
       "    </tr>\n",
       "    <tr>\n",
       "      <th>50%</th>\n",
       "      <td>19.460000</td>\n",
       "      <td>31.100000</td>\n",
       "      <td>190.000000</td>\n",
       "      <td>307648.934500</td>\n",
       "      <td>349546.393500</td>\n",
       "      <td>5.212095</td>\n",
       "      <td>0.0</td>\n",
       "    </tr>\n",
       "    <tr>\n",
       "      <th>75%</th>\n",
       "      <td>23.150000</td>\n",
       "      <td>47.550000</td>\n",
       "      <td>547.000000</td>\n",
       "      <td>372860.831400</td>\n",
       "      <td>392491.459900</td>\n",
       "      <td>6.421340</td>\n",
       "      <td>0.0</td>\n",
       "    </tr>\n",
       "    <tr>\n",
       "      <th>max</th>\n",
       "      <td>33.330000</td>\n",
       "      <td>76.100000</td>\n",
       "      <td>11954.000000</td>\n",
       "      <td>631061.618900</td>\n",
       "      <td>640267.673900</td>\n",
       "      <td>25.576230</td>\n",
       "      <td>0.0</td>\n",
       "    </tr>\n",
       "  </tbody>\n",
       "</table>\n",
       "</div>"
      ],
      "text/plain": [
       "            AWND       WSF2      SizeRank              b              a  \\\n",
       "count  23.000000  23.000000     23.000000      23.000000      23.000000   \n",
       "mean   20.006087  37.778261    897.695652  313723.715126  337404.854117   \n",
       "std     4.917864  14.052853   2482.388649  104478.805625  109901.459202   \n",
       "min    12.750000  21.900000     12.000000  124107.738100  125538.854800   \n",
       "25%    16.440000  28.100000     97.000000  239055.556650  257389.864800   \n",
       "50%    19.460000  31.100000    190.000000  307648.934500  349546.393500   \n",
       "75%    23.150000  47.550000    547.000000  372860.831400  392491.459900   \n",
       "max    33.330000  76.100000  11954.000000  631061.618900  640267.673900   \n",
       "\n",
       "         percent  bool  \n",
       "count  23.000000  23.0  \n",
       "mean    7.773596   0.0  \n",
       "std     6.974185   0.0  \n",
       "min     1.153124   0.0  \n",
       "25%     4.704960   0.0  \n",
       "50%     5.212095   0.0  \n",
       "75%     6.421340   0.0  \n",
       "max    25.576230   0.0  "
      ]
     },
     "execution_count": 12,
     "metadata": {},
     "output_type": "execute_result"
    }
   ],
   "source": [
    "#check crosstabs \n",
    "top[top['bool'] == 0].describe()"
   ]
  },
  {
   "cell_type": "code",
   "execution_count": 13,
   "id": "d6842f4a",
   "metadata": {},
   "outputs": [
    {
     "data": {
      "text/html": [
       "<div>\n",
       "<style scoped>\n",
       "    .dataframe tbody tr th:only-of-type {\n",
       "        vertical-align: middle;\n",
       "    }\n",
       "\n",
       "    .dataframe tbody tr th {\n",
       "        vertical-align: top;\n",
       "    }\n",
       "\n",
       "    .dataframe thead th {\n",
       "        text-align: right;\n",
       "    }\n",
       "</style>\n",
       "<table border=\"1\" class=\"dataframe\">\n",
       "  <thead>\n",
       "    <tr style=\"text-align: right;\">\n",
       "      <th></th>\n",
       "      <th>AWND</th>\n",
       "      <th>WSF2</th>\n",
       "      <th>SizeRank</th>\n",
       "      <th>b</th>\n",
       "      <th>a</th>\n",
       "      <th>percent</th>\n",
       "      <th>bool</th>\n",
       "    </tr>\n",
       "  </thead>\n",
       "  <tbody>\n",
       "    <tr>\n",
       "      <th>count</th>\n",
       "      <td>8.000000</td>\n",
       "      <td>8.000000</td>\n",
       "      <td>8.000000</td>\n",
       "      <td>8.000000</td>\n",
       "      <td>8.000000</td>\n",
       "      <td>8.000000</td>\n",
       "      <td>8.0</td>\n",
       "    </tr>\n",
       "    <tr>\n",
       "      <th>mean</th>\n",
       "      <td>21.222500</td>\n",
       "      <td>39.112500</td>\n",
       "      <td>2791.750000</td>\n",
       "      <td>305099.775688</td>\n",
       "      <td>359572.876738</td>\n",
       "      <td>15.623515</td>\n",
       "      <td>1.0</td>\n",
       "    </tr>\n",
       "    <tr>\n",
       "      <th>std</th>\n",
       "      <td>5.368697</td>\n",
       "      <td>13.177517</td>\n",
       "      <td>4264.619251</td>\n",
       "      <td>106021.018358</td>\n",
       "      <td>156354.224459</td>\n",
       "      <td>10.540100</td>\n",
       "      <td>0.0</td>\n",
       "    </tr>\n",
       "    <tr>\n",
       "      <th>min</th>\n",
       "      <td>13.200000</td>\n",
       "      <td>25.900000</td>\n",
       "      <td>113.000000</td>\n",
       "      <td>173065.912300</td>\n",
       "      <td>206154.635800</td>\n",
       "      <td>7.372916</td>\n",
       "      <td>1.0</td>\n",
       "    </tr>\n",
       "    <tr>\n",
       "      <th>25%</th>\n",
       "      <td>18.510000</td>\n",
       "      <td>29.500000</td>\n",
       "      <td>471.500000</td>\n",
       "      <td>228119.932700</td>\n",
       "      <td>245869.213450</td>\n",
       "      <td>7.948337</td>\n",
       "      <td>1.0</td>\n",
       "    </tr>\n",
       "    <tr>\n",
       "      <th>50%</th>\n",
       "      <td>21.140000</td>\n",
       "      <td>35.000000</td>\n",
       "      <td>1376.500000</td>\n",
       "      <td>295368.900500</td>\n",
       "      <td>322288.729200</td>\n",
       "      <td>9.784194</td>\n",
       "      <td>1.0</td>\n",
       "    </tr>\n",
       "    <tr>\n",
       "      <th>75%</th>\n",
       "      <td>24.212500</td>\n",
       "      <td>45.425000</td>\n",
       "      <td>2262.750000</td>\n",
       "      <td>359250.132475</td>\n",
       "      <td>413269.827050</td>\n",
       "      <td>22.032753</td>\n",
       "      <td>1.0</td>\n",
       "    </tr>\n",
       "    <tr>\n",
       "      <th>max</th>\n",
       "      <td>29.750000</td>\n",
       "      <td>63.100000</td>\n",
       "      <td>12877.000000</td>\n",
       "      <td>457389.673300</td>\n",
       "      <td>605350.754900</td>\n",
       "      <td>32.349021</td>\n",
       "      <td>1.0</td>\n",
       "    </tr>\n",
       "  </tbody>\n",
       "</table>\n",
       "</div>"
      ],
      "text/plain": [
       "            AWND       WSF2      SizeRank              b              a  \\\n",
       "count   8.000000   8.000000      8.000000       8.000000       8.000000   \n",
       "mean   21.222500  39.112500   2791.750000  305099.775688  359572.876738   \n",
       "std     5.368697  13.177517   4264.619251  106021.018358  156354.224459   \n",
       "min    13.200000  25.900000    113.000000  173065.912300  206154.635800   \n",
       "25%    18.510000  29.500000    471.500000  228119.932700  245869.213450   \n",
       "50%    21.140000  35.000000   1376.500000  295368.900500  322288.729200   \n",
       "75%    24.212500  45.425000   2262.750000  359250.132475  413269.827050   \n",
       "max    29.750000  63.100000  12877.000000  457389.673300  605350.754900   \n",
       "\n",
       "         percent  bool  \n",
       "count   8.000000   8.0  \n",
       "mean   15.623515   1.0  \n",
       "std    10.540100   0.0  \n",
       "min     7.372916   1.0  \n",
       "25%     7.948337   1.0  \n",
       "50%     9.784194   1.0  \n",
       "75%    22.032753   1.0  \n",
       "max    32.349021   1.0  "
      ]
     },
     "execution_count": 13,
     "metadata": {},
     "output_type": "execute_result"
    }
   ],
   "source": [
    "#check crosstabs \n",
    "top[top['bool'] == 1].describe()"
   ]
  },
  {
   "cell_type": "markdown",
   "id": "f7c6b034",
   "metadata": {},
   "source": [
    "# Logistic Regression"
   ]
  },
  {
   "cell_type": "code",
   "execution_count": 14,
   "id": "0e07e08f",
   "metadata": {},
   "outputs": [],
   "source": [
    "# For our modeling steps\n",
    "from sklearn.model_selection import train_test_split\n",
    "from sklearn.preprocessing import normalize\n",
    "from sklearn.linear_model import LinearRegression, LogisticRegression\n",
    "from sklearn.metrics import log_loss\n",
    "\n",
    "# For demonstrative pruposes\n",
    "from scipy.special import logit, expit"
   ]
  },
  {
   "cell_type": "code",
   "execution_count": 15,
   "id": "a1d57af3",
   "metadata": {},
   "outputs": [],
   "source": [
    "logreg = LogisticRegression(random_state=56)"
   ]
  },
  {
   "cell_type": "markdown",
   "id": "baa1bba6",
   "metadata": {},
   "source": [
    "### Iterative Exploration"
   ]
  },
  {
   "cell_type": "markdown",
   "id": "249c2c34",
   "metadata": {},
   "source": [
    "|hurricane time frame | Increase | No Increase |\n",
    "|---|---|---|\n",
    "|one year| 78 | 315 |\n",
    "|six months| 98 | 295 |\n",
    "|three months| 84 | 309|\n",
    "|top| 75 | 326|\n",
    "|bottom| 183 | 216|"
   ]
  },
  {
   "cell_type": "code",
   "execution_count": 16,
   "id": "0f986f06",
   "metadata": {},
   "outputs": [
    {
     "ename": "NameError",
     "evalue": "name 'six' is not defined",
     "output_type": "error",
     "traceback": [
      "\u001b[1;31m---------------------------------------------------------------------------\u001b[0m",
      "\u001b[1;31mNameError\u001b[0m                                 Traceback (most recent call last)",
      "Cell \u001b[1;32mIn[16], line 2\u001b[0m\n\u001b[0;32m      1\u001b[0m \u001b[38;5;66;03m#count for bool = true\u001b[39;00m\n\u001b[1;32m----> 2\u001b[0m \u001b[38;5;28mprint\u001b[39m(\u001b[43msix\u001b[49m[\u001b[38;5;124m'\u001b[39m\u001b[38;5;124mbool\u001b[39m\u001b[38;5;124m'\u001b[39m]\u001b[38;5;241m.\u001b[39msum())\n\u001b[0;32m      3\u001b[0m \u001b[38;5;66;03m#count for bool = false\u001b[39;00m\n\u001b[0;32m      4\u001b[0m \u001b[38;5;28mprint\u001b[39m(\u001b[38;5;28mlen\u001b[39m(six[\u001b[38;5;124m'\u001b[39m\u001b[38;5;124mbool\u001b[39m\u001b[38;5;124m'\u001b[39m]) \u001b[38;5;241m-\u001b[39m six[\u001b[38;5;124m'\u001b[39m\u001b[38;5;124mbool\u001b[39m\u001b[38;5;124m'\u001b[39m]\u001b[38;5;241m.\u001b[39msum())\n",
      "\u001b[1;31mNameError\u001b[0m: name 'six' is not defined"
     ]
    }
   ],
   "source": [
    "#count for bool = true\n",
    "print(six['bool'].sum())\n",
    "#count for bool = false\n",
    "print(len(six['bool']) - six['bool'].sum())"
   ]
  },
  {
   "cell_type": "code",
   "execution_count": null,
   "id": "47c1aee7",
   "metadata": {},
   "outputs": [],
   "source": [
    "#checking ratio to see what accuracy is like\n",
    "295/(295 + 98)"
   ]
  },
  {
   "cell_type": "code",
   "execution_count": null,
   "id": "b25633e8",
   "metadata": {},
   "outputs": [],
   "source": [
    "#count for bool = true\n",
    "print(one['bool'].sum())\n",
    "#count for bool = false\n",
    "print(len(one['bool']) - one['bool'].sum())"
   ]
  },
  {
   "cell_type": "code",
   "execution_count": null,
   "id": "4beb1e59",
   "metadata": {},
   "outputs": [],
   "source": [
    "#count for bool = true\n",
    "print(three['bool'].sum())\n",
    "#count for bool = false\n",
    "print(len(three['bool']) - three['bool'].sum())"
   ]
  },
  {
   "cell_type": "code",
   "execution_count": null,
   "id": "640ff758",
   "metadata": {},
   "outputs": [],
   "source": [
    "#count for bool = true \n",
    "print(top['bool'].sum())\n",
    "#count for bool = false\n",
    "print(len(top['bool']) - top['bool'].sum())"
   ]
  },
  {
   "cell_type": "code",
   "execution_count": null,
   "id": "c9e309e4",
   "metadata": {},
   "outputs": [],
   "source": [
    "#bottom tier homes are more likely to increase in values \n",
    "#does before and after a hurricane make a difference?\n",
    "print(bottom['bool'].sum())\n",
    "print(len(bottom['bool']) - bottom['bool'].sum())"
   ]
  },
  {
   "cell_type": "code",
   "execution_count": null,
   "id": "bbdb18cf",
   "metadata": {},
   "outputs": [],
   "source": [
    "#checking ratio to see what accuracy is like\n",
    "216/(216 + 183)"
   ]
  },
  {
   "cell_type": "markdown",
   "id": "7cb7e5c3",
   "metadata": {},
   "source": [
    "### Modeling 6 months before and after (whole dataset)"
   ]
  },
  {
   "cell_type": "code",
   "execution_count": null,
   "id": "bd6b5bec",
   "metadata": {},
   "outputs": [],
   "source": [
    "bottom.head()"
   ]
  },
  {
   "cell_type": "code",
   "execution_count": null,
   "id": "d29715c8",
   "metadata": {},
   "outputs": [],
   "source": [
    "bottom = bottom.sort_values('AWND', ascending=False).drop_duplicates('City').sort_index()"
   ]
  },
  {
   "cell_type": "code",
   "execution_count": null,
   "id": "ec860ba4",
   "metadata": {},
   "outputs": [],
   "source": [
    "#y is prediction variable \n",
    "#X is features \n",
    "y = bottom['bool']\n",
    "X = bottom.drop(['bool', 'City', 'HurricaneName', 'DATE', 'a', 'percent', 'WSF2', 'WSF5', 'SizeRank', 'b'], axis=1)"
   ]
  },
  {
   "cell_type": "code",
   "execution_count": null,
   "id": "40d48836",
   "metadata": {},
   "outputs": [],
   "source": [
    "X_train, X_test, y_train, y_test = train_test_split(X, y, test_size=0.30, random_state=56)"
   ]
  },
  {
   "cell_type": "code",
   "execution_count": null,
   "id": "cdc834db",
   "metadata": {},
   "outputs": [],
   "source": [
    "logreg.fit(X_train, y_train)\n",
    "logreg.predict(X_train)"
   ]
  },
  {
   "cell_type": "code",
   "execution_count": null,
   "id": "d5300dca",
   "metadata": {},
   "outputs": [],
   "source": [
    "logreg.classes_"
   ]
  },
  {
   "cell_type": "code",
   "execution_count": null,
   "id": "209d02b7",
   "metadata": {},
   "outputs": [],
   "source": [
    "logreg.predict_proba(X_train)"
   ]
  },
  {
   "cell_type": "code",
   "execution_count": null,
   "id": "e027521a",
   "metadata": {},
   "outputs": [],
   "source": [
    "#accuracy\n",
    "logreg.score(X, y, sample_weight=None)"
   ]
  },
  {
   "cell_type": "code",
   "execution_count": null,
   "id": "d6401a33",
   "metadata": {},
   "outputs": [],
   "source": [
    "#accuracy of train\n",
    "logreg.score(X_train, y_train, sample_weight=None)"
   ]
  },
  {
   "cell_type": "code",
   "execution_count": null,
   "id": "e5ecd632",
   "metadata": {},
   "outputs": [],
   "source": [
    "#accuracy of test\n",
    "logreg.score(X_test, y_test, sample_weight=None)"
   ]
  },
  {
   "cell_type": "code",
   "execution_count": null,
   "id": "cfca0e55",
   "metadata": {},
   "outputs": [],
   "source": [
    "logreg.fit(X_test, y_test)\n",
    "logreg.predict(X_test)"
   ]
  },
  {
   "cell_type": "code",
   "execution_count": null,
   "id": "61040cc9",
   "metadata": {},
   "outputs": [],
   "source": [
    "logreg.get_params(deep=True)"
   ]
  },
  {
   "cell_type": "code",
   "execution_count": null,
   "id": "4d9b4b47",
   "metadata": {},
   "outputs": [],
   "source": [
    "logreg.coef_"
   ]
  },
  {
   "cell_type": "markdown",
   "id": "d4fb5bab",
   "metadata": {},
   "source": [
    "### Modeling 1 Year Before and After\n",
    "\n",
    "Let's model each hurricane 1 year before and after"
   ]
  },
  {
   "cell_type": "markdown",
   "id": "cbfaab31",
   "metadata": {},
   "source": [
    "#### Modeling hurricane Charley"
   ]
  },
  {
   "cell_type": "code",
   "execution_count": null,
   "id": "653f1a64",
   "metadata": {},
   "outputs": [],
   "source": [
    "#isolating the dataframe to just needed the hurricane\n",
    "one_c = one[one.HurricaneName == 'c']\n",
    "\n",
    "#removing duplicate values for city \n",
    "#keeping the value that has the highest wind speed\n",
    "one_c = one_c.sort_values('AWND', ascending=False).drop_duplicates('City').sort_index()\n",
    "one_c.head()"
   ]
  },
  {
   "cell_type": "code",
   "execution_count": null,
   "id": "402fb845",
   "metadata": {},
   "outputs": [],
   "source": [
    "#y is prediction variable \n",
    "#X is features \n",
    "y = one_c['bool']\n",
    "X = one_c.drop(['bool', 'City', 'HurricaneName', 'DATE', 'a', 'percent'], axis=1)"
   ]
  },
  {
   "cell_type": "code",
   "execution_count": null,
   "id": "a85a6ccf",
   "metadata": {},
   "outputs": [],
   "source": [
    "logreg.fit(X, y)\n",
    "\n",
    "one_c_r = logreg.predict(X)"
   ]
  },
  {
   "cell_type": "code",
   "execution_count": null,
   "id": "bf080a0d",
   "metadata": {},
   "outputs": [],
   "source": [
    "##create a dictionary to store results of tests\n",
    "model_dict = {}\n",
    "model_dict['charley_1year'] = one_c_r\n",
    "print(model_dict)\n"
   ]
  },
  {
   "cell_type": "markdown",
   "id": "a17dbc2a",
   "metadata": {},
   "source": [
    "#### Modeling hurricane Dennis"
   ]
  },
  {
   "cell_type": "code",
   "execution_count": null,
   "id": "43b1488d",
   "metadata": {},
   "outputs": [],
   "source": [
    "#isolating the dataframe to just needed the hurricane\n",
    "one_d = one[one.HurricaneName == 'd']\n",
    "\n",
    "#removing duplicate values for city \n",
    "#keeping the value that has the highest wind speed\n",
    "one_d = one_d.sort_values('AWND', ascending=False).drop_duplicates('City').sort_index()\n",
    "one_d.head()"
   ]
  },
  {
   "cell_type": "code",
   "execution_count": null,
   "id": "f25faaef",
   "metadata": {},
   "outputs": [],
   "source": [
    "#y is prediction variable \n",
    "#X is features \n",
    "y = one_d['bool']\n",
    "X = one_d.drop(['bool', 'City', 'HurricaneName', 'DATE', 'a', 'percent'], axis=1)"
   ]
  },
  {
   "cell_type": "code",
   "execution_count": null,
   "id": "f6e40622",
   "metadata": {},
   "outputs": [],
   "source": [
    "logreg.fit(X, y)\n",
    "\n",
    "one_d_r = logreg.predict(X)"
   ]
  },
  {
   "cell_type": "code",
   "execution_count": null,
   "id": "080b3e0e",
   "metadata": {},
   "outputs": [],
   "source": [
    "##create a dictionary to store results of tests\n",
    "model_dict['dennis_1year'] = one_d_r"
   ]
  },
  {
   "cell_type": "markdown",
   "id": "1155ae6e",
   "metadata": {},
   "source": [
    "#### Modeling hurricane Matthew"
   ]
  },
  {
   "cell_type": "code",
   "execution_count": null,
   "id": "720e806d",
   "metadata": {},
   "outputs": [],
   "source": [
    "#isolating the dataframe to just needed the hurricane\n",
    "one_ma = one[one.HurricaneName == 'ma']\n",
    "\n",
    "#removing duplicate values for city \n",
    "#keeping the value that has the highest wind speed\n",
    "one_ma = one_ma.sort_values('AWND', ascending=False).drop_duplicates('City').sort_index()\n",
    "one_ma.head()"
   ]
  },
  {
   "cell_type": "code",
   "execution_count": null,
   "id": "051d5fcf",
   "metadata": {},
   "outputs": [],
   "source": [
    "#y is prediction variable \n",
    "#X is features \n",
    "y = one_ma['bool']\n",
    "X = one_ma.drop(['bool', 'City', 'HurricaneName', 'DATE', 'a', 'percent'], axis=1)"
   ]
  },
  {
   "cell_type": "code",
   "execution_count": null,
   "id": "f2437c8e",
   "metadata": {},
   "outputs": [],
   "source": [
    "logreg.fit(X, y)\n",
    "\n",
    "one_ma_r = logreg.predict(X)"
   ]
  },
  {
   "cell_type": "code",
   "execution_count": null,
   "id": "779dc1b8",
   "metadata": {},
   "outputs": [],
   "source": [
    "##create a dictionary to store results of tests\n",
    "model_dict['matthew_1year'] = one_ma_r"
   ]
  },
  {
   "cell_type": "markdown",
   "id": "6026831e",
   "metadata": {},
   "source": [
    "#### Modeling hurricane Irma"
   ]
  },
  {
   "cell_type": "code",
   "execution_count": null,
   "id": "43f2fec7",
   "metadata": {},
   "outputs": [],
   "source": [
    "#isolating the dataframe to just needed the hurricane\n",
    "one_i = one[one.HurricaneName == 'ir']\n",
    "\n",
    "#removing duplicate values for city \n",
    "#keeping the value that has the highest wind speed\n",
    "one_i = one_i.sort_values('AWND', ascending=False).drop_duplicates('City').sort_index()\n",
    "one_i.head()"
   ]
  },
  {
   "cell_type": "code",
   "execution_count": null,
   "id": "bffe878a",
   "metadata": {},
   "outputs": [],
   "source": [
    "#y is prediction variable \n",
    "#X is features \n",
    "y = one_i['bool']\n",
    "X = one_i.drop(['bool', 'City', 'HurricaneName', 'DATE', 'a', 'percent'], axis=1)"
   ]
  },
  {
   "cell_type": "code",
   "execution_count": null,
   "id": "ad9f40f0",
   "metadata": {},
   "outputs": [],
   "source": [
    "logreg.fit(X, y)\n",
    "\n",
    "one_i_r = logreg.predict(X)"
   ]
  },
  {
   "cell_type": "code",
   "execution_count": null,
   "id": "5181e474",
   "metadata": {},
   "outputs": [],
   "source": [
    "##create a dictionary to store results of tests\n",
    "model_dict['irma_1year'] = one_i_r"
   ]
  },
  {
   "cell_type": "markdown",
   "id": "5d042b66",
   "metadata": {},
   "source": [
    "#### Modeling hurricane Michael"
   ]
  },
  {
   "cell_type": "code",
   "execution_count": null,
   "id": "1a9bb916",
   "metadata": {},
   "outputs": [],
   "source": [
    "#isolating the dataframe to just needed the hurricane\n",
    "one_mi = one[one.HurricaneName == 'mi']\n",
    "\n",
    "#removing duplicate values for city \n",
    "#keeping the value that has the highest wind speed\n",
    "one_mi = one_mi.sort_values('AWND', ascending=False).drop_duplicates('City').sort_index()\n",
    "one_mi.head()"
   ]
  },
  {
   "cell_type": "code",
   "execution_count": null,
   "id": "92007c6a",
   "metadata": {},
   "outputs": [],
   "source": [
    "#y is prediction variable \n",
    "#X is features \n",
    "y = one_mi['bool']\n",
    "X = one_mi.drop(['bool', 'City', 'HurricaneName', 'DATE', 'a', 'percent'], axis=1)"
   ]
  },
  {
   "cell_type": "code",
   "execution_count": null,
   "id": "b40c15ae",
   "metadata": {},
   "outputs": [],
   "source": [
    "logreg.fit(X, y)\n",
    "\n",
    "one_mi_r = logreg.predict(X)"
   ]
  },
  {
   "cell_type": "code",
   "execution_count": null,
   "id": "6a98bc1b",
   "metadata": {},
   "outputs": [],
   "source": [
    "##create a dictionary to store results of tests\n",
    "model_dict['michael_1year'] = one_mi_r"
   ]
  },
  {
   "cell_type": "code",
   "execution_count": null,
   "id": "b3d874e5",
   "metadata": {},
   "outputs": [],
   "source": [
    "import json\n",
    "print(json.dumps(model_dict, indent=4, sort_keys=True, default=str))"
   ]
  },
  {
   "cell_type": "markdown",
   "id": "180ad6b8",
   "metadata": {},
   "source": [
    "### Modeling 6 Months Before and After\n",
    "\n",
    "Let's model each hurricane 1 year before and after"
   ]
  },
  {
   "cell_type": "markdown",
   "id": "2b88abbc",
   "metadata": {},
   "source": [
    "#### Modeling hurricane Charley"
   ]
  },
  {
   "cell_type": "code",
   "execution_count": null,
   "id": "605458a2",
   "metadata": {},
   "outputs": [],
   "source": [
    "#isolating the dataframe to just needed the hurricane\n",
    "six_c = six[six.HurricaneName == 'c']\n",
    "\n",
    "#removing duplicate values for city \n",
    "#keeping the value that has the highest wind speed\n",
    "six_c = six_c.sort_values('AWND', ascending=False).drop_duplicates('City').sort_index()\n",
    "six_c.head()"
   ]
  },
  {
   "cell_type": "code",
   "execution_count": null,
   "id": "ced982e4",
   "metadata": {},
   "outputs": [],
   "source": [
    "#y is prediction variable \n",
    "#X is features \n",
    "y = six_c['bool']\n",
    "X = six_c.drop(['bool', 'City', 'HurricaneName', 'DATE', 'a', 'percent'], axis=1)"
   ]
  },
  {
   "cell_type": "code",
   "execution_count": null,
   "id": "75f092c4",
   "metadata": {},
   "outputs": [],
   "source": [
    "logreg.fit(X, y)\n",
    "\n",
    "six_c_r = logreg.predict(X)"
   ]
  },
  {
   "cell_type": "code",
   "execution_count": null,
   "id": "d971470b",
   "metadata": {},
   "outputs": [],
   "source": [
    "##create a dictionary to store results of tests\n",
    "model_dict6 = {}\n",
    "model_dict6['charley_6mo'] = six_c_r"
   ]
  },
  {
   "cell_type": "markdown",
   "id": "74d931aa",
   "metadata": {},
   "source": [
    "#### Modeling hurricane Dennis"
   ]
  },
  {
   "cell_type": "code",
   "execution_count": null,
   "id": "e34b8880",
   "metadata": {},
   "outputs": [],
   "source": [
    "#isolating the dataframe to just needed the hurricane\n",
    "six_d = one[one.HurricaneName == 'd']\n",
    "\n",
    "#removing duplicate values for city \n",
    "#keeping the value that has the highest wind speed\n",
    "six_d = six_d.sort_values('AWND', ascending=False).drop_duplicates('City').sort_index()\n",
    "six_d.head()"
   ]
  },
  {
   "cell_type": "code",
   "execution_count": null,
   "id": "50f83417",
   "metadata": {},
   "outputs": [],
   "source": [
    "#y is prediction variable \n",
    "#X is features \n",
    "y = six_d['bool']\n",
    "X = six_d.drop(['bool', 'City', 'HurricaneName', 'DATE', 'a', 'percent'], axis=1)"
   ]
  },
  {
   "cell_type": "code",
   "execution_count": null,
   "id": "f58a45a6",
   "metadata": {},
   "outputs": [],
   "source": [
    "logreg.fit(X, y)\n",
    "\n",
    "six_d_r = logreg.predict(X)"
   ]
  },
  {
   "cell_type": "code",
   "execution_count": null,
   "id": "792d5e16",
   "metadata": {},
   "outputs": [],
   "source": [
    "##create a dictionary to store results of tests\n",
    "model_dict6['dennis_6mo'] = six_d_r"
   ]
  },
  {
   "cell_type": "markdown",
   "id": "70c40659",
   "metadata": {},
   "source": [
    "#### Modeling hurricane Matthew"
   ]
  },
  {
   "cell_type": "code",
   "execution_count": null,
   "id": "bed94131",
   "metadata": {},
   "outputs": [],
   "source": [
    "#isolating the dataframe to just needed the hurricane\n",
    "six_ma = six[six.HurricaneName == 'ma']\n",
    "\n",
    "#removing duplicate values for city \n",
    "#keeping the value that has the highest wind speed\n",
    "six_ma = six_ma.sort_values('AWND', ascending=False).drop_duplicates('City').sort_index()\n",
    "six_ma.head()"
   ]
  },
  {
   "cell_type": "code",
   "execution_count": null,
   "id": "1d184472",
   "metadata": {},
   "outputs": [],
   "source": [
    "#y is prediction variable \n",
    "#X is features \n",
    "y = six_ma['bool']\n",
    "X = six_ma.drop(['bool', 'City', 'HurricaneName', 'DATE', 'a', 'percent'], axis=1)"
   ]
  },
  {
   "cell_type": "code",
   "execution_count": null,
   "id": "2c9b3a0b",
   "metadata": {},
   "outputs": [],
   "source": [
    "logreg.fit(X, y)\n",
    "\n",
    "six_ma_r = logreg.predict(X)"
   ]
  },
  {
   "cell_type": "code",
   "execution_count": null,
   "id": "0a3c4905",
   "metadata": {},
   "outputs": [],
   "source": [
    "##create a dictionary to store results of tests\n",
    "model_dict6['matthew_6mo'] = six_ma_r"
   ]
  },
  {
   "cell_type": "markdown",
   "id": "5fd75cbf",
   "metadata": {},
   "source": [
    "#### Modeling hurricane Irma"
   ]
  },
  {
   "cell_type": "code",
   "execution_count": null,
   "id": "a0580f0d",
   "metadata": {},
   "outputs": [],
   "source": [
    "#isolating the dataframe to just needed the hurricane\n",
    "six_i = six[six.HurricaneName == 'ir']\n",
    "\n",
    "#removing duplicate values for city \n",
    "#keeping the value that has the highest wind speed\n",
    "six_i = six_i.sort_values('AWND', ascending=False).drop_duplicates('City').sort_index()\n",
    "six_i.head()"
   ]
  },
  {
   "cell_type": "code",
   "execution_count": null,
   "id": "a87c07e1",
   "metadata": {},
   "outputs": [],
   "source": [
    "#y is prediction variable \n",
    "#X is features \n",
    "y = six_i['bool']\n",
    "X = six_i.drop(['bool', 'City', 'HurricaneName', 'DATE', 'a', 'percent'], axis=1)"
   ]
  },
  {
   "cell_type": "code",
   "execution_count": null,
   "id": "9ba11601",
   "metadata": {},
   "outputs": [],
   "source": [
    "logreg.fit(X, y)\n",
    "\n",
    "six_i_r = logreg.predict(X)"
   ]
  },
  {
   "cell_type": "code",
   "execution_count": null,
   "id": "62ebfcbb",
   "metadata": {},
   "outputs": [],
   "source": [
    "##create a dictionary to store results of tests\n",
    "model_dict6['irma_6mo'] = six_i_r"
   ]
  },
  {
   "cell_type": "markdown",
   "id": "5f75a6f9",
   "metadata": {},
   "source": [
    "#### Modeling hurricane Michael"
   ]
  },
  {
   "cell_type": "code",
   "execution_count": null,
   "id": "11ecd36a",
   "metadata": {},
   "outputs": [],
   "source": [
    "#isolating the dataframe to just needed the hurricane\n",
    "six_mi = six[six.HurricaneName == 'mi']\n",
    "\n",
    "#removing duplicate values for city \n",
    "#keeping the value that has the highest wind speed\n",
    "six_mi = six_mi.sort_values('AWND', ascending=False).drop_duplicates('City').sort_index()\n",
    "six_mi.head()"
   ]
  },
  {
   "cell_type": "code",
   "execution_count": null,
   "id": "9502eb29",
   "metadata": {},
   "outputs": [],
   "source": [
    "#y is prediction variable \n",
    "#X is features \n",
    "y = six_mi['bool']\n",
    "X = six_mi.drop(['bool', 'City', 'HurricaneName', 'DATE', 'a', 'percent'], axis=1)"
   ]
  },
  {
   "cell_type": "code",
   "execution_count": null,
   "id": "5fa7bb3a",
   "metadata": {},
   "outputs": [],
   "source": [
    "logreg.fit(X, y)\n",
    "\n",
    "six_mi_r = logreg.predict(X)"
   ]
  },
  {
   "cell_type": "code",
   "execution_count": null,
   "id": "53f64481",
   "metadata": {},
   "outputs": [],
   "source": [
    "##create a dictionary to store results of tests\n",
    "model_dict6['michael_6mo'] = six_mi_r"
   ]
  },
  {
   "cell_type": "code",
   "execution_count": null,
   "id": "e0d5ef30",
   "metadata": {},
   "outputs": [],
   "source": [
    "import json\n",
    "print(json.dumps(model_dict6, indent=4, sort_keys=True, default=str))"
   ]
  },
  {
   "cell_type": "markdown",
   "id": "b9cb7302",
   "metadata": {},
   "source": [
    "### Modeling 3 Months Before and After\n",
    "\n",
    "Let's model each hurricane 1 year before and after"
   ]
  },
  {
   "cell_type": "markdown",
   "id": "3a2cee67",
   "metadata": {},
   "source": [
    "#### Modeling hurricane Charley"
   ]
  },
  {
   "cell_type": "code",
   "execution_count": null,
   "id": "86292fb3",
   "metadata": {},
   "outputs": [],
   "source": [
    "#isolating the dataframe to just needed the hurricane\n",
    "three_c = three[three.HurricaneName == 'c']\n",
    "\n",
    "#removing duplicate values for city \n",
    "#keeping the value that has the highest wind speed\n",
    "three_c = three_c.sort_values('AWND', ascending=False).drop_duplicates('City').sort_index()\n",
    "three_c.head()"
   ]
  },
  {
   "cell_type": "code",
   "execution_count": null,
   "id": "04f29a5d",
   "metadata": {},
   "outputs": [],
   "source": [
    "#y is prediction variable \n",
    "#X is features \n",
    "y = three_c['bool']\n",
    "X = three_c.drop(['bool', 'City', 'HurricaneName', 'DATE', 'a', 'percent'], axis=1)"
   ]
  },
  {
   "cell_type": "code",
   "execution_count": null,
   "id": "82987944",
   "metadata": {},
   "outputs": [],
   "source": [
    "logreg.fit(X, y)\n",
    "\n",
    "three_c_r = logreg.predict(X)"
   ]
  },
  {
   "cell_type": "code",
   "execution_count": null,
   "id": "79820cb6",
   "metadata": {},
   "outputs": [],
   "source": [
    "##create a dictionary to store results of tests\n",
    "model_dict3 = {}\n",
    "model_dict3['charley_3mo'] = three_c_r"
   ]
  },
  {
   "cell_type": "markdown",
   "id": "94019d27",
   "metadata": {},
   "source": [
    "#### Modeling hurricane Dennis"
   ]
  },
  {
   "cell_type": "code",
   "execution_count": null,
   "id": "5f2adbdc",
   "metadata": {},
   "outputs": [],
   "source": [
    "#isolating the dataframe to just needed the hurricane\n",
    "three_d = three[three.HurricaneName == 'd']\n",
    "\n",
    "#removing duplicate values for city \n",
    "#keeping the value that has the highest wind speed\n",
    "three_d = three_d.sort_values('AWND', ascending=False).drop_duplicates('City').sort_index()\n",
    "three_d.head()"
   ]
  },
  {
   "cell_type": "code",
   "execution_count": null,
   "id": "1a5a8466",
   "metadata": {},
   "outputs": [],
   "source": [
    "#y is prediction variable \n",
    "#X is features \n",
    "y = three_d['bool']\n",
    "X = three_d.drop(['bool', 'City', 'HurricaneName', 'DATE', 'a', 'percent'], axis=1)"
   ]
  },
  {
   "cell_type": "code",
   "execution_count": null,
   "id": "4989917e",
   "metadata": {},
   "outputs": [],
   "source": [
    "logreg.fit(X, y)\n",
    "\n",
    "three_d_r = logreg.predict(X)"
   ]
  },
  {
   "cell_type": "code",
   "execution_count": null,
   "id": "aa2fd988",
   "metadata": {},
   "outputs": [],
   "source": [
    "##create a dictionary to store results of tests\n",
    "model_dict3['dennis_3mo'] = three_d_r"
   ]
  },
  {
   "cell_type": "markdown",
   "id": "d1561051",
   "metadata": {},
   "source": [
    "#### Modeling hurricane Matthew"
   ]
  },
  {
   "cell_type": "code",
   "execution_count": null,
   "id": "63187f3f",
   "metadata": {},
   "outputs": [],
   "source": [
    "#isolating the dataframe to just needed the hurricane\n",
    "three_ma = three[three.HurricaneName == 'ma']\n",
    "\n",
    "#removing duplicate values for city \n",
    "#keeping the value that has the highest wind speed\n",
    "three_ma = three_ma.sort_values('AWND', ascending=False).drop_duplicates('City').sort_index()\n",
    "three_ma.head()"
   ]
  },
  {
   "cell_type": "code",
   "execution_count": null,
   "id": "47e7c51c",
   "metadata": {},
   "outputs": [],
   "source": [
    "#y is prediction variable \n",
    "#X is features \n",
    "y = three_ma['bool']\n",
    "X = three_ma.drop(['bool', 'City', 'HurricaneName', 'DATE', 'a', 'percent'], axis=1)"
   ]
  },
  {
   "cell_type": "code",
   "execution_count": null,
   "id": "ae7529be",
   "metadata": {},
   "outputs": [],
   "source": [
    "logreg.fit(X, y)\n",
    "\n",
    "three_ma_r = logreg.predict(X)"
   ]
  },
  {
   "cell_type": "code",
   "execution_count": null,
   "id": "55468d96",
   "metadata": {},
   "outputs": [],
   "source": [
    "##create a dictionary to store results of tests\n",
    "model_dict3['matthew_3mo'] = three_ma_r"
   ]
  },
  {
   "cell_type": "markdown",
   "id": "b37eb3ba",
   "metadata": {},
   "source": [
    "#### Modeling hurricane Irma"
   ]
  },
  {
   "cell_type": "code",
   "execution_count": null,
   "id": "fa134bab",
   "metadata": {},
   "outputs": [],
   "source": [
    "#isolating the dataframe to just needed the hurricane\n",
    "three_i = three[three.HurricaneName == 'ir']\n",
    "\n",
    "#removing duplicate values for city \n",
    "#keeping the value that has the highest wind speed\n",
    "three_i = three_i.sort_values('AWND', ascending=False).drop_duplicates('City').sort_index()\n",
    "three_i.head()"
   ]
  },
  {
   "cell_type": "code",
   "execution_count": null,
   "id": "50e80956",
   "metadata": {},
   "outputs": [],
   "source": [
    "#y is prediction variable \n",
    "#X is features \n",
    "y = three_i['bool']\n",
    "X = three_i.drop(['bool', 'City', 'HurricaneName', 'DATE', 'a', 'percent'], axis=1)"
   ]
  },
  {
   "cell_type": "code",
   "execution_count": null,
   "id": "236635d7",
   "metadata": {},
   "outputs": [],
   "source": [
    "logreg.fit(X, y)\n",
    "\n",
    "three_i_r = logreg.predict(X)"
   ]
  },
  {
   "cell_type": "code",
   "execution_count": null,
   "id": "f92ff534",
   "metadata": {},
   "outputs": [],
   "source": [
    "##create a dictionary to store results of tests\n",
    "model_dict3['irma_3mo'] = three_i_r"
   ]
  },
  {
   "cell_type": "markdown",
   "id": "b51eef6f",
   "metadata": {},
   "source": [
    "#### Modeling hurricane Michael"
   ]
  },
  {
   "cell_type": "code",
   "execution_count": null,
   "id": "71a48495",
   "metadata": {},
   "outputs": [],
   "source": [
    "#isolating the dataframe to just needed the hurricane\n",
    "three_mi = three[three.HurricaneName == 'mi']\n",
    "\n",
    "#removing duplicate values for city \n",
    "#keeping the value that has the highest wind speed\n",
    "three_mi = three_mi.sort_values('AWND', ascending=False).drop_duplicates('City').sort_index()\n",
    "three_mi.head()"
   ]
  },
  {
   "cell_type": "code",
   "execution_count": null,
   "id": "011389ba",
   "metadata": {},
   "outputs": [],
   "source": [
    "#y is prediction variable \n",
    "#X is features \n",
    "y = three_mi['bool']\n",
    "X = three_mi.drop(['bool', 'City', 'HurricaneName', 'DATE', 'a', 'percent'], axis=1)"
   ]
  },
  {
   "cell_type": "code",
   "execution_count": null,
   "id": "fe534a86",
   "metadata": {},
   "outputs": [],
   "source": [
    "logreg.fit(X, y)\n",
    "\n",
    "three_mi_r = logreg.predict(X)"
   ]
  },
  {
   "cell_type": "code",
   "execution_count": null,
   "id": "8f93a420",
   "metadata": {},
   "outputs": [],
   "source": [
    "##create a dictionary to store results of tests\n",
    "model_dict3['michael_3mo'] = three_mi_r"
   ]
  },
  {
   "cell_type": "code",
   "execution_count": null,
   "id": "b6abe695",
   "metadata": {},
   "outputs": [],
   "source": [
    "import json\n",
    "print(json.dumps(model_dict3, indent=4, sort_keys=True, default=str))"
   ]
  },
  {
   "cell_type": "code",
   "execution_count": null,
   "id": "9a830cb6",
   "metadata": {},
   "outputs": [],
   "source": []
  },
  {
   "cell_type": "markdown",
   "id": "d76af58f",
   "metadata": {},
   "source": [
    "### Modeling 1 Year Before and After (Top)\n",
    "\n",
    "Let's model each hurricane 1 year before and after for top tier homes. "
   ]
  },
  {
   "cell_type": "markdown",
   "id": "5380efa7",
   "metadata": {},
   "source": [
    "#### Modeling hurricane Charley"
   ]
  },
  {
   "cell_type": "code",
   "execution_count": null,
   "id": "ec46c504",
   "metadata": {},
   "outputs": [],
   "source": [
    "#isolating the dataframe to just needed the hurricane\n",
    "top_c = top[top.HurricaneName == 'c']\n",
    "\n",
    "#removing duplicate values for city \n",
    "#keeping the value that has the highest wind speed\n",
    "top_c = top_c.sort_values('AWND', ascending=False).drop_duplicates('City').sort_index()\n",
    "top_c.head()"
   ]
  },
  {
   "cell_type": "code",
   "execution_count": null,
   "id": "7016acdc",
   "metadata": {},
   "outputs": [],
   "source": [
    "#y is prediction variable \n",
    "#X is features \n",
    "y = top_c['bool']\n",
    "X = top_c.drop(['bool', 'City', 'HurricaneName', 'DATE', 'a', 'percent'], axis=1)"
   ]
  },
  {
   "cell_type": "code",
   "execution_count": null,
   "id": "3a33bfc9",
   "metadata": {},
   "outputs": [],
   "source": [
    "logreg.fit(X, y)\n",
    "\n",
    "top_c_r = logreg.predict(X)"
   ]
  },
  {
   "cell_type": "code",
   "execution_count": null,
   "id": "3d685e52",
   "metadata": {},
   "outputs": [],
   "source": [
    "##create a dictionary to store results of tests\n",
    "model_dict_top = {}\n",
    "model_dict_top['charley_top'] = top_c_r\n",
    "print(model_dict_top)\n"
   ]
  },
  {
   "cell_type": "markdown",
   "id": "a2d201e9",
   "metadata": {},
   "source": [
    "#### Modeling hurricane Dennis"
   ]
  },
  {
   "cell_type": "code",
   "execution_count": null,
   "id": "e6254098",
   "metadata": {},
   "outputs": [],
   "source": [
    "#isolating the dataframe to just needed the hurricane\n",
    "top_d = top[top.HurricaneName == 'd']\n",
    "\n",
    "#removing duplicate values for city \n",
    "#keeping the value that has the highest wind speed\n",
    "top_d = top_d.sort_values('AWND', ascending=False).drop_duplicates('City').sort_index()\n",
    "top_d.head()"
   ]
  },
  {
   "cell_type": "code",
   "execution_count": null,
   "id": "3a613a03",
   "metadata": {},
   "outputs": [],
   "source": [
    "#y is prediction variable \n",
    "#X is features \n",
    "y = top_d['bool']\n",
    "X = top_d.drop(['bool', 'City', 'HurricaneName', 'DATE', 'a', 'percent'], axis=1)"
   ]
  },
  {
   "cell_type": "code",
   "execution_count": null,
   "id": "4e47a178",
   "metadata": {},
   "outputs": [],
   "source": [
    "logreg.fit(X, y)\n",
    "\n",
    "top_d_r = logreg.predict(X)"
   ]
  },
  {
   "cell_type": "code",
   "execution_count": null,
   "id": "a41bea82",
   "metadata": {},
   "outputs": [],
   "source": [
    "##create a dictionary to store results of tests\n",
    "model_dict_top['dennis_top'] = top_d_r"
   ]
  },
  {
   "cell_type": "markdown",
   "id": "5c9c5b84",
   "metadata": {},
   "source": [
    "#### Modeling hurricane Matthew"
   ]
  },
  {
   "cell_type": "code",
   "execution_count": null,
   "id": "8de5c931",
   "metadata": {},
   "outputs": [],
   "source": [
    "#isolating the dataframe to just needed the hurricane\n",
    "top_ma = top[top.HurricaneName == 'ma']\n",
    "\n",
    "#removing duplicate values for city \n",
    "#keeping the value that has the highest wind speed\n",
    "top_ma = top_ma.sort_values('AWND', ascending=False).drop_duplicates('City').sort_index()\n",
    "top_ma.head()"
   ]
  },
  {
   "cell_type": "code",
   "execution_count": null,
   "id": "2709d23b",
   "metadata": {},
   "outputs": [],
   "source": [
    "#y is prediction variable \n",
    "#X is features \n",
    "y = top_ma['bool']\n",
    "X = top_ma.drop(['bool', 'City', 'HurricaneName', 'DATE', 'a', 'percent'], axis=1)"
   ]
  },
  {
   "cell_type": "code",
   "execution_count": null,
   "id": "e3f7ecd9",
   "metadata": {},
   "outputs": [],
   "source": [
    "logreg.fit(X, y)\n",
    "\n",
    "top_ma_r = logreg.predict(X)"
   ]
  },
  {
   "cell_type": "code",
   "execution_count": null,
   "id": "553b76e8",
   "metadata": {},
   "outputs": [],
   "source": [
    "##create a dictionary to store results of tests\n",
    "model_dict_top['matthew_top'] = top_ma_r"
   ]
  },
  {
   "cell_type": "markdown",
   "id": "a30f7675",
   "metadata": {},
   "source": [
    "#### Modeling hurricane Irma"
   ]
  },
  {
   "cell_type": "code",
   "execution_count": null,
   "id": "725f67b5",
   "metadata": {},
   "outputs": [],
   "source": [
    "#isolating the dataframe to just needed the hurricane\n",
    "top_i = top[top.HurricaneName == 'ir']\n",
    "\n",
    "#removing duplicate values for city \n",
    "#keeping the value that has the highest wind speed\n",
    "top_i = top_i.sort_values('AWND', ascending=False).drop_duplicates('City').sort_index()\n",
    "top_i.head()"
   ]
  },
  {
   "cell_type": "code",
   "execution_count": null,
   "id": "5c6accb9",
   "metadata": {},
   "outputs": [],
   "source": [
    "#y is prediction variable \n",
    "#X is features \n",
    "y = top_i['bool']\n",
    "X = top_i.drop(['bool', 'City', 'HurricaneName', 'DATE', 'a', 'percent'], axis=1)"
   ]
  },
  {
   "cell_type": "code",
   "execution_count": null,
   "id": "d9d570a7",
   "metadata": {},
   "outputs": [],
   "source": [
    "logreg.fit(X, y)\n",
    "\n",
    "top_i_r = logreg.predict(X)"
   ]
  },
  {
   "cell_type": "code",
   "execution_count": null,
   "id": "7fd760b5",
   "metadata": {},
   "outputs": [],
   "source": [
    "##create a dictionary to store results of tests\n",
    "model_dict_top['irma_top'] = top_i_r"
   ]
  },
  {
   "cell_type": "markdown",
   "id": "028a13bf",
   "metadata": {},
   "source": [
    "#### Modeling hurricane Michael"
   ]
  },
  {
   "cell_type": "code",
   "execution_count": null,
   "id": "4573692f",
   "metadata": {},
   "outputs": [],
   "source": [
    "#isolating the dataframe to just needed the hurricane\n",
    "top_mi = top[top.HurricaneName == 'mi']\n",
    "\n",
    "#removing duplicate values for city \n",
    "#keeping the value that has the highest wind speed\n",
    "top_mi = top_mi.sort_values('AWND', ascending=False).drop_duplicates('City').sort_index()\n",
    "top_mi.head()"
   ]
  },
  {
   "cell_type": "code",
   "execution_count": null,
   "id": "158029fa",
   "metadata": {},
   "outputs": [],
   "source": [
    "#y is prediction variable \n",
    "#X is features \n",
    "y = top_mi['bool']\n",
    "X = top_mi.drop(['bool', 'City', 'HurricaneName', 'DATE', 'a', 'percent'], axis=1)"
   ]
  },
  {
   "cell_type": "code",
   "execution_count": null,
   "id": "5a890075",
   "metadata": {},
   "outputs": [],
   "source": [
    "logreg.fit(X, y)\n",
    "\n",
    "top_mi_r = logreg.predict(X)"
   ]
  },
  {
   "cell_type": "code",
   "execution_count": null,
   "id": "d82c504b",
   "metadata": {},
   "outputs": [],
   "source": [
    "##create a dictionary to store results of tests\n",
    "model_dict_top['michael_top'] = top_mi_r"
   ]
  },
  {
   "cell_type": "code",
   "execution_count": null,
   "id": "4e10e84b",
   "metadata": {},
   "outputs": [],
   "source": [
    "import json\n",
    "print(json.dumps(model_dict_top, indent=4, sort_keys=True, default=str))"
   ]
  },
  {
   "cell_type": "markdown",
   "id": "20d39c0b",
   "metadata": {},
   "source": [
    "### Modeling 1 Year Before and After (Bottom)\n",
    "\n",
    "Let's model each hurricane 1 year before and after for bottom tier homes. "
   ]
  },
  {
   "cell_type": "markdown",
   "id": "b390099d",
   "metadata": {},
   "source": [
    "#### Modeling hurricane Charley"
   ]
  },
  {
   "cell_type": "code",
   "execution_count": null,
   "id": "6a092ba5",
   "metadata": {},
   "outputs": [],
   "source": [
    "#isolating the dataframe to just needed the hurricane\n",
    "bottom_c = bottom[bottom.HurricaneName == 'c']\n",
    "\n",
    "#removing duplicate values for city \n",
    "#keeping the value that has the highest wind speed\n",
    "bottom_c = bottom_c.sort_values('AWND', ascending=False).drop_duplicates('City').sort_index()\n",
    "bottom_c.head()"
   ]
  },
  {
   "cell_type": "code",
   "execution_count": null,
   "id": "8e8958b7",
   "metadata": {},
   "outputs": [],
   "source": [
    "#y is prediction variable \n",
    "#X is features \n",
    "y = bottom_c['bool']\n",
    "X = bottom_c.drop(['bool', 'City', 'HurricaneName', 'DATE', 'a', 'percent'], axis=1)"
   ]
  },
  {
   "cell_type": "code",
   "execution_count": null,
   "id": "cc3dd738",
   "metadata": {},
   "outputs": [],
   "source": [
    "logreg.fit(X, y)\n",
    "\n",
    "bottom_c_r = logreg.predict(X)"
   ]
  },
  {
   "cell_type": "code",
   "execution_count": null,
   "id": "c72bbaec",
   "metadata": {},
   "outputs": [],
   "source": [
    "##create a dictionary to store results of tests\n",
    "model_dict_bottom = {}\n",
    "model_dict_bottom['charley_bottom'] = bottom_c_r"
   ]
  },
  {
   "cell_type": "markdown",
   "id": "95fac646",
   "metadata": {},
   "source": [
    "#### Modeling hurricane Dennis"
   ]
  },
  {
   "cell_type": "code",
   "execution_count": null,
   "id": "3a2e53f1",
   "metadata": {},
   "outputs": [],
   "source": [
    "#isolating the dataframe to just needed the hurricane\n",
    "bottom_d = bottom[bottom.HurricaneName == 'd']\n",
    "\n",
    "#removing duplicate values for city \n",
    "#keeping the value that has the highest wind speed\n",
    "bottom_d = bottom_d.sort_values('AWND', ascending=False).drop_duplicates('City').sort_index()\n",
    "bottom_d.head()"
   ]
  },
  {
   "cell_type": "code",
   "execution_count": null,
   "id": "578cb713",
   "metadata": {},
   "outputs": [],
   "source": [
    "#y is prediction variable \n",
    "#X is features \n",
    "y = bottom_d['bool']\n",
    "X = bottom_d.drop(['bool', 'City', 'HurricaneName', 'DATE', 'a', 'percent'], axis=1)"
   ]
  },
  {
   "cell_type": "code",
   "execution_count": null,
   "id": "10763aca",
   "metadata": {},
   "outputs": [],
   "source": [
    "logreg.fit(X, y)\n",
    "\n",
    "bottom_d_r = logreg.predict(X)"
   ]
  },
  {
   "cell_type": "code",
   "execution_count": null,
   "id": "3fd1348b",
   "metadata": {},
   "outputs": [],
   "source": [
    "##create a dictionary to store results of tests\n",
    "model_dict_bottom['dennis_bottom'] = bottom_d_r"
   ]
  },
  {
   "cell_type": "markdown",
   "id": "9f7d1de2",
   "metadata": {},
   "source": [
    "#### Modeling hurricane Matthew"
   ]
  },
  {
   "cell_type": "code",
   "execution_count": null,
   "id": "3b6b2917",
   "metadata": {},
   "outputs": [],
   "source": [
    "#isolating the dataframe to just needed the hurricane\n",
    "bottom_ma = bottom[bottom.HurricaneName == 'ma']\n",
    "\n",
    "#removing duplicate values for city \n",
    "#keeping the value that has the highest wind speed\n",
    "bottom_ma = bottom_ma.sort_values('AWND', ascending=False).drop_duplicates('City').sort_index()\n",
    "bottom_ma.head()"
   ]
  },
  {
   "cell_type": "code",
   "execution_count": null,
   "id": "fc06b8c2",
   "metadata": {},
   "outputs": [],
   "source": [
    "#y is prediction variable \n",
    "#X is features \n",
    "y = bottom_ma['bool']\n",
    "X = bottom_ma.drop(['bool', 'City', 'HurricaneName', 'DATE', 'a', 'percent'], axis=1)"
   ]
  },
  {
   "cell_type": "code",
   "execution_count": null,
   "id": "a52c5ce0",
   "metadata": {},
   "outputs": [],
   "source": [
    "logreg.fit(X, y)\n",
    "\n",
    "bottom_ma_r = logreg.predict(X)"
   ]
  },
  {
   "cell_type": "code",
   "execution_count": null,
   "id": "ec8d158a",
   "metadata": {},
   "outputs": [],
   "source": [
    "##create a dictionary to store results of tests\n",
    "model_dict_bottom['matthew_bottom'] = bottom_ma_r"
   ]
  },
  {
   "cell_type": "markdown",
   "id": "d9fccd1c",
   "metadata": {},
   "source": [
    "#### Modeling hurricane Irma"
   ]
  },
  {
   "cell_type": "code",
   "execution_count": null,
   "id": "3f99e357",
   "metadata": {},
   "outputs": [],
   "source": [
    "#isolating the dataframe to just needed the hurricane\n",
    "bottom_i = bottom[bottom.HurricaneName == 'ir']\n",
    "\n",
    "#removing duplicate values for city \n",
    "#keeping the value that has the highest wind speed\n",
    "bottom_i = bottom_i.sort_values('AWND', ascending=False).drop_duplicates('City').sort_index()\n",
    "bottom_i.head()"
   ]
  },
  {
   "cell_type": "code",
   "execution_count": null,
   "id": "12c66c2a",
   "metadata": {},
   "outputs": [],
   "source": [
    "#y is prediction variable \n",
    "#X is features \n",
    "y = bottom_i['bool']\n",
    "X = bottom_i.drop(['bool', 'City', 'HurricaneName', 'DATE', 'a', 'percent'], axis=1)"
   ]
  },
  {
   "cell_type": "code",
   "execution_count": null,
   "id": "69d18146",
   "metadata": {},
   "outputs": [],
   "source": [
    "logreg.fit(X, y)\n",
    "\n",
    "bottom_i_r = logreg.predict(X)"
   ]
  },
  {
   "cell_type": "code",
   "execution_count": null,
   "id": "442c9c98",
   "metadata": {},
   "outputs": [],
   "source": [
    "##create a dictionary to store results of tests\n",
    "model_dict_bottom['irma_bottom'] = bottom_i_r"
   ]
  },
  {
   "cell_type": "markdown",
   "id": "9eccb08d",
   "metadata": {},
   "source": [
    "#### Modeling hurricane Michael"
   ]
  },
  {
   "cell_type": "code",
   "execution_count": null,
   "id": "d638c5f8",
   "metadata": {},
   "outputs": [],
   "source": [
    "#isolating the dataframe to just needed the hurricane\n",
    "bottom_mi = bottom[bottom.HurricaneName == 'mi']\n",
    "\n",
    "#removing duplicate values for city \n",
    "#keeping the value that has the highest wind speed\n",
    "bottom_mi = bottom_mi.sort_values('AWND', ascending=False).drop_duplicates('City').sort_index()\n",
    "bottom_mi.head()"
   ]
  },
  {
   "cell_type": "code",
   "execution_count": null,
   "id": "08089f65",
   "metadata": {},
   "outputs": [],
   "source": [
    "#y is prediction variable \n",
    "#X is features \n",
    "y = bottom_mi['bool']\n",
    "X = bottom_mi.drop(['bool', 'City', 'HurricaneName', 'DATE', 'a', 'percent'], axis=1)"
   ]
  },
  {
   "cell_type": "code",
   "execution_count": null,
   "id": "dd45560b",
   "metadata": {},
   "outputs": [],
   "source": [
    "logreg.fit(X, y)\n",
    "\n",
    "bottom_mi_r = logreg.predict(X)"
   ]
  },
  {
   "cell_type": "code",
   "execution_count": null,
   "id": "7210b827",
   "metadata": {},
   "outputs": [],
   "source": [
    "##create a dictionary to store results of tests\n",
    "model_dict_bottom['michael_bottom'] = bottom_mi_r"
   ]
  },
  {
   "cell_type": "code",
   "execution_count": null,
   "id": "72068ade",
   "metadata": {},
   "outputs": [],
   "source": [
    "import json\n",
    "print(json.dumps(model_dict_bottom, indent=4, sort_keys=True, default=str))"
   ]
  },
  {
   "cell_type": "markdown",
   "id": "a8e81315",
   "metadata": {},
   "source": [
    "### Looking at all the models "
   ]
  },
  {
   "cell_type": "code",
   "execution_count": null,
   "id": "d2d13a8b",
   "metadata": {},
   "outputs": [],
   "source": [
    "print(json.dumps(model_dict, indent=4, sort_keys=True, default=str))\n",
    "print(json.dumps(model_dict6, indent=4, sort_keys=True, default=str))\n",
    "print(json.dumps(model_dict3, indent=4, sort_keys=True, default=str))\n",
    "print(json.dumps(model_dict_top, indent=4, sort_keys=True, default=str))\n",
    "print(json.dumps(model_dict_bottom, indent=4, sort_keys=True, default=str))"
   ]
  },
  {
   "cell_type": "code",
   "execution_count": null,
   "id": "3ffad990",
   "metadata": {},
   "outputs": [],
   "source": []
  }
 ],
 "metadata": {
  "kernelspec": {
   "display_name": "Python 3 (ipykernel)",
   "language": "python",
   "name": "python3"
  },
  "language_info": {
   "codemirror_mode": {
    "name": "ipython",
    "version": 3
   },
   "file_extension": ".py",
   "mimetype": "text/x-python",
   "name": "python",
   "nbconvert_exporter": "python",
   "pygments_lexer": "ipython3",
   "version": "3.10.9"
  }
 },
 "nbformat": 4,
 "nbformat_minor": 5
}
