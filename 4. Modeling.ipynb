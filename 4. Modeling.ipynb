{
 "cells": [
  {
   "cell_type": "markdown",
   "id": "88c86d40",
   "metadata": {},
   "source": [
    "# Obtaining Data"
   ]
  },
  {
   "cell_type": "code",
   "execution_count": 1,
   "id": "fb41dc2c",
   "metadata": {},
   "outputs": [],
   "source": [
    "#Importing libraries needed\n",
    "import pandas as pd\n",
    "import numpy as np\n",
    "\n",
    "\n",
    "#For graphing \n",
    "import matplotlib.pyplot as plt\n",
    "from matplotlib import pyplot\n",
    "%matplotlib inline\n",
    "import seaborn as sns\n",
    "\n",
    "# For our modeling steps\n",
    "from sklearn.model_selection import train_test_split\n",
    "from sklearn.preprocessing import normalize\n",
    "from sklearn.linear_model import LinearRegression, LogisticRegression\n",
    "from sklearn.metrics import log_loss\n",
    "from sklearn.metrics import precision_recall_fscore_support\n",
    "from sklearn.preprocessing import StandardScaler\n",
    "from sklearn.svm import SVC\n",
    "from sklearn.metrics import confusion_matrix\n",
    "from sklearn.metrics import precision_score, recall_score, f1_score, accuracy_score\n",
    "from sklearn.model_selection import GridSearchCV, cross_val_score\n",
    "import xgboost as xgb \n",
    "from xgboost import XGBClassifier, plot_importance\n",
    "\n",
    "# For demonstrative pruposes\n",
    "from scipy.special import logit, expit\n",
    "\n",
    "import warnings\n",
    "warnings.filterwarnings('ignore')"
   ]
  },
  {
   "cell_type": "code",
   "execution_count": 2,
   "id": "f5e97317",
   "metadata": {},
   "outputs": [],
   "source": [
    "#opening the datasets \n",
    "bottom =  pd.read_csv(r'data\\bottom_hurricane.csv')\n",
    "middle =  pd.read_csv(r'data\\middle_hurricane.csv')\n",
    "top =  pd.read_csv(r'data\\top_hurricane.csv')\n",
    "all_df = pd.read_csv(r'data\\all_hurricane.csv')"
   ]
  },
  {
   "cell_type": "markdown",
   "id": "5e132553",
   "metadata": {},
   "source": [
    "# Data Processing"
   ]
  },
  {
   "cell_type": "code",
   "execution_count": 3,
   "id": "1ed0c95b",
   "metadata": {},
   "outputs": [],
   "source": [
    "#let's get rid of duplicate cities by only grabbing the cities with the max value for AWND\n",
    "bottom = bottom.sort_values('AWND', ascending=False).drop_duplicates(['HurricaneName', 'City']).sort_index()\n",
    "middle = middle.sort_values('AWND', ascending=False).drop_duplicates(['HurricaneName', 'City']).sort_index()\n",
    "top = top.sort_values('AWND', ascending=False).drop_duplicates(['HurricaneName', 'City']).sort_index()\n",
    "all_df = all_df.sort_values('AWND', ascending=False).drop_duplicates(['HurricaneName', 'City', 'DATE']).sort_index()"
   ]
  },
  {
   "cell_type": "code",
   "execution_count": 4,
   "id": "539ee5b1",
   "metadata": {},
   "outputs": [
    {
     "data": {
      "text/html": [
       "<div>\n",
       "<style scoped>\n",
       "    .dataframe tbody tr th:only-of-type {\n",
       "        vertical-align: middle;\n",
       "    }\n",
       "\n",
       "    .dataframe tbody tr th {\n",
       "        vertical-align: top;\n",
       "    }\n",
       "\n",
       "    .dataframe thead th {\n",
       "        text-align: right;\n",
       "    }\n",
       "</style>\n",
       "<table border=\"1\" class=\"dataframe\">\n",
       "  <thead>\n",
       "    <tr style=\"text-align: right;\">\n",
       "      <th></th>\n",
       "      <th>City</th>\n",
       "      <th>HurricaneName</th>\n",
       "      <th>DATE</th>\n",
       "      <th>AWND</th>\n",
       "      <th>WSF2</th>\n",
       "      <th>SizeRank</th>\n",
       "      <th>before</th>\n",
       "      <th>after</th>\n",
       "      <th>percent</th>\n",
       "      <th>increase</th>\n",
       "    </tr>\n",
       "  </thead>\n",
       "  <tbody>\n",
       "    <tr>\n",
       "      <th>3</th>\n",
       "      <td>Apalachicola</td>\n",
       "      <td>ian</td>\n",
       "      <td>9/28/2022</td>\n",
       "      <td>38.027300</td>\n",
       "      <td>57.93571</td>\n",
       "      <td>12877</td>\n",
       "      <td>65287.07867</td>\n",
       "      <td>76710.34737</td>\n",
       "      <td>17.496982</td>\n",
       "      <td>1</td>\n",
       "    </tr>\n",
       "    <tr>\n",
       "      <th>98</th>\n",
       "      <td>Fort Pierce</td>\n",
       "      <td>ian</td>\n",
       "      <td>9/28/2022</td>\n",
       "      <td>50.039453</td>\n",
       "      <td>100.66050</td>\n",
       "      <td>529</td>\n",
       "      <td>79706.02938</td>\n",
       "      <td>93971.25035</td>\n",
       "      <td>17.897292</td>\n",
       "      <td>1</td>\n",
       "    </tr>\n",
       "    <tr>\n",
       "      <th>179</th>\n",
       "      <td>Lakeland</td>\n",
       "      <td>ian</td>\n",
       "      <td>9/28/2022</td>\n",
       "      <td>51.538176</td>\n",
       "      <td>105.13430</td>\n",
       "      <td>105</td>\n",
       "      <td>92333.43871</td>\n",
       "      <td>109089.32580</td>\n",
       "      <td>18.147149</td>\n",
       "      <td>1</td>\n",
       "    </tr>\n",
       "    <tr>\n",
       "      <th>188</th>\n",
       "      <td>Leesburg</td>\n",
       "      <td>ian</td>\n",
       "      <td>9/29/2022</td>\n",
       "      <td>48.540730</td>\n",
       "      <td>91.48921</td>\n",
       "      <td>1024</td>\n",
       "      <td>89188.23594</td>\n",
       "      <td>102166.59930</td>\n",
       "      <td>14.551654</td>\n",
       "      <td>1</td>\n",
       "    </tr>\n",
       "    <tr>\n",
       "      <th>203</th>\n",
       "      <td>Miami</td>\n",
       "      <td>ian</td>\n",
       "      <td>9/28/2022</td>\n",
       "      <td>41.539233</td>\n",
       "      <td>69.56759</td>\n",
       "      <td>20</td>\n",
       "      <td>187941.97110</td>\n",
       "      <td>204898.39500</td>\n",
       "      <td>9.022159</td>\n",
       "      <td>0</td>\n",
       "    </tr>\n",
       "  </tbody>\n",
       "</table>\n",
       "</div>"
      ],
      "text/plain": [
       "             City HurricaneName       DATE       AWND       WSF2  SizeRank  \\\n",
       "3    Apalachicola           ian  9/28/2022  38.027300   57.93571     12877   \n",
       "98    Fort Pierce           ian  9/28/2022  50.039453  100.66050       529   \n",
       "179      Lakeland           ian  9/28/2022  51.538176  105.13430       105   \n",
       "188      Leesburg           ian  9/29/2022  48.540730   91.48921      1024   \n",
       "203         Miami           ian  9/28/2022  41.539233   69.56759        20   \n",
       "\n",
       "           before         after    percent  increase  \n",
       "3     65287.07867   76710.34737  17.496982         1  \n",
       "98    79706.02938   93971.25035  17.897292         1  \n",
       "179   92333.43871  109089.32580  18.147149         1  \n",
       "188   89188.23594  102166.59930  14.551654         1  \n",
       "203  187941.97110  204898.39500   9.022159         0  "
      ]
     },
     "execution_count": 4,
     "metadata": {},
     "output_type": "execute_result"
    }
   ],
   "source": [
    "#We want to use data from hurricane Ian to test our mode\n",
    "#let's save a dataframe that has just Ian \n",
    "all_ian = all_df.loc[all_df['HurricaneName'] == 'ian']\n",
    "all_ian.head()"
   ]
  },
  {
   "cell_type": "code",
   "execution_count": 5,
   "id": "57d2cbc4",
   "metadata": {},
   "outputs": [],
   "source": [
    "#removing ian from the other datasets\n",
    "bottom = bottom.drop(bottom[bottom['HurricaneName'] == 'ian'].index)\n",
    "middle = middle.drop(middle[middle['HurricaneName'] == 'ian'].index)\n",
    "top = top.drop(top[top['HurricaneName'] == 'ian'].index)\n",
    "all_df = all_df.drop(all_df[all_df['HurricaneName'] == 'ian'].index)"
   ]
  },
  {
   "cell_type": "markdown",
   "id": "5f6b7f8a",
   "metadata": {},
   "source": [
    "## Comparing Crosstabs by Target Variable"
   ]
  },
  {
   "cell_type": "markdown",
   "id": "24617cfc",
   "metadata": {},
   "source": [
    "### Bottom Tier Home Values"
   ]
  },
  {
   "cell_type": "code",
   "execution_count": 6,
   "id": "eabe7306",
   "metadata": {},
   "outputs": [
    {
     "data": {
      "text/html": [
       "<div>\n",
       "<style scoped>\n",
       "    .dataframe tbody tr th:only-of-type {\n",
       "        vertical-align: middle;\n",
       "    }\n",
       "\n",
       "    .dataframe tbody tr th {\n",
       "        vertical-align: top;\n",
       "    }\n",
       "\n",
       "    .dataframe thead th {\n",
       "        text-align: right;\n",
       "    }\n",
       "</style>\n",
       "<table border=\"1\" class=\"dataframe\">\n",
       "  <thead>\n",
       "    <tr style=\"text-align: right;\">\n",
       "      <th></th>\n",
       "      <th>AWND</th>\n",
       "      <th>WSF2</th>\n",
       "      <th>SizeRank</th>\n",
       "      <th>before</th>\n",
       "      <th>after</th>\n",
       "      <th>percent</th>\n",
       "      <th>increase</th>\n",
       "    </tr>\n",
       "  </thead>\n",
       "  <tbody>\n",
       "    <tr>\n",
       "      <th>count</th>\n",
       "      <td>96.000000</td>\n",
       "      <td>96.000000</td>\n",
       "      <td>96.000000</td>\n",
       "      <td>96.000000</td>\n",
       "      <td>96.000000</td>\n",
       "      <td>96.000000</td>\n",
       "      <td>96.0</td>\n",
       "    </tr>\n",
       "    <tr>\n",
       "      <th>mean</th>\n",
       "      <td>16.828333</td>\n",
       "      <td>31.587500</td>\n",
       "      <td>778.479167</td>\n",
       "      <td>95519.992225</td>\n",
       "      <td>109226.353419</td>\n",
       "      <td>15.737500</td>\n",
       "      <td>0.0</td>\n",
       "    </tr>\n",
       "    <tr>\n",
       "      <th>std</th>\n",
       "      <td>7.510509</td>\n",
       "      <td>13.880939</td>\n",
       "      <td>1933.043703</td>\n",
       "      <td>36589.222256</td>\n",
       "      <td>38580.694737</td>\n",
       "      <td>7.428945</td>\n",
       "      <td>0.0</td>\n",
       "    </tr>\n",
       "    <tr>\n",
       "      <th>min</th>\n",
       "      <td>4.700000</td>\n",
       "      <td>0.000000</td>\n",
       "      <td>12.000000</td>\n",
       "      <td>35072.914710</td>\n",
       "      <td>42936.584540</td>\n",
       "      <td>1.715556</td>\n",
       "      <td>0.0</td>\n",
       "    </tr>\n",
       "    <tr>\n",
       "      <th>25%</th>\n",
       "      <td>12.750000</td>\n",
       "      <td>23.000000</td>\n",
       "      <td>109.000000</td>\n",
       "      <td>67085.771493</td>\n",
       "      <td>77117.054463</td>\n",
       "      <td>9.294061</td>\n",
       "      <td>0.0</td>\n",
       "    </tr>\n",
       "    <tr>\n",
       "      <th>50%</th>\n",
       "      <td>14.430000</td>\n",
       "      <td>26.950000</td>\n",
       "      <td>219.000000</td>\n",
       "      <td>87921.154230</td>\n",
       "      <td>106197.766650</td>\n",
       "      <td>13.545954</td>\n",
       "      <td>0.0</td>\n",
       "    </tr>\n",
       "    <tr>\n",
       "      <th>75%</th>\n",
       "      <td>19.460000</td>\n",
       "      <td>36.000000</td>\n",
       "      <td>714.000000</td>\n",
       "      <td>124777.238250</td>\n",
       "      <td>137188.222700</td>\n",
       "      <td>21.427859</td>\n",
       "      <td>0.0</td>\n",
       "    </tr>\n",
       "    <tr>\n",
       "      <th>max</th>\n",
       "      <td>40.260000</td>\n",
       "      <td>79.000000</td>\n",
       "      <td>12877.000000</td>\n",
       "      <td>187941.971100</td>\n",
       "      <td>204898.395000</td>\n",
       "      <td>31.148843</td>\n",
       "      <td>0.0</td>\n",
       "    </tr>\n",
       "  </tbody>\n",
       "</table>\n",
       "</div>"
      ],
      "text/plain": [
       "            AWND       WSF2      SizeRank         before          after  \\\n",
       "count  96.000000  96.000000     96.000000      96.000000      96.000000   \n",
       "mean   16.828333  31.587500    778.479167   95519.992225  109226.353419   \n",
       "std     7.510509  13.880939   1933.043703   36589.222256   38580.694737   \n",
       "min     4.700000   0.000000     12.000000   35072.914710   42936.584540   \n",
       "25%    12.750000  23.000000    109.000000   67085.771493   77117.054463   \n",
       "50%    14.430000  26.950000    219.000000   87921.154230  106197.766650   \n",
       "75%    19.460000  36.000000    714.000000  124777.238250  137188.222700   \n",
       "max    40.260000  79.000000  12877.000000  187941.971100  204898.395000   \n",
       "\n",
       "         percent  increase  \n",
       "count  96.000000      96.0  \n",
       "mean   15.737500       0.0  \n",
       "std     7.428945       0.0  \n",
       "min     1.715556       0.0  \n",
       "25%     9.294061       0.0  \n",
       "50%    13.545954       0.0  \n",
       "75%    21.427859       0.0  \n",
       "max    31.148843       0.0  "
      ]
     },
     "execution_count": 6,
     "metadata": {},
     "output_type": "execute_result"
    }
   ],
   "source": [
    "#check crosstabs \n",
    "bottom[bottom['increase'] == 0].describe()"
   ]
  },
  {
   "cell_type": "code",
   "execution_count": 7,
   "id": "6bbf2551",
   "metadata": {},
   "outputs": [
    {
     "data": {
      "text/html": [
       "<div>\n",
       "<style scoped>\n",
       "    .dataframe tbody tr th:only-of-type {\n",
       "        vertical-align: middle;\n",
       "    }\n",
       "\n",
       "    .dataframe tbody tr th {\n",
       "        vertical-align: top;\n",
       "    }\n",
       "\n",
       "    .dataframe thead th {\n",
       "        text-align: right;\n",
       "    }\n",
       "</style>\n",
       "<table border=\"1\" class=\"dataframe\">\n",
       "  <thead>\n",
       "    <tr style=\"text-align: right;\">\n",
       "      <th></th>\n",
       "      <th>AWND</th>\n",
       "      <th>WSF2</th>\n",
       "      <th>SizeRank</th>\n",
       "      <th>before</th>\n",
       "      <th>after</th>\n",
       "      <th>percent</th>\n",
       "      <th>increase</th>\n",
       "    </tr>\n",
       "  </thead>\n",
       "  <tbody>\n",
       "    <tr>\n",
       "      <th>count</th>\n",
       "      <td>45.00000</td>\n",
       "      <td>45.000000</td>\n",
       "      <td>45.000000</td>\n",
       "      <td>45.000000</td>\n",
       "      <td>45.000000</td>\n",
       "      <td>45.000000</td>\n",
       "      <td>45.0</td>\n",
       "    </tr>\n",
       "    <tr>\n",
       "      <th>mean</th>\n",
       "      <td>19.71000</td>\n",
       "      <td>36.360000</td>\n",
       "      <td>1614.733333</td>\n",
       "      <td>81869.675339</td>\n",
       "      <td>99918.350911</td>\n",
       "      <td>22.208175</td>\n",
       "      <td>1.0</td>\n",
       "    </tr>\n",
       "    <tr>\n",
       "      <th>std</th>\n",
       "      <td>7.55599</td>\n",
       "      <td>14.072933</td>\n",
       "      <td>3251.236781</td>\n",
       "      <td>22972.899025</td>\n",
       "      <td>28216.775660</td>\n",
       "      <td>6.973273</td>\n",
       "      <td>0.0</td>\n",
       "    </tr>\n",
       "    <tr>\n",
       "      <th>min</th>\n",
       "      <td>5.82000</td>\n",
       "      <td>13.000000</td>\n",
       "      <td>12.000000</td>\n",
       "      <td>33025.679010</td>\n",
       "      <td>41196.088340</td>\n",
       "      <td>12.376811</td>\n",
       "      <td>1.0</td>\n",
       "    </tr>\n",
       "    <tr>\n",
       "      <th>25%</th>\n",
       "      <td>13.87000</td>\n",
       "      <td>25.900000</td>\n",
       "      <td>105.000000</td>\n",
       "      <td>65732.062590</td>\n",
       "      <td>78209.741850</td>\n",
       "      <td>17.496982</td>\n",
       "      <td>1.0</td>\n",
       "    </tr>\n",
       "    <tr>\n",
       "      <th>50%</th>\n",
       "      <td>19.46000</td>\n",
       "      <td>31.100000</td>\n",
       "      <td>350.000000</td>\n",
       "      <td>79706.029380</td>\n",
       "      <td>97547.957590</td>\n",
       "      <td>19.823318</td>\n",
       "      <td>1.0</td>\n",
       "    </tr>\n",
       "    <tr>\n",
       "      <th>75%</th>\n",
       "      <td>23.71000</td>\n",
       "      <td>52.100000</td>\n",
       "      <td>1343.000000</td>\n",
       "      <td>94132.640630</td>\n",
       "      <td>113361.292200</td>\n",
       "      <td>24.912005</td>\n",
       "      <td>1.0</td>\n",
       "    </tr>\n",
       "    <tr>\n",
       "      <th>max</th>\n",
       "      <td>40.71000</td>\n",
       "      <td>70.900000</td>\n",
       "      <td>12877.000000</td>\n",
       "      <td>137614.499600</td>\n",
       "      <td>166366.441400</td>\n",
       "      <td>38.720009</td>\n",
       "      <td>1.0</td>\n",
       "    </tr>\n",
       "  </tbody>\n",
       "</table>\n",
       "</div>"
      ],
      "text/plain": [
       "           AWND       WSF2      SizeRank         before          after  \\\n",
       "count  45.00000  45.000000     45.000000      45.000000      45.000000   \n",
       "mean   19.71000  36.360000   1614.733333   81869.675339   99918.350911   \n",
       "std     7.55599  14.072933   3251.236781   22972.899025   28216.775660   \n",
       "min     5.82000  13.000000     12.000000   33025.679010   41196.088340   \n",
       "25%    13.87000  25.900000    105.000000   65732.062590   78209.741850   \n",
       "50%    19.46000  31.100000    350.000000   79706.029380   97547.957590   \n",
       "75%    23.71000  52.100000   1343.000000   94132.640630  113361.292200   \n",
       "max    40.71000  70.900000  12877.000000  137614.499600  166366.441400   \n",
       "\n",
       "         percent  increase  \n",
       "count  45.000000      45.0  \n",
       "mean   22.208175       1.0  \n",
       "std     6.973273       0.0  \n",
       "min    12.376811       1.0  \n",
       "25%    17.496982       1.0  \n",
       "50%    19.823318       1.0  \n",
       "75%    24.912005       1.0  \n",
       "max    38.720009       1.0  "
      ]
     },
     "execution_count": 7,
     "metadata": {},
     "output_type": "execute_result"
    }
   ],
   "source": [
    "#check crosstabs \n",
    "bottom[bottom['increase'] == 1].describe()"
   ]
  },
  {
   "cell_type": "markdown",
   "id": "4453ad41",
   "metadata": {},
   "source": [
    "### Middle Tier Home Values"
   ]
  },
  {
   "cell_type": "code",
   "execution_count": 8,
   "id": "188f91d9",
   "metadata": {},
   "outputs": [
    {
     "data": {
      "text/html": [
       "<div>\n",
       "<style scoped>\n",
       "    .dataframe tbody tr th:only-of-type {\n",
       "        vertical-align: middle;\n",
       "    }\n",
       "\n",
       "    .dataframe tbody tr th {\n",
       "        vertical-align: top;\n",
       "    }\n",
       "\n",
       "    .dataframe thead th {\n",
       "        text-align: right;\n",
       "    }\n",
       "</style>\n",
       "<table border=\"1\" class=\"dataframe\">\n",
       "  <thead>\n",
       "    <tr style=\"text-align: right;\">\n",
       "      <th></th>\n",
       "      <th>AWND</th>\n",
       "      <th>WSF2</th>\n",
       "      <th>SizeRank</th>\n",
       "      <th>before</th>\n",
       "      <th>after</th>\n",
       "      <th>percent</th>\n",
       "      <th>increase</th>\n",
       "    </tr>\n",
       "  </thead>\n",
       "  <tbody>\n",
       "    <tr>\n",
       "      <th>count</th>\n",
       "      <td>106.000000</td>\n",
       "      <td>106.000000</td>\n",
       "      <td>106.000000</td>\n",
       "      <td>106.000000</td>\n",
       "      <td>106.000000</td>\n",
       "      <td>106.000000</td>\n",
       "      <td>106.0</td>\n",
       "    </tr>\n",
       "    <tr>\n",
       "      <th>mean</th>\n",
       "      <td>17.192736</td>\n",
       "      <td>32.578302</td>\n",
       "      <td>1196.764151</td>\n",
       "      <td>178788.700647</td>\n",
       "      <td>200015.445600</td>\n",
       "      <td>12.739620</td>\n",
       "      <td>0.0</td>\n",
       "    </tr>\n",
       "    <tr>\n",
       "      <th>std</th>\n",
       "      <td>7.398756</td>\n",
       "      <td>13.286456</td>\n",
       "      <td>2875.059325</td>\n",
       "      <td>57253.054213</td>\n",
       "      <td>60012.616564</td>\n",
       "      <td>8.166830</td>\n",
       "      <td>0.0</td>\n",
       "    </tr>\n",
       "    <tr>\n",
       "      <th>min</th>\n",
       "      <td>4.700000</td>\n",
       "      <td>10.100000</td>\n",
       "      <td>12.000000</td>\n",
       "      <td>47433.413480</td>\n",
       "      <td>55475.026340</td>\n",
       "      <td>-0.304135</td>\n",
       "      <td>0.0</td>\n",
       "    </tr>\n",
       "    <tr>\n",
       "      <th>25%</th>\n",
       "      <td>12.750000</td>\n",
       "      <td>23.900000</td>\n",
       "      <td>106.000000</td>\n",
       "      <td>140195.814075</td>\n",
       "      <td>158385.796575</td>\n",
       "      <td>6.516116</td>\n",
       "      <td>0.0</td>\n",
       "    </tr>\n",
       "    <tr>\n",
       "      <th>50%</th>\n",
       "      <td>14.760000</td>\n",
       "      <td>29.100000</td>\n",
       "      <td>219.000000</td>\n",
       "      <td>168077.713500</td>\n",
       "      <td>188779.652850</td>\n",
       "      <td>10.175417</td>\n",
       "      <td>0.0</td>\n",
       "    </tr>\n",
       "    <tr>\n",
       "      <th>75%</th>\n",
       "      <td>20.525000</td>\n",
       "      <td>36.900000</td>\n",
       "      <td>744.000000</td>\n",
       "      <td>214175.896200</td>\n",
       "      <td>235810.160275</td>\n",
       "      <td>19.340890</td>\n",
       "      <td>0.0</td>\n",
       "    </tr>\n",
       "    <tr>\n",
       "      <th>max</th>\n",
       "      <td>38.920000</td>\n",
       "      <td>79.000000</td>\n",
       "      <td>12877.000000</td>\n",
       "      <td>328091.109800</td>\n",
       "      <td>346404.378100</td>\n",
       "      <td>30.423110</td>\n",
       "      <td>0.0</td>\n",
       "    </tr>\n",
       "  </tbody>\n",
       "</table>\n",
       "</div>"
      ],
      "text/plain": [
       "             AWND        WSF2      SizeRank         before          after  \\\n",
       "count  106.000000  106.000000    106.000000     106.000000     106.000000   \n",
       "mean    17.192736   32.578302   1196.764151  178788.700647  200015.445600   \n",
       "std      7.398756   13.286456   2875.059325   57253.054213   60012.616564   \n",
       "min      4.700000   10.100000     12.000000   47433.413480   55475.026340   \n",
       "25%     12.750000   23.900000    106.000000  140195.814075  158385.796575   \n",
       "50%     14.760000   29.100000    219.000000  168077.713500  188779.652850   \n",
       "75%     20.525000   36.900000    744.000000  214175.896200  235810.160275   \n",
       "max     38.920000   79.000000  12877.000000  328091.109800  346404.378100   \n",
       "\n",
       "          percent  increase  \n",
       "count  106.000000     106.0  \n",
       "mean    12.739620       0.0  \n",
       "std      8.166830       0.0  \n",
       "min     -0.304135       0.0  \n",
       "25%      6.516116       0.0  \n",
       "50%     10.175417       0.0  \n",
       "75%     19.340890       0.0  \n",
       "max     30.423110       0.0  "
      ]
     },
     "execution_count": 8,
     "metadata": {},
     "output_type": "execute_result"
    }
   ],
   "source": [
    "#check crosstabs \n",
    "middle[middle['increase'] == 0].describe()"
   ]
  },
  {
   "cell_type": "code",
   "execution_count": 9,
   "id": "e09d1870",
   "metadata": {},
   "outputs": [
    {
     "data": {
      "text/html": [
       "<div>\n",
       "<style scoped>\n",
       "    .dataframe tbody tr th:only-of-type {\n",
       "        vertical-align: middle;\n",
       "    }\n",
       "\n",
       "    .dataframe tbody tr th {\n",
       "        vertical-align: top;\n",
       "    }\n",
       "\n",
       "    .dataframe thead th {\n",
       "        text-align: right;\n",
       "    }\n",
       "</style>\n",
       "<table border=\"1\" class=\"dataframe\">\n",
       "  <thead>\n",
       "    <tr style=\"text-align: right;\">\n",
       "      <th></th>\n",
       "      <th>AWND</th>\n",
       "      <th>WSF2</th>\n",
       "      <th>SizeRank</th>\n",
       "      <th>before</th>\n",
       "      <th>after</th>\n",
       "      <th>percent</th>\n",
       "      <th>increase</th>\n",
       "    </tr>\n",
       "  </thead>\n",
       "  <tbody>\n",
       "    <tr>\n",
       "      <th>count</th>\n",
       "      <td>33.000000</td>\n",
       "      <td>33.000000</td>\n",
       "      <td>33.000000</td>\n",
       "      <td>33.000000</td>\n",
       "      <td>33.000000</td>\n",
       "      <td>33.000000</td>\n",
       "      <td>33.0</td>\n",
       "    </tr>\n",
       "    <tr>\n",
       "      <th>mean</th>\n",
       "      <td>19.468182</td>\n",
       "      <td>33.951515</td>\n",
       "      <td>2376.212121</td>\n",
       "      <td>152609.677086</td>\n",
       "      <td>183012.972018</td>\n",
       "      <td>19.750077</td>\n",
       "      <td>1.0</td>\n",
       "    </tr>\n",
       "    <tr>\n",
       "      <th>std</th>\n",
       "      <td>9.052282</td>\n",
       "      <td>16.306749</td>\n",
       "      <td>3966.086317</td>\n",
       "      <td>45215.695236</td>\n",
       "      <td>58301.939354</td>\n",
       "      <td>9.054438</td>\n",
       "      <td>0.0</td>\n",
       "    </tr>\n",
       "    <tr>\n",
       "      <th>min</th>\n",
       "      <td>4.470000</td>\n",
       "      <td>0.000000</td>\n",
       "      <td>12.000000</td>\n",
       "      <td>38971.285380</td>\n",
       "      <td>48205.342730</td>\n",
       "      <td>8.693131</td>\n",
       "      <td>1.0</td>\n",
       "    </tr>\n",
       "    <tr>\n",
       "      <th>25%</th>\n",
       "      <td>13.650000</td>\n",
       "      <td>23.900000</td>\n",
       "      <td>299.000000</td>\n",
       "      <td>131341.028200</td>\n",
       "      <td>147305.080700</td>\n",
       "      <td>11.724797</td>\n",
       "      <td>1.0</td>\n",
       "    </tr>\n",
       "    <tr>\n",
       "      <th>50%</th>\n",
       "      <td>16.780000</td>\n",
       "      <td>30.000000</td>\n",
       "      <td>529.000000</td>\n",
       "      <td>153995.650000</td>\n",
       "      <td>185899.410500</td>\n",
       "      <td>14.943632</td>\n",
       "      <td>1.0</td>\n",
       "    </tr>\n",
       "    <tr>\n",
       "      <th>75%</th>\n",
       "      <td>24.610000</td>\n",
       "      <td>46.100000</td>\n",
       "      <td>1644.000000</td>\n",
       "      <td>184197.828400</td>\n",
       "      <td>211150.410200</td>\n",
       "      <td>27.524342</td>\n",
       "      <td>1.0</td>\n",
       "    </tr>\n",
       "    <tr>\n",
       "      <th>max</th>\n",
       "      <td>40.710000</td>\n",
       "      <td>70.900000</td>\n",
       "      <td>12877.000000</td>\n",
       "      <td>237636.125500</td>\n",
       "      <td>316361.491800</td>\n",
       "      <td>34.925821</td>\n",
       "      <td>1.0</td>\n",
       "    </tr>\n",
       "  </tbody>\n",
       "</table>\n",
       "</div>"
      ],
      "text/plain": [
       "            AWND       WSF2      SizeRank         before          after  \\\n",
       "count  33.000000  33.000000     33.000000      33.000000      33.000000   \n",
       "mean   19.468182  33.951515   2376.212121  152609.677086  183012.972018   \n",
       "std     9.052282  16.306749   3966.086317   45215.695236   58301.939354   \n",
       "min     4.470000   0.000000     12.000000   38971.285380   48205.342730   \n",
       "25%    13.650000  23.900000    299.000000  131341.028200  147305.080700   \n",
       "50%    16.780000  30.000000    529.000000  153995.650000  185899.410500   \n",
       "75%    24.610000  46.100000   1644.000000  184197.828400  211150.410200   \n",
       "max    40.710000  70.900000  12877.000000  237636.125500  316361.491800   \n",
       "\n",
       "         percent  increase  \n",
       "count  33.000000      33.0  \n",
       "mean   19.750077       1.0  \n",
       "std     9.054438       0.0  \n",
       "min     8.693131       1.0  \n",
       "25%    11.724797       1.0  \n",
       "50%    14.943632       1.0  \n",
       "75%    27.524342       1.0  \n",
       "max    34.925821       1.0  "
      ]
     },
     "execution_count": 9,
     "metadata": {},
     "output_type": "execute_result"
    }
   ],
   "source": [
    "#check crosstabs \n",
    "middle[middle['increase'] == 1].describe()"
   ]
  },
  {
   "cell_type": "markdown",
   "id": "5b0c765b",
   "metadata": {},
   "source": [
    "### Top Tier Home Values"
   ]
  },
  {
   "cell_type": "code",
   "execution_count": 10,
   "id": "ddcff20a",
   "metadata": {},
   "outputs": [
    {
     "data": {
      "text/html": [
       "<div>\n",
       "<style scoped>\n",
       "    .dataframe tbody tr th:only-of-type {\n",
       "        vertical-align: middle;\n",
       "    }\n",
       "\n",
       "    .dataframe tbody tr th {\n",
       "        vertical-align: top;\n",
       "    }\n",
       "\n",
       "    .dataframe thead th {\n",
       "        text-align: right;\n",
       "    }\n",
       "</style>\n",
       "<table border=\"1\" class=\"dataframe\">\n",
       "  <thead>\n",
       "    <tr style=\"text-align: right;\">\n",
       "      <th></th>\n",
       "      <th>AWND</th>\n",
       "      <th>WSF2</th>\n",
       "      <th>SizeRank</th>\n",
       "      <th>before</th>\n",
       "      <th>after</th>\n",
       "      <th>percent</th>\n",
       "      <th>increase</th>\n",
       "    </tr>\n",
       "  </thead>\n",
       "  <tbody>\n",
       "    <tr>\n",
       "      <th>count</th>\n",
       "      <td>114.000000</td>\n",
       "      <td>114.000000</td>\n",
       "      <td>114.000000</td>\n",
       "      <td>114.000000</td>\n",
       "      <td>114.000000</td>\n",
       "      <td>114.000000</td>\n",
       "      <td>114.0</td>\n",
       "    </tr>\n",
       "    <tr>\n",
       "      <th>mean</th>\n",
       "      <td>17.763947</td>\n",
       "      <td>33.115789</td>\n",
       "      <td>1225.184211</td>\n",
       "      <td>328449.969281</td>\n",
       "      <td>360988.239664</td>\n",
       "      <td>10.473163</td>\n",
       "      <td>0.0</td>\n",
       "    </tr>\n",
       "    <tr>\n",
       "      <th>std</th>\n",
       "      <td>7.852753</td>\n",
       "      <td>13.802145</td>\n",
       "      <td>2961.979981</td>\n",
       "      <td>113947.912364</td>\n",
       "      <td>122569.498236</td>\n",
       "      <td>8.631772</td>\n",
       "      <td>0.0</td>\n",
       "    </tr>\n",
       "    <tr>\n",
       "      <th>min</th>\n",
       "      <td>4.470000</td>\n",
       "      <td>8.100000</td>\n",
       "      <td>12.000000</td>\n",
       "      <td>98118.000900</td>\n",
       "      <td>119490.997200</td>\n",
       "      <td>-4.161603</td>\n",
       "      <td>0.0</td>\n",
       "    </tr>\n",
       "    <tr>\n",
       "      <th>25%</th>\n",
       "      <td>12.970000</td>\n",
       "      <td>23.900000</td>\n",
       "      <td>93.000000</td>\n",
       "      <td>246799.050675</td>\n",
       "      <td>271226.589675</td>\n",
       "      <td>4.737962</td>\n",
       "      <td>0.0</td>\n",
       "    </tr>\n",
       "    <tr>\n",
       "      <th>50%</th>\n",
       "      <td>15.100000</td>\n",
       "      <td>29.100000</td>\n",
       "      <td>190.000000</td>\n",
       "      <td>315968.313150</td>\n",
       "      <td>350767.209850</td>\n",
       "      <td>5.958488</td>\n",
       "      <td>0.0</td>\n",
       "    </tr>\n",
       "    <tr>\n",
       "      <th>75%</th>\n",
       "      <td>20.800000</td>\n",
       "      <td>38.000000</td>\n",
       "      <td>744.000000</td>\n",
       "      <td>382389.195500</td>\n",
       "      <td>418708.970725</td>\n",
       "      <td>17.504185</td>\n",
       "      <td>0.0</td>\n",
       "    </tr>\n",
       "    <tr>\n",
       "      <th>max</th>\n",
       "      <td>40.260000</td>\n",
       "      <td>79.000000</td>\n",
       "      <td>12877.000000</td>\n",
       "      <td>671004.028700</td>\n",
       "      <td>768214.341700</td>\n",
       "      <td>27.655345</td>\n",
       "      <td>0.0</td>\n",
       "    </tr>\n",
       "  </tbody>\n",
       "</table>\n",
       "</div>"
      ],
      "text/plain": [
       "             AWND        WSF2      SizeRank         before          after  \\\n",
       "count  114.000000  114.000000    114.000000     114.000000     114.000000   \n",
       "mean    17.763947   33.115789   1225.184211  328449.969281  360988.239664   \n",
       "std      7.852753   13.802145   2961.979981  113947.912364  122569.498236   \n",
       "min      4.470000    8.100000     12.000000   98118.000900  119490.997200   \n",
       "25%     12.970000   23.900000     93.000000  246799.050675  271226.589675   \n",
       "50%     15.100000   29.100000    190.000000  315968.313150  350767.209850   \n",
       "75%     20.800000   38.000000    744.000000  382389.195500  418708.970725   \n",
       "max     40.260000   79.000000  12877.000000  671004.028700  768214.341700   \n",
       "\n",
       "          percent  increase  \n",
       "count  114.000000     114.0  \n",
       "mean    10.473163       0.0  \n",
       "std      8.631772       0.0  \n",
       "min     -4.161603       0.0  \n",
       "25%      4.737962       0.0  \n",
       "50%      5.958488       0.0  \n",
       "75%     17.504185       0.0  \n",
       "max     27.655345       0.0  "
      ]
     },
     "execution_count": 10,
     "metadata": {},
     "output_type": "execute_result"
    }
   ],
   "source": [
    "#check crosstabs \n",
    "top[top['increase'] == 0].describe()"
   ]
  },
  {
   "cell_type": "code",
   "execution_count": 11,
   "id": "d6842f4a",
   "metadata": {},
   "outputs": [
    {
     "data": {
      "text/html": [
       "<div>\n",
       "<style scoped>\n",
       "    .dataframe tbody tr th:only-of-type {\n",
       "        vertical-align: middle;\n",
       "    }\n",
       "\n",
       "    .dataframe tbody tr th {\n",
       "        vertical-align: top;\n",
       "    }\n",
       "\n",
       "    .dataframe thead th {\n",
       "        text-align: right;\n",
       "    }\n",
       "</style>\n",
       "<table border=\"1\" class=\"dataframe\">\n",
       "  <thead>\n",
       "    <tr style=\"text-align: right;\">\n",
       "      <th></th>\n",
       "      <th>AWND</th>\n",
       "      <th>WSF2</th>\n",
       "      <th>SizeRank</th>\n",
       "      <th>before</th>\n",
       "      <th>after</th>\n",
       "      <th>percent</th>\n",
       "      <th>increase</th>\n",
       "    </tr>\n",
       "  </thead>\n",
       "  <tbody>\n",
       "    <tr>\n",
       "      <th>count</th>\n",
       "      <td>28.000000</td>\n",
       "      <td>28.000000</td>\n",
       "      <td>28.000000</td>\n",
       "      <td>28.000000</td>\n",
       "      <td>28.000000</td>\n",
       "      <td>28.000000</td>\n",
       "      <td>28.0</td>\n",
       "    </tr>\n",
       "    <tr>\n",
       "      <th>mean</th>\n",
       "      <td>17.624286</td>\n",
       "      <td>32.192857</td>\n",
       "      <td>2354.142857</td>\n",
       "      <td>273379.316779</td>\n",
       "      <td>326346.226943</td>\n",
       "      <td>18.132019</td>\n",
       "      <td>1.0</td>\n",
       "    </tr>\n",
       "    <tr>\n",
       "      <th>std</th>\n",
       "      <td>7.603506</td>\n",
       "      <td>14.464181</td>\n",
       "      <td>3809.242403</td>\n",
       "      <td>76774.203448</td>\n",
       "      <td>110181.403979</td>\n",
       "      <td>10.229255</td>\n",
       "      <td>0.0</td>\n",
       "    </tr>\n",
       "    <tr>\n",
       "      <th>min</th>\n",
       "      <td>5.820000</td>\n",
       "      <td>13.000000</td>\n",
       "      <td>16.000000</td>\n",
       "      <td>130756.896600</td>\n",
       "      <td>140391.373400</td>\n",
       "      <td>6.722834</td>\n",
       "      <td>1.0</td>\n",
       "    </tr>\n",
       "    <tr>\n",
       "      <th>25%</th>\n",
       "      <td>13.142500</td>\n",
       "      <td>23.675000</td>\n",
       "      <td>299.000000</td>\n",
       "      <td>231229.432300</td>\n",
       "      <td>255309.653800</td>\n",
       "      <td>7.967553</td>\n",
       "      <td>1.0</td>\n",
       "    </tr>\n",
       "    <tr>\n",
       "      <th>50%</th>\n",
       "      <td>14.875000</td>\n",
       "      <td>28.000000</td>\n",
       "      <td>636.500000</td>\n",
       "      <td>252692.063600</td>\n",
       "      <td>311156.525200</td>\n",
       "      <td>18.205906</td>\n",
       "      <td>1.0</td>\n",
       "    </tr>\n",
       "    <tr>\n",
       "      <th>75%</th>\n",
       "      <td>21.922500</td>\n",
       "      <td>34.325000</td>\n",
       "      <td>1927.000000</td>\n",
       "      <td>315217.170000</td>\n",
       "      <td>372749.758575</td>\n",
       "      <td>28.046185</td>\n",
       "      <td>1.0</td>\n",
       "    </tr>\n",
       "    <tr>\n",
       "      <th>max</th>\n",
       "      <td>40.710000</td>\n",
       "      <td>70.900000</td>\n",
       "      <td>12877.000000</td>\n",
       "      <td>457389.673300</td>\n",
       "      <td>605350.754900</td>\n",
       "      <td>33.863819</td>\n",
       "      <td>1.0</td>\n",
       "    </tr>\n",
       "  </tbody>\n",
       "</table>\n",
       "</div>"
      ],
      "text/plain": [
       "            AWND       WSF2      SizeRank         before          after  \\\n",
       "count  28.000000  28.000000     28.000000      28.000000      28.000000   \n",
       "mean   17.624286  32.192857   2354.142857  273379.316779  326346.226943   \n",
       "std     7.603506  14.464181   3809.242403   76774.203448  110181.403979   \n",
       "min     5.820000  13.000000     16.000000  130756.896600  140391.373400   \n",
       "25%    13.142500  23.675000    299.000000  231229.432300  255309.653800   \n",
       "50%    14.875000  28.000000    636.500000  252692.063600  311156.525200   \n",
       "75%    21.922500  34.325000   1927.000000  315217.170000  372749.758575   \n",
       "max    40.710000  70.900000  12877.000000  457389.673300  605350.754900   \n",
       "\n",
       "         percent  increase  \n",
       "count  28.000000      28.0  \n",
       "mean   18.132019       1.0  \n",
       "std    10.229255       0.0  \n",
       "min     6.722834       1.0  \n",
       "25%     7.967553       1.0  \n",
       "50%    18.205906       1.0  \n",
       "75%    28.046185       1.0  \n",
       "max    33.863819       1.0  "
      ]
     },
     "execution_count": 11,
     "metadata": {},
     "output_type": "execute_result"
    }
   ],
   "source": [
    "#check crosstabs \n",
    "top[top['increase'] == 1].describe()"
   ]
  },
  {
   "cell_type": "markdown",
   "id": "f30f7a62",
   "metadata": {},
   "source": [
    "### All Home Values "
   ]
  },
  {
   "cell_type": "code",
   "execution_count": 12,
   "id": "5857d34d",
   "metadata": {},
   "outputs": [
    {
     "data": {
      "text/html": [
       "<div>\n",
       "<style scoped>\n",
       "    .dataframe tbody tr th:only-of-type {\n",
       "        vertical-align: middle;\n",
       "    }\n",
       "\n",
       "    .dataframe tbody tr th {\n",
       "        vertical-align: top;\n",
       "    }\n",
       "\n",
       "    .dataframe thead th {\n",
       "        text-align: right;\n",
       "    }\n",
       "</style>\n",
       "<table border=\"1\" class=\"dataframe\">\n",
       "  <thead>\n",
       "    <tr style=\"text-align: right;\">\n",
       "      <th></th>\n",
       "      <th>AWND</th>\n",
       "      <th>WSF2</th>\n",
       "      <th>SizeRank</th>\n",
       "      <th>before</th>\n",
       "      <th>after</th>\n",
       "      <th>percent</th>\n",
       "      <th>increase</th>\n",
       "    </tr>\n",
       "  </thead>\n",
       "  <tbody>\n",
       "    <tr>\n",
       "      <th>count</th>\n",
       "      <td>258.000000</td>\n",
       "      <td>258.000000</td>\n",
       "      <td>258.000000</td>\n",
       "      <td>258.000000</td>\n",
       "      <td>258.000000</td>\n",
       "      <td>258.000000</td>\n",
       "      <td>258.0</td>\n",
       "    </tr>\n",
       "    <tr>\n",
       "      <th>mean</th>\n",
       "      <td>13.768992</td>\n",
       "      <td>27.177907</td>\n",
       "      <td>1191.391473</td>\n",
       "      <td>212575.987928</td>\n",
       "      <td>234000.852403</td>\n",
       "      <td>11.890184</td>\n",
       "      <td>0.0</td>\n",
       "    </tr>\n",
       "    <tr>\n",
       "      <th>std</th>\n",
       "      <td>6.939955</td>\n",
       "      <td>12.531378</td>\n",
       "      <td>2873.375161</td>\n",
       "      <td>124254.783285</td>\n",
       "      <td>131099.520669</td>\n",
       "      <td>8.078201</td>\n",
       "      <td>0.0</td>\n",
       "    </tr>\n",
       "    <tr>\n",
       "      <th>min</th>\n",
       "      <td>2.910000</td>\n",
       "      <td>0.000000</td>\n",
       "      <td>12.000000</td>\n",
       "      <td>45314.651590</td>\n",
       "      <td>52157.021900</td>\n",
       "      <td>-4.161603</td>\n",
       "      <td>0.0</td>\n",
       "    </tr>\n",
       "    <tr>\n",
       "      <th>25%</th>\n",
       "      <td>8.720000</td>\n",
       "      <td>18.100000</td>\n",
       "      <td>106.000000</td>\n",
       "      <td>117276.771100</td>\n",
       "      <td>135580.557625</td>\n",
       "      <td>5.582217</td>\n",
       "      <td>0.0</td>\n",
       "    </tr>\n",
       "    <tr>\n",
       "      <th>50%</th>\n",
       "      <td>12.190000</td>\n",
       "      <td>23.900000</td>\n",
       "      <td>219.000000</td>\n",
       "      <td>184998.996100</td>\n",
       "      <td>205368.325550</td>\n",
       "      <td>9.188158</td>\n",
       "      <td>0.0</td>\n",
       "    </tr>\n",
       "    <tr>\n",
       "      <th>75%</th>\n",
       "      <td>16.722500</td>\n",
       "      <td>31.100000</td>\n",
       "      <td>744.000000</td>\n",
       "      <td>278446.944025</td>\n",
       "      <td>311384.740025</td>\n",
       "      <td>17.445984</td>\n",
       "      <td>0.0</td>\n",
       "    </tr>\n",
       "    <tr>\n",
       "      <th>max</th>\n",
       "      <td>38.920000</td>\n",
       "      <td>79.000000</td>\n",
       "      <td>12877.000000</td>\n",
       "      <td>638691.713200</td>\n",
       "      <td>669502.004200</td>\n",
       "      <td>30.676022</td>\n",
       "      <td>0.0</td>\n",
       "    </tr>\n",
       "  </tbody>\n",
       "</table>\n",
       "</div>"
      ],
      "text/plain": [
       "             AWND        WSF2      SizeRank         before          after  \\\n",
       "count  258.000000  258.000000    258.000000     258.000000     258.000000   \n",
       "mean    13.768992   27.177907   1191.391473  212575.987928  234000.852403   \n",
       "std      6.939955   12.531378   2873.375161  124254.783285  131099.520669   \n",
       "min      2.910000    0.000000     12.000000   45314.651590   52157.021900   \n",
       "25%      8.720000   18.100000    106.000000  117276.771100  135580.557625   \n",
       "50%     12.190000   23.900000    219.000000  184998.996100  205368.325550   \n",
       "75%     16.722500   31.100000    744.000000  278446.944025  311384.740025   \n",
       "max     38.920000   79.000000  12877.000000  638691.713200  669502.004200   \n",
       "\n",
       "          percent  increase  \n",
       "count  258.000000     258.0  \n",
       "mean    11.890184       0.0  \n",
       "std      8.078201       0.0  \n",
       "min     -4.161603       0.0  \n",
       "25%      5.582217       0.0  \n",
       "50%      9.188158       0.0  \n",
       "75%     17.445984       0.0  \n",
       "max     30.676022       0.0  "
      ]
     },
     "execution_count": 12,
     "metadata": {},
     "output_type": "execute_result"
    }
   ],
   "source": [
    "#check crosstabs \n",
    "all_df[all_df['increase'] == 0].describe()"
   ]
  },
  {
   "cell_type": "code",
   "execution_count": 13,
   "id": "b295204a",
   "metadata": {},
   "outputs": [
    {
     "data": {
      "text/html": [
       "<div>\n",
       "<style scoped>\n",
       "    .dataframe tbody tr th:only-of-type {\n",
       "        vertical-align: middle;\n",
       "    }\n",
       "\n",
       "    .dataframe tbody tr th {\n",
       "        vertical-align: top;\n",
       "    }\n",
       "\n",
       "    .dataframe thead th {\n",
       "        text-align: right;\n",
       "    }\n",
       "</style>\n",
       "<table border=\"1\" class=\"dataframe\">\n",
       "  <thead>\n",
       "    <tr style=\"text-align: right;\">\n",
       "      <th></th>\n",
       "      <th>AWND</th>\n",
       "      <th>WSF2</th>\n",
       "      <th>SizeRank</th>\n",
       "      <th>before</th>\n",
       "      <th>after</th>\n",
       "      <th>percent</th>\n",
       "      <th>increase</th>\n",
       "    </tr>\n",
       "  </thead>\n",
       "  <tbody>\n",
       "    <tr>\n",
       "      <th>count</th>\n",
       "      <td>86.000000</td>\n",
       "      <td>86.000000</td>\n",
       "      <td>86.000000</td>\n",
       "      <td>86.000000</td>\n",
       "      <td>86.000000</td>\n",
       "      <td>86.000000</td>\n",
       "      <td>86.0</td>\n",
       "    </tr>\n",
       "    <tr>\n",
       "      <th>mean</th>\n",
       "      <td>14.880814</td>\n",
       "      <td>27.886047</td>\n",
       "      <td>1861.965116</td>\n",
       "      <td>146638.094252</td>\n",
       "      <td>174430.381725</td>\n",
       "      <td>19.463055</td>\n",
       "      <td>1.0</td>\n",
       "    </tr>\n",
       "    <tr>\n",
       "      <th>std</th>\n",
       "      <td>7.205503</td>\n",
       "      <td>13.217672</td>\n",
       "      <td>3396.683491</td>\n",
       "      <td>83327.546857</td>\n",
       "      <td>100276.415300</td>\n",
       "      <td>8.625308</td>\n",
       "      <td>0.0</td>\n",
       "    </tr>\n",
       "    <tr>\n",
       "      <th>min</th>\n",
       "      <td>4.920000</td>\n",
       "      <td>6.900000</td>\n",
       "      <td>12.000000</td>\n",
       "      <td>44457.567490</td>\n",
       "      <td>55432.846820</td>\n",
       "      <td>6.722834</td>\n",
       "      <td>1.0</td>\n",
       "    </tr>\n",
       "    <tr>\n",
       "      <th>25%</th>\n",
       "      <td>9.282500</td>\n",
       "      <td>18.100000</td>\n",
       "      <td>107.750000</td>\n",
       "      <td>80030.413350</td>\n",
       "      <td>93270.193108</td>\n",
       "      <td>12.500773</td>\n",
       "      <td>1.0</td>\n",
       "    </tr>\n",
       "    <tr>\n",
       "      <th>50%</th>\n",
       "      <td>13.650000</td>\n",
       "      <td>24.500000</td>\n",
       "      <td>462.000000</td>\n",
       "      <td>126538.414750</td>\n",
       "      <td>148023.322150</td>\n",
       "      <td>17.719562</td>\n",
       "      <td>1.0</td>\n",
       "    </tr>\n",
       "    <tr>\n",
       "      <th>75%</th>\n",
       "      <td>18.570000</td>\n",
       "      <td>31.775000</td>\n",
       "      <td>1410.000000</td>\n",
       "      <td>190034.211300</td>\n",
       "      <td>219513.525825</td>\n",
       "      <td>25.149288</td>\n",
       "      <td>1.0</td>\n",
       "    </tr>\n",
       "    <tr>\n",
       "      <th>max</th>\n",
       "      <td>40.710000</td>\n",
       "      <td>70.900000</td>\n",
       "      <td>12877.000000</td>\n",
       "      <td>372909.443500</td>\n",
       "      <td>488064.017600</td>\n",
       "      <td>38.720009</td>\n",
       "      <td>1.0</td>\n",
       "    </tr>\n",
       "  </tbody>\n",
       "</table>\n",
       "</div>"
      ],
      "text/plain": [
       "            AWND       WSF2      SizeRank         before          after  \\\n",
       "count  86.000000  86.000000     86.000000      86.000000      86.000000   \n",
       "mean   14.880814  27.886047   1861.965116  146638.094252  174430.381725   \n",
       "std     7.205503  13.217672   3396.683491   83327.546857  100276.415300   \n",
       "min     4.920000   6.900000     12.000000   44457.567490   55432.846820   \n",
       "25%     9.282500  18.100000    107.750000   80030.413350   93270.193108   \n",
       "50%    13.650000  24.500000    462.000000  126538.414750  148023.322150   \n",
       "75%    18.570000  31.775000   1410.000000  190034.211300  219513.525825   \n",
       "max    40.710000  70.900000  12877.000000  372909.443500  488064.017600   \n",
       "\n",
       "         percent  increase  \n",
       "count  86.000000      86.0  \n",
       "mean   19.463055       1.0  \n",
       "std     8.625308       0.0  \n",
       "min     6.722834       1.0  \n",
       "25%    12.500773       1.0  \n",
       "50%    17.719562       1.0  \n",
       "75%    25.149288       1.0  \n",
       "max    38.720009       1.0  "
      ]
     },
     "execution_count": 13,
     "metadata": {},
     "output_type": "execute_result"
    }
   ],
   "source": [
    "#check crosstabs \n",
    "all_df[all_df['increase'] == 1].describe()"
   ]
  },
  {
   "cell_type": "markdown",
   "id": "ee33ecbc",
   "metadata": {},
   "source": [
    "# Baseline Model"
   ]
  },
  {
   "cell_type": "markdown",
   "id": "baa1bba6",
   "metadata": {},
   "source": [
    "## Examining Class Imbalance\n",
    "\n",
    "In order to know what a good accuracy is for our models, we must know what the majority class percent is. This will tell us if our model performs any better than just selecting the majority class each time. "
   ]
  },
  {
   "cell_type": "markdown",
   "id": "249c2c34",
   "metadata": {},
   "source": [
    "|Dataset | Increase | No Increase | No Increase as Percent |\n",
    "|---|---|---|---|\n",
    "|Bottom Tier| 45 | 96| 68% |\n",
    "|Middle Tier| 33 | 106 | 76% |\n",
    "|Top Tier| 28 | 114 | 80% |\n",
    "|All| 89 | 255 | 74% |"
   ]
  },
  {
   "cell_type": "markdown",
   "id": "a644b247",
   "metadata": {},
   "source": [
    "#### Bottom Tier Class Imabalance"
   ]
  },
  {
   "cell_type": "code",
   "execution_count": 14,
   "id": "f950d782",
   "metadata": {},
   "outputs": [
    {
     "name": "stdout",
     "output_type": "stream",
     "text": [
      "0    96\n",
      "1    45\n",
      "Name: increase, dtype: int64\n",
      "majority percent is 68.08510638297872 %\n"
     ]
    },
    {
     "data": {
      "image/png": "[encoded data removed]",
      "text/plain": [
       "<Figure size 640x480 with 1 Axes>"
      ]
     },
     "metadata": {},
     "output_type": "display_data"
    }
   ],
   "source": [
    "# Checking the balance of target variable 'increase'\n",
    "sns.countplot(x='increase', data=bottom).set(title='Bottom Tier Home Class Imabalance')\n",
    "print(bottom['increase'].value_counts())\n",
    "#checking ratio to see what accuracy is like\n",
    "percent_bottom = (len(bottom['increase']) - bottom['increase'].sum())/(len(bottom['increase']) - bottom['increase'].sum()+bottom['increase'].sum())*100\n",
    "print(\"majority percent is {}\".format(percent_bottom),\"%\")\n"
   ]
  },
  {
   "cell_type": "markdown",
   "id": "f390ca51",
   "metadata": {},
   "source": [
    "#### Middle Tier Class Imbalance"
   ]
  },
  {
   "cell_type": "code",
   "execution_count": 15,
   "id": "52744f2f",
   "metadata": {},
   "outputs": [
    {
     "name": "stdout",
     "output_type": "stream",
     "text": [
      "0    106\n",
      "1     33\n",
      "Name: increase, dtype: int64\n",
      "majority percent is 76.2589928057554 %\n"
     ]
    },
    {
     "data": {
      "image/png": "[encoded data removed]",
      "text/plain": [
       "<Figure size 640x480 with 1 Axes>"
      ]
     },
     "metadata": {},
     "output_type": "display_data"
    }
   ],
   "source": [
    "# Checking the balance of target variable 'increase'\n",
    "sns.countplot(x='increase', data=middle);\n",
    "print(middle['increase'].value_counts())\n",
    "#checking ratio to see what accuracy is like\n",
    "percent = (len(middle['increase']) - middle['increase'].sum())/(len(middle['increase']) - middle['increase'].sum()+middle['increase'].sum())*100\n",
    "print(\"majority percent is {}\".format(percent),\"%\")"
   ]
  },
  {
   "cell_type": "markdown",
   "id": "a9008f7c",
   "metadata": {},
   "source": [
    "#### Top Tier Class Imbalance"
   ]
  },
  {
   "cell_type": "code",
   "execution_count": 16,
   "id": "facb8309",
   "metadata": {},
   "outputs": [
    {
     "name": "stdout",
     "output_type": "stream",
     "text": [
      "0    114\n",
      "1     28\n",
      "Name: increase, dtype: int64\n",
      "majority percent is 80.28169014084507 %\n"
     ]
    },
    {
     "data": {
      "image/png": "[encoded data removed]",
      "text/plain": [
       "<Figure size 640x480 with 1 Axes>"
      ]
     },
     "metadata": {},
     "output_type": "display_data"
    }
   ],
   "source": [
    "# Checking the balance of target variable 'increase'\n",
    "sns.countplot(x='increase', data=top);\n",
    "print(top['increase'].value_counts())\n",
    "#checking ratio to see what accuracy is like\n",
    "percent = (len(top['increase']) - top['increase'].sum())/(len(top['increase']) - top['increase'].sum()+top['increase'].sum())*100\n",
    "print(\"majority percent is {}\".format(percent),\"%\")"
   ]
  },
  {
   "cell_type": "markdown",
   "id": "3e89f4b8",
   "metadata": {},
   "source": [
    "### All Homes Class Imbalance"
   ]
  },
  {
   "cell_type": "code",
   "execution_count": 17,
   "id": "7751143e",
   "metadata": {},
   "outputs": [
    {
     "name": "stdout",
     "output_type": "stream",
     "text": [
      "0    258\n",
      "1     86\n",
      "Name: increase, dtype: int64\n",
      "majority percent is 75.0 %\n"
     ]
    },
    {
     "data": {
      "image/png": "[encoded data removed]",
      "text/plain": [
       "<Figure size 640x480 with 1 Axes>"
      ]
     },
     "metadata": {},
     "output_type": "display_data"
    }
   ],
   "source": [
    "# Checking the balance of target variable 'increase'\n",
    "sns.countplot(x='increase', data=all_df);\n",
    "print(all_df['increase'].value_counts())\n",
    "#checking ratio to see what accuracy is like\n",
    "percent = (len(all_df['increase']) - all_df['increase'].sum())/(len(all_df['increase']) - all_df['increase'].sum()+all_df['increase'].sum())*100\n",
    "print(\"majority percent is {}\".format(percent),\"%\")"
   ]
  },
  {
   "cell_type": "markdown",
   "id": "f7c6b034",
   "metadata": {},
   "source": [
    "# Modeling "
   ]
  },
  {
   "attachments": {
    "Confusion_Matrix-2.jpg": {
     "image/jpeg": "[encoded data removed]"
    }
   },
   "cell_type": "markdown",
   "id": "f91c8552",
   "metadata": {},
   "source": [
    "For the scope of this project we will be using accuracy and F1 score to assess our model performance. Since we had a class imbalance we could not solely rely on accuracy to communicate model performance. Since, precision and recall were of equal importance for our business problem F1 score was used to assess model performance. \n",
    "\n",
    "- **Model accuracy** is a machine learning classification model performance metric that takes the ratio of true positives and true negatives to all positives and negative results. It communicates how often our model will correctly predict an outcome out of the total number of predictions made. However, accuracy metrics are not always reliable for imbalance datasets. Accuracy Score = (TP + TN)/ (TP + FN + TN + FP)  \n",
    "\n",
    "- **Model F1 Score** is a model performance metric that gives equal weight to both the Precision and Recall for measuring performance. F1 Score = 2* Precision Score * Recall Score/ (Precision Score + Recall Score/)    \n",
    "\n",
    "![Confusion_Matrix-2.jpg](attachment:Confusion_Matrix-2.jpg)\n",
    "\n",
    "**Works Cited**   \n",
    "Kumar A. Accuracy, Precision, Recall & F1-Score - Python Examples. Data Analytics. Published October 1, 2021. https://vitalflux.com/accuracy-precision-recall-f1-score-python-example/"
   ]
  },
  {
   "cell_type": "markdown",
   "id": "b22e0e7e",
   "metadata": {},
   "source": [
    "### Logistic Regresion\n",
    "\n",
    "A logistic regression model was iterated through with our scaled data. We removed collinear variables and used SMOTE to adjust for the class imbalance. The logistic regression model that performed the best was our SMOTE model with no colinear features and had an accuracy of 0.74 which was slightly better than our baseline accuracy of 0.68 and an F1 score of 0.68. "
   ]
  },
  {
   "cell_type": "code",
   "execution_count": 18,
   "id": "a1d57af3",
   "metadata": {},
   "outputs": [],
   "source": [
    "#establishing model \n",
    "logreg = LogisticRegression(random_state=56)"
   ]
  },
  {
   "cell_type": "markdown",
   "id": "63cef1df",
   "metadata": {},
   "source": [
    "## Model 1: Bottom Tier Housing\n",
    "\n",
    "We will use the bottom tier housing for modeling since it has the best class imbalance. "
   ]
  },
  {
   "cell_type": "markdown",
   "id": "717abdac",
   "metadata": {},
   "source": [
    "### Selecting Our Target Variable and Features\n",
    "Our targer variable is increase and for our first iteration of modeling we will use all the available features. "
   ]
  },
  {
   "cell_type": "code",
   "execution_count": 19,
   "id": "ec860ba4",
   "metadata": {},
   "outputs": [],
   "source": [
    "#y is prediction variable \n",
    "#X is features \n",
    "y = bottom['increase']\n",
    "X = bottom.drop(['City', 'HurricaneName', 'DATE', 'after', 'percent', 'increase'], axis=1)"
   ]
  },
  {
   "cell_type": "markdown",
   "id": "d5f29cb4",
   "metadata": {},
   "source": [
    "### Train/Test Split"
   ]
  },
  {
   "cell_type": "code",
   "execution_count": 20,
   "id": "40d48836",
   "metadata": {},
   "outputs": [],
   "source": [
    "#performing train test split \n",
    "X_train, X_test, y_train, y_test = train_test_split(X, y, test_size=0.30, random_state=56)"
   ]
  },
  {
   "cell_type": "markdown",
   "id": "30075b9d",
   "metadata": {},
   "source": [
    "### Scaling Our Data"
   ]
  },
  {
   "cell_type": "code",
   "execution_count": 21,
   "id": "4f1519c8",
   "metadata": {},
   "outputs": [],
   "source": [
    "#initiating Standard Scaler\n",
    "sc = StandardScaler()\n",
    "#fitting\n",
    "sc.fit(X_train)\n",
    "#tranforming X train and test\n",
    "X_train = sc.transform(X_train)\n",
    "X_test= sc.transform(X_test)"
   ]
  },
  {
   "cell_type": "markdown",
   "id": "601a32f8",
   "metadata": {},
   "source": [
    "### Training Data"
   ]
  },
  {
   "cell_type": "code",
   "execution_count": 22,
   "id": "cdc834db",
   "metadata": {},
   "outputs": [],
   "source": [
    "#fitting the model unto our training data\n",
    "logreg.fit(X_train, y_train)\n",
    "y_pred_train = logreg.predict(X_train)"
   ]
  },
  {
   "cell_type": "code",
   "execution_count": 23,
   "id": "c0f4d4a3",
   "metadata": {},
   "outputs": [
    {
     "name": "stdout",
     "output_type": "stream",
     "text": [
      "Accuracy: 0.684\n"
     ]
    }
   ],
   "source": [
    "#Printing Accuracy\n",
    "print('Accuracy: %.3f' % accuracy_score(y_train, y_pred_train))"
   ]
  },
  {
   "cell_type": "code",
   "execution_count": 24,
   "id": "ef68dd0e",
   "metadata": {},
   "outputs": [
    {
     "name": "stdout",
     "output_type": "stream",
     "text": [
      "F1 Score: 0.311\n"
     ]
    }
   ],
   "source": [
    "#using F-1 score to see how it performs\n",
    "#F1 Score = 2* Precision Score * Recall Score/ (Precision Score + Recall Score/)\n",
    "print('F1 Score: %.3f' % f1_score(y_train, y_pred_train))"
   ]
  },
  {
   "cell_type": "markdown",
   "id": "f60030be",
   "metadata": {},
   "source": [
    "### Testing Data"
   ]
  },
  {
   "cell_type": "code",
   "execution_count": 25,
   "id": "cfca0e55",
   "metadata": {},
   "outputs": [],
   "source": [
    "#fitting the model unto our test data\n",
    "logreg.fit(X_test, y_test)\n",
    "y_pred_test = logreg.predict(X_test)"
   ]
  },
  {
   "cell_type": "code",
   "execution_count": 26,
   "id": "cfe796e6",
   "metadata": {},
   "outputs": [
    {
     "name": "stdout",
     "output_type": "stream",
     "text": [
      "0.7441860465116279\n"
     ]
    }
   ],
   "source": [
    "#Printing Accuracy\n",
    "accuracy_1 = accuracy_score(y_test, y_pred_test)\n",
    "print(accuracy_1)"
   ]
  },
  {
   "cell_type": "code",
   "execution_count": 27,
   "id": "558a2cbd",
   "metadata": {},
   "outputs": [
    {
     "name": "stdout",
     "output_type": "stream",
     "text": [
      "0.35294117647058826\n"
     ]
    }
   ],
   "source": [
    "#using F-1 score to see how it performs\n",
    "#F1 Score = 2* Precision Score * Recall Score/ (Precision Score + Recall Score/)\n",
    "F1_1 = f1_score(y_test, y_pred_test)\n",
    "print(F1_1)"
   ]
  },
  {
   "cell_type": "code",
   "execution_count": 28,
   "id": "572e5b3d",
   "metadata": {},
   "outputs": [
    {
     "data": {
      "text/plain": [
       "{'Baseline Accuracy': 68.08510638297872,\n",
       " 'LGRModel1_Accuracy': 0.7441860465116279,\n",
       " 'LGRModel1_F1': 0.35294117647058826}"
      ]
     },
     "execution_count": 28,
     "metadata": {},
     "output_type": "execute_result"
    }
   ],
   "source": [
    "#initiating dictionary to keep model accuracy and F1 score\n",
    "model_dict = {}\n",
    "#recording baseline model accuracy\n",
    "model_dict['Baseline Accuracy'] = percent_bottom\n",
    "#recording model 1 values\n",
    "model_dict['LGRModel1_Accuracy'] = accuracy_1\n",
    "model_dict['LGRModel1_F1'] = F1_1\n",
    "model_dict"
   ]
  },
  {
   "cell_type": "code",
   "execution_count": 29,
   "id": "ae97d79e",
   "metadata": {},
   "outputs": [
    {
     "data": {
      "image/png": "[encoded data removed]",
      "text/plain": [
       "<Figure size 500x500 with 1 Axes>"
      ]
     },
     "metadata": {},
     "output_type": "display_data"
    }
   ],
   "source": [
    "#https://vitalflux.com/accuracy-precision-recall-f1-score-python-example/\n",
    "conf_matrix = confusion_matrix(y_true=y_test, y_pred=y_pred_test)\n",
    "\n",
    "fig, ax = plt.subplots(figsize=(5, 5))\n",
    "ax.matshow(conf_matrix, cmap=plt.cm.Blues, alpha=0.3)\n",
    "for i in range(conf_matrix.shape[0]):\n",
    "    for j in range(conf_matrix.shape[1]):\n",
    "        ax.text(x=j, y=i,s=conf_matrix[i, j], va='center', ha='center', size='xx-large')\n",
    " \n",
    "plt.xlabel('Predictions', fontsize=18)\n",
    "plt.ylabel('Actuals', fontsize=18)\n",
    "plt.title('Confusion Matrix for Log. Reg. Model 1', fontsize=18)\n",
    "plt.show()"
   ]
  },
  {
   "cell_type": "code",
   "execution_count": 30,
   "id": "0f56a376",
   "metadata": {},
   "outputs": [
    {
     "data": {
      "image/png": "[encoded data removed]",
      "text/plain": [
       "<Figure size 1000x600 with 1 Axes>"
      ]
     },
     "metadata": {},
     "output_type": "display_data"
    }
   ],
   "source": [
    "#https://forecastegy.com/posts/feature-importance-in-logistic-regression/#feature-importance-in-binary-logistic-regression\n",
    "#checking out feature importance\n",
    "\n",
    "model = LogisticRegression()\n",
    "model.fit(X_train, y_train)\n",
    "\n",
    "\n",
    "coefficients = model.coef_[0]\n",
    "\n",
    "feature_importance = pd.DataFrame({'Feature': X.columns, 'Importance': np.abs(coefficients)})\n",
    "feature_importance = feature_importance.sort_values('Importance', ascending=True)\n",
    "feature_importance.plot(x='Feature', y='Importance', title='Feature Importance for Log. Reg. Model 1', kind='barh', figsize=(10, 6));"
   ]
  },
  {
   "cell_type": "markdown",
   "id": "5277b974",
   "metadata": {},
   "source": [
    "## Model 2: Bottom Tier Housing Without Colinear Variables \n",
    "\n",
    "We will use the bottom tier housing for modeling since it has the best class imbalance. "
   ]
  },
  {
   "cell_type": "markdown",
   "id": "38eaea48",
   "metadata": {},
   "source": [
    "### Selecting Our Target Variable and Features\n",
    "Our targer variable is increase and for our second iteration of modeling we will drop WSF2 because it's highly correlated with AWND. "
   ]
  },
  {
   "cell_type": "code",
   "execution_count": 31,
   "id": "5e31f7d9",
   "metadata": {},
   "outputs": [],
   "source": [
    "#y is prediction variable \n",
    "#X is features \n",
    "y = bottom['increase']\n",
    "X = bottom.drop(['City', 'HurricaneName', 'DATE', 'after', 'percent', 'WSF2', 'increase'], axis=1)"
   ]
  },
  {
   "cell_type": "markdown",
   "id": "84665a2d",
   "metadata": {},
   "source": [
    "### Train/Test Split"
   ]
  },
  {
   "cell_type": "code",
   "execution_count": 32,
   "id": "667b62a9",
   "metadata": {},
   "outputs": [],
   "source": [
    "#performing train test split \n",
    "X_train, X_test, y_train, y_test = train_test_split(X, y, test_size=0.30, random_state=56)"
   ]
  },
  {
   "cell_type": "markdown",
   "id": "547d0e44",
   "metadata": {},
   "source": [
    "### Scaling Our Data"
   ]
  },
  {
   "cell_type": "code",
   "execution_count": 33,
   "id": "73d0c07e",
   "metadata": {},
   "outputs": [],
   "source": [
    "#initiating Standard Scaler\n",
    "sc = StandardScaler()\n",
    "#fitting\n",
    "sc.fit(X_train)\n",
    "#tranforming X train and test\n",
    "X_train = sc.transform(X_train)\n",
    "X_test= sc.transform(X_test)"
   ]
  },
  {
   "cell_type": "markdown",
   "id": "0ef4e532",
   "metadata": {},
   "source": [
    "### Training Data"
   ]
  },
  {
   "cell_type": "code",
   "execution_count": 34,
   "id": "aa5ae6c9",
   "metadata": {},
   "outputs": [],
   "source": [
    "#fitting the model unto our training data\n",
    "logreg.fit(X_train, y_train)\n",
    "y_pred_train = logreg.predict(X_train)"
   ]
  },
  {
   "cell_type": "code",
   "execution_count": 35,
   "id": "c14f3a32",
   "metadata": {},
   "outputs": [
    {
     "name": "stdout",
     "output_type": "stream",
     "text": [
      "Accuracy: 0.684\n"
     ]
    }
   ],
   "source": [
    "#Printing Accuracy\n",
    "print('Accuracy: %.3f' % accuracy_score(y_train, y_pred_train))"
   ]
  },
  {
   "cell_type": "code",
   "execution_count": 36,
   "id": "d40c7e23",
   "metadata": {},
   "outputs": [
    {
     "name": "stdout",
     "output_type": "stream",
     "text": [
      "F1 Score: 0.311\n"
     ]
    }
   ],
   "source": [
    "#using F-1 score to see how it performs\n",
    "#F1 Score = 2* Precision Score * Recall Score/ (Precision Score + Recall Score/)\n",
    "print('F1 Score: %.3f' % f1_score(y_train, y_pred_train))"
   ]
  },
  {
   "cell_type": "markdown",
   "id": "60ad8fbc",
   "metadata": {},
   "source": [
    "### Testing Data"
   ]
  },
  {
   "cell_type": "code",
   "execution_count": 37,
   "id": "9e105c28",
   "metadata": {},
   "outputs": [],
   "source": [
    "#fitting the model unto our test data\n",
    "logreg.fit(X_test, y_test)\n",
    "y_pred_test = logreg.predict(X_test)"
   ]
  },
  {
   "cell_type": "code",
   "execution_count": 38,
   "id": "0bb861fa",
   "metadata": {},
   "outputs": [
    {
     "name": "stdout",
     "output_type": "stream",
     "text": [
      "0.7674418604651163\n"
     ]
    }
   ],
   "source": [
    "#Printing Accuracy\n",
    "accuracy_2 = accuracy_score(y_test, y_pred_test)\n",
    "print(accuracy_2)"
   ]
  },
  {
   "cell_type": "code",
   "execution_count": 39,
   "id": "153eec91",
   "metadata": {},
   "outputs": [
    {
     "name": "stdout",
     "output_type": "stream",
     "text": [
      "0.375\n"
     ]
    }
   ],
   "source": [
    "#using F-1 score to see how it performs\n",
    "#F1 Score = 2* Precision Score * Recall Score/ (Precision Score + Recall Score/)\n",
    "F1_2 = f1_score(y_test, y_pred_test)\n",
    "print(F1_2)"
   ]
  },
  {
   "cell_type": "markdown",
   "id": "464e7aec",
   "metadata": {},
   "source": [
    "### Saving to Dictionary"
   ]
  },
  {
   "cell_type": "code",
   "execution_count": 40,
   "id": "abfe70a4",
   "metadata": {},
   "outputs": [
    {
     "data": {
      "text/plain": [
       "{'Baseline Accuracy': 68.08510638297872,\n",
       " 'LGRModel1_Accuracy': 0.7441860465116279,\n",
       " 'LGRModel1_F1': 0.35294117647058826,\n",
       " 'LGRModel2_Accuracy': 0.7674418604651163,\n",
       " 'LGRModel2_F1': 0.375}"
      ]
     },
     "execution_count": 40,
     "metadata": {},
     "output_type": "execute_result"
    }
   ],
   "source": [
    "#adding to model dictionary\n",
    "model_dict['LGRModel2_Accuracy'] = accuracy_2\n",
    "model_dict['LGRModel2_F1'] = F1_2\n",
    "model_dict"
   ]
  },
  {
   "cell_type": "markdown",
   "id": "bdd67b60",
   "metadata": {},
   "source": [
    "### Confusion Matrix"
   ]
  },
  {
   "cell_type": "code",
   "execution_count": 41,
   "id": "f68868eb",
   "metadata": {},
   "outputs": [
    {
     "data": {
      "image/png": "[encoded data removed]",
      "text/plain": [
       "<Figure size 500x500 with 1 Axes>"
      ]
     },
     "metadata": {},
     "output_type": "display_data"
    }
   ],
   "source": [
    "#plotting confusion matrix\n",
    "conf_matrix = confusion_matrix(y_true=y_test, y_pred=y_pred_test)\n",
    "\n",
    "fig, ax = plt.subplots(figsize=(5, 5))\n",
    "ax.matshow(conf_matrix, cmap=plt.cm.Blues, alpha=0.3)\n",
    "for i in range(conf_matrix.shape[0]):\n",
    "    for j in range(conf_matrix.shape[1]):\n",
    "        ax.text(x=j, y=i,s=conf_matrix[i, j], va='center', ha='center', size='xx-large')\n",
    " \n",
    "plt.xlabel('Predictions', fontsize=18)\n",
    "plt.ylabel('Actuals', fontsize=18)\n",
    "plt.title('Confusion Matrix for Log. Reg. Model 2', fontsize=18)\n",
    "plt.show()"
   ]
  },
  {
   "cell_type": "code",
   "execution_count": 42,
   "id": "34f5c150",
   "metadata": {},
   "outputs": [
    {
     "data": {
      "image/png": "[encoded data removed]",
      "text/plain": [
       "<Figure size 1000x600 with 1 Axes>"
      ]
     },
     "metadata": {},
     "output_type": "display_data"
    }
   ],
   "source": [
    "model = LogisticRegression()\n",
    "model.fit(X_train, y_train)\n",
    "\n",
    "\n",
    "coefficients = model.coef_[0]\n",
    "\n",
    "feature_importance = pd.DataFrame({'Feature': X.columns, 'Importance': np.abs(coefficients)})\n",
    "feature_importance = feature_importance.sort_values('Importance', ascending=True)\n",
    "feature_importance.plot(x='Feature', y='Importance', kind='barh', title= 'Feature Importance for Log. Reg. Model 2', figsize=(10, 6));"
   ]
  },
  {
   "cell_type": "markdown",
   "id": "a4995679",
   "metadata": {},
   "source": [
    "## Model 3: Bottom Tier Housing with Smote "
   ]
  },
  {
   "cell_type": "code",
   "execution_count": 43,
   "id": "307b39cc",
   "metadata": {},
   "outputs": [],
   "source": [
    "#y is prediction variable \n",
    "#X is features \n",
    "y = bottom['increase']\n",
    "X = bottom.drop(['City', 'HurricaneName', 'DATE', 'after', 'percent', 'increase', 'WSF2'], axis=1)"
   ]
  },
  {
   "cell_type": "markdown",
   "id": "e5556dc2",
   "metadata": {},
   "source": [
    "### Train/Test Split"
   ]
  },
  {
   "cell_type": "code",
   "execution_count": 44,
   "id": "ec6b7221",
   "metadata": {},
   "outputs": [],
   "source": [
    "#performing train test split \n",
    "X_train, X_test, y_train, y_test = train_test_split(X, y, test_size=0.30, random_state=56)"
   ]
  },
  {
   "cell_type": "markdown",
   "id": "4d688226",
   "metadata": {},
   "source": [
    "### Scaling Our Data"
   ]
  },
  {
   "cell_type": "code",
   "execution_count": 45,
   "id": "18f80c3d",
   "metadata": {},
   "outputs": [],
   "source": [
    "#initiating Standard Scaler\n",
    "sc = StandardScaler()\n",
    "#fitting\n",
    "sc.fit(X_train)\n",
    "#tranforming X train and test\n",
    "X_train = sc.transform(X_train)\n",
    "X_test= sc.transform(X_test)"
   ]
  },
  {
   "cell_type": "markdown",
   "id": "f267c9cc",
   "metadata": {},
   "source": [
    "### SMOTE"
   ]
  },
  {
   "cell_type": "code",
   "execution_count": 46,
   "id": "e019e0b0",
   "metadata": {},
   "outputs": [],
   "source": [
    "# Create instance of smotec\n",
    "from imblearn.over_sampling import SMOTE,SMOTENC\n",
    "# set sampling_strategy to 0.8 to avoid oversampling\n",
    "smote = SMOTE(sampling_strategy=0.8, random_state=56)"
   ]
  },
  {
   "cell_type": "code",
   "execution_count": 47,
   "id": "e299cca0",
   "metadata": {},
   "outputs": [],
   "source": [
    "# Create resampled version of the train dataset\n",
    "SMOTE_X_train, SMOTE_y_train = smote.fit_resample(X_train, y_train)\n",
    "# Create resampled version of the test dataset\n",
    "SMOTE_X_test, SMOTE_y_test = smote.fit_resample(X_test, y_test)"
   ]
  },
  {
   "cell_type": "code",
   "execution_count": 48,
   "id": "b91c2852",
   "metadata": {},
   "outputs": [
    {
     "name": "stdout",
     "output_type": "stream",
     "text": [
      "Before Smote\n",
      " 0    65\n",
      "1    33\n",
      "Name: increase, dtype: int64\n",
      "\n",
      "After Smote\n",
      " 0    65\n",
      "1    52\n",
      "Name: increase, dtype: int64\n"
     ]
    }
   ],
   "source": [
    "#before smote\n",
    "print('Before Smote\\n', y_train.value_counts())\n",
    "\n",
    "#after smote\n",
    "print('\\nAfter Smote\\n', SMOTE_y_train.value_counts())"
   ]
  },
  {
   "cell_type": "markdown",
   "id": "4887f075",
   "metadata": {},
   "source": [
    "### Training Data"
   ]
  },
  {
   "cell_type": "code",
   "execution_count": 49,
   "id": "88f22cab",
   "metadata": {},
   "outputs": [],
   "source": [
    "#fitting the model unto our training data\n",
    "logreg.fit(SMOTE_X_train, SMOTE_y_train)\n",
    "y_pred_train = logreg.predict(SMOTE_X_train)"
   ]
  },
  {
   "cell_type": "code",
   "execution_count": 50,
   "id": "dd9e5268",
   "metadata": {},
   "outputs": [
    {
     "name": "stdout",
     "output_type": "stream",
     "text": [
      "Accuracy: 0.641\n"
     ]
    }
   ],
   "source": [
    "#Printing Accuracy\n",
    "print('Accuracy: %.3f' % accuracy_score(SMOTE_y_train, y_pred_train))"
   ]
  },
  {
   "cell_type": "code",
   "execution_count": 51,
   "id": "0d1b0bbd",
   "metadata": {},
   "outputs": [
    {
     "name": "stdout",
     "output_type": "stream",
     "text": [
      "F1 Score: 0.553\n"
     ]
    }
   ],
   "source": [
    "#using F-1 score to see how it performs\n",
    "#F1 Score = 2* Precision Score * Recall Score/ (Precision Score + Recall Score/)\n",
    "print('F1 Score: %.3f' % f1_score(SMOTE_y_train, y_pred_train))"
   ]
  },
  {
   "cell_type": "markdown",
   "id": "4cf991ba",
   "metadata": {},
   "source": [
    "### Testing Data"
   ]
  },
  {
   "cell_type": "code",
   "execution_count": 52,
   "id": "42bd4951",
   "metadata": {},
   "outputs": [],
   "source": [
    "#fitting the model unto our test data\n",
    "logreg.fit(SMOTE_X_test, SMOTE_y_test)\n",
    "y_pred_test = logreg.predict(SMOTE_X_test)"
   ]
  },
  {
   "cell_type": "code",
   "execution_count": 53,
   "id": "26d4e713",
   "metadata": {},
   "outputs": [
    {
     "name": "stdout",
     "output_type": "stream",
     "text": [
      "0.7454545454545455\n"
     ]
    }
   ],
   "source": [
    "#Printing Accuracy\n",
    "accuracy_3 = accuracy_score(SMOTE_y_test, y_pred_test)\n",
    "print(accuracy_3)"
   ]
  },
  {
   "cell_type": "code",
   "execution_count": 54,
   "id": "c7f89679",
   "metadata": {},
   "outputs": [
    {
     "name": "stdout",
     "output_type": "stream",
     "text": [
      "0.6818181818181818\n"
     ]
    }
   ],
   "source": [
    "#using F-1 score to see how it performs\n",
    "#F1 Score = 2* Precision Score * Recall Score/ (Precision Score + Recall Score/)\n",
    "F1_3 = f1_score(SMOTE_y_test, y_pred_test)\n",
    "print(F1_3)"
   ]
  },
  {
   "cell_type": "code",
   "execution_count": 55,
   "id": "164240c7",
   "metadata": {},
   "outputs": [
    {
     "data": {
      "text/plain": [
       "{'Baseline Accuracy': 68.08510638297872,\n",
       " 'LGRModel1_Accuracy': 0.7441860465116279,\n",
       " 'LGRModel1_F1': 0.35294117647058826,\n",
       " 'LGRModel2_Accuracy': 0.7674418604651163,\n",
       " 'LGRModel2_F1': 0.375,\n",
       " 'LGRModel3_Accuracy': 0.7454545454545455,\n",
       " 'LGRModel3_F1': 0.6818181818181818}"
      ]
     },
     "execution_count": 55,
     "metadata": {},
     "output_type": "execute_result"
    }
   ],
   "source": [
    "model_dict['LGRModel3_Accuracy'] = accuracy_3\n",
    "model_dict['LGRModel3_F1'] = F1_3\n",
    "model_dict"
   ]
  },
  {
   "cell_type": "markdown",
   "id": "24b1709d",
   "metadata": {},
   "source": [
    "### Confusion Matrix"
   ]
  },
  {
   "cell_type": "code",
   "execution_count": 56,
   "id": "880728e7",
   "metadata": {},
   "outputs": [
    {
     "data": {
      "image/png": "[encoded data removed]",
      "text/plain": [
       "<Figure size 500x500 with 1 Axes>"
      ]
     },
     "metadata": {},
     "output_type": "display_data"
    }
   ],
   "source": [
    "#https://vitalflux.com/accuracy-precision-recall-f1-score-python-example/\n",
    "conf_matrix = confusion_matrix(y_true=SMOTE_y_test, y_pred=y_pred_test)\n",
    "\n",
    "fig, ax = plt.subplots(figsize=(5, 5))\n",
    "ax.matshow(conf_matrix, cmap=plt.cm.Blues, alpha=0.3)\n",
    "for i in range(conf_matrix.shape[0]):\n",
    "    for j in range(conf_matrix.shape[1]):\n",
    "        ax.text(x=j, y=i,s=conf_matrix[i, j], va='center', ha='center', size='xx-large')\n",
    " \n",
    "plt.xlabel('Predictions', fontsize=18)\n",
    "plt.ylabel('Actuals', fontsize=18)\n",
    "plt.title('Confusion Matrix for Log. Reg. Model 3', fontsize=18)\n",
    "plt.show()"
   ]
  },
  {
   "cell_type": "markdown",
   "id": "36eb96fb",
   "metadata": {},
   "source": [
    "### Feature Importance"
   ]
  },
  {
   "cell_type": "code",
   "execution_count": 57,
   "id": "58653ca7",
   "metadata": {},
   "outputs": [
    {
     "data": {
      "image/png": "[encoded data removed]",
      "text/plain": [
       "<Figure size 1000x600 with 1 Axes>"
      ]
     },
     "metadata": {},
     "output_type": "display_data"
    }
   ],
   "source": [
    "model = LogisticRegression()\n",
    "model.fit(SMOTE_X_train, SMOTE_y_train)\n",
    "\n",
    "coefficients = model.coef_[0]\n",
    "\n",
    "feature_importance = pd.DataFrame({'Feature': X.columns, 'Importance': np.abs(coefficients)})\n",
    "feature_importance = feature_importance.sort_values('Importance', ascending=True)\n",
    "feature_importance.plot(x='Feature', y='Importance', kind='barh', title= 'Feature Importance for Log. Reg. Model 3', figsize=(10, 6));"
   ]
  },
  {
   "cell_type": "markdown",
   "id": "18abb4d3",
   "metadata": {},
   "source": [
    "## XGBoost"
   ]
  },
  {
   "cell_type": "code",
   "execution_count": 58,
   "id": "7cf13928",
   "metadata": {},
   "outputs": [],
   "source": [
    "#initiating model\n",
    "xgb = xgb.XGBClassifier(random_state=56)"
   ]
  },
  {
   "cell_type": "markdown",
   "id": "89653554",
   "metadata": {},
   "source": [
    "### Selecting Our Target Variable and Features"
   ]
  },
  {
   "cell_type": "code",
   "execution_count": 59,
   "id": "81c9a7cf",
   "metadata": {},
   "outputs": [],
   "source": [
    "#y is prediction variable \n",
    "#X is features \n",
    "y_boost = bottom['increase']\n",
    "X_boost = bottom.drop(['City', 'HurricaneName', 'DATE', 'after', 'percent', 'increase'], axis=1)\n"
   ]
  },
  {
   "cell_type": "markdown",
   "id": "60d30b6c",
   "metadata": {},
   "source": [
    "### Train/Test Split"
   ]
  },
  {
   "cell_type": "code",
   "execution_count": 60,
   "id": "54b5232a",
   "metadata": {},
   "outputs": [],
   "source": [
    "#train/test splits with 30% test size\n",
    "XG_X_train, XG_X_test, XG_y_train, XG_y_test = train_test_split(X_boost, y_boost, test_size=0.30, random_state=56)"
   ]
  },
  {
   "cell_type": "markdown",
   "id": "f4800318",
   "metadata": {},
   "source": [
    "### Training Data"
   ]
  },
  {
   "cell_type": "code",
   "execution_count": 61,
   "id": "17f09e1b",
   "metadata": {},
   "outputs": [],
   "source": [
    "xgb.fit(XG_X_train, XG_y_train);"
   ]
  },
  {
   "cell_type": "code",
   "execution_count": 62,
   "id": "93ae30c5",
   "metadata": {},
   "outputs": [],
   "source": [
    "y_pred_train = xgb.predict(XG_X_train)"
   ]
  },
  {
   "cell_type": "code",
   "execution_count": 63,
   "id": "05d7aa16",
   "metadata": {},
   "outputs": [
    {
     "name": "stdout",
     "output_type": "stream",
     "text": [
      "Accuracy: 1.000\n"
     ]
    }
   ],
   "source": [
    "#Printing Accuracy\n",
    "print('Accuracy: %.3f' % accuracy_score(XG_y_train, y_pred_train))"
   ]
  },
  {
   "cell_type": "code",
   "execution_count": 64,
   "id": "29ecd78b",
   "metadata": {},
   "outputs": [
    {
     "name": "stdout",
     "output_type": "stream",
     "text": [
      "F1 Score: 1.000\n"
     ]
    }
   ],
   "source": [
    "#using F-1 score to see how it performs\n",
    "#F1 Score = 2* Precision Score * Recall Score/ (Precision Score + Recall Score/)\n",
    "print('F1 Score: %.3f' % f1_score(XG_y_train, y_pred_train))"
   ]
  },
  {
   "cell_type": "markdown",
   "id": "5e08d1c1",
   "metadata": {},
   "source": [
    "### Testing Data"
   ]
  },
  {
   "cell_type": "code",
   "execution_count": 65,
   "id": "8816092c",
   "metadata": {},
   "outputs": [],
   "source": [
    "xgb.fit(XG_X_test, XG_y_test);"
   ]
  },
  {
   "cell_type": "code",
   "execution_count": 66,
   "id": "37b897e3",
   "metadata": {},
   "outputs": [],
   "source": [
    "y_pred_test = xgb.predict(XG_X_test)"
   ]
  },
  {
   "cell_type": "code",
   "execution_count": 67,
   "id": "b7290e7c",
   "metadata": {},
   "outputs": [
    {
     "name": "stdout",
     "output_type": "stream",
     "text": [
      "1.0\n"
     ]
    }
   ],
   "source": [
    "#Printing Accuracy\n",
    "accuracy_XG1 = accuracy_score(XG_y_test, y_pred_test)\n",
    "print(accuracy_XG1)"
   ]
  },
  {
   "cell_type": "code",
   "execution_count": 68,
   "id": "6a195584",
   "metadata": {},
   "outputs": [
    {
     "name": "stdout",
     "output_type": "stream",
     "text": [
      "1.0\n"
     ]
    }
   ],
   "source": [
    "#using F-1 score to see how it performs\n",
    "#F1 Score = 2* Precision Score * Recall Score/ (Precision Score + Recall Score/)\n",
    "F1_XG1 = f1_score(XG_y_test, y_pred_test)\n",
    "print(F1_XG1)"
   ]
  },
  {
   "cell_type": "code",
   "execution_count": 69,
   "id": "1ec39f23",
   "metadata": {},
   "outputs": [
    {
     "data": {
      "text/plain": [
       "{'Baseline Accuracy': 68.08510638297872,\n",
       " 'LGRModel1_Accuracy': 0.7441860465116279,\n",
       " 'LGRModel1_F1': 0.35294117647058826,\n",
       " 'LGRModel2_Accuracy': 0.7674418604651163,\n",
       " 'LGRModel2_F1': 0.375,\n",
       " 'LGRModel3_Accuracy': 0.7454545454545455,\n",
       " 'LGRModel3_F1': 0.6818181818181818,\n",
       " 'XGBoost_Accuracy': 1.0,\n",
       " 'XGBoost_F1': 1.0}"
      ]
     },
     "execution_count": 69,
     "metadata": {},
     "output_type": "execute_result"
    }
   ],
   "source": [
    "model_dict['XGBoost_Accuracy'] = accuracy_XG1\n",
    "model_dict['XGBoost_F1'] = F1_XG1\n",
    "model_dict"
   ]
  },
  {
   "cell_type": "code",
   "execution_count": 70,
   "id": "629f893b",
   "metadata": {},
   "outputs": [
    {
     "data": {
      "image/png": "[encoded data removed]",
      "text/plain": [
       "<Figure size 500x500 with 1 Axes>"
      ]
     },
     "metadata": {},
     "output_type": "display_data"
    }
   ],
   "source": [
    "conf_matrix = confusion_matrix(y_true=XG_y_test, y_pred=y_pred_test)\n",
    "\n",
    "fig, ax = plt.subplots(figsize=(5, 5))\n",
    "ax.matshow(conf_matrix, cmap=plt.cm.Blues, alpha=0.3)\n",
    "for i in range(conf_matrix.shape[0]):\n",
    "    for j in range(conf_matrix.shape[1]):\n",
    "        ax.text(x=j, y=i,s=conf_matrix[i, j], va='center', ha='center', size='xx-large')\n",
    " \n",
    "plt.xlabel('Predictions', fontsize=18)\n",
    "plt.ylabel('Actuals', fontsize=18)\n",
    "plt.title('Confusion Matrix for Best Model', fontsize=18)\n",
    "plt.show()"
   ]
  },
  {
   "cell_type": "code",
   "execution_count": 71,
   "id": "96b28e33",
   "metadata": {},
   "outputs": [
    {
     "data": {
      "image/png": "[encoded data removed]",
      "text/plain": [
       "<Figure size 640x480 with 1 Axes>"
      ]
     },
     "metadata": {},
     "output_type": "display_data"
    }
   ],
   "source": [
    "#seeing what features are most important to housing value\n",
    "#Using feature importance \n",
    "feature_importances = xgb.feature_importances_\n",
    "\n",
    "# Create a list of features\n",
    "feature_list = list(X_boost.columns)\n",
    "\n",
    "# Save the results inside a DataFrame using feature_list as an index\n",
    "relative_importances = pd.DataFrame(index=feature_list, data=feature_importances, columns=[\"importance\"])\n",
    "\n",
    "# Sort values to learn most important features\n",
    "relative_importances.sort_values(by=\"importance\", ascending=False)\n",
    "\n",
    "\n",
    "result = relative_importances.reset_index().sort_values('importance',ascending=False)\n",
    "\n",
    "#plot feature importances with sorted values\n",
    "sns.barplot(x='importance', y=\"index\", data=result, color='blue').set(title='Feature Importance of Best Model', ylabel = 'feature');"
   ]
  },
  {
   "cell_type": "markdown",
   "id": "e1a5532c",
   "metadata": {},
   "source": [
    "# How Do Wind Speed Features Impact Model Performance\n",
    "For the scope of this project we are particularily interested in how hurricane's impact real estate value. Using wind speed we were able to gauge how much damage a hurricane had on a certain area. The most important feature for our best model was fastest 2 minute wind gust and SizeRank. When we drop the wind features from the model the accuracy drops to 0.95 and the F1 score drops to 0.90. "
   ]
  },
  {
   "cell_type": "markdown",
   "id": "67409c07",
   "metadata": {},
   "source": [
    "### Selecting Our Target Variable and Features"
   ]
  },
  {
   "cell_type": "code",
   "execution_count": 72,
   "id": "0d0b4224",
   "metadata": {},
   "outputs": [],
   "source": [
    "#y is prediction variable \n",
    "#X is features \n",
    "y_boost = bottom['increase']\n",
    "X_boost = bottom.drop(['City', 'HurricaneName', 'DATE', 'after', 'percent', 'increase', 'WSF2', 'AWND'], axis=1)\n"
   ]
  },
  {
   "cell_type": "markdown",
   "id": "c73814ae",
   "metadata": {},
   "source": [
    "### Train/Test Split"
   ]
  },
  {
   "cell_type": "code",
   "execution_count": 73,
   "id": "1dd8d46b",
   "metadata": {},
   "outputs": [],
   "source": [
    "#train/test splits with 30% test size\n",
    "XG_X_train, XG_X_test, XG_y_train, XG_y_test = train_test_split(X_boost, y_boost, test_size=0.30, random_state=56)"
   ]
  },
  {
   "cell_type": "markdown",
   "id": "36cf9296",
   "metadata": {},
   "source": [
    "### Training Data"
   ]
  },
  {
   "cell_type": "code",
   "execution_count": 74,
   "id": "6c6e4ec3",
   "metadata": {},
   "outputs": [],
   "source": [
    "xgb.fit(XG_X_train, XG_y_train);"
   ]
  },
  {
   "cell_type": "code",
   "execution_count": 75,
   "id": "c48d3207",
   "metadata": {},
   "outputs": [],
   "source": [
    "y_pred_train = xgb.predict(XG_X_train)"
   ]
  },
  {
   "cell_type": "code",
   "execution_count": 76,
   "id": "2f6ce16e",
   "metadata": {},
   "outputs": [
    {
     "name": "stdout",
     "output_type": "stream",
     "text": [
      "Accuracy: 1.000\n"
     ]
    }
   ],
   "source": [
    "#Printing Accuracy\n",
    "print('Accuracy: %.3f' % accuracy_score(XG_y_train, y_pred_train))"
   ]
  },
  {
   "cell_type": "code",
   "execution_count": 77,
   "id": "e9bf14b3",
   "metadata": {},
   "outputs": [
    {
     "name": "stdout",
     "output_type": "stream",
     "text": [
      "F1 Score: 1.000\n"
     ]
    }
   ],
   "source": [
    "#using F-1 score to see how it performs\n",
    "#F1 Score = 2* Precision Score * Recall Score/ (Precision Score + Recall Score/)\n",
    "print('F1 Score: %.3f' % f1_score(XG_y_train, y_pred_train))"
   ]
  },
  {
   "cell_type": "markdown",
   "id": "3915da06",
   "metadata": {},
   "source": [
    "### Testing Data"
   ]
  },
  {
   "cell_type": "code",
   "execution_count": 78,
   "id": "25a1ed96",
   "metadata": {},
   "outputs": [],
   "source": [
    "#fitting the model \n",
    "xgb.fit(XG_X_test, XG_y_test);"
   ]
  },
  {
   "cell_type": "code",
   "execution_count": 79,
   "id": "602e9069",
   "metadata": {},
   "outputs": [],
   "source": [
    "#getting predictions \n",
    "y_pred_test = xgb.predict(XG_X_test)"
   ]
  },
  {
   "cell_type": "code",
   "execution_count": 80,
   "id": "deafecec",
   "metadata": {},
   "outputs": [
    {
     "name": "stdout",
     "output_type": "stream",
     "text": [
      "0.9534883720930233\n"
     ]
    }
   ],
   "source": [
    "#Printing Accuracy\n",
    "accuracy_XGW = accuracy_score(XG_y_test, y_pred_test)\n",
    "print(accuracy_XGW)"
   ]
  },
  {
   "cell_type": "code",
   "execution_count": 81,
   "id": "56f46615",
   "metadata": {},
   "outputs": [
    {
     "name": "stdout",
     "output_type": "stream",
     "text": [
      "0.9090909090909091\n"
     ]
    }
   ],
   "source": [
    "#using F-1 score to see how it performs\n",
    "#F1 Score = 2* Precision Score * Recall Score/ (Precision Score + Recall Score/)\n",
    "F1_XGW = f1_score(XG_y_test, y_pred_test)\n",
    "print(F1_XGW)"
   ]
  },
  {
   "cell_type": "code",
   "execution_count": 82,
   "id": "5ed81ab0",
   "metadata": {},
   "outputs": [
    {
     "data": {
      "text/plain": [
       "{'Baseline Accuracy': 68.08510638297872,\n",
       " 'LGRModel1_Accuracy': 0.7441860465116279,\n",
       " 'LGRModel1_F1': 0.35294117647058826,\n",
       " 'LGRModel2_Accuracy': 0.7674418604651163,\n",
       " 'LGRModel2_F1': 0.375,\n",
       " 'LGRModel3_Accuracy': 0.7454545454545455,\n",
       " 'LGRModel3_F1': 0.6818181818181818,\n",
       " 'XGBoost_Accuracy': 1.0,\n",
       " 'XGBoost_F1': 1.0,\n",
       " 'XGBoost_Accuracy_No_Wind': 0.9534883720930233,\n",
       " 'XGBoost_F1_No_Wind': 0.9090909090909091}"
      ]
     },
     "execution_count": 82,
     "metadata": {},
     "output_type": "execute_result"
    }
   ],
   "source": [
    "model_dict['XGBoost_Accuracy_No_Wind'] = accuracy_XGW\n",
    "model_dict['XGBoost_F1_No_Wind'] = F1_XGW\n",
    "model_dict"
   ]
  },
  {
   "cell_type": "code",
   "execution_count": 83,
   "id": "927224e1",
   "metadata": {
    "scrolled": true
   },
   "outputs": [
    {
     "data": {
      "image/png": "[encoded data removed]",
      "text/plain": [
       "<Figure size 500x500 with 1 Axes>"
      ]
     },
     "metadata": {},
     "output_type": "display_data"
    }
   ],
   "source": [
    "conf_matrix = confusion_matrix(y_true=XG_y_test, y_pred=y_pred_test)\n",
    "\n",
    "fig, ax = plt.subplots(figsize=(5, 5))\n",
    "ax.matshow(conf_matrix, cmap=plt.cm.Blues, alpha=0.3)\n",
    "for i in range(conf_matrix.shape[0]):\n",
    "    for j in range(conf_matrix.shape[1]):\n",
    "        ax.text(x=j, y=i,s=conf_matrix[i, j], va='center', ha='center', size='xx-large')\n",
    " \n",
    "plt.xlabel('Predictions', fontsize=18)\n",
    "plt.ylabel('Actuals', fontsize=18)\n",
    "plt.title('Confusion Matrix', fontsize=18)\n",
    "plt.show()"
   ]
  },
  {
   "cell_type": "code",
   "execution_count": 84,
   "id": "58744c62",
   "metadata": {},
   "outputs": [
    {
     "data": {
      "image/png": "[encoded data removed]",
      "text/plain": [
       "<Figure size 640x480 with 1 Axes>"
      ]
     },
     "metadata": {},
     "output_type": "display_data"
    }
   ],
   "source": [
    "#seeing what features are most important to housing value\n",
    "#Using feature importance \n",
    "feature_importances = xgb.feature_importances_\n",
    "\n",
    "# Create a list of features\n",
    "feature_list = list(X_boost.columns)\n",
    "\n",
    "# Save the results inside a DataFrame using feature_list as an index\n",
    "relative_importances = pd.DataFrame(index=feature_list, data=feature_importances, columns=[\"importance\"])\n",
    "\n",
    "# Sort values to learn most important features\n",
    "relative_importances.sort_values(by=\"importance\", ascending=False)\n",
    "\n",
    "\n",
    "result = relative_importances.reset_index().sort_values('importance',ascending=False)\n",
    "\n",
    "#plot feature importances with sorted values\n",
    "sns.barplot(x='importance', y=\"index\", data=result, color='blue');"
   ]
  },
  {
   "cell_type": "markdown",
   "id": "e10b2deb",
   "metadata": {},
   "source": [
    "# Best Model: XGBoost\n",
    "We ran two types of models, logistic regression and XG Boost. The best logisitc regression model had an accuracy of 72% which is only slightly better than the majority percent of 68%. Our best model was XGBoost which had a perfect accuracy and F1 score with the included features:\n",
    "- AWND\n",
    "- WSF2\n",
    "- SizeRank\n",
    "- before "
   ]
  },
  {
   "cell_type": "code",
   "execution_count": 85,
   "id": "db8c0ac7",
   "metadata": {},
   "outputs": [
    {
     "data": {
      "text/plain": [
       "{'Baseline Accuracy': 68.08510638297872,\n",
       " 'LGRModel1_Accuracy': 0.7441860465116279,\n",
       " 'LGRModel1_F1': 0.35294117647058826,\n",
       " 'LGRModel2_Accuracy': 0.7674418604651163,\n",
       " 'LGRModel2_F1': 0.375,\n",
       " 'LGRModel3_Accuracy': 0.7454545454545455,\n",
       " 'LGRModel3_F1': 0.6818181818181818,\n",
       " 'XGBoost_Accuracy': 1.0,\n",
       " 'XGBoost_F1': 1.0,\n",
       " 'XGBoost_Accuracy_No_Wind': 0.9534883720930233,\n",
       " 'XGBoost_F1_No_Wind': 0.9090909090909091}"
      ]
     },
     "execution_count": 85,
     "metadata": {},
     "output_type": "execute_result"
    }
   ],
   "source": [
    "model_dict"
   ]
  },
  {
   "cell_type": "markdown",
   "id": "84ad636c",
   "metadata": {},
   "source": [
    "## XGBoost Hypertuning \n",
    "\n",
    "Even though our model is running well as is, I am curious to know what the best parameters for it are. Let's run a gridsearch. "
   ]
  },
  {
   "cell_type": "code",
   "execution_count": 91,
   "id": "520965f9",
   "metadata": {},
   "outputs": [
    {
     "name": "stdout",
     "output_type": "stream",
     "text": [
      "Best Parameters for Our XGBoost Model:\n"
     ]
    },
    {
     "data": {
      "text/plain": [
       "{'gamma': 0,\n",
       " 'learning_rate': 0.01,\n",
       " 'max_depth': 2,\n",
       " 'min_child_weight': 10,\n",
       " 'n_estimators': 5,\n",
       " 'subsample': 0.5}"
      ]
     },
     "execution_count": 91,
     "metadata": {},
     "output_type": "execute_result"
    }
   ],
   "source": [
    "#hypertuning the model using GridSearch\n",
    "xgb_grid = {\n",
    "            'learning_rate': [0.01, 0.1, 0.5], \n",
    "            'gamma': [0, 0.01, 0.1], \n",
    "            'max_depth': [2, 5, 6, 10], \n",
    "            'min_child_weight': [0.1, 1, 10], \n",
    "            'subsample': [0.5, 0.7, 0.9], \n",
    "            'n_estimators': [5, 10, 20, 100]\n",
    "           }\n",
    "\n",
    "xgb_gridsearch = GridSearchCV(estimator=xgb, \n",
    "                              param_grid=xgb_grid, \n",
    "                              cv=5, \n",
    "                              return_train_score=True)\n",
    "\n",
    "xgb_gridsearch.fit(X_boost, y_boost)\n",
    "\n",
    "print('Best Parameters for Our XGBoost Model:')\n",
    "xgb_gridsearch.best_params_"
   ]
  },
  {
   "cell_type": "code",
   "execution_count": 97,
   "id": "4e203b01",
   "metadata": {},
   "outputs": [
    {
     "name": "stdout",
     "output_type": "stream",
     "text": [
      "Collecting xgboost==1.2.0\n",
      "  Downloading xgboost-1.2.0-py3-none-win_amd64.whl (86.5 MB)\n",
      "     --------------------------------------- 86.5/86.5 MB 16.8 MB/s eta 0:00:00\n",
      "Requirement already satisfied: numpy in c:\\users\\salom\\anaconda3\\lib\\site-packages (from xgboost==1.2.0) (1.23.5)\n",
      "Requirement already satisfied: scipy in c:\\users\\salom\\anaconda3\\lib\\site-packages (from xgboost==1.2.0) (1.10.0)\n",
      "Installing collected packages: xgboost\n",
      "  Attempting uninstall: xgboost\n",
      "    Found existing installation: xgboost 1.7.6\n",
      "    Uninstalling xgboost-1.7.6:\n",
      "      Successfully uninstalled xgboost-1.7.6\n",
      "Note: you may need to restart the kernel to use updated packages.\n"
     ]
    },
    {
     "name": "stderr",
     "output_type": "stream",
     "text": [
      "ERROR: Could not install packages due to an OSError: [WinError 5] Access is denied: 'C:\\\\Users\\\\salom\\\\anaconda3\\\\Lib\\\\site-packages\\\\~gboost\\\\lib\\\\xgboost.dll'\n",
      "Consider using the `--user` option or check the permissions.\n",
      "\n"
     ]
    }
   ],
   "source": [
    "pip install xgboost==1.2.0"
   ]
  },
  {
   "cell_type": "code",
   "execution_count": 96,
   "id": "4b07b15a",
   "metadata": {},
   "outputs": [
    {
     "ename": "AttributeError",
     "evalue": "'XGBClassifier' object has no attribute 'XGBClassifier'",
     "output_type": "error",
     "traceback": [
      "\u001b[1;31m---------------------------------------------------------------------------\u001b[0m",
      "\u001b[1;31mAttributeError\u001b[0m                            Traceback (most recent call last)",
      "Cell \u001b[1;32mIn[96], line 2\u001b[0m\n\u001b[0;32m      1\u001b[0m \u001b[38;5;66;03m#Setting up classified with best parameters \u001b[39;00m\n\u001b[1;32m----> 2\u001b[0m gs_xg \u001b[38;5;241m=\u001b[39m \u001b[43mxgb\u001b[49m\u001b[38;5;241;43m.\u001b[39;49m\u001b[43mXGBClassifier\u001b[49m(gamma\u001b[38;5;241m=\u001b[39m\u001b[38;5;241m0\u001b[39m, \n\u001b[0;32m      3\u001b[0m                                learning_rate\u001b[38;5;241m=\u001b[39m\u001b[38;5;241m0.01\u001b[39m, \n\u001b[0;32m      4\u001b[0m                                max_depth\u001b[38;5;241m=\u001b[39m\u001b[38;5;241m2\u001b[39m, \n\u001b[0;32m      5\u001b[0m                                min_child_weight\u001b[38;5;241m=\u001b[39m\u001b[38;5;241m10\u001b[39m, \n\u001b[0;32m      6\u001b[0m                                n_estimators\u001b[38;5;241m=\u001b[39m\u001b[38;5;241m5\u001b[39m, \n\u001b[0;32m      7\u001b[0m                                subsample\u001b[38;5;241m=\u001b[39m\u001b[38;5;241m0.5\u001b[39m, \n\u001b[0;32m      8\u001b[0m                                random_state\u001b[38;5;241m=\u001b[39m\u001b[38;5;241m56\u001b[39m)\n",
      "\u001b[1;31mAttributeError\u001b[0m: 'XGBClassifier' object has no attribute 'XGBClassifier'"
     ]
    }
   ],
   "source": [
    "#Setting up classified with best parameters \n",
    "gs_xg = xgb.XGBClassifier(gamma=0, \n",
    "                               learning_rate=0.01, \n",
    "                               max_depth=2, \n",
    "                               min_child_weight=10, \n",
    "                               n_estimators=5, \n",
    "                               subsample=0.5, \n",
    "                               random_state=56)"
   ]
  },
  {
   "cell_type": "markdown",
   "id": "e7371203",
   "metadata": {},
   "source": [
    "## XGBoost on All Data\n",
    "\n",
    "Now that we have our model, let's see how it performs on other data. "
   ]
  },
  {
   "cell_type": "markdown",
   "id": "a7da3fe6",
   "metadata": {},
   "source": [
    "### Selecting Our Target Variable and Features\n",
    "Our targer variable is increase and for our second iteration of modeling we will drop WSF2 because it's highly correlated with AWND. "
   ]
  },
  {
   "cell_type": "code",
   "execution_count": null,
   "id": "d230d06a",
   "metadata": {},
   "outputs": [],
   "source": [
    "all_df"
   ]
  },
  {
   "cell_type": "code",
   "execution_count": null,
   "id": "ea0a39b3",
   "metadata": {},
   "outputs": [],
   "source": [
    "#y is prediction variable \n",
    "#X is features \n",
    "y_boost = all_df['increase']\n",
    "X_boost = all_df.drop(['City', 'HurricaneName', 'DATE', 'after', 'percent', 'increase'], axis=1)"
   ]
  },
  {
   "cell_type": "code",
   "execution_count": null,
   "id": "5790d67d",
   "metadata": {},
   "outputs": [],
   "source": [
    "#performing train test split \n",
    "XG_X_train, XG_X_test, XG_y_train, XG_y_test = train_test_split(X_boost, y_boost, test_size=0.30, random_state=56)"
   ]
  },
  {
   "cell_type": "code",
   "execution_count": null,
   "id": "2449d2b9",
   "metadata": {},
   "outputs": [],
   "source": [
    "xgb.fit(XG_X_train, XG_y_train);"
   ]
  },
  {
   "cell_type": "code",
   "execution_count": null,
   "id": "920f6076",
   "metadata": {},
   "outputs": [],
   "source": [
    "y_pred_train = xgb.predict(XG_X_train)"
   ]
  },
  {
   "cell_type": "code",
   "execution_count": null,
   "id": "ece4df77",
   "metadata": {},
   "outputs": [],
   "source": [
    "#Printing Accuracy\n",
    "print('Accuracy: %.3f' % accuracy_score(XG_y_train, y_pred_train))"
   ]
  },
  {
   "cell_type": "code",
   "execution_count": null,
   "id": "5ee43191",
   "metadata": {},
   "outputs": [],
   "source": [
    "#using F-1 score to see how it performs\n",
    "#F1 Score = 2* Precision Score * Recall Score/ (Precision Score + Recall Score/)\n",
    "print('F1 Score: %.3f' % f1_score(XG_y_train, y_pred_train))"
   ]
  },
  {
   "cell_type": "code",
   "execution_count": null,
   "id": "a66fc08e",
   "metadata": {},
   "outputs": [],
   "source": [
    "xgb.fit(XG_X_test, XG_y_test);"
   ]
  },
  {
   "cell_type": "code",
   "execution_count": null,
   "id": "8097a641",
   "metadata": {},
   "outputs": [],
   "source": [
    "y_pred_test = xgb.predict(XG_X_test)"
   ]
  },
  {
   "cell_type": "code",
   "execution_count": null,
   "id": "4b6d15af",
   "metadata": {},
   "outputs": [],
   "source": [
    "#Printing Accuracy\n",
    "print('Accuracy: %.3f' % accuracy_score(XG_y_test, y_pred_test))"
   ]
  },
  {
   "cell_type": "code",
   "execution_count": null,
   "id": "d39cb8a8",
   "metadata": {},
   "outputs": [],
   "source": [
    "#using F-1 score to see how it performs\n",
    "#F1 Score = 2* Precision Score * Recall Score/ (Precision Score + Recall Score/)\n",
    "print('F1 Score: %.3f' % f1_score(XG_y_test, y_pred_test))"
   ]
  },
  {
   "cell_type": "code",
   "execution_count": null,
   "id": "9fdeaf3c",
   "metadata": {},
   "outputs": [],
   "source": [
    "#looking at confusion matrix \n",
    "#calling confusion matrix \n",
    "conf_matrix = confusion_matrix(y_true=XG_y_test, y_pred=y_pred_test)\n",
    "\n",
    "#plotting confusion matrix\n",
    "fig, ax = plt.subplots(figsize=(5, 5))\n",
    "ax.matshow(conf_matrix, cmap=plt.cm.Blues, alpha=0.3)\n",
    "for i in range(conf_matrix.shape[0]):\n",
    "    for j in range(conf_matrix.shape[1]):\n",
    "        ax.text(x=j, y=i,s=conf_matrix[i, j], va='center', ha='center', size='xx-large')\n",
    "\n",
    "#labeling confusion matrix \n",
    "plt.xlabel('Predictions', fontsize=18)\n",
    "plt.ylabel('Actuals', fontsize=18)\n",
    "plt.title('Confusion Matrix', fontsize=18)\n",
    "plt.show()"
   ]
  },
  {
   "cell_type": "markdown",
   "id": "1d773358",
   "metadata": {},
   "source": [
    "## XGBoost on Hurricane Ian Data"
   ]
  },
  {
   "cell_type": "code",
   "execution_count": null,
   "id": "5e9b3ee3",
   "metadata": {},
   "outputs": [],
   "source": [
    "# Checking the balance of target variable 'increase'\n",
    "#plotting \n",
    "sns.countplot(x='increase', data=all_ian).set(title='Hurricane Ian Class Imbalance')\n",
    "#print value counts \n",
    "print(all_ian['increase'].value_counts())\n",
    "#checking ratio to see what accuracy is like\n",
    "percent = (len(all_ian['increase']) - all_ian['increase'].sum())/(len(all_ian['increase']) - all_ian['increase'].sum()+all_ian['increase'].sum())*100\n",
    "print(\"majority percent is {}\".format(percent),\"%\")"
   ]
  },
  {
   "cell_type": "markdown",
   "id": "0d6e1503",
   "metadata": {},
   "source": [
    "### Selecting Our Target Variable and Features\n",
    "Our targer variable is increase and for our second iteration of modeling we will drop WSF2 because it's highly correlated with AWND. "
   ]
  },
  {
   "cell_type": "code",
   "execution_count": null,
   "id": "da8829a7",
   "metadata": {},
   "outputs": [],
   "source": [
    "#y is prediction variable \n",
    "#X is features \n",
    "y_boost = all_ian['increase']\n",
    "X_boost = all_ian.drop(['City', 'HurricaneName', 'DATE', 'after', 'percent', 'increase'], axis=1)\n"
   ]
  },
  {
   "cell_type": "code",
   "execution_count": null,
   "id": "43605ad8",
   "metadata": {},
   "outputs": [],
   "source": [
    "y_pred = xgb.predict(X_boost)"
   ]
  },
  {
   "cell_type": "code",
   "execution_count": null,
   "id": "810485cd",
   "metadata": {},
   "outputs": [],
   "source": [
    "#Printing Accuracy\n",
    "#With Wind 78%\n",
    "#Without wind 74%\n",
    "print('Accuracy: %.3f' % accuracy_score(y_boost, y_pred))"
   ]
  },
  {
   "cell_type": "code",
   "execution_count": null,
   "id": "3f5703ec",
   "metadata": {},
   "outputs": [],
   "source": [
    "#using F-1 score to see how it performs\n",
    "#F1 Score = 2* Precision Score * Recall Score/ (Precision Score + Recall Score/)\n",
    "#With Wind 0.625\n",
    "#Without wind 0.588\n",
    "print('F1 Score: %.3f' % f1_score(y_boost, y_pred))"
   ]
  },
  {
   "cell_type": "code",
   "execution_count": null,
   "id": "e1bb0f44",
   "metadata": {},
   "outputs": [],
   "source": [
    "conf_matrix = confusion_matrix(y_true=y_boost, y_pred=y_pred)\n",
    "\n",
    "fig, ax = plt.subplots(figsize=(5, 5))\n",
    "ax.matshow(conf_matrix, cmap=plt.cm.Blues, alpha=0.3)\n",
    "for i in range(conf_matrix.shape[0]):\n",
    "    for j in range(conf_matrix.shape[1]):\n",
    "        ax.text(x=j, y=i,s=conf_matrix[i, j], va='center', ha='center', size='xx-large')\n",
    " \n",
    "plt.xlabel('Predictions', fontsize=18)\n",
    "plt.ylabel('Actuals', fontsize=18)\n",
    "plt.title('Confusion Matrix for Hurricane Ian', fontsize=18)\n",
    "plt.show()"
   ]
  },
  {
   "cell_type": "markdown",
   "id": "e610542b",
   "metadata": {},
   "source": [
    "add classification matrix "
   ]
  },
  {
   "cell_type": "code",
   "execution_count": null,
   "id": "5dad0c0d",
   "metadata": {},
   "outputs": [],
   "source": []
  },
  {
   "cell_type": "code",
   "execution_count": null,
   "id": "eed7e0ff",
   "metadata": {},
   "outputs": [],
   "source": []
  },
  {
   "cell_type": "code",
   "execution_count": null,
   "id": "58bf4512",
   "metadata": {},
   "outputs": [],
   "source": []
  }
 ],
 "metadata": {
  "kernelspec": {
   "display_name": "Python 3 (ipykernel)",
   "language": "python",
   "name": "python3"
  },
  "language_info": {
   "codemirror_mode": {
    "name": "ipython",
    "version": 3
   },
   "file_extension": ".py",
   "mimetype": "text/x-python",
   "name": "python",
   "nbconvert_exporter": "python",
   "pygments_lexer": "ipython3",
   "version": "3.10.9"
  }
 },
 "nbformat": 4,
 "nbformat_minor": 5
}
