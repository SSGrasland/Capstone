{
 "cells": [
  {
   "cell_type": "markdown",
   "id": "1a4b3c99",
   "metadata": {},
   "source": [
    "#### Homework\n",
    "Use geopy to convert lat and long to cities   \n",
    "Use that and join the datasets   \n",
    "Run a logistical regression using the combined dataset     \n",
    "Plot the output of the predict_probability (predict_proba(X)) method (the probablity estimates to see if it's lining us   with the S curve)  \n",
    "One interpretation of the coefficient of that model    "
   ]
  },
  {
   "cell_type": "markdown",
   "id": "d18bddaf",
   "metadata": {},
   "source": [
    "# Importing Libraries"
   ]
  },
  {
   "cell_type": "code",
   "execution_count": 1,
   "id": "05bf6f7a",
   "metadata": {},
   "outputs": [],
   "source": [
    "#Importing libraries needed\n",
    "import pandas as pd\n",
    "import matplotlib.pyplot as plt\n",
    "from matplotlib import pyplot\n",
    "%matplotlib inline\n",
    "import numpy as np\n",
    "import seaborn as sns\n",
    "\n",
    "import warnings\n",
    "warnings.filterwarnings('ignore')"
   ]
  },
  {
   "cell_type": "markdown",
   "id": "a1bdb6e7",
   "metadata": {},
   "source": [
    "## Column Description\n",
    "NOAA Data   \n",
    "Average wind speed (AWND)   \n",
    "Peak gust time (PGTM)     \n",
    "Direction of fastest 2-minute wind (WDF2) (in degrees)   \n",
    "Direction of fastest 5-second wind (WDF5) (in degrees)   \n",
    "Fastest 2-minute wind speed (WSF2) (in meters per second)    \n",
    "Fastest 5-second wind speed (WSF5) (in meter per second)      \n",
    "24-hour wind movement (km or miles as per user preference, miles on Daily Form pdf file) (WDMV)    \n",
    "Weather types (WT**)    "
   ]
  },
  {
   "cell_type": "markdown",
   "id": "ea29f6a6",
   "metadata": {},
   "source": [
    "## Loading Dataset"
   ]
  },
  {
   "cell_type": "code",
   "execution_count": 2,
   "id": "2dcc6839",
   "metadata": {},
   "outputs": [
    {
     "data": {
      "text/html": [
       "<div>\n",
       "<style scoped>\n",
       "    .dataframe tbody tr th:only-of-type {\n",
       "        vertical-align: middle;\n",
       "    }\n",
       "\n",
       "    .dataframe tbody tr th {\n",
       "        vertical-align: top;\n",
       "    }\n",
       "\n",
       "    .dataframe thead th {\n",
       "        text-align: right;\n",
       "    }\n",
       "</style>\n",
       "<table border=\"1\" class=\"dataframe\">\n",
       "  <thead>\n",
       "    <tr style=\"text-align: right;\">\n",
       "      <th></th>\n",
       "      <th>NAME</th>\n",
       "      <th>DATE</th>\n",
       "      <th>AWND</th>\n",
       "      <th>WSF2</th>\n",
       "      <th>WSF5</th>\n",
       "      <th>coordinates</th>\n",
       "    </tr>\n",
       "  </thead>\n",
       "  <tbody>\n",
       "    <tr>\n",
       "      <th>0</th>\n",
       "      <td>FORT PIERCE ST LUCIE CO INTERNATIONAL AIRPORT,...</td>\n",
       "      <td>9/11/2017</td>\n",
       "      <td>17.45</td>\n",
       "      <td>44.1</td>\n",
       "      <td>62.0</td>\n",
       "      <td>27.49816, -80.37626</td>\n",
       "    </tr>\n",
       "    <tr>\n",
       "      <th>1</th>\n",
       "      <td>FORT MYERS SW FLORIDA REGIONAL AIRPORT, FL US</td>\n",
       "      <td>9/11/2017</td>\n",
       "      <td>19.24</td>\n",
       "      <td>45.0</td>\n",
       "      <td>59.1</td>\n",
       "      <td>26.53805, -81.75674</td>\n",
       "    </tr>\n",
       "    <tr>\n",
       "      <th>2</th>\n",
       "      <td>NORTHWEST FLORIDA BEACHES INTERNATIONAL AIRPOR...</td>\n",
       "      <td>9/11/2017</td>\n",
       "      <td>19.01</td>\n",
       "      <td>30.0</td>\n",
       "      <td>45.0</td>\n",
       "      <td>30.34869, -85.78835</td>\n",
       "    </tr>\n",
       "    <tr>\n",
       "      <th>3</th>\n",
       "      <td>BONIFAY TRI CO AIRPORT, FL US</td>\n",
       "      <td>9/11/2017</td>\n",
       "      <td>13.42</td>\n",
       "      <td>23.0</td>\n",
       "      <td>42.9</td>\n",
       "      <td>30.84315, -85.60431</td>\n",
       "    </tr>\n",
       "    <tr>\n",
       "      <th>4</th>\n",
       "      <td>WHITING FIELD NAS SOUTH, FL US</td>\n",
       "      <td>9/11/2017</td>\n",
       "      <td>16.33</td>\n",
       "      <td>25.1</td>\n",
       "      <td>36.0</td>\n",
       "      <td>30.69729, -87.02073</td>\n",
       "    </tr>\n",
       "  </tbody>\n",
       "</table>\n",
       "</div>"
      ],
      "text/plain": [
       "                                                NAME       DATE   AWND  WSF2  \\\n",
       "0  FORT PIERCE ST LUCIE CO INTERNATIONAL AIRPORT,...  9/11/2017  17.45  44.1   \n",
       "1      FORT MYERS SW FLORIDA REGIONAL AIRPORT, FL US  9/11/2017  19.24  45.0   \n",
       "2  NORTHWEST FLORIDA BEACHES INTERNATIONAL AIRPOR...  9/11/2017  19.01  30.0   \n",
       "3                      BONIFAY TRI CO AIRPORT, FL US  9/11/2017  13.42  23.0   \n",
       "4                     WHITING FIELD NAS SOUTH, FL US  9/11/2017  16.33  25.1   \n",
       "\n",
       "   WSF5          coordinates  \n",
       "0  62.0  27.49816, -80.37626  \n",
       "1  59.1  26.53805, -81.75674  \n",
       "2  45.0  30.34869, -85.78835  \n",
       "3  42.9  30.84315, -85.60431  \n",
       "4  36.0  30.69729, -87.02073  "
      ]
     },
     "execution_count": 2,
     "metadata": {},
     "output_type": "execute_result"
    }
   ],
   "source": [
    "irma =  pd.read_csv(r'data\\irma_city.csv')\n",
    "irma.head()"
   ]
  },
  {
   "cell_type": "markdown",
   "id": "2f9531eb",
   "metadata": {},
   "source": [
    "## Using Geopy to Extract Cities from Coordinates"
   ]
  },
  {
   "cell_type": "code",
   "execution_count": 7,
   "id": "fb93fc25",
   "metadata": {},
   "outputs": [
    {
     "data": {
      "text/plain": [
       "''"
      ]
     },
     "execution_count": 7,
     "metadata": {},
     "output_type": "execute_result"
    }
   ],
   "source": [
    "#importing libraries \n",
    "from tkinter import *\n",
    "from geopy.geocoders import Nominatim\n",
    "from geopy.geocoders import Photon\n",
    "\n",
    "# Create an instance of tkinter frame\n",
    "win = Tk()\n",
    "\n",
    "# Define geometry of the window\n",
    "win.geometry(\"700x350\")"
   ]
  },
  {
   "cell_type": "code",
   "execution_count": 8,
   "id": "01fca685",
   "metadata": {},
   "outputs": [],
   "source": [
    "#creating a function \n",
    "def get_city(coords):\n",
    "    #instantiate the Nominatim API \n",
    "    geolocator = Nominatim(user_agent=\"MyApp\")\n",
    "    #get the city from the coordinates \n",
    "    location = geolocator.reverse(coords)\n",
    "    address = location.raw['address']\n",
    "    city = address.get('city', '')\n",
    "    #return the city \n",
    "    return city"
   ]
  },
  {
   "cell_type": "code",
   "execution_count": 11,
   "id": "7affa85f",
   "metadata": {},
   "outputs": [],
   "source": [
    "#applying function to dataframe\n",
    "irma['city'] = irma['coordinates'].apply(get_city)"
   ]
  },
  {
   "cell_type": "code",
   "execution_count": 12,
   "id": "3c40320f",
   "metadata": {},
   "outputs": [
    {
     "data": {
      "text/html": [
       "<div>\n",
       "<style scoped>\n",
       "    .dataframe tbody tr th:only-of-type {\n",
       "        vertical-align: middle;\n",
       "    }\n",
       "\n",
       "    .dataframe tbody tr th {\n",
       "        vertical-align: top;\n",
       "    }\n",
       "\n",
       "    .dataframe thead th {\n",
       "        text-align: right;\n",
       "    }\n",
       "</style>\n",
       "<table border=\"1\" class=\"dataframe\">\n",
       "  <thead>\n",
       "    <tr style=\"text-align: right;\">\n",
       "      <th></th>\n",
       "      <th>NAME</th>\n",
       "      <th>DATE</th>\n",
       "      <th>AWND</th>\n",
       "      <th>WSF2</th>\n",
       "      <th>WSF5</th>\n",
       "      <th>coordinates</th>\n",
       "      <th>city</th>\n",
       "    </tr>\n",
       "  </thead>\n",
       "  <tbody>\n",
       "    <tr>\n",
       "      <th>0</th>\n",
       "      <td>FORT PIERCE ST LUCIE CO INTERNATIONAL AIRPORT,...</td>\n",
       "      <td>9/11/2017</td>\n",
       "      <td>17.45</td>\n",
       "      <td>44.1</td>\n",
       "      <td>62.0</td>\n",
       "      <td>27.49816, -80.37626</td>\n",
       "      <td></td>\n",
       "    </tr>\n",
       "    <tr>\n",
       "      <th>1</th>\n",
       "      <td>FORT MYERS SW FLORIDA REGIONAL AIRPORT, FL US</td>\n",
       "      <td>9/11/2017</td>\n",
       "      <td>19.24</td>\n",
       "      <td>45.0</td>\n",
       "      <td>59.1</td>\n",
       "      <td>26.53805, -81.75674</td>\n",
       "      <td>Fort Myers</td>\n",
       "    </tr>\n",
       "    <tr>\n",
       "      <th>2</th>\n",
       "      <td>NORTHWEST FLORIDA BEACHES INTERNATIONAL AIRPOR...</td>\n",
       "      <td>9/11/2017</td>\n",
       "      <td>19.01</td>\n",
       "      <td>30.0</td>\n",
       "      <td>45.0</td>\n",
       "      <td>30.34869, -85.78835</td>\n",
       "      <td></td>\n",
       "    </tr>\n",
       "    <tr>\n",
       "      <th>3</th>\n",
       "      <td>BONIFAY TRI CO AIRPORT, FL US</td>\n",
       "      <td>9/11/2017</td>\n",
       "      <td>13.42</td>\n",
       "      <td>23.0</td>\n",
       "      <td>42.9</td>\n",
       "      <td>30.84315, -85.60431</td>\n",
       "      <td></td>\n",
       "    </tr>\n",
       "    <tr>\n",
       "      <th>4</th>\n",
       "      <td>WHITING FIELD NAS SOUTH, FL US</td>\n",
       "      <td>9/11/2017</td>\n",
       "      <td>16.33</td>\n",
       "      <td>25.1</td>\n",
       "      <td>36.0</td>\n",
       "      <td>30.69729, -87.02073</td>\n",
       "      <td></td>\n",
       "    </tr>\n",
       "  </tbody>\n",
       "</table>\n",
       "</div>"
      ],
      "text/plain": [
       "                                                NAME       DATE   AWND  WSF2  \\\n",
       "0  FORT PIERCE ST LUCIE CO INTERNATIONAL AIRPORT,...  9/11/2017  17.45  44.1   \n",
       "1      FORT MYERS SW FLORIDA REGIONAL AIRPORT, FL US  9/11/2017  19.24  45.0   \n",
       "2  NORTHWEST FLORIDA BEACHES INTERNATIONAL AIRPOR...  9/11/2017  19.01  30.0   \n",
       "3                      BONIFAY TRI CO AIRPORT, FL US  9/11/2017  13.42  23.0   \n",
       "4                     WHITING FIELD NAS SOUTH, FL US  9/11/2017  16.33  25.1   \n",
       "\n",
       "   WSF5          coordinates        city  \n",
       "0  62.0  27.49816, -80.37626              \n",
       "1  59.1  26.53805, -81.75674  Fort Myers  \n",
       "2  45.0  30.34869, -85.78835              \n",
       "3  42.9  30.84315, -85.60431              \n",
       "4  36.0  30.69729, -87.02073              "
      ]
     },
     "execution_count": 12,
     "metadata": {},
     "output_type": "execute_result"
    }
   ],
   "source": [
    "#checking to see if cities were loaded \n",
    "irma.head()"
   ]
  },
  {
   "cell_type": "markdown",
   "id": "a912dfc6",
   "metadata": {},
   "source": [
    "## Trying Geopy with Photon"
   ]
  },
  {
   "cell_type": "code",
   "execution_count": 18,
   "id": "c9e39ff6",
   "metadata": {},
   "outputs": [],
   "source": [
    "#creating a function \n",
    "def get_city_photon(coords):\n",
    "    # Initialize Nominatim API\n",
    "    geolocator = Photon(user_agent=\"MyApp\")\n",
    "    #get the city from the coordinates \n",
    "    location = geolocator.reverse(coords)\n",
    "    address = location.raw['address']\n",
    "    city = address.get('city', '')\n",
    "    #return the city \n",
    "    return city"
   ]
  },
  {
   "cell_type": "code",
   "execution_count": 19,
   "id": "dd48990c",
   "metadata": {},
   "outputs": [
    {
     "ename": "KeyError",
     "evalue": "'address'",
     "output_type": "error",
     "traceback": [
      "\u001b[1;31m---------------------------------------------------------------------------\u001b[0m",
      "\u001b[1;31mKeyError\u001b[0m                                  Traceback (most recent call last)",
      "Cell \u001b[1;32mIn[19], line 2\u001b[0m\n\u001b[0;32m      1\u001b[0m \u001b[38;5;66;03m#applying function to dataframe\u001b[39;00m\n\u001b[1;32m----> 2\u001b[0m irma[\u001b[38;5;124m'\u001b[39m\u001b[38;5;124mcity\u001b[39m\u001b[38;5;124m'\u001b[39m] \u001b[38;5;241m=\u001b[39m \u001b[43mirma\u001b[49m\u001b[43m[\u001b[49m\u001b[38;5;124;43m'\u001b[39;49m\u001b[38;5;124;43mcoordinates\u001b[39;49m\u001b[38;5;124;43m'\u001b[39;49m\u001b[43m]\u001b[49m\u001b[38;5;241;43m.\u001b[39;49m\u001b[43mapply\u001b[49m\u001b[43m(\u001b[49m\u001b[43mget_city_photon\u001b[49m\u001b[43m)\u001b[49m\n",
      "File \u001b[1;32m~\\anaconda3\\lib\\site-packages\\pandas\\core\\series.py:4771\u001b[0m, in \u001b[0;36mSeries.apply\u001b[1;34m(self, func, convert_dtype, args, **kwargs)\u001b[0m\n\u001b[0;32m   4661\u001b[0m \u001b[38;5;28;01mdef\u001b[39;00m \u001b[38;5;21mapply\u001b[39m(\n\u001b[0;32m   4662\u001b[0m     \u001b[38;5;28mself\u001b[39m,\n\u001b[0;32m   4663\u001b[0m     func: AggFuncType,\n\u001b[1;32m   (...)\u001b[0m\n\u001b[0;32m   4666\u001b[0m     \u001b[38;5;241m*\u001b[39m\u001b[38;5;241m*\u001b[39mkwargs,\n\u001b[0;32m   4667\u001b[0m ) \u001b[38;5;241m-\u001b[39m\u001b[38;5;241m>\u001b[39m DataFrame \u001b[38;5;241m|\u001b[39m Series:\n\u001b[0;32m   4668\u001b[0m     \u001b[38;5;124;03m\"\"\"\u001b[39;00m\n\u001b[0;32m   4669\u001b[0m \u001b[38;5;124;03m    Invoke function on values of Series.\u001b[39;00m\n\u001b[0;32m   4670\u001b[0m \n\u001b[1;32m   (...)\u001b[0m\n\u001b[0;32m   4769\u001b[0m \u001b[38;5;124;03m    dtype: float64\u001b[39;00m\n\u001b[0;32m   4770\u001b[0m \u001b[38;5;124;03m    \"\"\"\u001b[39;00m\n\u001b[1;32m-> 4771\u001b[0m     \u001b[38;5;28;01mreturn\u001b[39;00m \u001b[43mSeriesApply\u001b[49m\u001b[43m(\u001b[49m\u001b[38;5;28;43mself\u001b[39;49m\u001b[43m,\u001b[49m\u001b[43m \u001b[49m\u001b[43mfunc\u001b[49m\u001b[43m,\u001b[49m\u001b[43m \u001b[49m\u001b[43mconvert_dtype\u001b[49m\u001b[43m,\u001b[49m\u001b[43m \u001b[49m\u001b[43margs\u001b[49m\u001b[43m,\u001b[49m\u001b[43m \u001b[49m\u001b[43mkwargs\u001b[49m\u001b[43m)\u001b[49m\u001b[38;5;241;43m.\u001b[39;49m\u001b[43mapply\u001b[49m\u001b[43m(\u001b[49m\u001b[43m)\u001b[49m\n",
      "File \u001b[1;32m~\\anaconda3\\lib\\site-packages\\pandas\\core\\apply.py:1123\u001b[0m, in \u001b[0;36mSeriesApply.apply\u001b[1;34m(self)\u001b[0m\n\u001b[0;32m   1120\u001b[0m     \u001b[38;5;28;01mreturn\u001b[39;00m \u001b[38;5;28mself\u001b[39m\u001b[38;5;241m.\u001b[39mapply_str()\n\u001b[0;32m   1122\u001b[0m \u001b[38;5;66;03m# self.f is Callable\u001b[39;00m\n\u001b[1;32m-> 1123\u001b[0m \u001b[38;5;28;01mreturn\u001b[39;00m \u001b[38;5;28;43mself\u001b[39;49m\u001b[38;5;241;43m.\u001b[39;49m\u001b[43mapply_standard\u001b[49m\u001b[43m(\u001b[49m\u001b[43m)\u001b[49m\n",
      "File \u001b[1;32m~\\anaconda3\\lib\\site-packages\\pandas\\core\\apply.py:1174\u001b[0m, in \u001b[0;36mSeriesApply.apply_standard\u001b[1;34m(self)\u001b[0m\n\u001b[0;32m   1172\u001b[0m     \u001b[38;5;28;01melse\u001b[39;00m:\n\u001b[0;32m   1173\u001b[0m         values \u001b[38;5;241m=\u001b[39m obj\u001b[38;5;241m.\u001b[39mastype(\u001b[38;5;28mobject\u001b[39m)\u001b[38;5;241m.\u001b[39m_values\n\u001b[1;32m-> 1174\u001b[0m         mapped \u001b[38;5;241m=\u001b[39m \u001b[43mlib\u001b[49m\u001b[38;5;241;43m.\u001b[39;49m\u001b[43mmap_infer\u001b[49m\u001b[43m(\u001b[49m\n\u001b[0;32m   1175\u001b[0m \u001b[43m            \u001b[49m\u001b[43mvalues\u001b[49m\u001b[43m,\u001b[49m\n\u001b[0;32m   1176\u001b[0m \u001b[43m            \u001b[49m\u001b[43mf\u001b[49m\u001b[43m,\u001b[49m\n\u001b[0;32m   1177\u001b[0m \u001b[43m            \u001b[49m\u001b[43mconvert\u001b[49m\u001b[38;5;241;43m=\u001b[39;49m\u001b[38;5;28;43mself\u001b[39;49m\u001b[38;5;241;43m.\u001b[39;49m\u001b[43mconvert_dtype\u001b[49m\u001b[43m,\u001b[49m\n\u001b[0;32m   1178\u001b[0m \u001b[43m        \u001b[49m\u001b[43m)\u001b[49m\n\u001b[0;32m   1180\u001b[0m \u001b[38;5;28;01mif\u001b[39;00m \u001b[38;5;28mlen\u001b[39m(mapped) \u001b[38;5;129;01mand\u001b[39;00m \u001b[38;5;28misinstance\u001b[39m(mapped[\u001b[38;5;241m0\u001b[39m], ABCSeries):\n\u001b[0;32m   1181\u001b[0m     \u001b[38;5;66;03m# GH#43986 Need to do list(mapped) in order to get treated as nested\u001b[39;00m\n\u001b[0;32m   1182\u001b[0m     \u001b[38;5;66;03m#  See also GH#25959 regarding EA support\u001b[39;00m\n\u001b[0;32m   1183\u001b[0m     \u001b[38;5;28;01mreturn\u001b[39;00m obj\u001b[38;5;241m.\u001b[39m_constructor_expanddim(\u001b[38;5;28mlist\u001b[39m(mapped), index\u001b[38;5;241m=\u001b[39mobj\u001b[38;5;241m.\u001b[39mindex)\n",
      "File \u001b[1;32m~\\anaconda3\\lib\\site-packages\\pandas\\_libs\\lib.pyx:2924\u001b[0m, in \u001b[0;36mpandas._libs.lib.map_infer\u001b[1;34m()\u001b[0m\n",
      "Cell \u001b[1;32mIn[18], line 7\u001b[0m, in \u001b[0;36mget_city_photon\u001b[1;34m(coords)\u001b[0m\n\u001b[0;32m      5\u001b[0m \u001b[38;5;66;03m#get the city from the coordinates \u001b[39;00m\n\u001b[0;32m      6\u001b[0m location \u001b[38;5;241m=\u001b[39m geolocator\u001b[38;5;241m.\u001b[39mreverse(coords)\n\u001b[1;32m----> 7\u001b[0m address \u001b[38;5;241m=\u001b[39m \u001b[43mlocation\u001b[49m\u001b[38;5;241;43m.\u001b[39;49m\u001b[43mraw\u001b[49m\u001b[43m[\u001b[49m\u001b[38;5;124;43m'\u001b[39;49m\u001b[38;5;124;43maddress\u001b[39;49m\u001b[38;5;124;43m'\u001b[39;49m\u001b[43m]\u001b[49m\n\u001b[0;32m      8\u001b[0m city \u001b[38;5;241m=\u001b[39m address\u001b[38;5;241m.\u001b[39mget(\u001b[38;5;124m'\u001b[39m\u001b[38;5;124mcity\u001b[39m\u001b[38;5;124m'\u001b[39m, \u001b[38;5;124m'\u001b[39m\u001b[38;5;124m'\u001b[39m)\n\u001b[0;32m      9\u001b[0m \u001b[38;5;66;03m#return the city \u001b[39;00m\n",
      "\u001b[1;31mKeyError\u001b[0m: 'address'"
     ]
    }
   ],
   "source": [
    "#applying function to dataframe\n",
    "irma['city'] = irma['coordinates'].apply(get_city_photon)"
   ]
  },
  {
   "cell_type": "code",
   "execution_count": 20,
   "id": "54d67b8e",
   "metadata": {},
   "outputs": [
    {
     "data": {
      "text/html": [
       "<div>\n",
       "<style scoped>\n",
       "    .dataframe tbody tr th:only-of-type {\n",
       "        vertical-align: middle;\n",
       "    }\n",
       "\n",
       "    .dataframe tbody tr th {\n",
       "        vertical-align: top;\n",
       "    }\n",
       "\n",
       "    .dataframe thead th {\n",
       "        text-align: right;\n",
       "    }\n",
       "</style>\n",
       "<table border=\"1\" class=\"dataframe\">\n",
       "  <thead>\n",
       "    <tr style=\"text-align: right;\">\n",
       "      <th></th>\n",
       "      <th>NAME</th>\n",
       "      <th>DATE</th>\n",
       "      <th>AWND</th>\n",
       "      <th>WSF2</th>\n",
       "      <th>WSF5</th>\n",
       "      <th>coordinates</th>\n",
       "      <th>city</th>\n",
       "    </tr>\n",
       "  </thead>\n",
       "  <tbody>\n",
       "    <tr>\n",
       "      <th>0</th>\n",
       "      <td>FORT PIERCE ST LUCIE CO INTERNATIONAL AIRPORT,...</td>\n",
       "      <td>9/11/2017</td>\n",
       "      <td>17.45</td>\n",
       "      <td>44.1</td>\n",
       "      <td>62.0</td>\n",
       "      <td>27.49816, -80.37626</td>\n",
       "      <td></td>\n",
       "    </tr>\n",
       "    <tr>\n",
       "      <th>1</th>\n",
       "      <td>FORT MYERS SW FLORIDA REGIONAL AIRPORT, FL US</td>\n",
       "      <td>9/11/2017</td>\n",
       "      <td>19.24</td>\n",
       "      <td>45.0</td>\n",
       "      <td>59.1</td>\n",
       "      <td>26.53805, -81.75674</td>\n",
       "      <td>Fort Myers</td>\n",
       "    </tr>\n",
       "    <tr>\n",
       "      <th>2</th>\n",
       "      <td>NORTHWEST FLORIDA BEACHES INTERNATIONAL AIRPOR...</td>\n",
       "      <td>9/11/2017</td>\n",
       "      <td>19.01</td>\n",
       "      <td>30.0</td>\n",
       "      <td>45.0</td>\n",
       "      <td>30.34869, -85.78835</td>\n",
       "      <td></td>\n",
       "    </tr>\n",
       "    <tr>\n",
       "      <th>3</th>\n",
       "      <td>BONIFAY TRI CO AIRPORT, FL US</td>\n",
       "      <td>9/11/2017</td>\n",
       "      <td>13.42</td>\n",
       "      <td>23.0</td>\n",
       "      <td>42.9</td>\n",
       "      <td>30.84315, -85.60431</td>\n",
       "      <td></td>\n",
       "    </tr>\n",
       "    <tr>\n",
       "      <th>4</th>\n",
       "      <td>WHITING FIELD NAS SOUTH, FL US</td>\n",
       "      <td>9/11/2017</td>\n",
       "      <td>16.33</td>\n",
       "      <td>25.1</td>\n",
       "      <td>36.0</td>\n",
       "      <td>30.69729, -87.02073</td>\n",
       "      <td></td>\n",
       "    </tr>\n",
       "  </tbody>\n",
       "</table>\n",
       "</div>"
      ],
      "text/plain": [
       "                                                NAME       DATE   AWND  WSF2  \\\n",
       "0  FORT PIERCE ST LUCIE CO INTERNATIONAL AIRPORT,...  9/11/2017  17.45  44.1   \n",
       "1      FORT MYERS SW FLORIDA REGIONAL AIRPORT, FL US  9/11/2017  19.24  45.0   \n",
       "2  NORTHWEST FLORIDA BEACHES INTERNATIONAL AIRPOR...  9/11/2017  19.01  30.0   \n",
       "3                      BONIFAY TRI CO AIRPORT, FL US  9/11/2017  13.42  23.0   \n",
       "4                     WHITING FIELD NAS SOUTH, FL US  9/11/2017  16.33  25.1   \n",
       "\n",
       "   WSF5          coordinates        city  \n",
       "0  62.0  27.49816, -80.37626              \n",
       "1  59.1  26.53805, -81.75674  Fort Myers  \n",
       "2  45.0  30.34869, -85.78835              \n",
       "3  42.9  30.84315, -85.60431              \n",
       "4  36.0  30.69729, -87.02073              "
      ]
     },
     "execution_count": 20,
     "metadata": {},
     "output_type": "execute_result"
    }
   ],
   "source": [
    "irma.head()"
   ]
  },
  {
   "cell_type": "markdown",
   "id": "ac171ca4",
   "metadata": {},
   "source": [
    "# Alt City Method"
   ]
  },
  {
   "cell_type": "code",
   "execution_count": 32,
   "id": "eab03cf4",
   "metadata": {},
   "outputs": [],
   "source": [
    "#converting coordinates to a list \n",
    "coord = irma.coordinates.values.tolist()\n",
    "\n",
    "#using map function to apply geolocator to all items in list \n",
    "geolocator = Nominatim(user_agent=\"MyApp\")\n",
    "location = map(geolocator.reverse, coord)\n"
   ]
  },
  {
   "cell_type": "code",
   "execution_count": 33,
   "id": "ffc7776c",
   "metadata": {},
   "outputs": [
    {
     "data": {
      "text/html": [
       "<div>\n",
       "<style scoped>\n",
       "    .dataframe tbody tr th:only-of-type {\n",
       "        vertical-align: middle;\n",
       "    }\n",
       "\n",
       "    .dataframe tbody tr th {\n",
       "        vertical-align: top;\n",
       "    }\n",
       "\n",
       "    .dataframe thead th {\n",
       "        text-align: right;\n",
       "    }\n",
       "</style>\n",
       "<table border=\"1\" class=\"dataframe\">\n",
       "  <thead>\n",
       "    <tr style=\"text-align: right;\">\n",
       "      <th></th>\n",
       "      <th>location</th>\n",
       "      <th>coordinates</th>\n",
       "    </tr>\n",
       "  </thead>\n",
       "  <tbody>\n",
       "    <tr>\n",
       "      <th>0</th>\n",
       "      <td>3000, Curtis King Boulevard, Fort Pierce, Sain...</td>\n",
       "      <td>(27.4976101, -80.3756695)</td>\n",
       "    </tr>\n",
       "    <tr>\n",
       "      <th>1</th>\n",
       "      <td>Southwest Florida International Airport, 11000...</td>\n",
       "      <td>(26.53294975, -81.75880562612211)</td>\n",
       "    </tr>\n",
       "    <tr>\n",
       "      <th>2</th>\n",
       "      <td>Bay County, Florida, United States</td>\n",
       "      <td>(30.2481693, -85.6593633)</td>\n",
       "    </tr>\n",
       "    <tr>\n",
       "      <th>3</th>\n",
       "      <td>Tri-County Airport, Seminole Lane, Holmes Coun...</td>\n",
       "      <td>(30.84475065, -85.60302893933712)</td>\n",
       "    </tr>\n",
       "    <tr>\n",
       "      <th>4</th>\n",
       "      <td>Whiting Field NAS South, Santa Rosa County, Fl...</td>\n",
       "      <td>(30.696747315586343, -87.02160319146255)</td>\n",
       "    </tr>\n",
       "    <tr>\n",
       "      <th>...</th>\n",
       "      <td>...</td>\n",
       "      <td>...</td>\n",
       "    </tr>\n",
       "    <tr>\n",
       "      <th>72</th>\n",
       "      <td>Northwest 24th Way, Fort Lauderdale, Broward C...</td>\n",
       "      <td>(26.2011658, -80.1796717)</td>\n",
       "    </tr>\n",
       "    <tr>\n",
       "      <th>73</th>\n",
       "      <td>3441, Hamilton Road, Polk County, Florida, 338...</td>\n",
       "      <td>(28.000245682156468, -82.0499310622678)</td>\n",
       "    </tr>\n",
       "    <tr>\n",
       "      <th>74</th>\n",
       "      <td>Miami Gardens, Miami-Dade County, Florida, 330...</td>\n",
       "      <td>(25.9150507, -80.283763)</td>\n",
       "    </tr>\n",
       "    <tr>\n",
       "      <th>75</th>\n",
       "      <td>South Ramp, Capital Circle Southwest, Tallahas...</td>\n",
       "      <td>(30.39634345, -84.35334647210303)</td>\n",
       "    </tr>\n",
       "    <tr>\n",
       "      <th>76</th>\n",
       "      <td>Orlando Sanford International Airport, 1200, R...</td>\n",
       "      <td>(28.7754331, -81.24329602986423)</td>\n",
       "    </tr>\n",
       "  </tbody>\n",
       "</table>\n",
       "<p>77 rows × 2 columns</p>\n",
       "</div>"
      ],
      "text/plain": [
       "                                             location  \\\n",
       "0   3000, Curtis King Boulevard, Fort Pierce, Sain...   \n",
       "1   Southwest Florida International Airport, 11000...   \n",
       "2                  Bay County, Florida, United States   \n",
       "3   Tri-County Airport, Seminole Lane, Holmes Coun...   \n",
       "4   Whiting Field NAS South, Santa Rosa County, Fl...   \n",
       "..                                                ...   \n",
       "72  Northwest 24th Way, Fort Lauderdale, Broward C...   \n",
       "73  3441, Hamilton Road, Polk County, Florida, 338...   \n",
       "74  Miami Gardens, Miami-Dade County, Florida, 330...   \n",
       "75  South Ramp, Capital Circle Southwest, Tallahas...   \n",
       "76  Orlando Sanford International Airport, 1200, R...   \n",
       "\n",
       "                                 coordinates  \n",
       "0                  (27.4976101, -80.3756695)  \n",
       "1          (26.53294975, -81.75880562612211)  \n",
       "2                  (30.2481693, -85.6593633)  \n",
       "3          (30.84475065, -85.60302893933712)  \n",
       "4   (30.696747315586343, -87.02160319146255)  \n",
       "..                                       ...  \n",
       "72                 (26.2011658, -80.1796717)  \n",
       "73   (28.000245682156468, -82.0499310622678)  \n",
       "74                  (25.9150507, -80.283763)  \n",
       "75         (30.39634345, -84.35334647210303)  \n",
       "76          (28.7754331, -81.24329602986423)  \n",
       "\n",
       "[77 rows x 2 columns]"
      ]
     },
     "execution_count": 33,
     "metadata": {},
     "output_type": "execute_result"
    }
   ],
   "source": [
    "#saving the list to a dataframe \n",
    "df = pd.DataFrame(location, columns =['location', 'coordinates'], dtype = float) \n",
    "df"
   ]
  },
  {
   "cell_type": "code",
   "execution_count": 38,
   "id": "dd696553",
   "metadata": {},
   "outputs": [
    {
     "name": "stdout",
     "output_type": "stream",
     "text": [
      "<class 'pandas.core.frame.DataFrame'>\n",
      "RangeIndex: 77 entries, 0 to 76\n",
      "Data columns (total 2 columns):\n",
      " #   Column       Non-Null Count  Dtype \n",
      "---  ------       --------------  ----- \n",
      " 0   location     77 non-null     object\n",
      " 1   coordinates  77 non-null     object\n",
      "dtypes: object(2)\n",
      "memory usage: 1.3+ KB\n"
     ]
    }
   ],
   "source": [
    "df.info()"
   ]
  },
  {
   "cell_type": "code",
   "execution_count": 36,
   "id": "c9269f55",
   "metadata": {},
   "outputs": [],
   "source": [
    "location = df.location.values.tolist()"
   ]
  },
  {
   "cell_type": "code",
   "execution_count": 39,
   "id": "c83ed2b6",
   "metadata": {},
   "outputs": [
    {
     "data": {
      "text/plain": [
       "['3000, Curtis King Boulevard, Fort Pierce, Saint Lucie County, Florida, 34946, United States',\n",
       " 'Southwest Florida International Airport, 11000, Terminal Access Road, Fort Myers, Lee County, Florida, 33913, United States',\n",
       " 'Bay County, Florida, United States',\n",
       " 'Tri-County Airport, Seminole Lane, Holmes County, Florida, 32425, United States',\n",
       " 'Whiting Field NAS South, Santa Rosa County, Florida, 32570, United States',\n",
       " '1101, Airport Road, Destin, Okaloosa County, Florida, 32541, United States',\n",
       " 'Jacksonville Executive at Craig Airport, Charles Lindbergh Drive, Jacksonville, Duval County, Florida, 32225, United States',\n",
       " 'Pompano Beach Airpark, Northeast 10th Avenue, Pompano Beach, Broward County, Florida, 33060, United States',\n",
       " 'Albert Whitted Airport, 107, 8th Avenue Southeast, Saint Petersburg, Pinellas County, Florida, 33701, United States',\n",
       " 'General Aviation Parking, Southwest 77th Avenue, Pembroke Pines, Broward County, Florida, 33024, United States',\n",
       " 'Jacksonville International Airport, Pecan Park Road, Beeghly Heights, Jacksonville, Duval County, Florida, 32218, United States',\n",
       " 'Bob Sikes Airport, 5551, John Givens Road, Crestview, Okaloosa County, Florida, 32539, United States',\n",
       " 'Marianna Municipal Airport, Bryan Road, Marianna, Jackson County, Florida, 32446, United States',\n",
       " 'Pensacola International Airport, 2430, Airport Boulevard, Town Square Condominiums, Pensacola, Escambia County, Florida, 32504, United States',\n",
       " 'Patrol Road, Jacksonville, Duval County, Florida, 32228, United States',\n",
       " '2566, Bellevue Avenue, Daytona Beach, Volusia County, Florida, 32114, United States',\n",
       " 'Cross City Airport, 508, Faith Manor, Cross City, Dixie County, Florida, 32628, United States',\n",
       " 'Apalachicola Regional Airport, Appalachee Street, Franklin County, Florida, 32320, United States',\n",
       " 'Duncan Avenue, Palm Beach County, Florida, 33416, United States',\n",
       " 'Vero Beach Municipal Airport, 3400, Cherokee Drive, Vero Beach, Indian River County, Florida, 32960, United States',\n",
       " 'Economy Parking Road, Tampa, Hillsborough County, Florida, 33607, United States',\n",
       " 'Orlando Executive Airport, Crystal Lake Drive, Orlando, Orange County, Florida, 32803, United States',\n",
       " 'Punta Gorda Airport, 28000 A-1, Airport Road, Punta Gorda, Charlotte County, Florida, 33982, United States',\n",
       " 'Uss Hornet Street, Santa Rosa County, Florida, 32570, United States',\n",
       " 'Leesburg International Airport, US 441, Leesburg, Tavares, Lake County, Florida, 34788, United States',\n",
       " 'Gainesville Regional Airport, Waldo Road, Gainesville, Alachua County, Florida, 32609, United States',\n",
       " 'FreeZone Street, Orlando, Orange County, Florida, 32862, United States',\n",
       " 'Catapult Road, Jacksonville, Duval County, Florida, 32212, United States',\n",
       " 'Winter Haven Municipal Airport, Caleb Way, Polk County, Florida, 33881, United States',\n",
       " 'Saint Petersburg-Clearwater International Airport, 14700, Terminal Boulevard, Clearwater, Pinellas County, Florida, 33762, United States',\n",
       " 'Clyde Jones Road, Ballentine Manor, Manatee County, Florida, 34243, United States',\n",
       " 'Northwest 24th Way, Fort Lauderdale, Broward County, Florida, 33309, United States',\n",
       " '3441, Hamilton Road, Polk County, Florida, 33811, United States',\n",
       " 'Miami Gardens, Miami-Dade County, Florida, 33014, United States',\n",
       " '100, Southwest 34th Street, Fort Lauderdale, Broward County, Florida, 33315, United States',\n",
       " 'South Ramp, Capital Circle Southwest, Tallahassee, Leon County, Florida, 32310, United States',\n",
       " 'Orlando Sanford International Airport, 1200, Red Cleveland Boulevard, Sanford, Seminole County, Florida, 32773, United States',\n",
       " 'Naples Municipal Airport, Janets Boulevard, Rock Creek RV Resort, Naples, Collier County, Florida, 34104, United States',\n",
       " '3000, Curtis King Boulevard, Fort Pierce, Saint Lucie County, Florida, 34946, United States',\n",
       " 'Southwest Florida International Airport, 11000, Terminal Access Road, Fort Myers, Lee County, Florida, 33913, United States',\n",
       " 'Bay County, Florida, United States',\n",
       " 'Tri-County Airport, Seminole Lane, Holmes County, Florida, 32425, United States',\n",
       " 'Whiting Field NAS South, Santa Rosa County, Florida, 32570, United States',\n",
       " '1101, Airport Road, Destin, Okaloosa County, Florida, 32541, United States',\n",
       " 'Jacksonville Executive at Craig Airport, Charles Lindbergh Drive, Jacksonville, Duval County, Florida, 32225, United States',\n",
       " 'Pompano Beach Airpark, Northeast 10th Avenue, Pompano Beach, Broward County, Florida, 33060, United States',\n",
       " 'Albert Whitted Airport, 107, 8th Avenue Southeast, Saint Petersburg, Pinellas County, Florida, 33701, United States',\n",
       " 'General Aviation Parking, Southwest 77th Avenue, Pembroke Pines, Broward County, Florida, 33024, United States',\n",
       " 'Jacksonville International Airport, Pecan Park Road, Beeghly Heights, Jacksonville, Duval County, Florida, 32218, United States',\n",
       " 'Bob Sikes Airport, 5551, John Givens Road, Crestview, Okaloosa County, Florida, 32539, United States',\n",
       " 'Marianna Municipal Airport, Bryan Road, Marianna, Jackson County, Florida, 32446, United States',\n",
       " 'Pensacola International Airport, 2430, Airport Boulevard, Town Square Condominiums, Pensacola, Escambia County, Florida, 32504, United States',\n",
       " 'Patrol Road, Jacksonville, Duval County, Florida, 32228, United States',\n",
       " '2566, Bellevue Avenue, Daytona Beach, Volusia County, Florida, 32114, United States',\n",
       " 'Cross City Airport, 508, Faith Manor, Cross City, Dixie County, Florida, 32628, United States',\n",
       " 'Apalachicola Regional Airport, Appalachee Street, Franklin County, Florida, 32320, United States',\n",
       " 'Milam Dairy Road, Miami-Dade County, Florida, 33152, United States',\n",
       " 'Duncan Avenue, Palm Beach County, Florida, 33416, United States',\n",
       " 'Vero Beach Municipal Airport, 3400, Cherokee Drive, Vero Beach, Indian River County, Florida, 32960, United States',\n",
       " 'Economy Parking Road, Tampa, Hillsborough County, Florida, 33607, United States',\n",
       " 'Orlando Executive Airport, Crystal Lake Drive, Orlando, Orange County, Florida, 32803, United States',\n",
       " 'Punta Gorda Airport, 28000 A-1, Airport Road, Punta Gorda, Charlotte County, Florida, 33982, United States',\n",
       " 'Uss Hornet Street, Santa Rosa County, Florida, 32570, United States',\n",
       " 'Leesburg International Airport, US 441, Leesburg, Tavares, Lake County, Florida, 34788, United States',\n",
       " 'Brooksville-Tampa Bay Regional Airport, 15800, Flight Path Drive, South Brooksville, Hernando County, Florida, 34604, United States',\n",
       " 'Gainesville Regional Airport, Waldo Road, Gainesville, Alachua County, Florida, 32609, United States',\n",
       " 'FreeZone Street, Orlando, Orange County, Florida, 32862, United States',\n",
       " 'Catapult Road, Jacksonville, Duval County, Florida, 32212, United States',\n",
       " 'Winter Haven Municipal Airport, Caleb Way, Polk County, Florida, 33881, United States',\n",
       " 'Saint Petersburg-Clearwater International Airport, 14700, Terminal Boulevard, Clearwater, Pinellas County, Florida, 33762, United States',\n",
       " 'Clyde Jones Road, Ballentine Manor, Manatee County, Florida, 34243, United States',\n",
       " 'Southwest 136th Street, Country Walk, Miami-Dade County, Florida, 33196, United States',\n",
       " 'Northwest 24th Way, Fort Lauderdale, Broward County, Florida, 33309, United States',\n",
       " '3441, Hamilton Road, Polk County, Florida, 33811, United States',\n",
       " 'Miami Gardens, Miami-Dade County, Florida, 33014, United States',\n",
       " 'South Ramp, Capital Circle Southwest, Tallahassee, Leon County, Florida, 32310, United States',\n",
       " 'Orlando Sanford International Airport, 1200, Red Cleveland Boulevard, Sanford, Seminole County, Florida, 32773, United States']"
      ]
     },
     "execution_count": 39,
     "metadata": {},
     "output_type": "execute_result"
    }
   ],
   "source": [
    "location"
   ]
  },
  {
   "cell_type": "code",
   "execution_count": 40,
   "id": "45f0e6a3",
   "metadata": {},
   "outputs": [
    {
     "ename": "AttributeError",
     "evalue": "'list' object has no attribute 'raw'",
     "output_type": "error",
     "traceback": [
      "\u001b[1;31m---------------------------------------------------------------------------\u001b[0m",
      "\u001b[1;31mAttributeError\u001b[0m                            Traceback (most recent call last)",
      "Cell \u001b[1;32mIn[40], line 1\u001b[0m\n\u001b[1;32m----> 1\u001b[0m \u001b[38;5;28mprint\u001b[39m(\u001b[43mlocation\u001b[49m\u001b[38;5;241;43m.\u001b[39;49m\u001b[43mraw\u001b[49m)\n",
      "\u001b[1;31mAttributeError\u001b[0m: 'list' object has no attribute 'raw'"
     ]
    }
   ],
   "source": [
    "print(location.raw)"
   ]
  },
  {
   "cell_type": "code",
   "execution_count": 34,
   "id": "0e8ad4df",
   "metadata": {},
   "outputs": [],
   "source": [
    "#saving the list to a dataframe split\n",
    "split = pd.DataFrame(location, columns =['location', 'coordinates'], dtype = float) \n"
   ]
  },
  {
   "cell_type": "code",
   "execution_count": 35,
   "id": "42b0f734",
   "metadata": {},
   "outputs": [
    {
     "name": "stdout",
     "output_type": "stream",
     "text": [
      "<class 'pandas.core.frame.DataFrame'>\n",
      "RangeIndex: 77 entries, 0 to 76\n",
      "Data columns (total 2 columns):\n",
      " #   Column       Non-Null Count  Dtype \n",
      "---  ------       --------------  ----- \n",
      " 0   location     77 non-null     object\n",
      " 1   coordinates  77 non-null     object\n",
      "dtypes: object(2)\n",
      "memory usage: 1.3+ KB\n"
     ]
    }
   ],
   "source": [
    "df.info()"
   ]
  },
  {
   "cell_type": "code",
   "execution_count": null,
   "id": "6e4795f9",
   "metadata": {},
   "outputs": [],
   "source": [
    "#we were able to extract the address for each entry \n",
    "#lets see if we can isolate the city \n",
    "#splitting the address to try to get just city \n",
    "split['location_list'] = split['location'].str.split(',')\n",
    "split.info()"
   ]
  },
  {
   "cell_type": "code",
   "execution_count": null,
   "id": "cbfad470",
   "metadata": {},
   "outputs": [],
   "source": [
    "#creating a column for each item in the address \n",
    "split = pd.DataFrame(df['location_list'].tolist()).fillna('').add_prefix('model_')\n",
    "split.head()"
   ]
  },
  {
   "cell_type": "code",
   "execution_count": null,
   "id": "8d85a8cc",
   "metadata": {},
   "outputs": [],
   "source": [
    "df.to_csv(r'data\\location.csv', index=False)"
   ]
  },
  {
   "cell_type": "markdown",
   "id": "96051021",
   "metadata": {},
   "source": [
    "# Geopandas"
   ]
  },
  {
   "cell_type": "code",
   "execution_count": null,
   "id": "bd449b96",
   "metadata": {},
   "outputs": [],
   "source": []
  }
 ],
 "metadata": {
  "kernelspec": {
   "display_name": "Python 3 (ipykernel)",
   "language": "python",
   "name": "python3"
  },
  "language_info": {
   "codemirror_mode": {
    "name": "ipython",
    "version": 3
   },
   "file_extension": ".py",
   "mimetype": "text/x-python",
   "name": "python",
   "nbconvert_exporter": "python",
   "pygments_lexer": "ipython3",
   "version": "3.10.9"
  }
 },
 "nbformat": 4,
 "nbformat_minor": 5
}
